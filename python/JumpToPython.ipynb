{
 "cells": [
  {
   "cell_type": "code",
   "execution_count": 1,
   "metadata": {
    "collapsed": false
   },
   "outputs": [
    {
     "name": "stdout",
     "output_type": "stream",
     "text": [
      "Hello World\n",
      "Python's favorite food is perl\n",
      "\"Python is very easy.\" he says.\n",
      "Python's favorite food is perl \"Python is very easy.\" he says.\n",
      "Life is too short\n",
      "You need python\n",
      "\n",
      "\tLife is  too short\n",
      "\tYou need python\n",
      "\t\n",
      "\n",
      "\tLife is too short\n",
      "\tYou need python\n",
      "\t\n",
      "Python is fun!\n",
      "pythonpython\n",
      "==================================================\n",
      "My Program\n",
      "==================================================\n",
      "L i f e s o\n",
      "n o y\n",
      "Life Life\n",
      "Lif\n",
      "Life is too short, You need Python\n",
      "You need\n",
      "20010331\n",
      "Rainy\n",
      "2001\n",
      "0331\n",
      "Rainy\n",
      "i\n",
      "python\n",
      "I eat 3 apples.\n",
      "I eat five apples.\n",
      "I eat 10 apples. \n",
      "I ate 100 apples. so I was sick for three days. \n",
      "I have 3 apples\n",
      "rate is 3.234\n",
      "Error is 95%.\n",
      "        hi\n",
      "hi        jane.\n",
      "3.4213\n",
      "    3.4213\n",
      "2\n",
      "10\n",
      "-1\n",
      "8\n",
      "a,b,c,d\n",
      "HI\n",
      "hi\n",
      "hi \n",
      " hi\n",
      "hi\n",
      "Your leg is too short\n",
      "['Life', 'is', 'too', 'short']\n",
      "['a:b:c:d']\n",
      "I eat 4 apples.\n",
      "I eat five apples.\n",
      "I eat 5 apples.\n",
      "I ate 10 apples. so I was sick for three days.\n",
      "I ate 1 apples. so I was sick for 3 days.\n",
      "I ate 10 apples. so I was sick for 5 days.\n",
      "hi        \n",
      "        hi\n",
      "    hi    \n",
      "====hi====\n",
      "hi!!!!!!!!!!!!!!!!!!\n",
      "3.4213\n",
      "    3.4213\n",
      "{ and }\n",
      "[1, 3, 5, 7, 9]\n",
      "[]\n",
      "[1, 2, 3]\n",
      "['Life', 'is', 'too', 'short']\n",
      "[1, 2, 'Life', 'is']\n",
      "[1, 2, ['Life', 'is']]\n",
      "[1, 2, 3]\n",
      "1\n",
      "4\n",
      "3\n",
      "2\n",
      "[1, 2, 3, ['a', 'b', 'c']]\n",
      "1\n",
      "['a', 'b', 'c']\n",
      "['a', 'b', 'c']\n",
      "a\n",
      "b\n",
      "c\n",
      "Life\n",
      "[1, 2]\n",
      "12\n",
      "12345\n",
      "[1, 2]\n",
      "[3, 4, 5]\n",
      "[3, ['a', 'b', 'c'], 4]\n",
      "['a', 'b']\n",
      "[1, 2, 3, 4, 5, 6]\n",
      "3hi\n",
      "[1, 2, 4]\n",
      "[2]\n",
      "[1, 'a', 'b', 'c', 4]\n",
      "[1, ['a', 'b', 'c'], 'b', 'c', 4]\n",
      "[1, 'c', 4]\n",
      "[1, 'c', 4]\n",
      "[1, 4]\n",
      "[1, 2, 3, 4]\n",
      "[1, 2, 3, 4, [5, 6]]\n",
      "[1, 2, 3, 4]\n",
      "['c', 'b', 'a']\n",
      "2\n",
      "0\n",
      "[4, 1, 2, 3]\n",
      "[4, 1, 2, 5, 3]\n",
      "[1, 2, 1, 2, 3]\n",
      "[1, 2, 1, 2]\n",
      "3\n",
      "[1, 2]\n",
      "2\n",
      "[1, 3]\n",
      "2\n",
      "[1, 2, 3, 4, 5]\n",
      "[1, 2, 3, 4, 5, 6, 7]\n",
      "()\n",
      "(1,)\n",
      "(1, 2, 3)\n",
      "(1, 2, 3)\n",
      "('a', 'b', ('ab', 'cd'))\n"
     ]
    }
   ],
   "source": [
    "# -*- coding: utf-8 -*- \n",
    "\n",
    "\n",
    "\n",
    "# python practice_jumpToPython.py\n",
    "\n",
    "#Author: eric kim\n",
    "#Date : 2017-03-21\n",
    "\n",
    "\n",
    "\n",
    "print(\"Hello World\")\n",
    "\n",
    "# \"\"\n",
    "food = \"Python's favorite food is perl\"\n",
    "print food\n",
    "\n",
    "# ''\n",
    "say = '\"Python is very easy.\" he says.'\n",
    "print say\n",
    "\n",
    "# \\\n",
    "food1 = 'Python\\'s favorite food is perl'\n",
    "say1 = \"\\\"Python is very easy.\\\" he says.\"\n",
    "\n",
    "print food1, say1\n",
    "\n",
    "\n",
    "multiline = \"Life is too short\\nYou need python\"\n",
    "print multiline\n",
    "\n",
    "\n",
    "multiline1 = '''\n",
    "\tLife is  too short\n",
    "\tYou need python\n",
    "\t'''\n",
    "print multiline1\n",
    "\n",
    "multiline2 = \"\"\"\n",
    "\tLife is too short\n",
    "\tYou need python\n",
    "\t\"\"\"\n",
    "print multiline2\n",
    "\n",
    "\n",
    "# ESCAPE CODE\n",
    "\n",
    "# Concatenation Operation\n",
    "## Addition\n",
    "head = \"Python\"\n",
    "tail = \" is fun!\"\n",
    "print head + tail #Python is fun!\n",
    "\n",
    "## Multiply\n",
    "a = \"python\"\n",
    "print a * 2  #'pythonpython'\n",
    "\n",
    "\n",
    "## Multiply application\n",
    "print(\"=\" * 50)\t\t#==================================================\n",
    "print(\"My Program\")\t#My Program\n",
    "print(\"=\" * 50)\t\t#==================================================\n",
    "\n",
    "\n",
    "## String Indexing (가리키기) & Slicing (잘라내기)\n",
    "### Indexing\n",
    "aa = \"Life is too short, You need Python\"\n",
    "     #0123456789012345678901234567890123\n",
    "     #0       1       2        3  \n",
    "print aa[0], aa[1], aa[2], aa[3], aa[12], aa[20] # L, i, f, e, s, o\n",
    "print aa[-1], aa[-2], aa[-5] # n, o , y 뒤에서 부터 읽음 *0부터 시작하지 않는 까닭은 +0 == -0\n",
    "\n",
    "\n",
    "### Slicing\n",
    "# a[시작 번호: 끝 번호] 끝 번호는 포함되지 않음\n",
    "aa = \"Life is too short, You need Python\"\n",
    "bb_indexing = aa[0] + aa[1] + aa[2] + aa[3]\n",
    "bb_slicing = aa[0:4]\n",
    "print bb_indexing, bb_slicing\t#Life Life\n",
    "print aa[0:3] #Lif 0 <= aa < 3\n",
    "print aa[:] # print from the beginning to the end\n",
    "print aa[19:-7] # You need (from 19 to -7 ) don't include -7's index\n",
    "\n",
    "\n",
    "### 2017.05.08\n",
    "#split string by slicing\n",
    "aaa = \"20010331Rainy\"\n",
    "date = aaa[:8]\n",
    "weather = aaa[8:]\n",
    "\n",
    "print date #20010331\n",
    "print weather #Rainey\n",
    "\n",
    "aaaa = \"20010331Rainy\"\n",
    "year1 = aaa[:4]\n",
    "day1 = aaa[4:8]\n",
    "weather1 = aaa[8:]\n",
    "print year1 #2001\n",
    "print day1 #0331\n",
    "print weather1 #Rainy\n",
    "\n",
    "\n",
    "## Pithon -> Python\n",
    "aaaa = \"Pithon\"\n",
    "print aaaa[1]\n",
    "'i'\n",
    "aaaa[:1]\n",
    "'P'\n",
    "aaaa[2:]\n",
    "'thon'\n",
    "print a[:1] + 'y' + a[2:] #Python\n",
    "\n",
    "# String Formatting\n",
    "print \"I eat %d apples.\" %3 #I eat 3 apples.\n",
    "print \"I eat %s apples.\" % \"five\" #I eat five apples.\n",
    "\n",
    "number = 10\n",
    "print \"I eat %d apples. \" % number #I eat 10 apples\n",
    "\n",
    "number1 = 100\n",
    "day = \"three\"\n",
    "print \"I ate %d apples. so I was sick for %s days. \" % (number1, day) # I ate 100 apples. so I was sick fro three days.\n",
    "\n",
    "#String format codes\n",
    "# %s = 문자열(String)\n",
    "# %c = 문자1개 (character)\n",
    "# %d = 정수(Integer)\n",
    "# %f = 부동소수 (floating-point)\n",
    "# %o = 8진수\n",
    "# %x =  16진수\n",
    "# L %% = Literal % (문자 % 자체)\n",
    "\n",
    "# |Example|\n",
    "print \"I have %s apples\" %3\n",
    "print \"rate is %s\" %3.234 # rate is 3.234 -> 여기서 3.234는 string format으로 저장된다.\n",
    "\n",
    "####################################\n",
    "# 2017.05.09 (Tues) pg 55~56 \n",
    "# 1. 문자열 포맷 코드\n",
    "# 2. 포맷 코드와 숫자 함께 사용하기\n",
    "# 내일 공부 : 2) 소수점 표현하기 부터 시작\n",
    "####################################\n",
    "\n",
    "#1. Formatting Operator (%d) 와 % 를 같이 사용할 때는 ---> %%\n",
    "# 무슨 말이냐면 %라는 기호를 쓰고 싶은데 그 앞에 숫자는 바꾸고 싶음. 그런데 %d % 하면 인식을 못함 \n",
    "# 파이썬 룰에 따라서 %d%%로 써줘야지 %d 가 % 뒤에 입력된 숫자를 입력 받음\n",
    "# |Example|\n",
    "# Wrong : \"Error is %d%.\" % 98 \n",
    "# Fixed : \"Error is %d%%.\" %98 #Error is 98%.\n",
    "print \"Error is %d%%.\" % 95  #Error is 95%.\n",
    "\n",
    "#2. 포맷 코드와 숫자 함께 사용하기\n",
    "#1)정렬과 공백\n",
    "print \"%10s\" % \"hi\" #'\thi' -> 이런식으로 hi 앞에 공백이 생긴채 출력된다.\n",
    "# 통역 : 길이가 10개인 문자열에서 hi를 오른쪽에 정렬하고 나머지는 공백 즉, 10칸 중 2칸은 hi가 들어가있고 나머지 8칸은 비어있음\n",
    "\n",
    "print \"%-10sjane.\" % 'hi' #'hi        jane.' -> hi를 왼쪽 정렬, 나머지 공백\n",
    "\n",
    "\n",
    "####################################\n",
    "# 2017.05.10 (Wed) pg 56~60\n",
    "# 소수점 표현하기\n",
    "# \n",
    "# 내일 공부 : \n",
    "####################################\n",
    "# 1. 소수점 표현\n",
    "print \"%0.4f\" % 3.42134234 # 소수점 4번째 자리까지만 나타내고 싶은 경우 사용. -> 3.4213\n",
    "print \"%10.4f\" % 3.42134234 # 소수점 4자리까지만 표현 및 10개 문자열 중 오른쪽 정렬 \n",
    "\n",
    "# 2. 문자열 관련 함수들\n",
    "## 2.1 무자 개수 세기 (count)\n",
    "a510_0 = \"hobby\"\n",
    "print a510_0.count('b') # b 의 개수를 a510라는 문자열에서 카운트 후 반환\n",
    "\n",
    "## 2.2 위치 알려주기 (find)\n",
    "a510_1 = \"Python is best choice\"\n",
    "print a510_1.find('b') #b의 위치 출력 -> 10\n",
    "print a510_1.find('k') #k의 위치 출력 * 만약에 없으면 -1 반환\n",
    "\n",
    "## 2.3 위치 알려주기2 (index)\n",
    "a510_2 = \"Life is too short\"\n",
    "print a510_2.index('t') # 문자열 중 t가 제일 먼저 나온 위치 반환 -> 8, 없으면 오류 출력\n",
    "#print a510_2.index('t')\n",
    "\n",
    "## 2.4 문자열 삽입 (join)\n",
    "a510_3 = \",\"\n",
    "print a510_3.join('abcd') # 문자열 사이에 , 삽입 -> a,b,c,d 출력\n",
    "\n",
    "## 2.5 소문자 -> 대문자 변환 (upper)\n",
    "a510_4 = \"hi\"\n",
    "print a510_4.upper() # HI\n",
    "\n",
    "## 2.6 대문자 -> 소문자 변환 (lower)\n",
    "a510_5 = \"HI\"\n",
    "print a510_5.lower() # hi\n",
    "\n",
    "## 2.7 왼쪽 공백 지우기 (lstrip)\n",
    "a510_6 = \" hi \"\n",
    "print a510_6.lstrip() # 'hi '\n",
    "\n",
    "## 2.8 오른쪽 공백 지우기 (rstrip)\n",
    "a510_7 = \" hi \"\n",
    "print a510_7.rstrip() # ' hi'\n",
    "\n",
    "## 2.9 양쪽 공백 지우기 (strip)\n",
    "a510_8 = \" hi \"\n",
    "print a510_8.strip() # 'hi'\n",
    "\n",
    "## 2.10 문자열 바꾸기 (replace (바뀌게될 문자열, 바꿀 문자열))\n",
    "a510_9 = \"Life is too short\"\n",
    "print a510_9.replace(\"Life\", \"Your leg\") # 'Your leg is too short' Life 를 Your leg로 변경\n",
    "\n",
    "## 2.11 문자열 나누기 (split)\n",
    "a510_10 = \"Life is too short\"\n",
    "print a510_10.split() # split with whitespace \n",
    "\n",
    "a510_10_1 = \"a:b:c:d\"\n",
    "print a510_10_1.split(';') #';'를 기준으로 쪼개기\n",
    "\n",
    "####################################\n",
    "# 2017.05.11 (Wed) pg 60~pg 64\n",
    "# 고급 무자열 포매팅\n",
    "####################################\n",
    "\n",
    "# 3. 고급 문자열 포매팅 [format]\n",
    "## 3.1 숫자 바로 대입하기 (format) ->  \"{0}\".format(x) 를 이용하여 x값을 바로 안에 넣는다.\n",
    "print \"I eat {0} apples.\".format(4) #I eat 4 apples\n",
    "\n",
    "## 3.2 문자열 바로 대입하기\n",
    "print \"I eat {0} apples.\".format(\"five\") #I eat five apples.\n",
    "\n",
    "## 3.3 숫자 값을 가진 변수로 대입하기\n",
    "number511 = 5\n",
    "print \"I eat {0} apples.\" .format(number511) # I eat 5 apples.\n",
    "\n",
    "## 3.4 2개 이상의 값 넣기\n",
    "number511_1 = 10\n",
    "day511 = \"three\"\n",
    "print \"I ate {0} apples. so I was sick for {1} days.\".format(number511_1, day511)\n",
    "# I ate 10 apples. so I was sick for three days\n",
    "\n",
    "## 3.5 이름으로 넣기\n",
    "print \"I ate {number511_2} apples. so I was sick for {day511_1} days.\".format(number511_2=1, day511_1 =3)\n",
    "# I ate 1 apples. so I was sick for 3 days\n",
    "\n",
    "## 3.6 인덱스와 이름을 혼용해서 넣기\n",
    "print \"I ate {0} apples. so I was sick for {day511_2} days.\".format(10, day511_2 = 5)\n",
    "# I ate 10 apples. so I was sick for 5 days\n",
    "\n",
    "## 3.7 왼쪽 정렬 (:<x)\n",
    "print \"{0:<10}\".format(\"hi\") # 문자열왼쪽 정렬 나머지 정렬 \n",
    "\n",
    "## 3.8  오른쪽 정렬\n",
    "print \"{0:>10}\".format(\"hi\") # 문자열을 오른쪽에 입력 후 나머지 정렬\n",
    "\n",
    "## 3.9 가운데 정렬\n",
    "print \"{0:^10}\".format(\"hi\") # 문자열을 중간에 넣고 양쪽으로 같은 수 정렬\n",
    "\n",
    "## 3.10 공백 채우기\n",
    "print \"{0:=^10}\".format(\"hi\") # 공백 문자 대신 =를 입력  ====hi====\n",
    "print \"{0:!<20}\".format(\"hi\") # 왼쪽 정렬 -> 문자열 이볅 -> 나머지 ! 로 채움 hi!!!!!!!!!!!!!!!!!!\n",
    "\n",
    "## 3.11  소수점 표현하기\n",
    "y511 = 3.42134234\n",
    "print \"{0:0.4f}\".format(y511) # 0.4를 이용하여 소수점 4자리까지만 출력, 3.4213 \n",
    "print \"{0:10.4f}\".format(y511) # 길이가 10개인 문자열에 0.4인데 소수점 자리수 를 오른쪽 끝에 삽입 후 공백 출력 -> '    3.4213'\n",
    "\n",
    "## 3.12 { 또는 } 문자 표현하기\n",
    "print \"{{ and }}\".format() #문자 그대로 사용하고 싶은 경우 {{ }}를 이용 -> \"{ and }\"\n",
    "\n",
    "\n",
    "#======= pg63 ======= \n",
    "# 02-3 리스트 자료형 (List)\n",
    "# 리스트는 어떠한 자료형도 포함가능하다. (java로 치면 array같은 느낌)\n",
    "# 2-3-1리스트의 생성\n",
    "# : 대괄호 []로 감싸주고 각 요소들은 쉼표로 구분 \n",
    "#   리스트명 = [요소1, 요소2, 요소3, ...]\n",
    "odd511 = [1, 3, 5, 7, 9] \n",
    "print odd511 # -> [1, 3, 5, 7, 9]\n",
    "\n",
    "a511 = [ ] # 비어있는 리스트  \n",
    "print a511  # -> []\n",
    "\n",
    "b511 = [1, 2, 3] # 숫자를 요소로 가지고 있는 리스트\n",
    "print b511 # -> [1, 2, 3]\n",
    "\n",
    "c511 = ['Life', 'is', 'too', 'short'] # 문자열 요소로 하는 리스트\n",
    "print c511 # ['Life', 'is', 'too', 'short']\n",
    "\n",
    "d511 = [1, 2, 'Life', 'is']  # 숫자와 문자열을 함께 요소값으로 가지고 있는 리스트\n",
    "print d511 # -> [1, 2, 'Life', 'is']\n",
    "\n",
    "e511 = [1,2, ['Life', 'is']]  # 숫자와 리스트 자체를 요소값으로 가지고 있는 리스트 \n",
    "print e511 # -> [1, 2, ['Life', 'is']]\n",
    "\n",
    "\n",
    "# 2-3-2 : 리스트의 인덱싱과 슬라이싱\n",
    "a511_1 = [1,2,3]\n",
    "print a511_1 # -> [1,2,3]\n",
    "print a511_1[0] # -> 1\n",
    "print a511_1[0] + a511_1[2] #-> 1 + 3 = 4\n",
    "print a511_1[-1] # -> 마지막 요소값 3 \n",
    "print a511_1[-2] # -> 마지막에서 두 번째 요소값 2\n",
    "\n",
    "\n",
    "####################################\n",
    "# 2017.05.12 (Thurs) pg65~pg67\n",
    "# 고급 무자열 포매팅\n",
    "####################################\n",
    "a512_1 = [1, 2, 3, ['a', 'b', 'c']]\n",
    "print a512_1 # -> [1, 2, 3, ['a', 'b', 'c']]\n",
    "print a512_1[0] # -> 1\n",
    "print a512_1[-1] # -> ['a', 'b', 'c']\n",
    "print a512_1[3] # ->  ['a', 'b', 'c']\n",
    "\n",
    "# [2중 리스트에서 인덱싱 하기]\n",
    "print a512_1[-1][0] #  -> a : 내부 리스트의 인덱스 요소 출력 [1, 2, 3, ['a', 'b', 'c']] 안에서 a를 출력하고 싶다.\n",
    "print a512_1[-1][1] # -> b\n",
    "print a512_1[-1][2] # -> c\n",
    "\n",
    "# [3중 리스트에서 인덱싱 하기]\n",
    "a512_2 = [1, 2, ['a', 'b', ['Life', 'is'] ] ] \n",
    "print a512_2[2][2][0] # -> 'Life'\n",
    "\n",
    "\n",
    "## 리스트 슬라이싱 (나누기)\n",
    "a512_3 = [1, 2, 3, 4, 5]\n",
    "print a512_3[0:2] # -> [1,2]\n",
    "\n",
    "#** 문자열 슬라이싱\n",
    "a512_4 = \"12345\"\n",
    "print a512_4[0:2] # -> '12'\n",
    "\n",
    "a512_5 = [1, 2, 3, 4, 5]\n",
    "b512_1 = a512_5[:2] #a512_5의 처음요소 부터 두번째 요소까지 [ a512_4[0], a512_4[1] ]\n",
    "c512_1 = a512_5[2:] #a512_5의 두번째 요소부터 끝까지\n",
    "print a512_4 # [1, 2, 3, 4, 5]\n",
    "print b512_1 # [1, 2] \n",
    "print c512_1 # [3, 4, 5]\n",
    "\n",
    "\n",
    "####################################\n",
    "# 2017.05.14 (Sun) pg67\n",
    "####################################\n",
    "\n",
    "####################################\n",
    "# 2017.05.15 (Mon) pg67~74\n",
    "####################################\n",
    "\n",
    "#중첩된 리스트에서 슬라이싱하기\n",
    "a515_1 = [1, 2, 3, ['a', 'b', 'c'], 4, 5]\n",
    "print a515_1[2:5] #2번째 요소부터 5-1 요소까지 -> [3, ['a', 'b', 'c'], 4]\n",
    "print a515_1[3][:2] #3번째 요소 내부의처 처음에서 2-1까지 -> ['a', 'b']\n",
    "\n",
    "## 리스트 연산자\n",
    "## 1) 리스트 더하기 \n",
    "a515_2 = [1,2,3]\n",
    "b515_1 = [4, 5, 6]\n",
    "print a515_2 + b515_1 # 요소별로 합친다 -> [1, 2,3,4,5,6]\n",
    "\n",
    "## 2) 리스트 반복하기\n",
    "a515_3 = [1, 2, 3]\n",
    "print str(a512_3[2]) + \"hi\"  # 숫자 3을 문자 '3'으로 변환 후 연산 -> 3hi\n",
    "\n",
    "\n",
    "# 리스트의 수정, 변경과 삭제\n",
    "## 1. 리스트에서 하나의 값 수정하기\n",
    "a513_4 = [1, 2, 3]\n",
    "a513_4[2] = 4\n",
    "print a513_4 # -> [1, 2, 4]\n",
    "\n",
    "## 2. 리스트에서 연속된 범위의 값 수정하기\n",
    "print a513_4[1:2] # -> [2]\n",
    "a513_4[1:2] = ['a', 'b', 'c']\n",
    "print a513_4 # -> ['1', 'a', 'b', 'c', '4']\n",
    "\n",
    "## [리스트 수정할 때 주의할 점]\n",
    "a513_4[1] = ['a', 'b', 'c']\n",
    "print a513_4 #-> ['1', ['a', 'b', 'c'], 'b', 'c', '4']\n",
    "\n",
    "## 3. [] 사용해 리스트 요소 삭제하기\n",
    "a513_4[1:3] = [ ]\n",
    "print a513_4 # 1요소에서 3-1까지 공백으로 만들기 -> [1, 'c', 4]\n",
    "\n",
    "## 4. del 함수 사용해 리스트 요소 삭제하기\n",
    "print a513_4 # -> [1, 'c', 4]\n",
    "del a513_4[1] # 1번 요소 삭제\n",
    "print a513_4 # -> [1, 4]\n",
    "\n",
    "\n",
    "# 리스트 관련 함수들\n",
    "## 1. 리스트에 요소 추가(append)\n",
    "## : 덧붓이다, 첨부하다 예) append(x)는 리스트의 맨 마지막에 x를 추가하는 함수\n",
    "a513_5 = [1,2,3]\n",
    "a513_5.append(4)\n",
    "print a513_5 # 리스트 뒤에 4를 추가한다. -> [1,2,3,4]\n",
    "\n",
    "a513_5.append([5,6])\n",
    "print a513_5 # -> 기존 리스트의 마지막에 [5,6] 추가 -> [1,2,3,4,[5,6]]  *리스트 모양으로 들어감\n",
    "\n",
    "## 2. 리스트 정렬 (sort)\n",
    "a513_6 = [1,4,3,2]\n",
    "a513_6.sort()\n",
    "print a513_6 # 리스트 내 숫자를 정렬 -> [1,2,3,4]\n",
    "\n",
    "## 3. 리스트 뒤집기(reverse)\n",
    "a513_7 = ['a', 'b', 'c']\n",
    "a513_7.reverse()\n",
    "print a513_7 # 리버스 -> ['c', 'b', 'a']\n",
    "\n",
    "## 4. 위치 반환 (index)\n",
    "a513_8 = [1,2,3]\n",
    "print a513_8.index(3) # 요소값 3을 가지고 있는 숫자의 위치 리턴  -> 2\n",
    "print a513_8.index(1) # 요소값 1을 가지고 있는 숫자의 위치 리터 -> 0\n",
    "# print a515_8.index(0) # -> 0이라는 값이 없으니까 error를 뿜는다.\n",
    "\n",
    "## 5. 리스트에 요소 삽입 (insert)\n",
    "## insert(a, b) : a번째 위치에 b를 삽입하는 함수\n",
    "a515_9 = [1,2,3]\n",
    "a515_9.insert(0,4) # 0번째 자리에 4를 삽입 -> [4,1,2,3]\n",
    "print a515_9\n",
    "a515_9.insert(3,5) # 3번째 자리에 5를 삽입 -> [4,1,2,5,3]\n",
    "print a515_9\n",
    "\n",
    "## 6. 리스트 요소 제거(remove)\n",
    "a515_10 = [1,2,3, 1, 2, 3]\n",
    "a515_10.remove(3) # 리스트 내부에서 첫번째 나오는 값 제거\n",
    "print a515_10 # [1,2,1,2,3]\n",
    "a515_10.remove(3) # [1,2,1,2]\n",
    "print a515_10 \n",
    "\n",
    "## 7. 리스트 요소 끄집어내기 (pop)\n",
    "a515_11 = [1,2,3]\n",
    "print a515_11.pop() # 마지막 있는 3 리턴 후 요소 제거 -> 3\n",
    "print a515_11 # [1, 2]\n",
    "\n",
    "a515_12 = [1,2,3]\n",
    "print a515_12.pop(1) # a515_12[1] 안의 요소 끄집어 내고 삭제하기 -> 2\n",
    "print a515_12 # -> [1,3]\n",
    "\n",
    "## 8. 리스트에 포함된 요소 x의 개수 세기(count)\n",
    "a515_13 = [1,2,3,1]\n",
    "print a515_13.count(1) # 1이 몇 개있는지 count  -> 2\n",
    "\n",
    "## 9. 리스트 확장 (extend)\n",
    "## : extend(x)에서 x에는 리스트만 올 수 있음.  원래 a 리스트에 X 리스트를 더함\n",
    "a515_14 = [1,2,3]\n",
    "a515_14.extend([4,5])\n",
    "print a515_14 # [1,2,3]에 [4,5]를 추가해서 [1,2,3,4,5]가 됨\n",
    "b515_2 = [6, 7]\n",
    "a515_14.extend(b515_2) \n",
    "print a515_14 # [1,2,3,4,5]에 [6,7]를 확장해서 -> [1,2,3,4,5,6,7]\n",
    "\n",
    "\n",
    "\n",
    "####################################\n",
    "# 2017.05.16 (Tues) pg75\n",
    "####################################\n",
    "# 튜플 자료형\n",
    "# 리스트와 다른 점 : 리스트는 [], 튜플은 ()\n",
    "# \t\t\t\t: 리스트는 생성, 삭제, 수정 가능 / 튜플은 변경 불가\n",
    "\n",
    "t1 = ()\n",
    "t2 = (1,)\n",
    "t3 = (1,2,3)\n",
    "t4 = 1,2,3\n",
    "t5 = ('a', 'b', ('ab', 'cd'))\n",
    "\n",
    "print t1 # -> ()\n",
    "print t2 # -> (1,)\n",
    "print t3 # -> (1, 2, 3)\n",
    "print t4 # -> (1, 2, 3)\n",
    "print t5 # -> ('a', 'b', ('ab', 'cd'))\n",
    "\n"
   ]
  },
  {
   "cell_type": "code",
   "execution_count": 2,
   "metadata": {
    "collapsed": false
   },
   "outputs": [
    {
     "data": {
      "text/plain": [
       "(1, 2, 'a', 'b')"
      ]
     },
     "execution_count": 2,
     "metadata": {},
     "output_type": "execute_result"
    }
   ],
   "source": [
    "####################################\n",
    "# 2017.07.22 (Sat) pg76\n",
    "####################################\n",
    "# Tuple 실습 \n",
    "t1 = (1, 2, 'a', 'b')\n",
    "t1"
   ]
  },
  {
   "cell_type": "code",
   "execution_count": 4,
   "metadata": {
    "collapsed": false
   },
   "outputs": [
    {
     "ename": "TypeError",
     "evalue": "'tuple' object doesn't support item deletion",
     "output_type": "error",
     "traceback": [
      "\u001b[0;31m---------------------------------------------------------------------------\u001b[0m",
      "\u001b[0;31mTypeError\u001b[0m                                 Traceback (most recent call last)",
      "\u001b[0;32m<ipython-input-4-43f8539c07a5>\u001b[0m in \u001b[0;36m<module>\u001b[0;34m()\u001b[0m\n\u001b[1;32m      1\u001b[0m \u001b[0;31m# 1. 튜플 요소값 삭제 시 오류\u001b[0m\u001b[0;34m\u001b[0m\u001b[0;34m\u001b[0m\u001b[0m\n\u001b[0;32m----> 2\u001b[0;31m \u001b[0;32mdel\u001b[0m \u001b[0mt1\u001b[0m\u001b[0;34m[\u001b[0m\u001b[0;36m0\u001b[0m\u001b[0;34m]\u001b[0m\u001b[0;34m\u001b[0m\u001b[0m\n\u001b[0m",
      "\u001b[0;31mTypeError\u001b[0m: 'tuple' object doesn't support item deletion"
     ]
    }
   ],
   "source": [
    "# 1. 튜플 요소값 삭제 시 오류\n",
    "del t1[0]"
   ]
  },
  {
   "cell_type": "code",
   "execution_count": 7,
   "metadata": {
    "collapsed": false
   },
   "outputs": [
    {
     "ename": "TypeError",
     "evalue": "'tuple' object does not support item assignment",
     "output_type": "error",
     "traceback": [
      "\u001b[0;31m---------------------------------------------------------------------------\u001b[0m",
      "\u001b[0;31mTypeError\u001b[0m                                 Traceback (most recent call last)",
      "\u001b[0;32m<ipython-input-7-17bdf9110ffa>\u001b[0m in \u001b[0;36m<module>\u001b[0;34m()\u001b[0m\n\u001b[1;32m      1\u001b[0m \u001b[0;31m# 2. 튜플 요소값 변경 시 오류 -> 튜플은 변경할 수 없다.\u001b[0m\u001b[0;34m\u001b[0m\u001b[0;34m\u001b[0m\u001b[0m\n\u001b[1;32m      2\u001b[0m \u001b[0mt1\u001b[0m \u001b[0;34m=\u001b[0m \u001b[0;34m(\u001b[0m\u001b[0;36m1\u001b[0m\u001b[0;34m,\u001b[0m \u001b[0;36m2\u001b[0m\u001b[0;34m,\u001b[0m \u001b[0;34m'a'\u001b[0m\u001b[0;34m,\u001b[0m \u001b[0;34m'b'\u001b[0m\u001b[0;34m)\u001b[0m\u001b[0;34m\u001b[0m\u001b[0m\n\u001b[0;32m----> 3\u001b[0;31m \u001b[0mt1\u001b[0m\u001b[0;34m[\u001b[0m\u001b[0;36m0\u001b[0m\u001b[0;34m]\u001b[0m \u001b[0;34m=\u001b[0m \u001b[0;34m'c'\u001b[0m\u001b[0;34m\u001b[0m\u001b[0m\n\u001b[0m",
      "\u001b[0;31mTypeError\u001b[0m: 'tuple' object does not support item assignment"
     ]
    }
   ],
   "source": [
    "# 2. 튜플 요소값 변경 시 오류 -> 튜플은 변경할 수 없다.\n",
    "t1 = (1, 2, 'a', 'b')\n",
    "t1[0] = 'c'"
   ]
  },
  {
   "cell_type": "markdown",
   "metadata": {},
   "source": [
    "# 튜플 인덱싱과 슬라이싱, 더하기(+)와 곱하기(*)"
   ]
  },
  {
   "cell_type": "code",
   "execution_count": 11,
   "metadata": {
    "collapsed": false
   },
   "outputs": [
    {
     "name": "stdout",
     "output_type": "stream",
     "text": [
      "1\n",
      "b\n"
     ]
    }
   ],
   "source": [
    "t1 = (1, 2, 'a', 'b')\n",
    "#1. 인덱싱\n",
    "print(t1[0])  # 0 : 1 , 1: 2, 2: 'a', 3 : 'b' -> 1 출력\n",
    "print(t1[3]) # b 출력"
   ]
  },
  {
   "cell_type": "code",
   "execution_count": 17,
   "metadata": {
    "collapsed": false
   },
   "outputs": [
    {
     "data": {
      "text/plain": [
       "(2, 'a', 'b')"
      ]
     },
     "execution_count": 17,
     "metadata": {},
     "output_type": "execute_result"
    }
   ],
   "source": [
    "# 2. 슬라이싱\n",
    "t1[1:] #1번 인덱스의 값부터 마지막 인덱스값 까지 출력 -> 2, a, b"
   ]
  },
  {
   "cell_type": "code",
   "execution_count": 20,
   "metadata": {
    "collapsed": false
   },
   "outputs": [
    {
     "data": {
      "text/plain": [
       "(1, 2, 'a', 'b', 3, 4)"
      ]
     },
     "execution_count": 20,
     "metadata": {},
     "output_type": "execute_result"
    }
   ],
   "source": [
    "# 3. 튜플 더하기\n",
    "t2 = (3,4)\n",
    "t1 + t2\n",
    "# append와 같다. -> t1 의 원소 뒤에 t2의 원소를 연결해서 나열한다. "
   ]
  },
  {
   "cell_type": "code",
   "execution_count": 23,
   "metadata": {
    "collapsed": false
   },
   "outputs": [
    {
     "data": {
      "text/plain": [
       "(3, 4, 3, 4, 3, 4)"
      ]
     },
     "execution_count": 23,
     "metadata": {},
     "output_type": "execute_result"
    }
   ],
   "source": [
    "# 4. 튜플 곱하기 \n",
    "t2 * 3\n",
    "# t2의 원소를 x번 반복해서 나열한다. "
   ]
  },
  {
   "cell_type": "code",
   "execution_count": 24,
   "metadata": {
    "collapsed": false
   },
   "outputs": [
    {
     "data": {
      "text/plain": [
       "(3, 4, 3, 4, 3, 4, 3, 4)"
      ]
     },
     "execution_count": 24,
     "metadata": {},
     "output_type": "execute_result"
    }
   ],
   "source": [
    "t2*4"
   ]
  },
  {
   "cell_type": "markdown",
   "metadata": {},
   "source": [
    "# 02-5 딕셔너리 자료형\n",
    "\n",
    "\"이름\" = \"홍길동\"  \n",
    "\"생일\" = \"0919\"   \n",
    "\n",
    "이런식으로 대응관계를 나타낼 수 있는 자료형을 가지고 있다. \n",
    "key값과 value값이 있다. \n",
    "다른 언어에서는 이를 \"연관배열\" , \"해시\" 라고 한다. \n",
    "\n",
    "## Dictionary의 생성\n",
    "{Key1 : Value1, Key2 : Value2, Key3 : Value3}\n",
    "*Key값은 변하지않는 값, Value값은 변하는 값\n",
    "\n"
   ]
  },
  {
   "cell_type": "code",
   "execution_count": 25,
   "metadata": {
    "collapsed": true
   },
   "outputs": [],
   "source": [
    "dic = {'name':'a', 'phone':'01012345678', 'brith': '0123'}"
   ]
  },
  {
   "cell_type": "code",
   "execution_count": 26,
   "metadata": {
    "collapsed": false
   },
   "outputs": [
    {
     "data": {
      "text/plain": [
       "{'brith': '0123', 'name': 'a', 'phone': '01012345678'}"
      ]
     },
     "execution_count": 26,
     "metadata": {},
     "output_type": "execute_result"
    }
   ],
   "source": [
    "dic"
   ]
  },
  {
   "cell_type": "code",
   "execution_count": 32,
   "metadata": {
    "collapsed": false
   },
   "outputs": [
    {
     "data": {
      "text/plain": [
       "{1: 'hi'}"
      ]
     },
     "execution_count": 32,
     "metadata": {},
     "output_type": "execute_result"
    }
   ],
   "source": [
    "aa_str = {1: 'hi'}\n",
    "aa_str"
   ]
  },
  {
   "cell_type": "code",
   "execution_count": 31,
   "metadata": {
    "collapsed": false
   },
   "outputs": [
    {
     "data": {
      "text/plain": [
       "{'a': [1, 2, 3]}"
      ]
     },
     "execution_count": 31,
     "metadata": {},
     "output_type": "execute_result"
    }
   ],
   "source": [
    "aa_list = {'a': [1,2,3]}\n",
    "aa_list"
   ]
  },
  {
   "cell_type": "code",
   "execution_count": 75,
   "metadata": {
    "collapsed": false
   },
   "outputs": [
    {
     "data": {
      "text/plain": [
       "{1: 'a'}"
      ]
     },
     "execution_count": 75,
     "metadata": {},
     "output_type": "execute_result"
    }
   ],
   "source": [
    "# 1. Dictionary 쌍 추가하기\n",
    "a722 = {1: 'a'}\n",
    "a722"
   ]
  },
  {
   "cell_type": "code",
   "execution_count": 76,
   "metadata": {
    "collapsed": false
   },
   "outputs": [
    {
     "data": {
      "text/plain": [
       "{1: 'a', 2: 'b'}"
      ]
     },
     "execution_count": 76,
     "metadata": {},
     "output_type": "execute_result"
    }
   ],
   "source": [
    "a722[2] = 'b'\n",
    "a722"
   ]
  },
  {
   "cell_type": "code",
   "execution_count": 77,
   "metadata": {
    "collapsed": false
   },
   "outputs": [
    {
     "data": {
      "text/plain": [
       "{1: 'a', 2: 'b', 3: 'c'}"
      ]
     },
     "execution_count": 77,
     "metadata": {},
     "output_type": "execute_result"
    }
   ],
   "source": [
    "a722[3] = 'c'\n",
    "a722"
   ]
  },
  {
   "cell_type": "code",
   "execution_count": 78,
   "metadata": {
    "collapsed": false
   },
   "outputs": [
    {
     "data": {
      "text/plain": [
       "{1: 'a', 2: 'b', 3: 'c', 'str4': 'd'}"
      ]
     },
     "execution_count": 78,
     "metadata": {},
     "output_type": "execute_result"
    }
   ],
   "source": [
    "a722['str4'] = 'd'\n",
    "a722\n",
    "# key의 format에 상관없이 추가가 가능하다.\n",
    "# 숫자->알파벳 순서로 나열한다.."
   ]
  },
  {
   "cell_type": "code",
   "execution_count": 79,
   "metadata": {
    "collapsed": false
   },
   "outputs": [
    {
     "data": {
      "text/plain": [
       "{1: 'a', 2: 'b', 3: 'c', 'a': 'pey', 'str4': 'd'}"
      ]
     },
     "execution_count": 79,
     "metadata": {},
     "output_type": "execute_result"
    }
   ],
   "source": [
    "a722['a'] = 'pey'\n",
    "a722"
   ]
  },
  {
   "cell_type": "code",
   "execution_count": 82,
   "metadata": {
    "collapsed": false
   },
   "outputs": [
    {
     "data": {
      "text/plain": [
       "{1: 'a', 2: 'b', 3: [1, 2, 3], 'a': 'pey', 'str4': 'd'}"
      ]
     },
     "execution_count": 82,
     "metadata": {},
     "output_type": "execute_result"
    }
   ],
   "source": [
    "a722[3] = [1,2,3]\n",
    "a722"
   ]
  },
  {
   "cell_type": "code",
   "execution_count": 83,
   "metadata": {
    "collapsed": false
   },
   "outputs": [
    {
     "data": {
      "text/plain": [
       "{2: 'b', 3: [1, 2, 3], 'a': 'pey', 'str4': 'd'}"
      ]
     },
     "execution_count": 83,
     "metadata": {},
     "output_type": "execute_result"
    }
   ],
   "source": [
    "# 2. dictionary 요소 삭제하기\n",
    "del a722[1] # key값을 1로 하는 값 삭제하기 \n",
    "a722"
   ]
  },
  {
   "cell_type": "code",
   "execution_count": 89,
   "metadata": {
    "collapsed": false
   },
   "outputs": [
    {
     "data": {
      "text/plain": [
       "{3: [1, 2, 3], 'str4': 'd'}"
      ]
     },
     "execution_count": 89,
     "metadata": {},
     "output_type": "execute_result"
    }
   ],
   "source": [
    "del a722[2]\n",
    "a722"
   ]
  },
  {
   "cell_type": "code",
   "execution_count": null,
   "metadata": {
    "collapsed": true
   },
   "outputs": [],
   "source": []
  }
 ],
 "metadata": {
  "kernelspec": {
   "display_name": "Python 2",
   "language": "python",
   "name": "python2"
  },
  "language_info": {
   "codemirror_mode": {
    "name": "ipython",
    "version": 2
   },
   "file_extension": ".py",
   "mimetype": "text/x-python",
   "name": "python",
   "nbconvert_exporter": "python",
   "pygments_lexer": "ipython2",
   "version": "2.7.13"
  }
 },
 "nbformat": 4,
 "nbformat_minor": 2
}
