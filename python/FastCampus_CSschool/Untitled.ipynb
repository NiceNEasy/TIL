{
 "cells": [
  {
   "cell_type": "code",
   "execution_count": 1,
   "metadata": {
    "collapsed": false
   },
   "outputs": [
    {
     "ename": "SyntaxError",
     "evalue": "invalid syntax (<ipython-input-1-97e119084450>, line 2)",
     "output_type": "error",
     "traceback": [
      "\u001b[0;36m  File \u001b[0;32m\"<ipython-input-1-97e119084450>\"\u001b[0;36m, line \u001b[0;32m2\u001b[0m\n\u001b[0;31m    전역 변수?\u001b[0m\n\u001b[0m    ^\u001b[0m\n\u001b[0;31mSyntaxError\u001b[0m\u001b[0;31m:\u001b[0m invalid syntax\n"
     ]
    }
   ],
   "source": [
    "#전역 변수, 지역변수\n",
    "전역 변수?\n",
    "지역 변수 ?\n",
    "\n"
   ]
  },
  {
   "cell_type": "code",
   "execution_count": 3,
   "metadata": {
    "collapsed": false
   },
   "outputs": [],
   "source": [
    "# 사용예시\n",
    "\n",
    "x = 10 # global variable\n",
    "\n",
    "def add(a,b):\n",
    "    a = 10 # local variable\n",
    "    b = 20 # lcoal varaible\n",
    "    print(a+b)"
   ]
  },
  {
   "cell_type": "code",
   "execution_count": 5,
   "metadata": {
    "collapsed": false
   },
   "outputs": [],
   "source": [
    "add = lambda a,b : a+b"
   ]
  },
  {
   "cell_type": "code",
   "execution_count": 6,
   "metadata": {
    "collapsed": false
   },
   "outputs": [
    {
     "data": {
      "text/plain": [
       "3"
      ]
     },
     "execution_count": 6,
     "metadata": {},
     "output_type": "execute_result"
    }
   ],
   "source": [
    "add(1,2)"
   ]
  },
  {
   "cell_type": "code",
   "execution_count": 30,
   "metadata": {
    "collapsed": true
   },
   "outputs": [],
   "source": [
    "#class 연습\n",
    "class Computer:\n",
    "    def __init__(self, cpu, ram):\n",
    "        self.cpu = cpu\n",
    "        self.ram = ram\n",
    "        self.mem = []\n",
    "        self.send_data = None\n",
    "        self.receive_data = None\n",
    "        \n",
    "\n",
    "    def __del__(self):\n",
    "        pass\n",
    "    \n",
    "    def get_data_from_user(self):\n",
    "        s = raw_input(\"stringg : \")\n",
    "        self.send_data = s\n",
    "    \n",
    "    def get_send_data(self):\n",
    "        return self.send_data\n",
    "    \n",
    "    def get_receive_data(self):\n",
    "        return self.receive_data\n",
    "    \n",
    "    def message_sender(self, other):\n",
    "        if not self.get_send_data:\n",
    "            return False\n",
    "        else:\n",
    "            res = other.message_receiver(self)\n",
    "            self.self_data = None\n",
    "            return res\n",
    "        \n",
    "    def message_receiver(self, other):\n",
    "        if self.receive_data:\n",
    "            return False\n",
    "        else:\n",
    "            self.receive_data = other.get_send_data()\n",
    "            if self.receive_data:\n",
    "                return \"yes, successfully received\"\n",
    "            else:\n",
    "                return \"receiving fail, try again\"\n",
    "    \n",
    "    def __str__(self):\n",
    "        if not self.receive_data:\n",
    "            return \"No Data\"\n",
    "        else:\n",
    "            return self.receive_data"
   ]
  },
  {
   "cell_type": "code",
   "execution_count": 24,
   "metadata": {
    "collapsed": true
   },
   "outputs": [],
   "source": [
    "c1 = Computer(\"intel\", 16)"
   ]
  },
  {
   "cell_type": "code",
   "execution_count": 25,
   "metadata": {
    "collapsed": true
   },
   "outputs": [],
   "source": [
    "c2 = Computer(\"apple\", 4)"
   ]
  },
  {
   "cell_type": "code",
   "execution_count": 27,
   "metadata": {
    "collapsed": false
   },
   "outputs": [
    {
     "name": "stdout",
     "output_type": "stream",
     "text": [
      "stringg : 11ed\n"
     ]
    }
   ],
   "source": [
    "c1.get_data_from_user()"
   ]
  },
  {
   "cell_type": "code",
   "execution_count": 28,
   "metadata": {
    "collapsed": false
   },
   "outputs": [
    {
     "name": "stdout",
     "output_type": "stream",
     "text": [
      "11ed\n"
     ]
    }
   ],
   "source": [
    "print(c1.get_send_data())"
   ]
  },
  {
   "cell_type": "code",
   "execution_count": 22,
   "metadata": {
    "collapsed": false
   },
   "outputs": [
    {
     "data": {
      "text/plain": [
       "'yes, successfully received'"
      ]
     },
     "execution_count": 22,
     "metadata": {},
     "output_type": "execute_result"
    }
   ],
   "source": [
    "c1.message_sender(c2)"
   ]
  },
  {
   "cell_type": "code",
   "execution_count": 9,
   "metadata": {
    "collapsed": false
   },
   "outputs": [
    {
     "name": "stdout",
     "output_type": "stream",
     "text": [
      "No Data\n",
      "first string\n"
     ]
    }
   ],
   "source": [
    "print(c1)\n",
    "print(c2)"
   ]
  },
  {
   "cell_type": "code",
   "execution_count": null,
   "metadata": {
    "collapsed": true
   },
   "outputs": [],
   "source": []
  }
 ],
 "metadata": {
  "kernelspec": {
   "display_name": "Python 2",
   "language": "python",
   "name": "python2"
  },
  "language_info": {
   "codemirror_mode": {
    "name": "ipython",
    "version": 2
   },
   "file_extension": ".py",
   "mimetype": "text/x-python",
   "name": "python",
   "nbconvert_exporter": "python",
   "pygments_lexer": "ipython2",
   "version": "2.7.13"
  }
 },
 "nbformat": 4,
 "nbformat_minor": 2
}
