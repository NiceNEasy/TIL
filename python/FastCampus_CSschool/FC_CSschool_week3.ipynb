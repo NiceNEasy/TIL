{
 "cells": [
  {
   "cell_type": "code",
   "execution_count": null,
   "metadata": {
    "collapsed": true
   },
   "outputs": [],
   "source": [
    "# data reading"
   ]
  },
  {
   "cell_type": "code",
   "execution_count": 1,
   "metadata": {
    "collapsed": true
   },
   "outputs": [],
   "source": [
    "from pickle import *\n",
    "\n",
    "#openpyxl이 없으신 분들을 위한 파일 로드 함수\n",
    "def get_data_from_file(filename):\n",
    "    raw_data = {}\n",
    "    f = open(filename, 'rb')\n",
    "    try:\n",
    "        while True:\n",
    "            data = load(f)\n",
    "            raw_data.update(data)\n",
    "    except EOFError:\n",
    "        pass\n",
    "    return raw_data"
   ]
  },
  {
   "cell_type": "code",
   "execution_count": null,
   "metadata": {
    "collapsed": true
   },
   "outputs": [],
   "source": []
  },
  {
   "cell_type": "code",
   "execution_count": 73,
   "metadata": {
    "collapsed": false
   },
   "outputs": [],
   "source": [
    "# OOP\n",
    "\n",
    "# openpyxl install\n",
    "# : openpyxl 설치 를 통해 excel을 연다\n",
    "# [openpyxl](https://openpyxl.readthedocs.io/en/default/)\n",
    "\n",
    "# file_path = ~/python/FastCampus_CSschool/CSS_3rd/procedure/\n",
    "p\n",
    "from openpyxl import *"
   ]
  },
  {
   "cell_type": "markdown",
   "metadata": {},
   "source": [
    "[예제](https://github.com/ythwork/CSS_3rd/tree/master/procedure)"
   ]
  },
  {
   "cell_type": "code",
   "execution_count": 74,
   "metadata": {
    "collapsed": false
   },
   "outputs": [],
   "source": [
    "wb = load_workbook('exam.xlsx')"
   ]
  },
  {
   "cell_type": "code",
   "execution_count": 75,
   "metadata": {
    "collapsed": false
   },
   "outputs": [
    {
     "data": {
      "text/plain": [
       "[u'Sheet1']"
      ]
     },
     "execution_count": 75,
     "metadata": {},
     "output_type": "execute_result"
    }
   ],
   "source": [
    "wb.sheetnames"
   ]
  },
  {
   "cell_type": "code",
   "execution_count": 76,
   "metadata": {
    "collapsed": false
   },
   "outputs": [],
   "source": [
    "ws = wb.active"
   ]
  },
  {
   "cell_type": "code",
   "execution_count": 77,
   "metadata": {
    "collapsed": false
   },
   "outputs": [],
   "source": [
    "g = ws.rows"
   ]
  },
  {
   "cell_type": "code",
   "execution_count": 78,
   "metadata": {
    "collapsed": false
   },
   "outputs": [
    {
     "data": {
      "text/plain": [
       "<generator object _cells_by_row at 0x11692f910>"
      ]
     },
     "execution_count": 78,
     "metadata": {},
     "output_type": "execute_result"
    }
   ],
   "source": [
    "g"
   ]
  },
  {
   "cell_type": "code",
   "execution_count": 79,
   "metadata": {
    "collapsed": false
   },
   "outputs": [
    {
     "data": {
      "text/plain": [
       "(<Cell u'Sheet1'.A1>,\n",
       " <Cell u'Sheet1'.B1>,\n",
       " <Cell u'Sheet1'.C1>,\n",
       " <Cell u'Sheet1'.D1>)"
      ]
     },
     "execution_count": 79,
     "metadata": {},
     "output_type": "execute_result"
    }
   ],
   "source": [
    "cells = next(g)\n",
    "cells"
   ]
  },
  {
   "cell_type": "code",
   "execution_count": 80,
   "metadata": {
    "collapsed": false
   },
   "outputs": [],
   "source": [
    "keys = []"
   ]
  },
  {
   "cell_type": "code",
   "execution_count": 81,
   "metadata": {
    "collapsed": false
   },
   "outputs": [],
   "source": [
    "for cell in cells:\n",
    "    keys.append(cell.value)"
   ]
  },
  {
   "cell_type": "code",
   "execution_count": 82,
   "metadata": {
    "collapsed": false
   },
   "outputs": [
    {
     "data": {
      "text/plain": [
       "[u'name', u'math', u'literature', u'science']"
      ]
     },
     "execution_count": 82,
     "metadata": {},
     "output_type": "execute_result"
    }
   ],
   "source": [
    "keys"
   ]
  },
  {
   "cell_type": "code",
   "execution_count": 83,
   "metadata": {
    "collapsed": false
   },
   "outputs": [],
   "source": [
    "student_data = []\n",
    "for row in g:\n",
    "    dic = {k : v.value for k,v in zip(keys, row) }\n",
    "    student_data.append(dic)"
   ]
  },
  {
   "cell_type": "code",
   "execution_count": 84,
   "metadata": {
    "collapsed": false
   },
   "outputs": [
    {
     "data": {
      "text/plain": [
       "[{u'literature': 65L, u'math': 95L, u'name': u'greg', u'science': 75L},\n",
       " {u'literature': 30L, u'math': 25L, u'name': u'john', u'science': 55L},\n",
       " {u'literature': 45L, u'math': 50L, u'name': u'yang', u'science': 40L},\n",
       " {u'literature': 65L, u'math': 15L, u'name': u'timothy', u'science': 90L},\n",
       " {u'literature': 100L, u'math': 100L, u'name': u'melisa', u'science': 100L},\n",
       " {u'literature': 15L, u'math': 10L, u'name': u'thor', u'science': 20L},\n",
       " {u'literature': 50L, u'math': 25L, u'name': u'elen', u'science': 100L},\n",
       " {u'literature': 75L, u'math': 80L, u'name': u'mark', u'science': 80L},\n",
       " {u'literature': 100L, u'math': 95L, u'name': u'steve', u'science': 95L},\n",
       " {u'literature': 20L, u'math': 20L, u'name': u'anna', u'science': 20L}]"
      ]
     },
     "execution_count": 84,
     "metadata": {},
     "output_type": "execute_result"
    }
   ],
   "source": [
    "student_data"
   ]
  },
  {
   "cell_type": "code",
   "execution_count": 89,
   "metadata": {
    "collapsed": false
   },
   "outputs": [
    {
     "name": "stdout",
     "output_type": "stream",
     "text": [
      "science : 75        \n",
      "literature : 65     \n",
      "name : greg         \n",
      "math : 95           \n",
      "\n",
      "science : 55        \n",
      "literature : 30     \n",
      "name : john         \n",
      "math : 25           \n",
      "\n",
      "science : 40        \n",
      "literature : 45     \n",
      "name : yang         \n",
      "math : 50           \n",
      "\n",
      "science : 90        \n",
      "literature : 65     \n",
      "name : timothy      \n",
      "math : 15           \n",
      "\n",
      "science : 100       \n",
      "literature : 100    \n",
      "name : melisa       \n",
      "math : 100          \n",
      "\n",
      "science : 20        \n",
      "literature : 15     \n",
      "name : thor         \n",
      "math : 10           \n",
      "\n",
      "science : 100       \n",
      "literature : 50     \n",
      "name : elen         \n",
      "math : 25           \n",
      "\n",
      "science : 80        \n",
      "literature : 75     \n",
      "name : mark         \n",
      "math : 80           \n",
      "\n",
      "science : 95        \n",
      "literature : 100    \n",
      "name : steve        \n",
      "math : 95           \n",
      "\n",
      "science : 20        \n",
      "literature : 20     \n",
      "name : anna         \n",
      "math : 20           \n",
      "\n"
     ]
    }
   ],
   "source": [
    "for student in student_data:\n",
    "    for k, v in student.items():\n",
    "        print('{} : {}'.format(k,v).ljust(20))\n",
    "    print('')"
   ]
  },
  {
   "cell_type": "code",
   "execution_count": null,
   "metadata": {
    "collapsed": false
   },
   "outputs": [],
   "source": []
  },
  {
   "cell_type": "markdown",
   "metadata": {},
   "source": [
    "## procedural programming\n",
    "---\n",
    "\n",
    "## procedure\n",
    " - routine, subroutine, function\n",
    "\n",
    "---\n",
    "## hardware support\n",
    "  - stack pointer in CPU\n",
    "    - ESP(Extended Stack Pointer) in intel architecture\n",
    "\n",
    "---\n",
    "## modularity\n",
    " - argument, return value\n",
    " - scoping\n",
    "   - indentation in python\n",
    "\n",
    "---\n",
    "## why procedural?\n",
    "  - 코드 이해, 유지 보수\n",
    "  - '이 프로그램은 무엇을 하는가?'\n",
    "---"
   ]
  },
  {
   "cell_type": "code",
   "execution_count": 106,
   "metadata": {
    "collapsed": true
   },
   "outputs": [],
   "source": [
    "# 비구조적 Programming Program Exam"
   ]
  },
  {
   "cell_type": "code",
   "execution_count": 107,
   "metadata": {
    "collapsed": true
   },
   "outputs": [],
   "source": [
    "import math\n",
    "from openpyxl import *\n",
    "from functools import reduce\n",
    "\n",
    "# 파일에서 데이터 읽어와서 자료구조 생성"
   ]
  },
  {
   "cell_type": "code",
   "execution_count": null,
   "metadata": {
    "collapsed": true
   },
   "outputs": [],
   "source": []
  },
  {
   "cell_type": "code",
   "execution_count": null,
   "metadata": {
    "collapsed": true
   },
   "outputs": [],
   "source": []
  },
  {
   "cell_type": "markdown",
   "metadata": {},
   "source": [
    "# Class"
   ]
  },
  {
   "cell_type": "markdown",
   "metadata": {},
   "source": [
    "- 연관있는 변수 : member (멤버 변수), property라고도 부름\n",
    "- 연관있는 함수 : method - 멤버 함수, behavior라고도 부름\n",
    "    - function != method\n"
   ]
  },
  {
   "cell_type": "markdown",
   "metadata": {},
   "source": [
    "[Account 예제](https://github.com/ythwork/CSS_3rd/blob/master/OOP/class_account.md)"
   ]
  },
  {
   "cell_type": "code",
   "execution_count": 17,
   "metadata": {
    "collapsed": false
   },
   "outputs": [],
   "source": [
    "# class : account\n",
    "# 첫문자는 대문자\n",
    "class Account:\n",
    "    # class member, class method : 전역 변수를 대체\n",
    "    \n",
    "    # class member\n",
    "    # : 모든 객체가 공유\n",
    "    interest_rate = 7.0\n",
    "    name = \"Good Life\" # 계좌 이름\n",
    "    kind = \"demanding deposit\" #후불 계좌\n",
    "    \n",
    "    # class method\n",
    "    # : 객체가 생성되기 전에도 호출 가능\n",
    "    @classmethod\n",
    "    def get_account_info(cls):\n",
    "        return cls.interest_rate, cls.name, cls.kind\n",
    "    \n",
    "    \n",
    "    \n",
    "    # 생성자\n",
    "    # : 멤버의 초기화\n",
    "    def __init__(self, name, money):\n",
    "        #instance member\n",
    "        # : 연관있는 변수\n",
    "        self.user = name\n",
    "        self.balance = money\n",
    "\n",
    "    # 소멸자\n",
    "    # : 주 목적은 메모리의 해제\n",
    "    # : 거의 쓰이지 않아요\n",
    "    def __del__(self):\n",
    "        print(\"Account object deleted!\")\n",
    "        \n",
    "        \n",
    "    #instance method\n",
    "    # : 연관있는 함수\n",
    "    def deposit(self, money):\n",
    "        if money < 0:\n",
    "            return None\n",
    "        else:\n",
    "            self.balance += money\n",
    "            return self.balance\n",
    "        \n",
    "    def withdraw(self, money):\n",
    "        '''\n",
    "        obj.withdraw(self, money) -> bool\n",
    "        '''\n",
    "        if money <= self.balance:\n",
    "            self.balance -= money\n",
    "            return True\n",
    "        else:\n",
    "            return False\n",
    "\n",
    "    # data/message passing\n",
    "    '''\n",
    "    객체와 객체간에 통신을 할 때는 반드시 함수 호출을 통해서 \n",
    "    data/message 호출을 하고\n",
    "    \n",
    "    내부 정보를 바꿀 때 바로 멤버로 접근하면안되고\n",
    "    상대방이 가지고 있는 객체의 함수 호출을 통해서 수정해야한다.\n",
    "    '''\n",
    "    def transfer(self, other, money):\n",
    "        res = self.withdraw(money)\n",
    "        if res:\n",
    "            # 다른 객체의 함수를 호출 -> 내부 정보를 바꾼다.\n",
    "            other.deposit(money)\n",
    "            return True\n",
    "        else:\n",
    "            return False\n",
    "        \n",
    "    \n",
    "    def __str__(self):\n",
    "        return '{}, {}'.format(self.user, self.balance)"
   ]
  },
  {
   "cell_type": "code",
   "execution_count": 18,
   "metadata": {
    "collapsed": false
   },
   "outputs": [],
   "source": [
    "#class : 찍어내는 틀\n",
    "#object : 실제로 존재하는 객체\n",
    "\n",
    "# 초기화 함수 실행하기 위한 코드 작성 (밑에 두줄)\n",
    "my_account = Account(\"greg\", 5000)\n",
    "your_account = Account(\"john\", 1000)"
   ]
  },
  {
   "cell_type": "code",
   "execution_count": 19,
   "metadata": {
    "collapsed": false
   },
   "outputs": [],
   "source": [
    "# print(my_account) #def __str__ 없을 때\n",
    "# >>> <__main__.Account instance at 0x1169bd248>"
   ]
  },
  {
   "cell_type": "code",
   "execution_count": 20,
   "metadata": {
    "collapsed": false
   },
   "outputs": [
    {
     "name": "stdout",
     "output_type": "stream",
     "text": [
      "greg, 5000\n",
      "john, 1000\n"
     ]
    }
   ],
   "source": [
    "print(my_account) # def __str__ 있을 때\n",
    "print(your_account)"
   ]
  },
  {
   "cell_type": "code",
   "execution_count": 21,
   "metadata": {
    "collapsed": false
   },
   "outputs": [
    {
     "data": {
      "text/plain": [
       "7000"
      ]
     },
     "execution_count": 21,
     "metadata": {},
     "output_type": "execute_result"
    }
   ],
   "source": [
    "#함수 호출\n",
    "# 1. object로 method 호출\n",
    "# my_account.이 self.의 역할을 한다. 그래서 그 내부 정보는 name, money\n",
    "# deposit을 하면 moeny\n",
    "my_account.deposit(2000)"
   ]
  },
  {
   "cell_type": "code",
   "execution_count": 22,
   "metadata": {
    "collapsed": false
   },
   "outputs": [
    {
     "name": "stdout",
     "output_type": "stream",
     "text": [
      "greg, 7000\n"
     ]
    }
   ],
   "source": [
    "print(my_account)"
   ]
  },
  {
   "cell_type": "code",
   "execution_count": 23,
   "metadata": {
    "collapsed": false
   },
   "outputs": [
    {
     "data": {
      "text/plain": [
       "4000"
      ]
     },
     "execution_count": 23,
     "metadata": {},
     "output_type": "execute_result"
    }
   ],
   "source": [
    "your_account.deposit(3000)"
   ]
  },
  {
   "cell_type": "code",
   "execution_count": 24,
   "metadata": {
    "collapsed": false
   },
   "outputs": [
    {
     "name": "stdout",
     "output_type": "stream",
     "text": [
      "john, 4000\n"
     ]
    }
   ],
   "source": [
    "print(your_account)"
   ]
  },
  {
   "cell_type": "code",
   "execution_count": 25,
   "metadata": {
    "collapsed": true
   },
   "outputs": [],
   "source": [
    "# 객체 지우기"
   ]
  },
  {
   "cell_type": "code",
   "execution_count": 26,
   "metadata": {
    "collapsed": false
   },
   "outputs": [],
   "source": [
    "# del(my_account)\n",
    "# #Account object deleted!"
   ]
  },
  {
   "cell_type": "code",
   "execution_count": 27,
   "metadata": {
    "collapsed": false
   },
   "outputs": [
    {
     "data": {
      "text/plain": [
       "\"\\n---------------------------------------------------------------------------\\nNameError                                 Traceback (most recent call last)\\n<ipython-input-202-b00dd0a53bfa> in <module>()\\n      1 # \\xed\\x99\\x95\\xec\\x9d\\xb8\\n----> 2 print(my_account)\\n\\nNameError: name 'my_account' is not defined\\n\""
      ]
     },
     "execution_count": 27,
     "metadata": {},
     "output_type": "execute_result"
    }
   ],
   "source": [
    "# 확인\n",
    "# print(my_account)\n",
    "'''\n",
    "---------------------------------------------------------------------------\n",
    "NameError                                 Traceback (most recent call last)\n",
    "<ipython-input-202-b00dd0a53bfa> in <module>()\n",
    "      1 # 확인\n",
    "----> 2 print(my_account)\n",
    "\n",
    "NameError: name 'my_account' is not defined\n",
    "'''"
   ]
  },
  {
   "cell_type": "code",
   "execution_count": 28,
   "metadata": {
    "collapsed": false
   },
   "outputs": [
    {
     "name": "stdout",
     "output_type": "stream",
     "text": [
      "greg, 7000\n",
      "john, 4000\n"
     ]
    }
   ],
   "source": [
    "print(my_account)\n",
    "print(your_account)"
   ]
  },
  {
   "cell_type": "code",
   "execution_count": 29,
   "metadata": {
    "collapsed": false
   },
   "outputs": [
    {
     "data": {
      "text/plain": [
       "True"
      ]
     },
     "execution_count": 29,
     "metadata": {},
     "output_type": "execute_result"
    }
   ],
   "source": [
    "my_account.transfer(your_account, 3000)"
   ]
  },
  {
   "cell_type": "code",
   "execution_count": 30,
   "metadata": {
    "collapsed": false
   },
   "outputs": [
    {
     "name": "stdout",
     "output_type": "stream",
     "text": [
      "greg, 4000\n",
      "john, 7000\n"
     ]
    }
   ],
   "source": [
    "print(my_account)\n",
    "print(your_account)"
   ]
  },
  {
   "cell_type": "markdown",
   "metadata": {},
   "source": [
    "### 객체의 메서드 호출"
   ]
  },
  {
   "cell_type": "code",
   "execution_count": 31,
   "metadata": {
    "collapsed": false
   },
   "outputs": [
    {
     "data": {
      "text/plain": [
       "6000"
      ]
     },
     "execution_count": 31,
     "metadata": {},
     "output_type": "execute_result"
    }
   ],
   "source": [
    "# 객체를 통해서 메서드 호출\n",
    "# 패러다임 : 객체.함수이름()\n",
    "my_account.deposit(2000)"
   ]
  },
  {
   "cell_type": "code",
   "execution_count": 32,
   "metadata": {
    "collapsed": false
   },
   "outputs": [
    {
     "data": {
      "text/plain": [
       "8000"
      ]
     },
     "execution_count": 32,
     "metadata": {},
     "output_type": "execute_result"
    }
   ],
   "source": [
    "# 클래스를 통해서 호출 \n",
    "# 쓰이즈는 않음\n",
    "Account.deposit(my_account, 2000)"
   ]
  },
  {
   "cell_type": "code",
   "execution_count": 33,
   "metadata": {
    "collapsed": false
   },
   "outputs": [
    {
     "name": "stdout",
     "output_type": "stream",
     "text": [
      "greg, 8000\n"
     ]
    }
   ],
   "source": [
    "print(my_account)"
   ]
  },
  {
   "cell_type": "code",
   "execution_count": 259,
   "metadata": {
    "collapsed": false
   },
   "outputs": [
    {
     "name": "stdout",
     "output_type": "stream",
     "text": [
      "<type 'instancemethod'>\n",
      "<type 'instancemethod'>\n"
     ]
    }
   ],
   "source": [
    "# 자세히 살펴보기\n",
    "print(type(my_account.deposit))\n",
    "print(type(Account.deposit))"
   ]
  },
  {
   "cell_type": "code",
   "execution_count": 263,
   "metadata": {
    "collapsed": false
   },
   "outputs": [
    {
     "data": {
      "text/plain": [
       "['__call__',\n",
       " '__class__',\n",
       " '__cmp__',\n",
       " '__delattr__',\n",
       " '__doc__',\n",
       " '__format__',\n",
       " '__func__',\n",
       " '__get__',\n",
       " '__getattribute__',\n",
       " '__hash__',\n",
       " '__init__',\n",
       " '__new__',\n",
       " '__reduce__',\n",
       " '__reduce_ex__',\n",
       " '__repr__',\n",
       " '__self__',\n",
       " '__setattr__',\n",
       " '__sizeof__',\n",
       " '__str__',\n",
       " '__subclasshook__',\n",
       " 'im_class',\n",
       " 'im_func',\n",
       " 'im_self']"
      ]
     },
     "execution_count": 263,
     "metadata": {},
     "output_type": "execute_result"
    }
   ],
   "source": [
    "dir (my_account.deposit)\n",
    "# _func_, _self_"
   ]
  },
  {
   "cell_type": "code",
   "execution_count": 270,
   "metadata": {
    "collapsed": true
   },
   "outputs": [],
   "source": [
    "#메서드 : __func__, __self__"
   ]
  },
  {
   "cell_type": "code",
   "execution_count": 271,
   "metadata": {
    "collapsed": false
   },
   "outputs": [
    {
     "data": {
      "text/plain": [
       "False"
      ]
     },
     "execution_count": 271,
     "metadata": {},
     "output_type": "execute_result"
    }
   ],
   "source": [
    "my_account.deposit.__func__ is Account.deposit"
   ]
  },
  {
   "cell_type": "code",
   "execution_count": 272,
   "metadata": {
    "collapsed": false
   },
   "outputs": [
    {
     "data": {
      "text/plain": [
       "True"
      ]
     },
     "execution_count": 272,
     "metadata": {},
     "output_type": "execute_result"
    }
   ],
   "source": [
    "my_account.deposit.__self__ is my_account"
   ]
  },
  {
   "cell_type": "code",
   "execution_count": 273,
   "metadata": {
    "collapsed": false
   },
   "outputs": [
    {
     "data": {
      "text/plain": [
       "12000"
      ]
     },
     "execution_count": 273,
     "metadata": {},
     "output_type": "execute_result"
    }
   ],
   "source": [
    "my_account.deposit(2000)"
   ]
  },
  {
   "cell_type": "code",
   "execution_count": null,
   "metadata": {
    "collapsed": true
   },
   "outputs": [],
   "source": []
  },
  {
   "cell_type": "markdown",
   "metadata": {},
   "source": [
    "### 클래스 멤버, 클래스 메소드"
   ]
  },
  {
   "cell_type": "code",
   "execution_count": 274,
   "metadata": {
    "collapsed": true
   },
   "outputs": [],
   "source": [
    "# method -> 함수 정보, 객체 정보를 동시에 가져있다. (그래서 self를 func에 알아서 넣어줌)"
   ]
  },
  {
   "cell_type": "code",
   "execution_count": 2,
   "metadata": {
    "collapsed": false
   },
   "outputs": [
    {
     "data": {
      "text/plain": [
       "<class __main__.Account at 0x104dc1870>"
      ]
     },
     "execution_count": 2,
     "metadata": {},
     "output_type": "execute_result"
    }
   ],
   "source": [
    "Account"
   ]
  },
  {
   "cell_type": "code",
   "execution_count": 4,
   "metadata": {
    "collapsed": false
   },
   "outputs": [],
   "source": [
    "#globals()"
   ]
  },
  {
   "cell_type": "code",
   "execution_count": 6,
   "metadata": {
    "collapsed": false
   },
   "outputs": [
    {
     "data": {
      "text/plain": [
       "7.0"
      ]
     },
     "execution_count": 6,
     "metadata": {},
     "output_type": "execute_result"
    }
   ],
   "source": [
    "# 아직 Account라는 클래스에서 객체가 하나도 안 생긴 상태\n",
    "# 그럼에도 class member와 class method는 가능하다.\n",
    "Account.interest_rate # 클래스 멤버"
   ]
  },
  {
   "cell_type": "code",
   "execution_count": 10,
   "metadata": {
    "collapsed": false
   },
   "outputs": [
    {
     "data": {
      "text/plain": [
       "(7.0, 'Good Life', 'demanding deposit')"
      ]
     },
     "execution_count": 10,
     "metadata": {},
     "output_type": "execute_result"
    }
   ],
   "source": [
    "Account.get_account_info() #클래스 메소드"
   ]
  },
  {
   "cell_type": "code",
   "execution_count": 11,
   "metadata": {
    "collapsed": true
   },
   "outputs": [],
   "source": [
    "# 다시 객체만들기\n",
    "my_acnt = Account('gregg', 5000)"
   ]
  },
  {
   "cell_type": "code",
   "execution_count": 12,
   "metadata": {
    "collapsed": false
   },
   "outputs": [
    {
     "data": {
      "text/plain": [
       "7.0"
      ]
     },
     "execution_count": 12,
     "metadata": {},
     "output_type": "execute_result"
    }
   ],
   "source": [
    "my_acnt.interest_rate"
   ]
  },
  {
   "cell_type": "code",
   "execution_count": 13,
   "metadata": {
    "collapsed": false
   },
   "outputs": [
    {
     "data": {
      "text/plain": [
       "(7.0, 'Good Life', 'demanding deposit')"
      ]
     },
     "execution_count": 13,
     "metadata": {},
     "output_type": "execute_result"
    }
   ],
   "source": [
    "my_acnt.get_account_info()"
   ]
  },
  {
   "cell_type": "code",
   "execution_count": 15,
   "metadata": {
    "collapsed": true
   },
   "outputs": [],
   "source": [
    "#즉 Account라는 원래 클래스 이름으로도 그리고 새로만든 객체를 통해서도 호출 할 수 있다. "
   ]
  },
  {
   "cell_type": "markdown",
   "metadata": {},
   "source": [
    "### 이로써 문법은 끝"
   ]
  },
  {
   "cell_type": "markdown",
   "metadata": {},
   "source": [
    "# 예제"
   ]
  },
  {
   "cell_type": "code",
   "execution_count": 39,
   "metadata": {
    "collapsed": true
   },
   "outputs": [],
   "source": [
    "class Person:\n",
    "    #class member (모든 객체가 공유하는 것)\n",
    "    planet = 'Earth'\n",
    "    \n",
    "    #멤버 초기화\n",
    "    #생성자\n",
    "    def __init__(self, name, age):\n",
    "        #instance member \n",
    "        self.name = name\n",
    "        self.age = age\n",
    "        self.nationality = None #지금 당장은 필요없더라도 만들어놓아라\n",
    "        \n",
    "    \n",
    "    def __del__(self):\n",
    "        pass\n",
    "    \n",
    "    # instance method : 객체가 가지는 기능, 행동 behaivor을 의미한다.\n",
    "    def eat(self, food):\n",
    "        print('{} eats {}'.format(self.name, food))\n",
    "        \n",
    "    def sleep(self, hour):\n",
    "        pass\n",
    "        "
   ]
  },
  {
   "cell_type": "markdown",
   "metadata": {},
   "source": [
    "## 예제2 :  computer에 대한 클래스 설계\n",
    "3개의 멤버 : data, cpu, ram\n",
    "3개의 메서드 : browse, data_receiver, data_sender\n",
    "메시지 파싱  : 다른 컴퓨터한테 내 정보를 전송  \n",
    "self.data  \n",
    "__str__  \n",
    "self.data 를 받을 수 있게"
   ]
  },
  {
   "cell_type": "code",
   "execution_count": 2,
   "metadata": {
    "collapsed": false
   },
   "outputs": [],
   "source": [
    "class Computer:\n",
    "    # class member\n",
    "    madeby = \"human\"\n",
    "    \n",
    "    # constructor\n",
    "    # instance member\n",
    "    def __init__(self, cpu, ram):\n",
    "        '''\n",
    "        data : string\n",
    "        cpu : string\n",
    "        ram : int\n",
    "        '''\n",
    "        self.cpu = cpu\n",
    "        self.ram = ram\n",
    "        self.mem = []\n",
    "        self.send_data = None\n",
    "        self.receive_data = None\n",
    "        \n",
    "    def __del__(self):\n",
    "        pass\n",
    "    \n",
    "    #instance method\n",
    "    def browse(self, browertype):\n",
    "        print(\"websurfing using {}\".format(browertype))\n",
    " \n",
    "    def get_data_from_user(self):\n",
    "        s = raw_input(\"stirng : \")\n",
    "        self.send_data = s\n",
    "        \n",
    "    #send_data에 접근하는 함수 선언\n",
    "    def get_send_data(self):\n",
    "        return self.send_data\n",
    "    \n",
    "    ##**중요한 함수: message_sender, message_receiver***## \n",
    "    # 접근할 때는 함수를 사용해서 한다. \n",
    "    def message_sender(self, other):\n",
    "        if not self.send_data: #만약 send_data(보내는 데이터)가 없다면\n",
    "            return False\n",
    "        else:\n",
    "            res = other.message_receiver(self) #반드시 함수 호출을 통해서 받아야함 #res는 잘 보내졌는지 true/false로 출력\n",
    "            self.send_data = None\n",
    "            return res\n",
    "        \n",
    "    def message_receiver(self, other):\n",
    "        if self.receive_data: #만약에 receive_data가 있으면 (버퍼가 꽉 찼다)\n",
    "            return False\n",
    "        else:\n",
    "            self.receive_data = other.get_send_data()\n",
    "            if self.receive_data:\n",
    "                if self.receive_data == 'Error':\n",
    "                    self.receive_data = None\n",
    "                    return False\n",
    "                else:\n",
    "                    self.mem.append(self.receive_data)\n",
    "                    self.receive_data = None\n",
    "                    return True\n",
    "            else:\n",
    "                return False\n",
    "        \n",
    "    def get_receive_data(self):\n",
    "        return self.receive_data\n",
    "    \n",
    "    def __str__(self):\n",
    "        if not self.mem:\n",
    "            return 'no data'\n",
    "        else:\n",
    "            return str(self.mem)"
   ]
  },
  {
   "cell_type": "code",
   "execution_count": 3,
   "metadata": {
    "collapsed": true
   },
   "outputs": [],
   "source": [
    "c1 = Computer('intel', 16)"
   ]
  },
  {
   "cell_type": "code",
   "execution_count": 4,
   "metadata": {
    "collapsed": true
   },
   "outputs": [],
   "source": [
    "c2 = Computer('AMD', 4)"
   ]
  },
  {
   "cell_type": "code",
   "execution_count": 5,
   "metadata": {
    "collapsed": false
   },
   "outputs": [
    {
     "name": "stdout",
     "output_type": "stream",
     "text": [
      "websurfing using chrome\n"
     ]
    }
   ],
   "source": [
    "c1.browse(\"chrome\")"
   ]
  },
  {
   "cell_type": "code",
   "execution_count": 6,
   "metadata": {
    "collapsed": false
   },
   "outputs": [
    {
     "name": "stdout",
     "output_type": "stream",
     "text": [
      "stirng : dddd\n"
     ]
    }
   ],
   "source": [
    "c1.get_data_from_user()"
   ]
  },
  {
   "cell_type": "code",
   "execution_count": 7,
   "metadata": {
    "collapsed": false
   },
   "outputs": [
    {
     "name": "stdout",
     "output_type": "stream",
     "text": [
      "dddd\n"
     ]
    }
   ],
   "source": [
    "#잘 들어갔는지 확인\n",
    "print(c1.get_send_data())"
   ]
  },
  {
   "cell_type": "code",
   "execution_count": 8,
   "metadata": {
    "collapsed": false
   },
   "outputs": [
    {
     "data": {
      "text/plain": [
       "True"
      ]
     },
     "execution_count": 8,
     "metadata": {},
     "output_type": "execute_result"
    }
   ],
   "source": [
    "# 메시지 보내기\n",
    "c1.message_sender(c2)"
   ]
  },
  {
   "cell_type": "code",
   "execution_count": 9,
   "metadata": {
    "collapsed": false
   },
   "outputs": [
    {
     "name": "stdout",
     "output_type": "stream",
     "text": [
      "no data\n",
      "['dddd']\n"
     ]
    }
   ],
   "source": [
    "print(c1)\n",
    "print(c2)"
   ]
  },
  {
   "cell_type": "code",
   "execution_count": 10,
   "metadata": {
    "collapsed": false
   },
   "outputs": [
    {
     "name": "stdout",
     "output_type": "stream",
     "text": [
      "stirng : 2nd string\n"
     ]
    }
   ],
   "source": [
    "c1.get_data_from_user()"
   ]
  },
  {
   "cell_type": "code",
   "execution_count": 11,
   "metadata": {
    "collapsed": false
   },
   "outputs": [
    {
     "data": {
      "text/plain": [
       "False"
      ]
     },
     "execution_count": 11,
     "metadata": {},
     "output_type": "execute_result"
    }
   ],
   "source": [
    "c1.message_sender(c2)"
   ]
  },
  {
   "cell_type": "code",
   "execution_count": 12,
   "metadata": {
    "collapsed": false
   },
   "outputs": [
    {
     "name": "stdout",
     "output_type": "stream",
     "text": [
      "['dddd']\n"
     ]
    }
   ],
   "source": [
    "print(c2)"
   ]
  },
  {
   "cell_type": "code",
   "execution_count": 13,
   "metadata": {
    "collapsed": false
   },
   "outputs": [
    {
     "name": "stdout",
     "output_type": "stream",
     "text": [
      "stirng : Error\n"
     ]
    }
   ],
   "source": [
    "c1.get_data_from_user()"
   ]
  },
  {
   "cell_type": "code",
   "execution_count": 14,
   "metadata": {
    "collapsed": false
   },
   "outputs": [
    {
     "data": {
      "text/plain": [
       "False"
      ]
     },
     "execution_count": 14,
     "metadata": {},
     "output_type": "execute_result"
    }
   ],
   "source": [
    "c1.message_sender(c2)"
   ]
  },
  {
   "cell_type": "code",
   "execution_count": 15,
   "metadata": {
    "collapsed": false
   },
   "outputs": [
    {
     "name": "stdout",
     "output_type": "stream",
     "text": [
      "['dddd']\n"
     ]
    }
   ],
   "source": [
    "print(c2)"
   ]
  },
  {
   "cell_type": "code",
   "execution_count": null,
   "metadata": {
    "collapsed": true
   },
   "outputs": [],
   "source": []
  },
  {
   "cell_type": "code",
   "execution_count": null,
   "metadata": {
    "collapsed": true
   },
   "outputs": [],
   "source": []
  },
  {
   "cell_type": "code",
   "execution_count": 34,
   "metadata": {
    "collapsed": false
   },
   "outputs": [
    {
     "name": "stdout",
     "output_type": "stream",
     "text": [
      "{'kr_name': 'jaeyeon', 'name': 'eric'}\n"
     ]
    }
   ],
   "source": [
    "dic = {'name' : 'eric', 'kr_name' : 'jaeyeon'}\n",
    "\n",
    "print(dic)"
   ]
  },
  {
   "cell_type": "code",
   "execution_count": null,
   "metadata": {
    "collapsed": false
   },
   "outputs": [],
   "source": []
  },
  {
   "cell_type": "code",
   "execution_count": 1,
   "metadata": {
    "collapsed": false
   },
   "outputs": [
    {
     "ename": "NameError",
     "evalue": "name 'dic' is not defined",
     "output_type": "error",
     "traceback": [
      "\u001b[0;31m---------------------------------------------------------------------------\u001b[0m",
      "\u001b[0;31mNameError\u001b[0m                                 Traceback (most recent call last)",
      "\u001b[0;32m<ipython-input-1-302c6032cd44>\u001b[0m in \u001b[0;36m<module>\u001b[0;34m()\u001b[0m\n\u001b[0;32m----> 1\u001b[0;31m \u001b[0mdict\u001b[0m\u001b[0;34m(\u001b[0m\u001b[0mzip\u001b[0m\u001b[0;34m(\u001b[0m\u001b[0mdic\u001b[0m\u001b[0;34m)\u001b[0m\u001b[0;34m)\u001b[0m\u001b[0;34m\u001b[0m\u001b[0m\n\u001b[0m",
      "\u001b[0;31mNameError\u001b[0m: name 'dic' is not defined"
     ]
    }
   ],
   "source": [
    "dict(zip(dic))"
   ]
  },
  {
   "cell_type": "markdown",
   "metadata": {},
   "source": [
    "[lambda practice](http://caisbalderas.com/blog/iterating-with-python-lambdas/)"
   ]
  },
  {
   "cell_type": "code",
   "execution_count": null,
   "metadata": {
    "collapsed": true
   },
   "outputs": [],
   "source": []
  },
  {
   "cell_type": "code",
   "execution_count": null,
   "metadata": {
    "collapsed": true
   },
   "outputs": [],
   "source": []
  },
  {
   "cell_type": "markdown",
   "metadata": {},
   "source": [
    "# 2017/08/08 Tues"
   ]
  },
  {
   "cell_type": "markdown",
   "metadata": {},
   "source": [
    "## OOP\n",
    "---\n",
    "## Object-oriented\n",
    "  - 실제 세계의 객체를 어떻게 모델링하는가?\n",
    "    - member \n",
    "      -  무엇이 이 객체를 다르게 하는가?\n",
    "    - method  \n",
    "      - 이 객체는 무엇을 하는가?\n",
    "      - 이 객체를 이용하면 무엇을 할 수 있는가?\n",
    "---\n",
    "\n"
   ]
  },
  {
   "cell_type": "markdown",
   "metadata": {},
   "source": [
    "## Encapsulation\n",
    "  - 멤버(변수)와 메서드(함수)를 클래스로 묶는 것\n",
    "  - the bundling of data with methods\n",
    "  - 정보 은닉을 포함 \n",
    "\n",
    "\n",
    "어떤 정보를 사용자에게 보여줄지 아니면 숨길지 알려주는 것\n",
    "---"
   ]
  },
  {
   "cell_type": "markdown",
   "metadata": {},
   "source": [
    "## information hiding\n",
    "  - restrict direct access to member or method\n",
    "  - hide a member from user\n",
    "  - allow access by access functions\n",
    "```python\n",
    ">>> class Base:\n",
    "\tdef __init__(self, data):\n",
    "\t\tself.data = data\n",
    "\tdef get_data(self):\n",
    "\t\treturn self.data\n",
    "\tdef set_data(self, data):\n",
    "\t\tself.data = data\n",
    "```"
   ]
  },
  {
   "cell_type": "code",
   "execution_count": null,
   "metadata": {
    "collapsed": true
   },
   "outputs": [],
   "source": [
    "#"
   ]
  },
  {
   "cell_type": "code",
   "execution_count": 51,
   "metadata": {
    "collapsed": true
   },
   "outputs": [],
   "source": [
    "class Base:\n",
    "    def __init__(self, n1, n2):\n",
    "        # instance member\n",
    "        self.x = n1\n",
    "        self.__y = n2\n",
    "        \n",
    "    # 외부에 공개 (public)\n",
    "    \n",
    "    # access function (숨겨진 멤버에 접근하는 함수)\n",
    "    # a.c 1\n",
    "    def get_x(self):\n",
    "        return self.x\n",
    "    # a.c 2\n",
    "    def get_x(self, data):\n",
    "        self.x = data\n",
    "    \n",
    "    \n",
    "    def f(self):\n",
    "        print('f is executed!')\n",
    "\n",
    "        \n",
    "    # 내부에서만 사용 (private)    \n",
    "    def __g(self):\n",
    "        print('__g is executed!')"
   ]
  },
  {
   "cell_type": "code",
   "execution_count": 38,
   "metadata": {
    "collapsed": true
   },
   "outputs": [],
   "source": [
    "b = Base(5, 10)"
   ]
  },
  {
   "cell_type": "code",
   "execution_count": 39,
   "metadata": {
    "collapsed": false
   },
   "outputs": [
    {
     "data": {
      "text/plain": [
       "5"
      ]
     },
     "execution_count": 39,
     "metadata": {},
     "output_type": "execute_result"
    }
   ],
   "source": [
    "b.x"
   ]
  },
  {
   "cell_type": "code",
   "execution_count": 40,
   "metadata": {
    "collapsed": false
   },
   "outputs": [
    {
     "ename": "AttributeError",
     "evalue": "Base instance has no attribute '__y'",
     "output_type": "error",
     "traceback": [
      "\u001b[0;31m---------------------------------------------------------------------------\u001b[0m",
      "\u001b[0;31mAttributeError\u001b[0m                            Traceback (most recent call last)",
      "\u001b[0;32m<ipython-input-40-3182e0092ab6>\u001b[0m in \u001b[0;36m<module>\u001b[0;34m()\u001b[0m\n\u001b[0;32m----> 1\u001b[0;31m \u001b[0mb\u001b[0m\u001b[0;34m.\u001b[0m\u001b[0m__y\u001b[0m\u001b[0;34m\u001b[0m\u001b[0m\n\u001b[0m",
      "\u001b[0;31mAttributeError\u001b[0m: Base instance has no attribute '__y'"
     ]
    }
   ],
   "source": [
    "b.__y"
   ]
  },
  {
   "cell_type": "code",
   "execution_count": 41,
   "metadata": {
    "collapsed": false
   },
   "outputs": [
    {
     "data": {
      "text/plain": [
       "{'_Base__y': 10, 'x': 5}"
      ]
     },
     "execution_count": 41,
     "metadata": {},
     "output_type": "execute_result"
    }
   ],
   "source": [
    "# name mangling : 파이썬이 알아서 이름을 바꿔서 이름을 바꾼 것 처럼 보이게 하는 것\n",
    "# 파이썬은 원천적으로 정보 은닉이 안된다.\n",
    "# 다만, __name 을 붙임으로서 이 멤버는 내부적으로만 쓸거야 \n",
    "# (__dict__를 통해서 볼 수는 있어서 외부에서 접근안 안되)\n",
    "b.__dict__"
   ]
  },
  {
   "cell_type": "code",
   "execution_count": 42,
   "metadata": {
    "collapsed": false
   },
   "outputs": [
    {
     "name": "stdout",
     "output_type": "stream",
     "text": [
      "f is executed!\n"
     ]
    }
   ],
   "source": [
    "b.f()"
   ]
  },
  {
   "cell_type": "code",
   "execution_count": 46,
   "metadata": {
    "collapsed": false
   },
   "outputs": [
    {
     "ename": "AttributeError",
     "evalue": "Base instance has no attribute 'g'",
     "output_type": "error",
     "traceback": [
      "\u001b[0;31m---------------------------------------------------------------------------\u001b[0m",
      "\u001b[0;31mAttributeError\u001b[0m                            Traceback (most recent call last)",
      "\u001b[0;32m<ipython-input-46-0e16ada3a637>\u001b[0m in \u001b[0;36m<module>\u001b[0;34m()\u001b[0m\n\u001b[1;32m      1\u001b[0m \u001b[0;31m# private instance method는 그냥 함수 부르듯이 부르면 불르지 못 한다.\u001b[0m\u001b[0;34m\u001b[0m\u001b[0;34m\u001b[0m\u001b[0m\n\u001b[0;32m----> 2\u001b[0;31m \u001b[0mb\u001b[0m\u001b[0;34m.\u001b[0m\u001b[0mg\u001b[0m\u001b[0;34m(\u001b[0m\u001b[0;34m)\u001b[0m\u001b[0;34m\u001b[0m\u001b[0m\n\u001b[0m",
      "\u001b[0;31mAttributeError\u001b[0m: Base instance has no attribute 'g'"
     ]
    }
   ],
   "source": [
    "# private instance method는 그냥 함수 부르듯이 부르면 불르지 못 한다. \n",
    "b.g()"
   ]
  },
  {
   "cell_type": "code",
   "execution_count": 44,
   "metadata": {
    "collapsed": false
   },
   "outputs": [
    {
     "data": {
      "text/plain": [
       "['_Base__g', '_Base__y', '__doc__', '__init__', '__module__', 'f', 'x']"
      ]
     },
     "execution_count": 44,
     "metadata": {},
     "output_type": "execute_result"
    }
   ],
   "source": [
    "dir(b)"
   ]
  },
  {
   "cell_type": "code",
   "execution_count": 45,
   "metadata": {
    "collapsed": false
   },
   "outputs": [
    {
     "name": "stdout",
     "output_type": "stream",
     "text": [
      "__g is executed!\n"
     ]
    }
   ],
   "source": [
    "# private 접근을 하기 위해서는 dir(객체이름)을 통해서 \n",
    "b._Base__g()"
   ]
  },
  {
   "cell_type": "code",
   "execution_count": 49,
   "metadata": {
    "collapsed": true
   },
   "outputs": [],
   "source": [
    "# 정리하자면 사용자야 웬만하면 멤버에 접근하지 말고\n",
    "# 액세스 함수로만 접근해다오 "
   ]
  },
  {
   "cell_type": "code",
   "execution_count": null,
   "metadata": {
    "collapsed": true
   },
   "outputs": [],
   "source": []
  },
  {
   "cell_type": "markdown",
   "metadata": {},
   "source": [
    "# 객체(object) vs. 인스턴스(instance)\n",
    "1. 공통점 : 같은 메모리를 공간을 가리킨다\n",
    "2. 차이점 : 이 객체는 person이라는 클래스의 인스턴스야"
   ]
  },
  {
   "cell_type": "markdown",
   "metadata": {},
   "source": [
    "# Namespace\n",
    "모든 객체는 namespace를 갖는다.  \n",
    "이 namespace안에는 변수, 함수가 저장되어 있다. "
   ]
  },
  {
   "cell_type": "code",
   "execution_count": 57,
   "metadata": {
    "collapsed": true
   },
   "outputs": [],
   "source": [
    "class Base:\n",
    "    a = 10\n",
    "    b = 20\n",
    "    def __init__(self, x, y):\n",
    "        # 인스턴스의 member\n",
    "        self.x = x\n",
    "        self.y = y\n",
    "        \n",
    "    def show_cls_member(self):\n",
    "        print(a,b)\n",
    "        \n",
    "    def f(self):\n",
    "        print('f')\n",
    "        \n",
    "    def g(self):\n",
    "        print('g')"
   ]
  },
  {
   "cell_type": "code",
   "execution_count": 58,
   "metadata": {
    "collapsed": false
   },
   "outputs": [
    {
     "data": {
      "text/plain": [
       "{'__doc__': None,\n",
       " '__init__': <function __main__.__init__>,\n",
       " '__module__': '__main__',\n",
       " 'a': 10,\n",
       " 'b': 20,\n",
       " 'f': <function __main__.f>,\n",
       " 'g': <function __main__.g>,\n",
       " 'show_cls_member': <function __main__.show_cls_member>}"
      ]
     },
     "execution_count": 58,
     "metadata": {},
     "output_type": "execute_result"
    }
   ],
   "source": [
    "# 클래스 Base의 Namespace를 보여준다.\n",
    "Base.__dict__"
   ]
  },
  {
   "cell_type": "code",
   "execution_count": 59,
   "metadata": {
    "collapsed": false
   },
   "outputs": [],
   "source": [
    "b = Base(1,2)"
   ]
  },
  {
   "cell_type": "code",
   "execution_count": 61,
   "metadata": {
    "collapsed": false
   },
   "outputs": [
    {
     "data": {
      "text/plain": [
       "{'x': 1, 'y': 2}"
      ]
     },
     "execution_count": 61,
     "metadata": {},
     "output_type": "execute_result"
    }
   ],
   "source": [
    "# 객체들의 namespace에는 함수들이 없다.\n",
    "# 즉, 객체들의 namespace와 클래스의 공간은 다르다. \n",
    "b.__dict__"
   ]
  },
  {
   "cell_type": "markdown",
   "metadata": {},
   "source": [
    "## 예제 : 모든 객체는 namespace를 가지고 있다.\n",
    "그리고 그 안에 변수들을 저장하고 있다."
   ]
  },
  {
   "cell_type": "code",
   "execution_count": 62,
   "metadata": {
    "collapsed": true
   },
   "outputs": [],
   "source": [
    "def func(x):\n",
    "    return x"
   ]
  },
  {
   "cell_type": "code",
   "execution_count": 63,
   "metadata": {
    "collapsed": true
   },
   "outputs": [],
   "source": [
    "func.a = 10\n",
    "func.b =20"
   ]
  },
  {
   "cell_type": "code",
   "execution_count": 64,
   "metadata": {
    "collapsed": false
   },
   "outputs": [
    {
     "data": {
      "text/plain": [
       "{'a': 10, 'b': 20}"
      ]
     },
     "execution_count": 64,
     "metadata": {},
     "output_type": "execute_result"
    }
   ],
   "source": [
    "func.__dict__"
   ]
  },
  {
   "cell_type": "code",
   "execution_count": null,
   "metadata": {
    "collapsed": true
   },
   "outputs": [],
   "source": []
  },
  {
   "cell_type": "code",
   "execution_count": 69,
   "metadata": {
    "collapsed": false
   },
   "outputs": [
    {
     "name": "stdout",
     "output_type": "stream",
     "text": [
      "greg : 5000\n",
      "john : 2000\n",
      "\n",
      "greg give john 2000\n",
      "\n",
      "greg : 3000\n",
      "john : 4000\n"
     ]
    }
   ],
   "source": [
    "# 예제\n",
    "class Person:\n",
    "    def __init__(self, name, money):\n",
    "        self.name = name\n",
    "        self.money = money\n",
    "        \n",
    "    def give_money(self, other, money):\n",
    "        self.money -= money\n",
    "        other.get_money(money)\n",
    "        \n",
    "    def get_money(self, money):\n",
    "        self.money += money\n",
    "        \n",
    "    def show(self):\n",
    "        print('{} : {}'.format(self.name, self.money))\n",
    "\n",
    "if __name__ == \"__main__\":\n",
    "    g = Person('greg', 5000)\n",
    "    j = Person('john', 2000)\n",
    "    \n",
    "    g.show()\n",
    "    j.show()\n",
    "\n",
    "    g.give_money(j, 2000)\n",
    "    print('')\n",
    "    print('greg give john 2000')\n",
    "    print('')\n",
    "    \n",
    "    g.show()\n",
    "    j.show()    \n"
   ]
  },
  {
   "cell_type": "markdown",
   "metadata": {},
   "source": [
    "### 과제 : Person을 클래스 안쓰고 구현해보기\n",
    "### [답](https://github.com/ythwork/CSS_3rd/blob/master/OOP/assignment%20_pseudo_OOP.ipynb)"
   ]
  },
  {
   "cell_type": "code",
   "execution_count": 70,
   "metadata": {
    "collapsed": true
   },
   "outputs": [],
   "source": [
    "# 1차 쉬는 시간 후 수업시작 (14:16~)"
   ]
  },
  {
   "cell_type": "markdown",
   "metadata": {},
   "source": [
    "# [iterator](https://github.com/ythwork/CSS_3rd/tree/master/OOP/inheritance/iterator)"
   ]
  },
  {
   "cell_type": "markdown",
   "metadata": {},
   "source": [
    "iterator class가 가지는 특징\n",
    "1. 내부에 __iter__ 메서드\n",
    "2. 내부에 __next__ 메서드\n",
    "3. 다 끝난후에 StopIteration 에러를 내면, "
   ]
  },
  {
   "cell_type": "code",
   "execution_count": 72,
   "metadata": {
    "collapsed": false
   },
   "outputs": [
    {
     "data": {
      "text/plain": [
       "['__add__',\n",
       " '__class__',\n",
       " '__contains__',\n",
       " '__delattr__',\n",
       " '__delitem__',\n",
       " '__delslice__',\n",
       " '__doc__',\n",
       " '__eq__',\n",
       " '__format__',\n",
       " '__ge__',\n",
       " '__getattribute__',\n",
       " '__getitem__',\n",
       " '__getslice__',\n",
       " '__gt__',\n",
       " '__hash__',\n",
       " '__iadd__',\n",
       " '__imul__',\n",
       " '__init__',\n",
       " '__iter__',\n",
       " '__le__',\n",
       " '__len__',\n",
       " '__lt__',\n",
       " '__mul__',\n",
       " '__ne__',\n",
       " '__new__',\n",
       " '__reduce__',\n",
       " '__reduce_ex__',\n",
       " '__repr__',\n",
       " '__reversed__',\n",
       " '__rmul__',\n",
       " '__setattr__',\n",
       " '__setitem__',\n",
       " '__setslice__',\n",
       " '__sizeof__',\n",
       " '__str__',\n",
       " '__subclasshook__',\n",
       " 'append',\n",
       " 'count',\n",
       " 'extend',\n",
       " 'index',\n",
       " 'insert',\n",
       " 'pop',\n",
       " 'remove',\n",
       " 'reverse',\n",
       " 'sort']"
      ]
     },
     "execution_count": 72,
     "metadata": {},
     "output_type": "execute_result"
    }
   ],
   "source": [
    "dir(list)"
   ]
  },
  {
   "cell_type": "code",
   "execution_count": 73,
   "metadata": {
    "collapsed": true
   },
   "outputs": [],
   "source": [
    "li = [1,2,3,4,5]\n",
    "it = iter(li)"
   ]
  },
  {
   "cell_type": "code",
   "execution_count": 74,
   "metadata": {
    "collapsed": false
   },
   "outputs": [
    {
     "data": {
      "text/plain": [
       "1"
      ]
     },
     "execution_count": 74,
     "metadata": {},
     "output_type": "execute_result"
    }
   ],
   "source": [
    "next(it)"
   ]
  },
  {
   "cell_type": "code",
   "execution_count": 75,
   "metadata": {
    "collapsed": false
   },
   "outputs": [
    {
     "data": {
      "text/plain": [
       "2"
      ]
     },
     "execution_count": 75,
     "metadata": {},
     "output_type": "execute_result"
    }
   ],
   "source": [
    "next(it)"
   ]
  },
  {
   "cell_type": "code",
   "execution_count": 76,
   "metadata": {
    "collapsed": false
   },
   "outputs": [
    {
     "data": {
      "text/plain": [
       "3"
      ]
     },
     "execution_count": 76,
     "metadata": {},
     "output_type": "execute_result"
    }
   ],
   "source": [
    "next(it)"
   ]
  },
  {
   "cell_type": "code",
   "execution_count": 77,
   "metadata": {
    "collapsed": false
   },
   "outputs": [
    {
     "data": {
      "text/plain": [
       "4"
      ]
     },
     "execution_count": 77,
     "metadata": {},
     "output_type": "execute_result"
    }
   ],
   "source": [
    "next(it)"
   ]
  },
  {
   "cell_type": "code",
   "execution_count": 79,
   "metadata": {
    "collapsed": false
   },
   "outputs": [
    {
     "data": {
      "text/plain": [
       "5"
      ]
     },
     "execution_count": 79,
     "metadata": {},
     "output_type": "execute_result"
    }
   ],
   "source": [
    "next(it)"
   ]
  },
  {
   "cell_type": "code",
   "execution_count": 81,
   "metadata": {
    "collapsed": false
   },
   "outputs": [
    {
     "ename": "StopIteration",
     "evalue": "",
     "output_type": "error",
     "traceback": [
      "\u001b[0;31m---------------------------------------------------------------------------\u001b[0m",
      "\u001b[0;31mStopIteration\u001b[0m                             Traceback (most recent call last)",
      "\u001b[0;32m<ipython-input-81-15f2df7082d9>\u001b[0m in \u001b[0;36m<module>\u001b[0;34m()\u001b[0m\n\u001b[1;32m      1\u001b[0m \u001b[0;31m# 마지막에 도달하면 stopiteration이 나온다.\u001b[0m\u001b[0;34m\u001b[0m\u001b[0;34m\u001b[0m\u001b[0m\n\u001b[0;32m----> 2\u001b[0;31m \u001b[0mnext\u001b[0m\u001b[0;34m(\u001b[0m\u001b[0mit\u001b[0m\u001b[0;34m)\u001b[0m\u001b[0;34m\u001b[0m\u001b[0m\n\u001b[0m",
      "\u001b[0;31mStopIteration\u001b[0m: "
     ]
    }
   ],
   "source": [
    "# 마지막에 도달하면 stopiteration이 나온다.\n",
    "next(it)"
   ]
  },
  {
   "cell_type": "code",
   "execution_count": 78,
   "metadata": {
    "collapsed": false
   },
   "outputs": [
    {
     "data": {
      "text/plain": [
       "['__class__',\n",
       " '__delattr__',\n",
       " '__doc__',\n",
       " '__format__',\n",
       " '__getattribute__',\n",
       " '__hash__',\n",
       " '__init__',\n",
       " '__iter__',\n",
       " '__length_hint__',\n",
       " '__new__',\n",
       " '__reduce__',\n",
       " '__reduce_ex__',\n",
       " '__repr__',\n",
       " '__setattr__',\n",
       " '__sizeof__',\n",
       " '__str__',\n",
       " '__subclasshook__',\n",
       " 'next']"
      ]
     },
     "execution_count": 78,
     "metadata": {},
     "output_type": "execute_result"
    }
   ],
   "source": [
    "dir(it)"
   ]
  },
  {
   "cell_type": "code",
   "execution_count": null,
   "metadata": {
    "collapsed": true
   },
   "outputs": [],
   "source": []
  },
  {
   "cell_type": "code",
   "execution_count": 82,
   "metadata": {
    "collapsed": true
   },
   "outputs": [],
   "source": [
    "# iterator Class를 만들어보자!"
   ]
  },
  {
   "cell_type": "code",
   "execution_count": 94,
   "metadata": {
    "collapsed": false
   },
   "outputs": [],
   "source": [
    "class Counter:\n",
    "    def __init__(self, low, high):\n",
    "        self.current = low\n",
    "        self.high = high\n",
    "        \n",
    "    def __iter__(self):\n",
    "        return self\n",
    "        \n",
    "    def __next__(self):\n",
    "        if self.current > self.high:\n",
    "                raise StopIteration\n",
    "        else:\n",
    "            res = self.current\n",
    "            self.current += 1\n",
    "            return res"
   ]
  },
  {
   "cell_type": "code",
   "execution_count": 100,
   "metadata": {
    "collapsed": true
   },
   "outputs": [],
   "source": [
    "# 3부터 센다\n",
    "c = Counter(3, 10)"
   ]
  },
  {
   "cell_type": "code",
   "execution_count": 103,
   "metadata": {
    "collapsed": false
   },
   "outputs": [
    {
     "ename": "TypeError",
     "evalue": "instance has no next() method",
     "output_type": "error",
     "traceback": [
      "\u001b[0;31m---------------------------------------------------------------------------\u001b[0m",
      "\u001b[0;31mTypeError\u001b[0m                                 Traceback (most recent call last)",
      "\u001b[0;32m<ipython-input-103-643927dbc605>\u001b[0m in \u001b[0;36m<module>\u001b[0;34m()\u001b[0m\n\u001b[0;32m----> 1\u001b[0;31m \u001b[0mnext\u001b[0m\u001b[0;34m(\u001b[0m\u001b[0mc\u001b[0m\u001b[0;34m)\u001b[0m \u001b[0;31m# 파이썬 버전 문제  10까지 가면 stopiteration이 뜬다.\u001b[0m\u001b[0;34m\u001b[0m\u001b[0m\n\u001b[0m",
      "\u001b[0;31mTypeError\u001b[0m: instance has no next() method"
     ]
    }
   ],
   "source": [
    "next(c) # 파이썬 버전 문제  10까지 가면 stopiteration이 뜬다."
   ]
  },
  {
   "cell_type": "code",
   "execution_count": 106,
   "metadata": {
    "collapsed": false
   },
   "outputs": [],
   "source": [
    "class FileReader:\n",
    "    def __init__(self, filename):\n",
    "        self.f = open(filename)\n",
    "    \n",
    "    def __del__(self):\n",
    "        self.f.close()\n",
    "        \n",
    "    def __iter__(self):\n",
    "        return self\n",
    "    \n",
    "    def __next__(self):\n",
    "        s = self.f.readline() \n",
    "        if s: #만약에 한줄씩 읽는데 s가 있다면\n",
    "            return s\n",
    "        else: # 이미 다 읽어서 없다. \n",
    "            raise StopIteration\n",
    "        \n",
    "# if __name__ == \"__main__\":\n",
    "#     c = Counter(4,10)\n",
    "    "
   ]
  },
  {
   "cell_type": "code",
   "execution_count": 125,
   "metadata": {
    "collapsed": false
   },
   "outputs": [],
   "source": [
    "fr = FileReader('test.txt')"
   ]
  },
  {
   "cell_type": "code",
   "execution_count": 126,
   "metadata": {
    "collapsed": false
   },
   "outputs": [
    {
     "data": {
      "text/plain": [
       "<__main__.FileReader instance at 0x10338cbd8>"
      ]
     },
     "execution_count": 126,
     "metadata": {},
     "output_type": "execute_result"
    }
   ],
   "source": [
    "iter(fr)"
   ]
  },
  {
   "cell_type": "code",
   "execution_count": 127,
   "metadata": {
    "collapsed": false
   },
   "outputs": [
    {
     "data": {
      "text/plain": [
       "<__main__.FileReader instance at 0x10338cbd8>"
      ]
     },
     "execution_count": 127,
     "metadata": {},
     "output_type": "execute_result"
    }
   ],
   "source": [
    "fr"
   ]
  },
  {
   "cell_type": "code",
   "execution_count": 128,
   "metadata": {
    "collapsed": false
   },
   "outputs": [
    {
     "ename": "TypeError",
     "evalue": "instance has no next() method",
     "output_type": "error",
     "traceback": [
      "\u001b[0;31m---------------------------------------------------------------------------\u001b[0m",
      "\u001b[0;31mTypeError\u001b[0m                                 Traceback (most recent call last)",
      "\u001b[0;32m<ipython-input-128-90442e04ba7e>\u001b[0m in \u001b[0;36m<module>\u001b[0;34m()\u001b[0m\n\u001b[0;32m----> 1\u001b[0;31m \u001b[0mnext\u001b[0m\u001b[0;34m(\u001b[0m\u001b[0mfr\u001b[0m\u001b[0;34m)\u001b[0m \u001b[0;31m#  verison problem\u001b[0m\u001b[0;34m\u001b[0m\u001b[0m\n\u001b[0m",
      "\u001b[0;31mTypeError\u001b[0m: instance has no next() method"
     ]
    }
   ],
   "source": [
    "next(fr) #  verison problem"
   ]
  },
  {
   "cell_type": "code",
   "execution_count": 113,
   "metadata": {
    "collapsed": true
   },
   "outputs": [],
   "source": [
    "del fr"
   ]
  },
  {
   "cell_type": "code",
   "execution_count": null,
   "metadata": {
    "collapsed": true
   },
   "outputs": [],
   "source": []
  },
  {
   "cell_type": "markdown",
   "metadata": {},
   "source": [
    "# Generator\n",
    "\n",
    "iterator의 일종이지만 iterator가 클래스인 반면  \n",
    "generator는 클래스가 아니라 함수이다."
   ]
  },
  {
   "cell_type": "code",
   "execution_count": 115,
   "metadata": {
    "collapsed": true
   },
   "outputs": [],
   "source": [
    "li = [1,2,3,4,5]\n",
    "def gen(li):\n",
    "    for e in li:\n",
    "        yield e"
   ]
  },
  {
   "cell_type": "code",
   "execution_count": 138,
   "metadata": {
    "collapsed": true
   },
   "outputs": [],
   "source": [
    "def gen_read(li):\n",
    "    for e in li:\n",
    "        print e"
   ]
  },
  {
   "cell_type": "code",
   "execution_count": 139,
   "metadata": {
    "collapsed": false
   },
   "outputs": [
    {
     "name": "stdout",
     "output_type": "stream",
     "text": [
      "1\n",
      "2\n",
      "3\n",
      "4\n",
      "5\n"
     ]
    }
   ],
   "source": [
    "gen_read(li)"
   ]
  },
  {
   "cell_type": "code",
   "execution_count": 140,
   "metadata": {
    "collapsed": false
   },
   "outputs": [
    {
     "data": {
      "text/plain": [
       "<generator object gen at 0x10335a500>"
      ]
     },
     "execution_count": 140,
     "metadata": {},
     "output_type": "execute_result"
    }
   ],
   "source": [
    "gen(li)"
   ]
  },
  {
   "cell_type": "code",
   "execution_count": 116,
   "metadata": {
    "collapsed": true
   },
   "outputs": [],
   "source": [
    "g = gen(li)"
   ]
  },
  {
   "cell_type": "code",
   "execution_count": 117,
   "metadata": {
    "collapsed": false
   },
   "outputs": [
    {
     "data": {
      "text/plain": [
       "<generator object gen at 0x10335a4b0>"
      ]
     },
     "execution_count": 117,
     "metadata": {},
     "output_type": "execute_result"
    }
   ],
   "source": [
    "g"
   ]
  },
  {
   "cell_type": "code",
   "execution_count": 118,
   "metadata": {
    "collapsed": false
   },
   "outputs": [
    {
     "data": {
      "text/plain": [
       "1"
      ]
     },
     "execution_count": 118,
     "metadata": {},
     "output_type": "execute_result"
    }
   ],
   "source": [
    "next(g)"
   ]
  },
  {
   "cell_type": "code",
   "execution_count": 119,
   "metadata": {
    "collapsed": false
   },
   "outputs": [
    {
     "data": {
      "text/plain": [
       "2"
      ]
     },
     "execution_count": 119,
     "metadata": {},
     "output_type": "execute_result"
    }
   ],
   "source": [
    "next(g)"
   ]
  },
  {
   "cell_type": "code",
   "execution_count": 120,
   "metadata": {
    "collapsed": false
   },
   "outputs": [
    {
     "data": {
      "text/plain": [
       "3"
      ]
     },
     "execution_count": 120,
     "metadata": {},
     "output_type": "execute_result"
    }
   ],
   "source": [
    "next(g)"
   ]
  },
  {
   "cell_type": "code",
   "execution_count": 121,
   "metadata": {
    "collapsed": false
   },
   "outputs": [
    {
     "data": {
      "text/plain": [
       "4"
      ]
     },
     "execution_count": 121,
     "metadata": {},
     "output_type": "execute_result"
    }
   ],
   "source": [
    "next(g)"
   ]
  },
  {
   "cell_type": "code",
   "execution_count": 122,
   "metadata": {
    "collapsed": false
   },
   "outputs": [
    {
     "data": {
      "text/plain": [
       "5"
      ]
     },
     "execution_count": 122,
     "metadata": {},
     "output_type": "execute_result"
    }
   ],
   "source": [
    "next(g)"
   ]
  },
  {
   "cell_type": "code",
   "execution_count": 141,
   "metadata": {
    "collapsed": false
   },
   "outputs": [
    {
     "ename": "StopIteration",
     "evalue": "",
     "output_type": "error",
     "traceback": [
      "\u001b[0;31m---------------------------------------------------------------------------\u001b[0m",
      "\u001b[0;31mStopIteration\u001b[0m                             Traceback (most recent call last)",
      "\u001b[0;32m<ipython-input-141-5f315c5de15b>\u001b[0m in \u001b[0;36m<module>\u001b[0;34m()\u001b[0m\n\u001b[0;32m----> 1\u001b[0;31m \u001b[0mnext\u001b[0m\u001b[0;34m(\u001b[0m\u001b[0mg\u001b[0m\u001b[0;34m)\u001b[0m\u001b[0;34m\u001b[0m\u001b[0m\n\u001b[0m",
      "\u001b[0;31mStopIteration\u001b[0m: "
     ]
    }
   ],
   "source": [
    "next(g)"
   ]
  },
  {
   "cell_type": "code",
   "execution_count": 129,
   "metadata": {
    "collapsed": true
   },
   "outputs": [],
   "source": [
    "def counter(low, high):\n",
    "    current = low\n",
    "    while True:\n",
    "        if current > high:\n",
    "            raise StopIteration\n",
    "        else:\n",
    "            yield current\n",
    "            current += 1"
   ]
  },
  {
   "cell_type": "code",
   "execution_count": 130,
   "metadata": {
    "collapsed": true
   },
   "outputs": [],
   "source": [
    "c = counter(2,5)"
   ]
  },
  {
   "cell_type": "code",
   "execution_count": 132,
   "metadata": {
    "collapsed": false
   },
   "outputs": [
    {
     "data": {
      "text/plain": [
       "2"
      ]
     },
     "execution_count": 132,
     "metadata": {},
     "output_type": "execute_result"
    }
   ],
   "source": [
    "next(c)"
   ]
  },
  {
   "cell_type": "code",
   "execution_count": 133,
   "metadata": {
    "collapsed": false
   },
   "outputs": [
    {
     "data": {
      "text/plain": [
       "3"
      ]
     },
     "execution_count": 133,
     "metadata": {},
     "output_type": "execute_result"
    }
   ],
   "source": [
    "next(c)"
   ]
  },
  {
   "cell_type": "code",
   "execution_count": 134,
   "metadata": {
    "collapsed": false
   },
   "outputs": [
    {
     "data": {
      "text/plain": [
       "4"
      ]
     },
     "execution_count": 134,
     "metadata": {},
     "output_type": "execute_result"
    }
   ],
   "source": [
    "next(c)"
   ]
  },
  {
   "cell_type": "code",
   "execution_count": 136,
   "metadata": {
    "collapsed": false
   },
   "outputs": [
    {
     "data": {
      "text/plain": [
       "5"
      ]
     },
     "execution_count": 136,
     "metadata": {},
     "output_type": "execute_result"
    }
   ],
   "source": [
    "next(c)"
   ]
  },
  {
   "cell_type": "code",
   "execution_count": 137,
   "metadata": {
    "collapsed": false
   },
   "outputs": [
    {
     "ename": "StopIteration",
     "evalue": "",
     "output_type": "error",
     "traceback": [
      "\u001b[0;31m---------------------------------------------------------------------------\u001b[0m",
      "\u001b[0;31mStopIteration\u001b[0m                             Traceback (most recent call last)",
      "\u001b[0;32m<ipython-input-137-73b012f9653f>\u001b[0m in \u001b[0;36m<module>\u001b[0;34m()\u001b[0m\n\u001b[0;32m----> 1\u001b[0;31m \u001b[0mnext\u001b[0m\u001b[0;34m(\u001b[0m\u001b[0mc\u001b[0m\u001b[0;34m)\u001b[0m\u001b[0;34m\u001b[0m\u001b[0m\n\u001b[0m",
      "\u001b[0;32m<ipython-input-129-ac9cd4089c82>\u001b[0m in \u001b[0;36mcounter\u001b[0;34m(low, high)\u001b[0m\n\u001b[1;32m      3\u001b[0m     \u001b[0;32mwhile\u001b[0m \u001b[0mTrue\u001b[0m\u001b[0;34m:\u001b[0m\u001b[0;34m\u001b[0m\u001b[0m\n\u001b[1;32m      4\u001b[0m         \u001b[0;32mif\u001b[0m \u001b[0mcurrent\u001b[0m \u001b[0;34m>\u001b[0m \u001b[0mhigh\u001b[0m\u001b[0;34m:\u001b[0m\u001b[0;34m\u001b[0m\u001b[0m\n\u001b[0;32m----> 5\u001b[0;31m             \u001b[0;32mraise\u001b[0m \u001b[0mStopIteration\u001b[0m\u001b[0;34m\u001b[0m\u001b[0m\n\u001b[0m\u001b[1;32m      6\u001b[0m         \u001b[0;32melse\u001b[0m\u001b[0;34m:\u001b[0m\u001b[0;34m\u001b[0m\u001b[0m\n\u001b[1;32m      7\u001b[0m             \u001b[0;32myield\u001b[0m \u001b[0mcurrent\u001b[0m\u001b[0;34m\u001b[0m\u001b[0m\n",
      "\u001b[0;31mStopIteration\u001b[0m: "
     ]
    }
   ],
   "source": [
    "next(c)"
   ]
  },
  {
   "cell_type": "code",
   "execution_count": 142,
   "metadata": {
    "collapsed": false
   },
   "outputs": [
    {
     "name": "stdout",
     "output_type": "stream",
     "text": [
      "1\n",
      "1\n",
      "2\n",
      "3\n",
      "5\n",
      "8\n",
      "13\n",
      "21\n",
      "34\n",
      "55\n"
     ]
    }
   ],
   "source": [
    "# 예제 : 피보나치 수\n",
    "# n = 0 or n = 1 -> 1\n",
    "# n = 2 -> 2\n",
    "# n = 3 -> 3\n",
    "# 1 1 2 3 5 8 13 21 34 55\n",
    "\n",
    "def fibo(n):\n",
    "    a = b = 1 # 초기값\n",
    "    \n",
    "    for i in range(n):\n",
    "        yield a\n",
    "        a, b = b, a + b\n",
    "    \n",
    "f = fibo(10)\n",
    "for e in f:\n",
    "    print(e)"
   ]
  },
  {
   "cell_type": "markdown",
   "metadata": {},
   "source": [
    "# Property\n",
    "\n",
    "# 객체에서 멤버에 접근하는 것 같은데\n",
    "# 메서드에 접근하는 것"
   ]
  },
  {
   "cell_type": "code",
   "execution_count": 190,
   "metadata": {
    "collapsed": false
   },
   "outputs": [],
   "source": [
    "class Person:\n",
    "    def __init__(self, money):\n",
    "        self._money = money # money라는 함수 호출\n",
    "    \n",
    "    #getter\n",
    "    @property\n",
    "    def money(self):\n",
    "        print(\"getter\")\n",
    "        return self._m\n",
    "    \n",
    "    @money.setter\n",
    "    def money(self, money):\n",
    "        print('setter')\n",
    "        if money < 0:\n",
    "            money = 0\n",
    "        elif money > 10000:\n",
    "            money = 10000\n",
    "            \n",
    "        self._m = money"
   ]
  },
  {
   "cell_type": "code",
   "execution_count": 214,
   "metadata": {
    "collapsed": false
   },
   "outputs": [],
   "source": [
    "p1 = Person(-5000) # setter"
   ]
  },
  {
   "cell_type": "code",
   "execution_count": 215,
   "metadata": {
    "collapsed": true
   },
   "outputs": [],
   "source": [
    "p1.money = 7000\n",
    "# setter"
   ]
  },
  {
   "cell_type": "code",
   "execution_count": 216,
   "metadata": {
    "collapsed": false
   },
   "outputs": [
    {
     "data": {
      "text/plain": [
       "7000"
      ]
     },
     "execution_count": 216,
     "metadata": {},
     "output_type": "execute_result"
    }
   ],
   "source": [
    "p1.money\n",
    "# getter"
   ]
  },
  {
   "cell_type": "code",
   "execution_count": 217,
   "metadata": {
    "collapsed": true
   },
   "outputs": [],
   "source": [
    "p1 = Person(100000000)"
   ]
  },
  {
   "cell_type": "code",
   "execution_count": 218,
   "metadata": {
    "collapsed": false
   },
   "outputs": [
    {
     "data": {
      "text/plain": [
       "100000000"
      ]
     },
     "execution_count": 218,
     "metadata": {},
     "output_type": "execute_result"
    }
   ],
   "source": [
    "p1._money"
   ]
  },
  {
   "cell_type": "code",
   "execution_count": 219,
   "metadata": {
    "collapsed": false
   },
   "outputs": [
    {
     "data": {
      "text/plain": [
       "{'_money': 100000000}"
      ]
     },
     "execution_count": 219,
     "metadata": {},
     "output_type": "execute_result"
    }
   ],
   "source": [
    "p1.__dict__"
   ]
  },
  {
   "cell_type": "code",
   "execution_count": 220,
   "metadata": {
    "collapsed": true
   },
   "outputs": [],
   "source": [
    "class Base:\n",
    "    # 함수 오버로딩 : 같은 이름의 함수를 선언하는 것, python은 허용하지않는다. \n",
    "    # 메서드 오버라이딩은 됨\n",
    "    def func(self, a):\n",
    "        print('first func')\n",
    "        \n",
    "    def func(self, a, b):\n",
    "        print('second func')"
   ]
  },
  {
   "cell_type": "code",
   "execution_count": 205,
   "metadata": {
    "collapsed": true
   },
   "outputs": [],
   "source": [
    "b = Base()"
   ]
  },
  {
   "cell_type": "code",
   "execution_count": 209,
   "metadata": {
    "collapsed": false
   },
   "outputs": [
    {
     "ename": "TypeError",
     "evalue": "unsupported operand type(s) for -: 'generator' and 'int'",
     "output_type": "error",
     "traceback": [
      "\u001b[0;31m---------------------------------------------------------------------------\u001b[0m",
      "\u001b[0;31mTypeError\u001b[0m                                 Traceback (most recent call last)",
      "\u001b[0;32m<ipython-input-209-ca5b299a9052>\u001b[0m in \u001b[0;36m<module>\u001b[0;34m()\u001b[0m\n\u001b[1;32m      1\u001b[0m \u001b[0ma\u001b[0m \u001b[0;34m=\u001b[0m \u001b[0;36m10\u001b[0m\u001b[0;34m\u001b[0m\u001b[0m\n\u001b[0;32m----> 2\u001b[0;31m \u001b[0mc\u001b[0m \u001b[0;34m-\u001b[0m \u001b[0;36m12\u001b[0m\u001b[0;34m\u001b[0m\u001b[0m\n\u001b[0m\u001b[1;32m      3\u001b[0m \u001b[0mb\u001b[0m\u001b[0;34m.\u001b[0m\u001b[0mfunc\u001b[0m\u001b[0;34m(\u001b[0m\u001b[0ma\u001b[0m\u001b[0;34m,\u001b[0m \u001b[0mc\u001b[0m\u001b[0;34m)\u001b[0m \u001b[0;31m#오버라이딩을 해서 second func이 출력되나.\u001b[0m\u001b[0;34m\u001b[0m\u001b[0m\n\u001b[1;32m      4\u001b[0m \u001b[0;31m# second func\u001b[0m\u001b[0;34m\u001b[0m\u001b[0;34m\u001b[0m\u001b[0m\n",
      "\u001b[0;31mTypeError\u001b[0m: unsupported operand type(s) for -: 'generator' and 'int'"
     ]
    }
   ],
   "source": [
    "a = 10\n",
    "c - 12\n",
    "b.func(a, c) #오버라이딩을 해서 second func이 출력되나.\n",
    "# second func"
   ]
  },
  {
   "cell_type": "code",
   "execution_count": null,
   "metadata": {
    "collapsed": true
   },
   "outputs": [],
   "source": []
  },
  {
   "cell_type": "code",
   "execution_count": null,
   "metadata": {
    "collapsed": true
   },
   "outputs": [],
   "source": []
  },
  {
   "cell_type": "code",
   "execution_count": null,
   "metadata": {
    "collapsed": true
   },
   "outputs": [],
   "source": []
  },
  {
   "cell_type": "code",
   "execution_count": 222,
   "metadata": {
    "collapsed": false
   },
   "outputs": [],
   "source": [
    "class Person:\n",
    "    def __init__(self, money):\n",
    "        self._m = money\n",
    "\n",
    "    @property\n",
    "    def money(self):\n",
    "        print('getter')\n",
    "        return self._m\n",
    "\n",
    "    @money.setter\n",
    "    def money(self, money):\n",
    "        print('setter')\n",
    "        self._m = money"
   ]
  },
  {
   "cell_type": "code",
   "execution_count": 223,
   "metadata": {
    "collapsed": true
   },
   "outputs": [],
   "source": [
    "p1 = Person(1000)"
   ]
  },
  {
   "cell_type": "code",
   "execution_count": 224,
   "metadata": {
    "collapsed": true
   },
   "outputs": [],
   "source": [
    "p1.money = 3000"
   ]
  },
  {
   "cell_type": "code",
   "execution_count": 225,
   "metadata": {
    "collapsed": false
   },
   "outputs": [
    {
     "name": "stdout",
     "output_type": "stream",
     "text": [
      "3000\n"
     ]
    }
   ],
   "source": [
    "m = p1.money\n",
    "print(m)"
   ]
  },
  {
   "cell_type": "code",
   "execution_count": null,
   "metadata": {
    "collapsed": true
   },
   "outputs": [],
   "source": []
  },
  {
   "cell_type": "code",
   "execution_count": 231,
   "metadata": {
    "collapsed": false
   },
   "outputs": [
    {
     "name": "stdout",
     "output_type": "stream",
     "text": [
      "getter\n",
      "1\n",
      "setter\n",
      "getter\n",
      "10\n"
     ]
    }
   ],
   "source": [
    "class Mung(object):   \n",
    "    def __init__(self):\n",
    "        self._mung = 1\n",
    "        \n",
    "    @property\n",
    "    def mung(self):\n",
    "        print(\"getter\")\n",
    "        return self._mung\n",
    " \n",
    "    @mung.setter\n",
    "    def mung(self, value):\n",
    "        print(\"setter\")\n",
    "        self._mung = value\n",
    " \n",
    "mung = Mung()\n",
    "print(mung.mung)\n",
    "mung.mung=10\n",
    "print(mung.mung)"
   ]
  },
  {
   "cell_type": "code",
   "execution_count": null,
   "metadata": {
    "collapsed": true
   },
   "outputs": [],
   "source": []
  },
  {
   "cell_type": "markdown",
   "metadata": {},
   "source": [
    "# operator overloading (연산자 오버로딩)"
   ]
  },
  {
   "cell_type": "code",
   "execution_count": 236,
   "metadata": {
    "collapsed": true
   },
   "outputs": [],
   "source": [
    "# (x,y) : original\n",
    "class Point:\n",
    "    def __init__(self, x = 0, y = 0):\n",
    "        self.x = x\n",
    "        self.y = y\n",
    "        \n",
    "    def get_point(self):\n",
    "        return self.x, self.y\n",
    "    \n",
    "    def set_point(self, x, y):\n",
    "        self.x = x\n",
    "        self.y = y\n",
    "        \n",
    "    def __str__(self):\n",
    "        return \"( x: {}, y = {} )\".format(self.x, self.y)"
   ]
  },
  {
   "cell_type": "code",
   "execution_count": 234,
   "metadata": {
    "collapsed": true
   },
   "outputs": [],
   "source": [
    "p1 = Point()"
   ]
  },
  {
   "cell_type": "code",
   "execution_count": 235,
   "metadata": {
    "collapsed": false
   },
   "outputs": [
    {
     "name": "stdout",
     "output_type": "stream",
     "text": [
      "( x: 0, y = 0 )\n"
     ]
    }
   ],
   "source": [
    "print(p1)"
   ]
  },
  {
   "cell_type": "code",
   "execution_count": 237,
   "metadata": {
    "collapsed": true
   },
   "outputs": [],
   "source": [
    "p1.set_point(3,3)"
   ]
  },
  {
   "cell_type": "code",
   "execution_count": 238,
   "metadata": {
    "collapsed": false
   },
   "outputs": [
    {
     "name": "stdout",
     "output_type": "stream",
     "text": [
      "( x: 3, y = 3 )\n"
     ]
    }
   ],
   "source": [
    "print(p1)"
   ]
  },
  {
   "cell_type": "code",
   "execution_count": 241,
   "metadata": {
    "collapsed": false
   },
   "outputs": [
    {
     "ename": "TypeError",
     "evalue": "unsupported operand type(s) for +: 'instance' and 'int'",
     "output_type": "error",
     "traceback": [
      "\u001b[0;31m---------------------------------------------------------------------------\u001b[0m",
      "\u001b[0;31mTypeError\u001b[0m                                 Traceback (most recent call last)",
      "\u001b[0;32m<ipython-input-241-31ad6962b278>\u001b[0m in \u001b[0;36m<module>\u001b[0;34m()\u001b[0m\n\u001b[0;32m----> 1\u001b[0;31m \u001b[0mp2\u001b[0m \u001b[0;34m=\u001b[0m \u001b[0mp1\u001b[0m \u001b[0;34m+\u001b[0m\u001b[0;36m5\u001b[0m\u001b[0;34m\u001b[0m\u001b[0m\n\u001b[0m",
      "\u001b[0;31mTypeError\u001b[0m: unsupported operand type(s) for +: 'instance' and 'int'"
     ]
    }
   ],
   "source": [
    "p2 = p1 +5"
   ]
  },
  {
   "cell_type": "code",
   "execution_count": 240,
   "metadata": {
    "collapsed": true
   },
   "outputs": [],
   "source": [
    "# 연산자 오버로딩을 통해 위의  연산을 것을 되게 만들 것이다!"
   ]
  },
  {
   "cell_type": "code",
   "execution_count": null,
   "metadata": {
    "collapsed": true
   },
   "outputs": [],
   "source": [
    "# 객체와 다른 객체 사이에\n",
    "# 일반적으로 알고 있는 연산자가 실행되도록 만드는 것"
   ]
  },
  {
   "cell_type": "code",
   "execution_count": 244,
   "metadata": {
    "collapsed": true
   },
   "outputs": [],
   "source": [
    "# (x,y) : 수정본\n",
    "class Point:\n",
    "    def __init__(self, x = 0, y = 0):\n",
    "        self.x = x\n",
    "        self.y = y\n",
    "        \n",
    "    def get_point(self):\n",
    "        return self.x, self.y\n",
    "    \n",
    "    def set_point(self, x, y):\n",
    "        self.x = x\n",
    "        self.y = y\n",
    "    \n",
    "    def __add__(self, other):\n",
    "        _x = self.x + other\n",
    "        _y = self.y + other\n",
    "        return Point(_x, _y)\n",
    "    \n",
    "    def __str__(self):\n",
    "        return \"( x: {}, y = {} )\".format(self.x, self.y)"
   ]
  },
  {
   "cell_type": "code",
   "execution_count": 260,
   "metadata": {
    "collapsed": false
   },
   "outputs": [
    {
     "name": "stdout",
     "output_type": "stream",
     "text": [
      "( x: 0, y = 0 )\n"
     ]
    }
   ],
   "source": [
    "p1 = Point()\n",
    "print(p1)"
   ]
  },
  {
   "cell_type": "code",
   "execution_count": null,
   "metadata": {
    "collapsed": false
   },
   "outputs": [],
   "source": []
  },
  {
   "cell_type": "code",
   "execution_count": 261,
   "metadata": {
    "collapsed": false
   },
   "outputs": [
    {
     "name": "stdout",
     "output_type": "stream",
     "text": [
      "( x: 3, y = 3 )\n"
     ]
    }
   ],
   "source": [
    "p1.set_point(3,3)\n",
    "print(p1)"
   ]
  },
  {
   "cell_type": "code",
   "execution_count": null,
   "metadata": {
    "collapsed": false
   },
   "outputs": [],
   "source": []
  },
  {
   "cell_type": "code",
   "execution_count": 255,
   "metadata": {
    "collapsed": false
   },
   "outputs": [
    {
     "name": "stdout",
     "output_type": "stream",
     "text": [
      "( x: 8, y = 8 )\n"
     ]
    }
   ],
   "source": [
    "p2 = p1 + 5\n",
    "print(p2)"
   ]
  },
  {
   "cell_type": "code",
   "execution_count": null,
   "metadata": {
    "collapsed": false
   },
   "outputs": [],
   "source": []
  },
  {
   "cell_type": "code",
   "execution_count": 254,
   "metadata": {
    "collapsed": false
   },
   "outputs": [
    {
     "name": "stdout",
     "output_type": "stream",
     "text": [
      "( x: 7, y = 7 )\n"
     ]
    }
   ],
   "source": [
    "p3 = p1 + 4\n",
    "print(p3)"
   ]
  },
  {
   "cell_type": "code",
   "execution_count": 256,
   "metadata": {
    "collapsed": false
   },
   "outputs": [
    {
     "ename": "TypeError",
     "evalue": "unsupported operand type(s) for +: 'int' and 'instance'",
     "output_type": "error",
     "traceback": [
      "\u001b[0;31m---------------------------------------------------------------------------\u001b[0m",
      "\u001b[0;31mTypeError\u001b[0m                                 Traceback (most recent call last)",
      "\u001b[0;32m<ipython-input-256-859e6f224389>\u001b[0m in \u001b[0;36m<module>\u001b[0;34m()\u001b[0m\n\u001b[0;32m----> 1\u001b[0;31m \u001b[0mp4\u001b[0m \u001b[0;34m=\u001b[0m \u001b[0;36m5\u001b[0m \u001b[0;34m+\u001b[0m \u001b[0mp1\u001b[0m\u001b[0;34m\u001b[0m\u001b[0m\n\u001b[0m",
      "\u001b[0;31mTypeError\u001b[0m: unsupported operand type(s) for +: 'int' and 'instance'"
     ]
    }
   ],
   "source": [
    "p4 = 5 + p1"
   ]
  },
  {
   "cell_type": "code",
   "execution_count": 257,
   "metadata": {
    "collapsed": true
   },
   "outputs": [],
   "source": [
    "#위의 것 되게하기\n",
    "# (x,y) : 수정본\n",
    "class Point:\n",
    "    def __init__(self, x = 0, y = 0):\n",
    "        self.x = x\n",
    "        self.y = y\n",
    "        \n",
    "    def get_point(self):\n",
    "        return self.x, self.y\n",
    "    \n",
    "    def set_point(self, x, y):\n",
    "        self.x = x\n",
    "        self.y = y\n",
    "    \n",
    "    def __add__(self, other):\n",
    "        _x = self.x + other\n",
    "        _y = self.y + other\n",
    "        return Point(_x, _y)\n",
    "    \n",
    "    def __radd__(self, other):\n",
    "        return self.__add__(other)\n",
    "    \n",
    "    def __str__(self):\n",
    "        return \"( x: {}, y = {} )\".format(self.x, self.y)"
   ]
  },
  {
   "cell_type": "code",
   "execution_count": 263,
   "metadata": {
    "collapsed": false
   },
   "outputs": [
    {
     "name": "stdout",
     "output_type": "stream",
     "text": [
      "( x: 0, y = 0 )\n",
      "( x: 3, y = 3 )\n",
      "( x: 8, y = 8 )\n",
      "( x: 7, y = 7 )\n"
     ]
    }
   ],
   "source": [
    "p1 = Point()\n",
    "print(p1)\n",
    "\n",
    "p1.set_point(3,3)\n",
    "print(p1)\n",
    "\n",
    "p2 = p1 + 5\n",
    "print(p2)\n",
    "\n",
    "p3 = 4 + p1\n",
    "print(p3)"
   ]
  },
  {
   "cell_type": "code",
   "execution_count": 277,
   "metadata": {
    "collapsed": true
   },
   "outputs": [],
   "source": [
    "# 빼기도 가능하게 추가\n",
    "# (x,y) : 수정본\n",
    "class Point:\n",
    "    def __init__(self, x = 0, y = 0):\n",
    "        self.x = x\n",
    "        self.y = y\n",
    "        \n",
    "    def get_point(self):\n",
    "        return self.x, self.y\n",
    "    \n",
    "    def set_point(self, x, y):\n",
    "        self.x = x\n",
    "        self.y = y\n",
    "    \n",
    "    def __add__(self, other):\n",
    "        _x = self.x + other\n",
    "        _y = self.y + other\n",
    "        return Point(_x, _y)\n",
    "    \n",
    "    def __radd__(self, other):\n",
    "        return self.__add__(other)\n",
    "    \n",
    "    def __sub__(self, other):\n",
    "        _x =  other - self.x\n",
    "        _y = other - self.y\n",
    "        return Point(_x, _y)\n",
    "        \n",
    "    def __rsub__(self, other):\n",
    "        return self.__sub__(other)\n",
    "        \n",
    "    def __str__(self):\n",
    "        return \"( x: {}, y = {} )\".format(self.x, self.y)"
   ]
  },
  {
   "cell_type": "code",
   "execution_count": 279,
   "metadata": {
    "collapsed": false
   },
   "outputs": [
    {
     "name": "stdout",
     "output_type": "stream",
     "text": [
      "( x: 0, y = 0 )\n",
      "( x: 3, y = 3 )\n",
      "( x: 8, y = 8 )\n",
      "( x: 7, y = 7 )\n",
      "( x: 0, y = 0 )\n",
      "( x: 2, y = 2 )\n"
     ]
    }
   ],
   "source": [
    "p1 = Point()\n",
    "print(p1)\n",
    "\n",
    "p1.set_point(3,3)\n",
    "print(p1)\n",
    "\n",
    "# add\n",
    "p2 = p1 + 5\n",
    "print(p2)\n",
    "p3 = 4 + p1\n",
    "print(p3)\n",
    "\n",
    "#sub\n",
    "p4 = p1 -3 \n",
    "print(p4)\n",
    "\n",
    "p5 = 5 - p1\n",
    "print(p5)"
   ]
  },
  {
   "cell_type": "code",
   "execution_count": null,
   "metadata": {
    "collapsed": true
   },
   "outputs": [],
   "source": []
  },
  {
   "cell_type": "code",
   "execution_count": null,
   "metadata": {
    "collapsed": true
   },
   "outputs": [],
   "source": []
  },
  {
   "cell_type": "markdown",
   "metadata": {},
   "source": [
    "# 상속"
   ]
  },
  {
   "cell_type": "markdown",
   "metadata": {},
   "source": [
    "OOP의 꽃"
   ]
  },
  {
   "cell_type": "markdown",
   "metadata": {},
   "source": [
    "클래스간에 어떤 연관성을 가지고 있는가??  \n",
    "-> 상속 (inheritance)  \n",
    "-> 합성 (composition)  "
   ]
  },
  {
   "cell_type": "markdown",
   "metadata": {},
   "source": [
    "상속\n",
    "\n",
    "IS-A\n",
    "* A laptop IS-A computer\n",
    "* ~은 ~의 한 종류이다. \n"
   ]
  },
  {
   "cell_type": "code",
   "execution_count": 280,
   "metadata": {
    "collapsed": true
   },
   "outputs": [],
   "source": [
    "# is-a\n",
    "# a laptop IS A computer\n",
    "# 노트북 컴퓨터는 컴퓨터의 일종이다. \n",
    "# 무엇무엇이 무엇무엇의 한 종류이다."
   ]
  },
  {
   "cell_type": "code",
   "execution_count": 327,
   "metadata": {
    "collapsed": true
   },
   "outputs": [],
   "source": [
    "#상속\n",
    "__metaclass__ = type\n",
    "\n",
    "class Computer:\n",
    "    def __init__(self, cpu, ram):\n",
    "        # instance member 2\n",
    "        self.CPU = cpu\n",
    "        self.RAM = ram\n",
    "    def browse(self):\n",
    "        print(\"browse\")\n",
    "    def work(self):\n",
    "        print(\"work\")\n",
    "\n",
    "        \n",
    "# 상속을 할 때는 그냥 쓰고자하는 클래스 이름을 쓰면 된다. \n",
    "# Base 클래스의 모든 멤버와 모든 메소드를 받아온다. \n",
    "# 노트북 컴퓨터는 컴퓨터의 일종이다. \n",
    "# 노트북 컴퓨터 : 자식 클래스\n",
    "# 컴퓨터 : 부모 클래스\n",
    "class Laptop(Computer):\n",
    "    # 추가적인 멤버 혹은 추가적인 메서드만 정의\n",
    "    # instance member\n",
    "    def __init__(self, cpu, ram, battery):\n",
    "        super(Laptop, self).__init__(cpu, ram)\n",
    "        #         super().__init__(cpu, ram) # 부모 클래스에서 부터 가져온다. \n",
    "        self.battery = battery\n",
    "    \n",
    "    # instance method\n",
    "    def move(self, where):\n",
    "        print(\"move to {}\".format(where))"
   ]
  },
  {
   "cell_type": "code",
   "execution_count": 328,
   "metadata": {
    "collapsed": false
   },
   "outputs": [],
   "source": [
    "l1 = Laptop('intel', 16, 'powerful')"
   ]
  },
  {
   "cell_type": "code",
   "execution_count": 329,
   "metadata": {
    "collapsed": false
   },
   "outputs": [
    {
     "data": {
      "text/plain": [
       "'intel'"
      ]
     },
     "execution_count": 329,
     "metadata": {},
     "output_type": "execute_result"
    }
   ],
   "source": [
    "l1.CPU"
   ]
  },
  {
   "cell_type": "code",
   "execution_count": 330,
   "metadata": {
    "collapsed": false
   },
   "outputs": [
    {
     "data": {
      "text/plain": [
       "16"
      ]
     },
     "execution_count": 330,
     "metadata": {},
     "output_type": "execute_result"
    }
   ],
   "source": [
    "l1.RAM"
   ]
  },
  {
   "cell_type": "code",
   "execution_count": 331,
   "metadata": {
    "collapsed": false
   },
   "outputs": [
    {
     "name": "stdout",
     "output_type": "stream",
     "text": [
      "browse\n"
     ]
    }
   ],
   "source": [
    "l1.browse()"
   ]
  },
  {
   "cell_type": "code",
   "execution_count": 332,
   "metadata": {
    "collapsed": false
   },
   "outputs": [
    {
     "data": {
      "text/plain": [
       "'powerful'"
      ]
     },
     "execution_count": 332,
     "metadata": {},
     "output_type": "execute_result"
    }
   ],
   "source": [
    "l1. battery"
   ]
  },
  {
   "cell_type": "code",
   "execution_count": 333,
   "metadata": {
    "collapsed": false
   },
   "outputs": [
    {
     "name": "stdout",
     "output_type": "stream",
     "text": [
      "move to office\n"
     ]
    }
   ],
   "source": [
    "l1.move('office')"
   ]
  },
  {
   "cell_type": "code",
   "execution_count": null,
   "metadata": {
    "collapsed": true
   },
   "outputs": [],
   "source": []
  },
  {
   "cell_type": "code",
   "execution_count": 309,
   "metadata": {
    "collapsed": true
   },
   "outputs": [],
   "source": [
    "# has-A\n",
    "# 'A policemand HAS-A gun\"\n",
    "# 무엇무엇이 무엇무엇을 가지고 있다. \n",
    "# 무엇무엇이 무엇무엇을 포함하고 있다. \n",
    "# composition(합성) or aggregation(통합)을 사용한다. \n",
    "\n",
    "# composition : 차와 엔진은 떼기 힘들다\n",
    "# aggregation : binding이 약한거 -> 총을 떨어뜨리면 다른 사람이 줍기 쉽다. \n",
    "# 하지만 같은 개념이라고 생각해도 된다. "
   ]
  },
  {
   "cell_type": "code",
   "execution_count": 310,
   "metadata": {
    "collapsed": true
   },
   "outputs": [],
   "source": [
    "class Gun:\n",
    "    def __init__(self, gun_kind):\n",
    "        self.gun_kind = gun_kind\n",
    "        \n",
    "    def bang(self):\n",
    "        print(\"bang bang\")\n",
    "        \n",
    "class Police:\n",
    "    def __init__(self, gun_kind = ''):\n",
    "        if not gun_kind : # 총이 없다면\n",
    "            self.gun = None\n",
    "        else:\n",
    "            #멤버가 Gun이라는 클래스의 인스턴스(객체)를 가지게 만든다. \n",
    "            # composition or aggreation\n",
    "            self.gun = Gun(gun_kind)\n",
    "            \n",
    "    def get_gun(self, gun_kind):\n",
    "        self.gun = gun\n",
    "        \n",
    "    def shoot(self):\n",
    "        if not self.gun:  #총이 없다면\n",
    "            return\n",
    "        \n",
    "        self.gun.bang() #총이 있다\n",
    "            "
   ]
  },
  {
   "cell_type": "code",
   "execution_count": 298,
   "metadata": {
    "collapsed": true
   },
   "outputs": [],
   "source": [
    "p1 = Police('리볼버')"
   ]
  },
  {
   "cell_type": "code",
   "execution_count": 299,
   "metadata": {
    "collapsed": false
   },
   "outputs": [
    {
     "name": "stdout",
     "output_type": "stream",
     "text": [
      "bang bang\n"
     ]
    }
   ],
   "source": [
    "p1.shoot()"
   ]
  },
  {
   "cell_type": "code",
   "execution_count": 303,
   "metadata": {
    "collapsed": true
   },
   "outputs": [],
   "source": [
    "p2 = Police() #총없는 경찰2 "
   ]
  },
  {
   "cell_type": "code",
   "execution_count": 302,
   "metadata": {
    "collapsed": false
   },
   "outputs": [],
   "source": [
    "p2.shoot()"
   ]
  },
  {
   "cell_type": "code",
   "execution_count": 304,
   "metadata": {
    "collapsed": true
   },
   "outputs": [],
   "source": [
    "gun = Gun('기관총')"
   ]
  },
  {
   "cell_type": "code",
   "execution_count": 306,
   "metadata": {
    "collapsed": true
   },
   "outputs": [],
   "source": [
    "p2.get_gun(gun)"
   ]
  },
  {
   "cell_type": "code",
   "execution_count": 307,
   "metadata": {
    "collapsed": false
   },
   "outputs": [
    {
     "name": "stdout",
     "output_type": "stream",
     "text": [
      "bang bang\n"
     ]
    }
   ],
   "source": [
    "p2.shoot()"
   ]
  },
  {
   "cell_type": "code",
   "execution_count": null,
   "metadata": {
    "collapsed": true
   },
   "outputs": [],
   "source": []
  },
  {
   "cell_type": "markdown",
   "metadata": {},
   "source": [
    "# Polymorphism"
   ]
  },
  {
   "cell_type": "code",
   "execution_count": 337,
   "metadata": {
    "collapsed": false
   },
   "outputs": [],
   "source": [
    "# abstract calss : 추상 클래스\n",
    "# 인스턴스를 만들 수 없다. \n",
    "# 최소한 하나 이상의 abstract method(pure virtual function : 순수 가상함수) 를 가져야하는데 \n",
    "# abstract method : 함수의 몸체가 없어요 -> 정의되어 있지 않아요\n",
    "# 반드시 자식, 파생 클래스에서 재정의(method overriding)를 해야 합니다. \n",
    "\n",
    "# 추상 클래스 만들기\n",
    "from abc import * # abc : abstract base calss\n",
    "\n",
    "# class Animal(metaclass = ABCMeta):\n",
    "class Animal():\n",
    "    @abstractmethod\n",
    "    # 프로그래머가 저지를 수 있는 실수를 애초에 막아줌\n",
    "    # defualt 설정을 잘 하면 문제가 되지 않으나\n",
    "    def say(self):\n",
    "        pass    \n",
    "    \n",
    "# 상속받기\n",
    "class Dog(Animal):\n",
    "    # method overriding\n",
    "    def say(self):\n",
    "        print(\"멍멍\")\n",
    "        \n",
    "        \n",
    "# 함수 오버로딩 : 같은 공간안에 두개 있는 것\n",
    "# 함수 오버라이딩 : 덮어 버리기 : 자식클래스의 "
   ]
  },
  {
   "cell_type": "code",
   "execution_count": 338,
   "metadata": {
    "collapsed": true
   },
   "outputs": [],
   "source": [
    "a = Animal"
   ]
  },
  {
   "cell_type": "code",
   "execution_count": 340,
   "metadata": {
    "collapsed": false
   },
   "outputs": [
    {
     "ename": "TypeError",
     "evalue": "unbound method say() must be called with Animal instance as first argument (got nothing instead)",
     "output_type": "error",
     "traceback": [
      "\u001b[0;31m---------------------------------------------------------------------------\u001b[0m",
      "\u001b[0;31mTypeError\u001b[0m                                 Traceback (most recent call last)",
      "\u001b[0;32m<ipython-input-340-bb596408a876>\u001b[0m in \u001b[0;36m<module>\u001b[0;34m()\u001b[0m\n\u001b[0;32m----> 1\u001b[0;31m \u001b[0ma\u001b[0m\u001b[0;34m.\u001b[0m\u001b[0msay\u001b[0m\u001b[0;34m(\u001b[0m\u001b[0;34m)\u001b[0m\u001b[0;34m\u001b[0m\u001b[0m\n\u001b[0m",
      "\u001b[0;31mTypeError\u001b[0m: unbound method say() must be called with Animal instance as first argument (got nothing instead)"
     ]
    }
   ],
   "source": [
    "a.say()"
   ]
  },
  {
   "cell_type": "code",
   "execution_count": 339,
   "metadata": {
    "collapsed": false
   },
   "outputs": [],
   "source": [
    "d = Dog()"
   ]
  },
  {
   "cell_type": "code",
   "execution_count": 341,
   "metadata": {
    "collapsed": false
   },
   "outputs": [
    {
     "name": "stdout",
     "output_type": "stream",
     "text": [
      "멍멍\n"
     ]
    }
   ],
   "source": [
    "d.say()"
   ]
  },
  {
   "cell_type": "code",
   "execution_count": 345,
   "metadata": {
    "collapsed": true
   },
   "outputs": [],
   "source": [
    "# 좀더 많은 동물\n",
    "from abc import * # abc : abstract base calss\n",
    "\n",
    "# class Animal(metaclass = ABCMeta):\n",
    "class Animal():\n",
    "    @abstractmethod\n",
    "    def say(self):\n",
    "        pass    \n",
    "    \n",
    "# 상속받기\n",
    "class Dog(Animal):\n",
    "    # method overriding\n",
    "    def say(self):\n",
    "        print(\"멍멍\")\n",
    "        \n",
    "class Cat(Animal):\n",
    "    def say(self):\n",
    "        print(\"야옹 야옹\")\n",
    "        \n",
    "class Duck(Animal):\n",
    "    def say(self):\n",
    "        print(\"꽥꽥\")        "
   ]
  },
  {
   "cell_type": "code",
   "execution_count": 351,
   "metadata": {
    "collapsed": false
   },
   "outputs": [
    {
     "data": {
      "text/plain": [
       "[<__main__.Dog at 0x10333ed90>,\n",
       " <__main__.Cat at 0x10333e790>,\n",
       " <__main__.Duck at 0x10333e050>]"
      ]
     },
     "execution_count": 351,
     "metadata": {},
     "output_type": "execute_result"
    }
   ],
   "source": [
    "animals = []\n",
    "animals.append(Dog())\n",
    "animals.append(Cat())\n",
    "animals.append(Duck())\n",
    "\n",
    "animals"
   ]
  },
  {
   "cell_type": "code",
   "execution_count": 349,
   "metadata": {
    "collapsed": false
   },
   "outputs": [
    {
     "name": "stdout",
     "output_type": "stream",
     "text": [
      "멍멍\n",
      "야옹 야옹\n",
      "꽥꽥\n"
     ]
    }
   ],
   "source": [
    "# 여기서 부터 다형성 코드 (polymorphism) : 다양한 형태이다.\n",
    "# 같은 코드인데 다른 결과가 나온다. \n",
    "# 같은 이름의 메서드를 호출\n",
    "# 결과는 \"객체에 따라 다르다\n",
    "\n",
    "for animal in animals:\n",
    "    animal.say()"
   ]
  },
  {
   "cell_type": "code",
   "execution_count": null,
   "metadata": {
    "collapsed": true
   },
   "outputs": [],
   "source": []
  },
  {
   "cell_type": "code",
   "execution_count": null,
   "metadata": {
    "collapsed": true
   },
   "outputs": [],
   "source": []
  },
  {
   "cell_type": "code",
   "execution_count": null,
   "metadata": {
    "collapsed": true
   },
   "outputs": [],
   "source": [
    "# 게임 예제 "
   ]
  },
  {
   "cell_type": "code",
   "execution_count": 368,
   "metadata": {
    "collapsed": true
   },
   "outputs": [],
   "source": [
    "from abc import *\n",
    "# 공통적인 부부은 상위 클래스에 다 닿는다.\n",
    "#멤버, 메서드\n",
    "\n",
    "class Character():\n",
    "    def __init__(self, name, hp, power):\n",
    "        self.name = name\n",
    "        self.HP = hp\n",
    "        self.power = power\n",
    "\n",
    "    @abstractmethod    \n",
    "    def attack(self, other, attack_kind):\n",
    "        pass\n",
    "    \n",
    "    @abstractmethod        \n",
    "    def get_damage(self, power, attack_kind):\n",
    "        pass\n",
    "    \n",
    "    def __str__(self):\n",
    "        return \"{} : {}\".format(self.name, self.HP)"
   ]
  },
  {
   "cell_type": "code",
   "execution_count": 384,
   "metadata": {
    "collapsed": true
   },
   "outputs": [],
   "source": [
    "__metaclass__ = type\n",
    "\n",
    "class Player(Character):\n",
    "    def __init__(self, name = 'player', hp = 100, power = 10, *attack_kind):\n",
    "        super(Player, self).__init__(name, hp, power)\n",
    "        self.skills = []\n",
    "        for attack_kind in attack_kind:\n",
    "            self.skills.append(attack_kind)\n",
    "    # 메시지 패싱\n",
    "    def attack(self, other, attack_kind):\n",
    "        if attack_kind in self.skills:\n",
    "            other.get_damage(self.power, attack_kind)\n",
    "    def get_damage(self, power, attack_kind):\n",
    "        '''\n",
    "        만약에 스킬에 공격 당하는 kind있으면, power의 반\n",
    "        없으면 power만큼 깎인다. \n",
    "        '''\n",
    "        if attack_kind in self.skills:\n",
    "            self.HP -= (power//2)\n",
    "        else:\n",
    "            self.HP -= power\n",
    "        \n",
    "class Monster(Character):\n",
    "    def __init__(self, name, hp, power, attack_kind):\n",
    "        super(Monster, self).__init__(name, hp, power)\n",
    "        self.attack_kind = None\n",
    "        \n",
    "    def attack(self, other, attack_kind):\n",
    "        if self.attack_kind == attack_kind:\n",
    "            other.get_damage(self.power, attack_kind)\n",
    "            \n",
    "    def get_damage(self, power, attack_kind):\n",
    "        if self.attack_kind == attack_kind: # 같은 속성으로 공격 당하면 더 커짐\n",
    "            self.HP += power\n",
    "        else:\n",
    "            self.HP -= power\n",
    "            \n",
    "class IceMonster(Character):\n",
    "    def __init__(self, name = 'ICE Monster', hp = 100, power = 20):\n",
    "        super(IceMonster, self).__init__(name, hp, power)\n",
    "        self.attack_kind = 'ICE'\n",
    "\n",
    "class FireMonster(Character):\n",
    "    def __init__(self, name = 'FIRE Monster', hp = 100, power = 30):\n",
    "        super(FireMonster, self).__init__(name, hp, power)\n",
    "        self.attack_kind = 'FIRE'\n",
    "\n"
   ]
  },
  {
   "cell_type": "code",
   "execution_count": 374,
   "metadata": {
    "collapsed": false
   },
   "outputs": [],
   "source": [
    "player = Player('great', 120, 30, 'ICE', 'FIRE')"
   ]
  },
  {
   "cell_type": "code",
   "execution_count": 375,
   "metadata": {
    "collapsed": true
   },
   "outputs": [],
   "source": [
    "monsters = []"
   ]
  },
  {
   "cell_type": "code",
   "execution_count": 376,
   "metadata": {
    "collapsed": false
   },
   "outputs": [],
   "source": [
    "monsters.append(IceMonster())\n",
    "monsters.append(FireMonster())"
   ]
  },
  {
   "cell_type": "code",
   "execution_count": 377,
   "metadata": {
    "collapsed": false
   },
   "outputs": [
    {
     "name": "stdout",
     "output_type": "stream",
     "text": [
      "ICE Monster : 100\n",
      "FIRE Monster : 100\n"
     ]
    }
   ],
   "source": [
    "for monster in monsters:\n",
    "    print(monster)"
   ]
  },
  {
   "cell_type": "code",
   "execution_count": 381,
   "metadata": {
    "collapsed": true
   },
   "outputs": [],
   "source": [
    "for monster in monsters:\n",
    "    player.attack(monster, 'ICE')"
   ]
  },
  {
   "cell_type": "code",
   "execution_count": 382,
   "metadata": {
    "collapsed": false
   },
   "outputs": [
    {
     "name": "stdout",
     "output_type": "stream",
     "text": [
      "ICE Monster : 100\n",
      "FIRE Monster : 100\n"
     ]
    }
   ],
   "source": [
    "for monster in monsters:\n",
    "    print(monster)"
   ]
  },
  {
   "cell_type": "code",
   "execution_count": null,
   "metadata": {
    "collapsed": true
   },
   "outputs": [],
   "source": []
  },
  {
   "cell_type": "code",
   "execution_count": null,
   "metadata": {
    "collapsed": true
   },
   "outputs": [],
   "source": []
  },
  {
   "cell_type": "code",
   "execution_count": null,
   "metadata": {
    "collapsed": true
   },
   "outputs": [],
   "source": []
  },
  {
   "cell_type": "markdown",
   "metadata": {},
   "source": [
    "# 2017/08/19 목\n",
    "\n",
    "CPU\n",
    "OS\n",
    "\n",
    "## Programming Language\n",
    "PVM (Python Virtual Machine)\n"
   ]
  },
  {
   "cell_type": "markdown",
   "metadata": {},
   "source": [
    "## [과제 체크](https://github.com/ythwork/CSS_3rd/blob/master/OOP/assignment%20_pseudo_OOP.ipynb)"
   ]
  },
  {
   "cell_type": "code",
   "execution_count": 3,
   "metadata": {
    "collapsed": true
   },
   "outputs": [],
   "source": [
    "#pseudo_constructor\n",
    "#initialize object members\n",
    "def person_init(name, money):\n",
    "    obj = {'name' : name, 'money' : money}\n",
    "    obj['give_money'] = Person[1]\n",
    "    obj['get_money'] = Person[2]\n",
    "    obj['show'] = Person[3]\n",
    "    return obj\n",
    "\n",
    "#instance method\n",
    "def give_money(self, other, money):\n",
    "    self['money'] -= money\n",
    "    other['get_money'](other, money)\n",
    "    \n",
    "#instance method\n",
    "def get_money(self, money):\n",
    "    self['money'] += money\n",
    "\n",
    "#instance method\n",
    "def show(self):\n",
    "    print('{} : {}'.format(self['name'], self['money']))\n",
    "    \n",
    "#class\n",
    "#container of instance methods\n",
    "Person = person_init, give_money, get_money, show"
   ]
  },
  {
   "cell_type": "code",
   "execution_count": 2,
   "metadata": {
    "collapsed": false
   },
   "outputs": [
    {
     "ename": "TypeError",
     "evalue": "give_money() takes exactly 3 arguments (2 given)",
     "output_type": "error",
     "traceback": [
      "\u001b[0;31m---------------------------------------------------------------------------\u001b[0m",
      "\u001b[0;31mTypeError\u001b[0m                                 Traceback (most recent call last)",
      "\u001b[0;32m<ipython-input-2-5522ed23e9a0>\u001b[0m in \u001b[0;36m<module>\u001b[0;34m()\u001b[0m\n\u001b[1;32m      1\u001b[0m \u001b[0mg\u001b[0m \u001b[0;34m=\u001b[0m \u001b[0mPerson\u001b[0m\u001b[0;34m[\u001b[0m\u001b[0;36m0\u001b[0m\u001b[0;34m]\u001b[0m\u001b[0;34m(\u001b[0m\u001b[0;34m'greg'\u001b[0m\u001b[0;34m,\u001b[0m \u001b[0;36m5000\u001b[0m\u001b[0;34m)\u001b[0m\u001b[0;34m\u001b[0m\u001b[0m\n\u001b[0;32m----> 2\u001b[0;31m \u001b[0mj\u001b[0m \u001b[0;34m=\u001b[0m \u001b[0mPerson\u001b[0m\u001b[0;34m[\u001b[0m\u001b[0;36m1\u001b[0m\u001b[0;34m]\u001b[0m\u001b[0;34m(\u001b[0m\u001b[0;34m'john'\u001b[0m\u001b[0;34m,\u001b[0m \u001b[0;36m2000\u001b[0m\u001b[0;34m)\u001b[0m\u001b[0;34m\u001b[0m\u001b[0m\n\u001b[0m",
      "\u001b[0;31mTypeError\u001b[0m: give_money() takes exactly 3 arguments (2 given)"
     ]
    }
   ],
   "source": [
    "g = Person[0]('greg', 5000)\n",
    "j = Person[1]('john', 2000)"
   ]
  },
  {
   "cell_type": "code",
   "execution_count": 4,
   "metadata": {
    "collapsed": false
   },
   "outputs": [
    {
     "ename": "SyntaxError",
     "evalue": "invalid syntax (<ipython-input-4-e84609a53a09>, line 4)",
     "output_type": "error",
     "traceback": [
      "\u001b[0;36m  File \u001b[0;32m\"<ipython-input-4-e84609a53a09>\"\u001b[0;36m, line \u001b[0;32m4\u001b[0m\n\u001b[0;31m    In [8]:\u001b[0m\n\u001b[0m          ^\u001b[0m\n\u001b[0;31mSyntaxError\u001b[0m\u001b[0;31m:\u001b[0m invalid syntax\n"
     ]
    }
   ],
   "source": [
    "#object creation\n",
    "g = Person[0]('greg', 5000)\n",
    "j = Person[0]('john', 2000)\n",
    "In [8]:\n",
    "g['show'](g)\n",
    "j['show'](j)\n",
    "greg : 5000\n",
    "john : 2000\n",
    "In [9]:\n",
    "#message passing\n",
    "g['give_money'](g, j, 2000)\n",
    "In [10]:\n",
    "#does it work?\n",
    "g['show'](g)\n",
    "j['show'](j)\n",
    "greg : 3000\n",
    "john : 4000"
   ]
  },
  {
   "cell_type": "code",
   "execution_count": null,
   "metadata": {
    "collapsed": true
   },
   "outputs": [],
   "source": [
    "\n",
    "\n"
   ]
  },
  {
   "cell_type": "code",
   "execution_count": 12,
   "metadata": {
    "collapsed": false
   },
   "outputs": [
    {
     "name": "stdout",
     "output_type": "stream",
     "text": [
      "3\n"
     ]
    }
   ],
   "source": [
    "# 정규 분포 관련 함수 라이브러리\n",
    "# 함수 세 개 : 평균, 분산, 표준편차\n",
    "# normal_dist.py\n",
    "from functools import reduce\n",
    "import math\n",
    "\n",
    "class NormDist:\n",
    "    # instance method\n",
    "    def average(self, scores):\n",
    "        return reduce(lambda a,b : a + b, scores)/len(scores)\n",
    "\n",
    "    def variance(self, scores, avrg):\n",
    "        return round(\n",
    "            reduce(\n",
    "                lambda a, b: a + b,\n",
    "                map(lambda s:(s-avrg)**2, scores))/len(scores), 1)\n",
    "\n",
    "    def std_dev(self, variance):\n",
    "        return round(math.sqrt(variance), 1)\n",
    "\n",
    "if __name__ == \"__main__\":\n",
    "    li = [1,2,3,4,5]\n",
    "    nd = NormDist()\n",
    "    av = nd.average(li)\n",
    "    va = nd.variance(li, av)\n",
    "    sd = nd.std_dev(va)\n",
    "    print(av)"
   ]
  },
  {
   "cell_type": "code",
   "execution_count": 14,
   "metadata": {
    "collapsed": true
   },
   "outputs": [],
   "source": [
    "# data_handler.py\n",
    "\n",
    "# 반 성적을 가져와서\n",
    "# 연관된 모든 연산\n",
    "# 이 연산한 결과를 caching\n",
    "#NormDist 객체를 상속할 것인가?\n",
    "# 아니면 합성할 것인가?\n",
    "# inheritance :is E -> A inheritance, \n",
    "# composition : HAS -A\n",
    "# class member O\n",
    "# instance member X\n",
    "from normal_dist import *\n",
    "from openpxl\n",
    "\n",
    "class DataHandler:                                                                                               \n",
    "    evaluator = NomrmDS\n",
    "\n",
    "    # class method\n",
    "    def __init__(sself, filmename, clsname):# 객체 계산 \n",
    "        #엑셀 파일에서 데이터를 받아서\n",
    "        self.rawdata\n",
    "        self.clsname = clasname\n",
    "        # 가져온 데이터랑\n",
    "        # 필요할 때 마다 연산된 \n",
    "        # 데이터(결과값)을 저장해두는 역할\n",
    "        self.cahce() = {}"
   ]
  },
  {
   "cell_type": "code",
   "execution_count": null,
   "metadata": {
    "collapsed": true
   },
   "outputs": [],
   "source": []
  },
  {
   "cell_type": "code",
   "execution_count": null,
   "metadata": {
    "collapsed": true
   },
   "outputs": [],
   "source": []
  },
  {
   "cell_type": "markdown",
   "metadata": {},
   "source": [
    "# [how a cpu work](https://www.youtube.com/watch?v=cNN_tTXABUA)"
   ]
  },
  {
   "cell_type": "code",
   "execution_count": null,
   "metadata": {
    "collapsed": true
   },
   "outputs": [],
   "source": [
    "# code 영역\n",
    "# data 영역\n",
    "# heap 영역 : dynamic memory allocation (DMA)\n",
    "# stack 영역 : static memory allocation (SMA)\n",
    "\n",
    "# 우리가 실제로 하는 코딩은 heap의 영역에서 진행된다.  (private heap)\n",
    "# \n",
    "\n",
    "# stack : 함수가 호출될 때 스택 프레임이 만들어졌다가 함수가 끝날 때 사라짐\n",
    "# heap : 프로그래머가 원할 때 저장할 수 있고 지울 수 있다. \n",
    "# 현재 heap에 바로 할당할 수 있는 언어는 c/c++\n",
    "\n",
    "## 크기 \n",
    "# code 영역 : \n",
    "# data 영역 : 전역변수 설정\n",
    "# heap 영역 : \n",
    "# stack 영역 : 1MB 디폴트"
   ]
  },
  {
   "cell_type": "code",
   "execution_count": null,
   "metadata": {
    "collapsed": true
   },
   "outputs": [],
   "source": []
  },
  {
   "cell_type": "code",
   "execution_count": null,
   "metadata": {
    "collapsed": false
   },
   "outputs": [],
   "source": [
    "import csv\n",
    "with open(filename, 'rb') as f:\n",
    "    c = csv.reader(f)"
   ]
  },
  {
   "cell_type": "code",
   "execution_count": 6,
   "metadata": {
    "collapsed": false
   },
   "outputs": [
    {
     "ename": "IOError",
     "evalue": "File /Users/kimeric/GitHubProjects/TIL/python/youtube_fbpage/dataset/nba/20170810_16_54_34.csv does not exist",
     "output_type": "error",
     "traceback": [
      "\u001b[0;31m---------------------------------------------------------------------------\u001b[0m",
      "\u001b[0;31mIOError\u001b[0m                                   Traceback (most recent call last)",
      "\u001b[0;32m<ipython-input-6-73d5da336a08>\u001b[0m in \u001b[0;36m<module>\u001b[0;34m()\u001b[0m\n\u001b[1;32m      2\u001b[0m \u001b[0;31m# path = './python/youtube_fbpage/dataset/nba/20170810_16_54_34.csv'\u001b[0m\u001b[0;34m\u001b[0m\u001b[0;34m\u001b[0m\u001b[0m\n\u001b[1;32m      3\u001b[0m \u001b[0mpath\u001b[0m \u001b[0;34m=\u001b[0m \u001b[0;34m'/Users/kimeric/GitHubProjects/TIL/python/youtube_fbpage/dataset/nba/20170810_16_54_34.csv'\u001b[0m\u001b[0;34m\u001b[0m\u001b[0m\n\u001b[0;32m----> 4\u001b[0;31m \u001b[0mcsv_data\u001b[0m \u001b[0;34m=\u001b[0m \u001b[0mpd\u001b[0m\u001b[0;34m.\u001b[0m\u001b[0mread_csv\u001b[0m\u001b[0;34m(\u001b[0m\u001b[0mpath\u001b[0m\u001b[0;34m)\u001b[0m\u001b[0;34m\u001b[0m\u001b[0m\n\u001b[0m\u001b[1;32m      5\u001b[0m \u001b[0mdf\u001b[0m \u001b[0;34m=\u001b[0m \u001b[0mcsv_data\u001b[0m\u001b[0;34m\u001b[0m\u001b[0m\n\u001b[1;32m      6\u001b[0m \u001b[0mdf\u001b[0m\u001b[0;34m.\u001b[0m\u001b[0mhead\u001b[0m\u001b[0;34m(\u001b[0m\u001b[0;34m)\u001b[0m\u001b[0;34m\u001b[0m\u001b[0m\n",
      "\u001b[0;32m/Users/kimeric/anaconda2/lib/python2.7/site-packages/pandas/io/parsers.pyc\u001b[0m in \u001b[0;36mparser_f\u001b[0;34m(filepath_or_buffer, sep, delimiter, header, names, index_col, usecols, squeeze, prefix, mangle_dupe_cols, dtype, engine, converters, true_values, false_values, skipinitialspace, skiprows, nrows, na_values, keep_default_na, na_filter, verbose, skip_blank_lines, parse_dates, infer_datetime_format, keep_date_col, date_parser, dayfirst, iterator, chunksize, compression, thousands, decimal, lineterminator, quotechar, quoting, escapechar, comment, encoding, dialect, tupleize_cols, error_bad_lines, warn_bad_lines, skipfooter, skip_footer, doublequote, delim_whitespace, as_recarray, compact_ints, use_unsigned, low_memory, buffer_lines, memory_map, float_precision)\u001b[0m\n\u001b[1;32m    653\u001b[0m                     skip_blank_lines=skip_blank_lines)\n\u001b[1;32m    654\u001b[0m \u001b[0;34m\u001b[0m\u001b[0m\n\u001b[0;32m--> 655\u001b[0;31m         \u001b[0;32mreturn\u001b[0m \u001b[0m_read\u001b[0m\u001b[0;34m(\u001b[0m\u001b[0mfilepath_or_buffer\u001b[0m\u001b[0;34m,\u001b[0m \u001b[0mkwds\u001b[0m\u001b[0;34m)\u001b[0m\u001b[0;34m\u001b[0m\u001b[0m\n\u001b[0m\u001b[1;32m    656\u001b[0m \u001b[0;34m\u001b[0m\u001b[0m\n\u001b[1;32m    657\u001b[0m     \u001b[0mparser_f\u001b[0m\u001b[0;34m.\u001b[0m\u001b[0m__name__\u001b[0m \u001b[0;34m=\u001b[0m \u001b[0mname\u001b[0m\u001b[0;34m\u001b[0m\u001b[0m\n",
      "\u001b[0;32m/Users/kimeric/anaconda2/lib/python2.7/site-packages/pandas/io/parsers.pyc\u001b[0m in \u001b[0;36m_read\u001b[0;34m(filepath_or_buffer, kwds)\u001b[0m\n\u001b[1;32m    403\u001b[0m \u001b[0;34m\u001b[0m\u001b[0m\n\u001b[1;32m    404\u001b[0m     \u001b[0;31m# Create the parser.\u001b[0m\u001b[0;34m\u001b[0m\u001b[0;34m\u001b[0m\u001b[0m\n\u001b[0;32m--> 405\u001b[0;31m     \u001b[0mparser\u001b[0m \u001b[0;34m=\u001b[0m \u001b[0mTextFileReader\u001b[0m\u001b[0;34m(\u001b[0m\u001b[0mfilepath_or_buffer\u001b[0m\u001b[0;34m,\u001b[0m \u001b[0;34m**\u001b[0m\u001b[0mkwds\u001b[0m\u001b[0;34m)\u001b[0m\u001b[0;34m\u001b[0m\u001b[0m\n\u001b[0m\u001b[1;32m    406\u001b[0m \u001b[0;34m\u001b[0m\u001b[0m\n\u001b[1;32m    407\u001b[0m     \u001b[0;32mif\u001b[0m \u001b[0mchunksize\u001b[0m \u001b[0;32mor\u001b[0m \u001b[0miterator\u001b[0m\u001b[0;34m:\u001b[0m\u001b[0;34m\u001b[0m\u001b[0m\n",
      "\u001b[0;32m/Users/kimeric/anaconda2/lib/python2.7/site-packages/pandas/io/parsers.pyc\u001b[0m in \u001b[0;36m__init__\u001b[0;34m(self, f, engine, **kwds)\u001b[0m\n\u001b[1;32m    762\u001b[0m             \u001b[0mself\u001b[0m\u001b[0;34m.\u001b[0m\u001b[0moptions\u001b[0m\u001b[0;34m[\u001b[0m\u001b[0;34m'has_index_names'\u001b[0m\u001b[0;34m]\u001b[0m \u001b[0;34m=\u001b[0m \u001b[0mkwds\u001b[0m\u001b[0;34m[\u001b[0m\u001b[0;34m'has_index_names'\u001b[0m\u001b[0;34m]\u001b[0m\u001b[0;34m\u001b[0m\u001b[0m\n\u001b[1;32m    763\u001b[0m \u001b[0;34m\u001b[0m\u001b[0m\n\u001b[0;32m--> 764\u001b[0;31m         \u001b[0mself\u001b[0m\u001b[0;34m.\u001b[0m\u001b[0m_make_engine\u001b[0m\u001b[0;34m(\u001b[0m\u001b[0mself\u001b[0m\u001b[0;34m.\u001b[0m\u001b[0mengine\u001b[0m\u001b[0;34m)\u001b[0m\u001b[0;34m\u001b[0m\u001b[0m\n\u001b[0m\u001b[1;32m    765\u001b[0m \u001b[0;34m\u001b[0m\u001b[0m\n\u001b[1;32m    766\u001b[0m     \u001b[0;32mdef\u001b[0m \u001b[0mclose\u001b[0m\u001b[0;34m(\u001b[0m\u001b[0mself\u001b[0m\u001b[0;34m)\u001b[0m\u001b[0;34m:\u001b[0m\u001b[0;34m\u001b[0m\u001b[0m\n",
      "\u001b[0;32m/Users/kimeric/anaconda2/lib/python2.7/site-packages/pandas/io/parsers.pyc\u001b[0m in \u001b[0;36m_make_engine\u001b[0;34m(self, engine)\u001b[0m\n\u001b[1;32m    983\u001b[0m     \u001b[0;32mdef\u001b[0m \u001b[0m_make_engine\u001b[0m\u001b[0;34m(\u001b[0m\u001b[0mself\u001b[0m\u001b[0;34m,\u001b[0m \u001b[0mengine\u001b[0m\u001b[0;34m=\u001b[0m\u001b[0;34m'c'\u001b[0m\u001b[0;34m)\u001b[0m\u001b[0;34m:\u001b[0m\u001b[0;34m\u001b[0m\u001b[0m\n\u001b[1;32m    984\u001b[0m         \u001b[0;32mif\u001b[0m \u001b[0mengine\u001b[0m \u001b[0;34m==\u001b[0m \u001b[0;34m'c'\u001b[0m\u001b[0;34m:\u001b[0m\u001b[0;34m\u001b[0m\u001b[0m\n\u001b[0;32m--> 985\u001b[0;31m             \u001b[0mself\u001b[0m\u001b[0;34m.\u001b[0m\u001b[0m_engine\u001b[0m \u001b[0;34m=\u001b[0m \u001b[0mCParserWrapper\u001b[0m\u001b[0;34m(\u001b[0m\u001b[0mself\u001b[0m\u001b[0;34m.\u001b[0m\u001b[0mf\u001b[0m\u001b[0;34m,\u001b[0m \u001b[0;34m**\u001b[0m\u001b[0mself\u001b[0m\u001b[0;34m.\u001b[0m\u001b[0moptions\u001b[0m\u001b[0;34m)\u001b[0m\u001b[0;34m\u001b[0m\u001b[0m\n\u001b[0m\u001b[1;32m    986\u001b[0m         \u001b[0;32melse\u001b[0m\u001b[0;34m:\u001b[0m\u001b[0;34m\u001b[0m\u001b[0m\n\u001b[1;32m    987\u001b[0m             \u001b[0;32mif\u001b[0m \u001b[0mengine\u001b[0m \u001b[0;34m==\u001b[0m \u001b[0;34m'python'\u001b[0m\u001b[0;34m:\u001b[0m\u001b[0;34m\u001b[0m\u001b[0m\n",
      "\u001b[0;32m/Users/kimeric/anaconda2/lib/python2.7/site-packages/pandas/io/parsers.pyc\u001b[0m in \u001b[0;36m__init__\u001b[0;34m(self, src, **kwds)\u001b[0m\n\u001b[1;32m   1603\u001b[0m         \u001b[0mkwds\u001b[0m\u001b[0;34m[\u001b[0m\u001b[0;34m'allow_leading_cols'\u001b[0m\u001b[0;34m]\u001b[0m \u001b[0;34m=\u001b[0m \u001b[0mself\u001b[0m\u001b[0;34m.\u001b[0m\u001b[0mindex_col\u001b[0m \u001b[0;32mis\u001b[0m \u001b[0;32mnot\u001b[0m \u001b[0mFalse\u001b[0m\u001b[0;34m\u001b[0m\u001b[0m\n\u001b[1;32m   1604\u001b[0m \u001b[0;34m\u001b[0m\u001b[0m\n\u001b[0;32m-> 1605\u001b[0;31m         \u001b[0mself\u001b[0m\u001b[0;34m.\u001b[0m\u001b[0m_reader\u001b[0m \u001b[0;34m=\u001b[0m \u001b[0mparsers\u001b[0m\u001b[0;34m.\u001b[0m\u001b[0mTextReader\u001b[0m\u001b[0;34m(\u001b[0m\u001b[0msrc\u001b[0m\u001b[0;34m,\u001b[0m \u001b[0;34m**\u001b[0m\u001b[0mkwds\u001b[0m\u001b[0;34m)\u001b[0m\u001b[0;34m\u001b[0m\u001b[0m\n\u001b[0m\u001b[1;32m   1606\u001b[0m \u001b[0;34m\u001b[0m\u001b[0m\n\u001b[1;32m   1607\u001b[0m         \u001b[0;31m# XXX\u001b[0m\u001b[0;34m\u001b[0m\u001b[0;34m\u001b[0m\u001b[0m\n",
      "\u001b[0;32mpandas/_libs/parsers.pyx\u001b[0m in \u001b[0;36mpandas._libs.parsers.TextReader.__cinit__ (pandas/_libs/parsers.c:4209)\u001b[0;34m()\u001b[0m\n",
      "\u001b[0;32mpandas/_libs/parsers.pyx\u001b[0m in \u001b[0;36mpandas._libs.parsers.TextReader._setup_parser_source (pandas/_libs/parsers.c:8873)\u001b[0;34m()\u001b[0m\n",
      "\u001b[0;31mIOError\u001b[0m: File /Users/kimeric/GitHubProjects/TIL/python/youtube_fbpage/dataset/nba/20170810_16_54_34.csv does not exist"
     ]
    }
   ],
   "source": [
    "import pandas as pd\n",
    "# path = './python/youtube_fbpage/dataset/nba/20170810_16_54_34.csv'\n",
    "path = '/Users/kimeric/GitHubProjects/TIL/python/youtube_fbpage/dataset/nba/20170810_16_54_34.csv'\n",
    "csv_data = pd.read_csv(path)\n",
    "df = csv_data\n",
    "df.head()"
   ]
  },
  {
   "cell_type": "code",
   "execution_count": null,
   "metadata": {
    "collapsed": true
   },
   "outputs": [],
   "source": []
  }
 ],
 "metadata": {
  "kernelspec": {
   "display_name": "Python 2",
   "language": "python",
   "name": "python2"
  },
  "language_info": {
   "codemirror_mode": {
    "name": "ipython",
    "version": 2
   },
   "file_extension": ".py",
   "mimetype": "text/x-python",
   "name": "python",
   "nbconvert_exporter": "python",
   "pygments_lexer": "ipython2",
   "version": "2.7.13"
  }
 },
 "nbformat": 4,
 "nbformat_minor": 2
}
