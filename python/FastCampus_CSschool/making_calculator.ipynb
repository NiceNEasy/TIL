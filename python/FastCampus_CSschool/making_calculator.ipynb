{
 "cells": [
  {
   "cell_type": "markdown",
   "metadata": {},
   "source": [
    "# [calculator](https://github.com/ythwork/CSS_3rd/blob/master/data_structure/stack/calculator.pdf)\n"
   ]
  },
  {
   "cell_type": "code",
   "execution_count": 1,
   "metadata": {
    "collapsed": false
   },
   "outputs": [
    {
     "name": "stdout",
     "output_type": "stream",
     "text": [
      "63\n"
     ]
    }
   ],
   "source": [
    "# 중위 표기법 : 사람(우리)가 아는 수식\n",
    "# 연산자가 중간에 옴\n",
    "print((2 + 5) * 3 * (2+1))\n"
   ]
  },
  {
   "cell_type": "code",
   "execution_count": 2,
   "metadata": {
    "collapsed": false
   },
   "outputs": [
    {
     "ename": "SyntaxError",
     "evalue": "invalid syntax (<ipython-input-2-d22048f66e30>, line 2)",
     "output_type": "error",
     "traceback": [
      "\u001b[0;36m  File \u001b[0;32m\"<ipython-input-2-d22048f66e30>\"\u001b[0;36m, line \u001b[0;32m2\u001b[0m\n\u001b[0;31m    print(25+3*21+*)\u001b[0m\n\u001b[0m                  ^\u001b[0m\n\u001b[0;31mSyntaxError\u001b[0m\u001b[0;31m:\u001b[0m invalid syntax\n"
     ]
    }
   ],
   "source": [
    "# 후위 표기법 : 컴퓨터가 아는 수식 \n",
    "# 연산자가 맨 뒤로 온다. \n",
    "# 괄호가 없다.\n",
    "print(25+3*21+*)"
   ]
  },
  {
   "cell_type": "code",
   "execution_count": 3,
   "metadata": {
    "collapsed": false
   },
   "outputs": [
    {
     "ename": "SyntaxError",
     "evalue": "invalid syntax (<ipython-input-3-04822ecac73c>, line 2)",
     "output_type": "error",
     "traceback": [
      "\u001b[0;36m  File \u001b[0;32m\"<ipython-input-3-04822ecac73c>\"\u001b[0;36m, line \u001b[0;32m2\u001b[0m\n\u001b[0;31m    25+3*21+*\u001b[0m\n\u001b[0m            ^\u001b[0m\n\u001b[0;31mSyntaxError\u001b[0m\u001b[0;31m:\u001b[0m invalid syntax\n"
     ]
    }
   ],
   "source": [
    "# 후위 표기법 계산\n",
    "25+3*21+*\n",
    "2 + 5 = 7\n",
    "73*21+*\n",
    "7*3 = 21\n",
    "2121+*\n",
    "2+1 = 3\n",
    "213*\n",
    "21*3 = 63"
   ]
  },
  {
   "cell_type": "code",
   "execution_count": 4,
   "metadata": {
    "collapsed": false
   },
   "outputs": [
    {
     "ename": "SyntaxError",
     "evalue": "invalid syntax (<ipython-input-4-9d56a7647fd5>, line 3)",
     "output_type": "error",
     "traceback": [
      "\u001b[0;36m  File \u001b[0;32m\"<ipython-input-4-9d56a7647fd5>\"\u001b[0;36m, line \u001b[0;32m3\u001b[0m\n\u001b[0;31m    *,/    >>   +, -    >>    ()\u001b[0m\n\u001b[0m    ^\u001b[0m\n\u001b[0;31mSyntaxError\u001b[0m\u001b[0;31m:\u001b[0m invalid syntax\n"
     ]
    }
   ],
   "source": [
    "# 후위 표기법 만드는 법\n",
    "# 가중치\n",
    "*,/    >>   +, -    >>    ()"
   ]
  },
  {
   "cell_type": "code",
   "execution_count": 8,
   "metadata": {
    "collapsed": false
   },
   "outputs": [
    {
     "name": "stdout",
     "output_type": "stream",
     "text": [
      "38\n"
     ]
    }
   ],
   "source": [
    "# 중위표기법 -> 후위표기법 전환 연습문제\n",
    "# 5*7-3+2*3\n",
    "print((5*7)-3+(2*3))"
   ]
  },
  {
   "cell_type": "code",
   "execution_count": 9,
   "metadata": {
    "collapsed": true
   },
   "outputs": [],
   "source": [
    "#5*7+3-2+5/2\n"
   ]
  },
  {
   "cell_type": "code",
   "execution_count": 10,
   "metadata": {
    "collapsed": false
   },
   "outputs": [
    {
     "name": "stdout",
     "output_type": "stream",
     "text": [
      "-13\n"
     ]
    }
   ],
   "source": [
    "# 3 -7 -2 * 5 / 2 + 3 - 7 \n",
    "print(3-7-2*5/2+3-7)"
   ]
  },
  {
   "cell_type": "code",
   "execution_count": 11,
   "metadata": {
    "collapsed": false
   },
   "outputs": [
    {
     "name": "stdout",
     "output_type": "stream",
     "text": [
      "10\n"
     ]
    }
   ],
   "source": [
    "# ( 2 + 5 * 2 ) + 3 - (7 - 5 + 3 )\n",
    "print(( 2 + 5 * 2 ) + 3 - (7 -5 + 3 ))"
   ]
  },
  {
   "cell_type": "code",
   "execution_count": 13,
   "metadata": {
    "collapsed": false
   },
   "outputs": [],
   "source": [
    "from stack import Stack"
   ]
  },
  {
   "cell_type": "code",
   "execution_count": 74,
   "metadata": {
    "collapsed": false
   },
   "outputs": [],
   "source": [
    "from stack import Stack\n",
    "class Calculator:\n",
    "    def __init__(self):\n",
    "        self.org_exp = None\n",
    "        self.postfix_exp = None\n",
    "        self.result = None\n",
    "        \n",
    "    def set_org_exp(self, org_exp):\n",
    "        self.org_exp = str(org_exp).replace(' ', '')\n",
    "        self.postfix_exp = None\n",
    "        self.result = None\n",
    "        \n",
    "    def get_org_exp(self):\n",
    "        return self.org_exp\n",
    "    \n",
    "    # 편의함수\n",
    "    # 가중치 반환 return -> 가중치\n",
    "    def get_weight(self, oprt):\n",
    "        if oprt == '*' or oprt == '/':\n",
    "            return 9\n",
    "        elif oprt == '+' or oprt == '-':\n",
    "            return 7\n",
    "        elif oprt == '(':\n",
    "            return 5\n",
    "    \n",
    "    #self.org_exp -> self.postfix_exp\n",
    "    #exp_list and oprt_stack\n",
    "    def convert_to_postfix(self):\n",
    "        exp_list = []\n",
    "        oprt_stack = Stack()\n",
    "        \n",
    "        for ch in self.get_org_exp():\n",
    "            if ch.isdigit(): #  숫자면 list에 넣기\n",
    "                exp_list.append(ch)\n",
    "            #연산자\n",
    "            elif oprt_stack.empty() or ch == '(':#비어있거나, (면 바로\n",
    "                oprt_stack.push(ch) # oprt stack에 push\n",
    "                \n",
    "            # ')'\n",
    "            elif ch == ')':\n",
    "                op = oprt_stack.pop() #  하나꺼낸다.\n",
    "                while op != '(':\n",
    "                    exp_list.append(op)\n",
    "                    op = oprt_stack.pop()\n",
    "                    \n",
    "            # +, -, *, /\n",
    "            elif self.get_weight(ch) > self.get_weight(oprt_stack.peek()):\n",
    "                oprt_stack.push(ch)\n",
    "            else:\n",
    "                while oprt_stack and self.get_weight(ch) <= self.get_weight(oprt_stack.peek()):\n",
    "                    exp_list.append(oprt_stack.pop())\n",
    "                oprt_stack.push(ch)\n",
    "                \n",
    "        while oprt_stack: #oprt_Stack에 뭔가 남아있다면\n",
    "            exp_list.append(oprt_Stack.pop())\n",
    "            \n",
    "        self.postfix_exp = ''.join(exp_list)\n",
    "    \n",
    "    def get_postfix_exp(self):\n",
    "        if not self.org_exp:\n",
    "            return None\n",
    "        \n",
    "        if not self.postfix_exp:\n",
    "            self.convert_to_postfix()\n",
    "        5 * 7 - 5 / 3 + 2 + 5 * 3\n",
    "        return self.postfix_exp\n",
    "    \n",
    "    \n",
    "    #편의함수\n",
    "    # 3 + 2 : 3 -> oprd1, 2 -> oprd2, + -> oprt\n",
    "    def calc_two_oprd(self, oprd1, oprd2, oprt):\n",
    "        if oprt == '+':\n",
    "            return oprd1 + oprd2\n",
    "        elif oprt == '-':\n",
    "            return oprd1 - oprd2\n",
    "        elif oprt == '*':\n",
    "            return oprd1 * oprd2\n",
    "        elif oprt == '/':\n",
    "            return oprd1 // oprd2\n",
    "    \n",
    "    #알고리즘 part2\n",
    "    # 후위 표기법 수식 -> 계산\n",
    "    # return -> None\n",
    "    # self.result = 결과값\n",
    "    def calculate(self):\n",
    "        oprd_stack = Stack()\n",
    "        \n",
    "        for ch in self.get_postfix_exp(): # 문자를 가져온다.\n",
    "            if ch.isdigit(): # 숫자라면\n",
    "                oprd_stack.push(int(ch)) #숫자로 바꿔서 들어간다. \n",
    "            else: # 연산자이다.\n",
    "                oprd2 = oprd_stack.pop()\n",
    "                oprd1 = oprd_stack.pop()\n",
    "                oprd_stack.push(self.calc_two_oprd(oprd1, oprd2, ch))\n",
    "    \n",
    "    # client에게 공개된 인터페이스\n",
    "    def get_result(self):\n",
    "        if not self.org_exp:\n",
    "            return None\n",
    "        \n",
    "        if not self.result:\n",
    "            self.calculate()\n",
    "            \n",
    "        return self.result"
   ]
  },
  {
   "cell_type": "code",
   "execution_count": null,
   "metadata": {
    "collapsed": false
   },
   "outputs": [],
   "source": [
    "if __name__ == \"__main__\":\n",
    "    calc = Calculator()\n",
    "\n",
    "    while 1:\n",
    "        exp = input(\"수식을 입력하세요(종료 : 0) :\")\n",
    "        if exp == '0':\n",
    "            break\n",
    "\n",
    "        calc.set_org_exp(exp)\n",
    "        print(calc.get_postfix_exp())\n",
    "\n",
    "        print(\"{exp} = {result}\".format(\n",
    "        exp = calc.get_org_exp(),\n",
    "        result = calc.get_result()))        \n",
    "        \n",
    "# (3 + 2 * 2 - 4) * 3 + 2 *(5 - 7)\n",
    "# 5 * 7 - 5 / 3 + 2 + 5 * 3"
   ]
  },
  {
   "cell_type": "code",
   "execution_count": 71,
   "metadata": {
    "collapsed": false
   },
   "outputs": [
    {
     "name": "stdout",
     "output_type": "stream",
     "text": [
      "수식을 입력하세요(종료 : 0) :(3 + 2 * 2 - 4) * 3 + 2 *(5 - 7)\n",
      "5\n",
      "5 = 5\n",
      "수식을 입력하세요(종료 : 0) :5 * 7 - 5 / 3 + 2 + 5 * 3\n",
      "51\n",
      "51 = 1\n"
     ]
    },
    {
     "ename": "KeyboardInterrupt",
     "evalue": "",
     "output_type": "error",
     "traceback": [
      "\u001b[0;31m---------------------------------------------------------------------------\u001b[0m",
      "\u001b[0;31mKeyboardInterrupt\u001b[0m                         Traceback (most recent call last)",
      "\u001b[0;32m<ipython-input-71-1c2134d443ae>\u001b[0m in \u001b[0;36m<module>\u001b[0;34m()\u001b[0m\n\u001b[1;32m     97\u001b[0m \u001b[0;34m\u001b[0m\u001b[0m\n\u001b[1;32m     98\u001b[0m     \u001b[0;32mwhile\u001b[0m \u001b[0;36m1\u001b[0m\u001b[0;34m:\u001b[0m\u001b[0;34m\u001b[0m\u001b[0m\n\u001b[0;32m---> 99\u001b[0;31m         \u001b[0mexp\u001b[0m \u001b[0;34m=\u001b[0m \u001b[0minput\u001b[0m\u001b[0;34m(\u001b[0m\u001b[0;34m\"수식을 입력하세요(종료 : 0) :\"\u001b[0m\u001b[0;34m)\u001b[0m\u001b[0;34m\u001b[0m\u001b[0m\n\u001b[0m\u001b[1;32m    100\u001b[0m         \u001b[0;32mif\u001b[0m \u001b[0mexp\u001b[0m \u001b[0;34m==\u001b[0m \u001b[0;34m'0'\u001b[0m\u001b[0;34m:\u001b[0m\u001b[0;34m\u001b[0m\u001b[0m\n\u001b[1;32m    101\u001b[0m             \u001b[0;32mbreak\u001b[0m\u001b[0;34m\u001b[0m\u001b[0m\n",
      "\u001b[0;32m/Users/kimeric/anaconda2/lib/python2.7/site-packages/ipykernel/ipkernel.pyc\u001b[0m in \u001b[0;36m<lambda>\u001b[0;34m(prompt)\u001b[0m\n\u001b[1;32m    162\u001b[0m             \u001b[0mself\u001b[0m\u001b[0;34m.\u001b[0m\u001b[0m_sys_eval_input\u001b[0m \u001b[0;34m=\u001b[0m \u001b[0mbuiltin_mod\u001b[0m\u001b[0;34m.\u001b[0m\u001b[0minput\u001b[0m\u001b[0;34m\u001b[0m\u001b[0m\n\u001b[1;32m    163\u001b[0m             \u001b[0mbuiltin_mod\u001b[0m\u001b[0;34m.\u001b[0m\u001b[0mraw_input\u001b[0m \u001b[0;34m=\u001b[0m \u001b[0mself\u001b[0m\u001b[0;34m.\u001b[0m\u001b[0mraw_input\u001b[0m\u001b[0;34m\u001b[0m\u001b[0m\n\u001b[0;32m--> 164\u001b[0;31m             \u001b[0mbuiltin_mod\u001b[0m\u001b[0;34m.\u001b[0m\u001b[0minput\u001b[0m \u001b[0;34m=\u001b[0m \u001b[0;32mlambda\u001b[0m \u001b[0mprompt\u001b[0m\u001b[0;34m=\u001b[0m\u001b[0;34m''\u001b[0m\u001b[0;34m:\u001b[0m \u001b[0meval\u001b[0m\u001b[0;34m(\u001b[0m\u001b[0mself\u001b[0m\u001b[0;34m.\u001b[0m\u001b[0mraw_input\u001b[0m\u001b[0;34m(\u001b[0m\u001b[0mprompt\u001b[0m\u001b[0;34m)\u001b[0m\u001b[0;34m)\u001b[0m\u001b[0;34m\u001b[0m\u001b[0m\n\u001b[0m\u001b[1;32m    165\u001b[0m         \u001b[0mself\u001b[0m\u001b[0;34m.\u001b[0m\u001b[0m_save_getpass\u001b[0m \u001b[0;34m=\u001b[0m \u001b[0mgetpass\u001b[0m\u001b[0;34m.\u001b[0m\u001b[0mgetpass\u001b[0m\u001b[0;34m\u001b[0m\u001b[0m\n\u001b[1;32m    166\u001b[0m         \u001b[0mgetpass\u001b[0m\u001b[0;34m.\u001b[0m\u001b[0mgetpass\u001b[0m \u001b[0;34m=\u001b[0m \u001b[0mself\u001b[0m\u001b[0;34m.\u001b[0m\u001b[0mgetpass\u001b[0m\u001b[0;34m\u001b[0m\u001b[0m\n",
      "\u001b[0;32m/Users/kimeric/anaconda2/lib/python2.7/site-packages/ipykernel/kernelbase.pyc\u001b[0m in \u001b[0;36mraw_input\u001b[0;34m(self, prompt)\u001b[0m\n\u001b[1;32m    692\u001b[0m             \u001b[0mself\u001b[0m\u001b[0;34m.\u001b[0m\u001b[0m_parent_ident\u001b[0m\u001b[0;34m,\u001b[0m\u001b[0;34m\u001b[0m\u001b[0m\n\u001b[1;32m    693\u001b[0m             \u001b[0mself\u001b[0m\u001b[0;34m.\u001b[0m\u001b[0m_parent_header\u001b[0m\u001b[0;34m,\u001b[0m\u001b[0;34m\u001b[0m\u001b[0m\n\u001b[0;32m--> 694\u001b[0;31m             \u001b[0mpassword\u001b[0m\u001b[0;34m=\u001b[0m\u001b[0mFalse\u001b[0m\u001b[0;34m,\u001b[0m\u001b[0;34m\u001b[0m\u001b[0m\n\u001b[0m\u001b[1;32m    695\u001b[0m         )\n\u001b[1;32m    696\u001b[0m \u001b[0;34m\u001b[0m\u001b[0m\n",
      "\u001b[0;32m/Users/kimeric/anaconda2/lib/python2.7/site-packages/ipykernel/kernelbase.pyc\u001b[0m in \u001b[0;36m_input_request\u001b[0;34m(self, prompt, ident, parent, password)\u001b[0m\n\u001b[1;32m    722\u001b[0m             \u001b[0;32mexcept\u001b[0m \u001b[0mKeyboardInterrupt\u001b[0m\u001b[0;34m:\u001b[0m\u001b[0;34m\u001b[0m\u001b[0m\n\u001b[1;32m    723\u001b[0m                 \u001b[0;31m# re-raise KeyboardInterrupt, to truncate traceback\u001b[0m\u001b[0;34m\u001b[0m\u001b[0;34m\u001b[0m\u001b[0m\n\u001b[0;32m--> 724\u001b[0;31m                 \u001b[0;32mraise\u001b[0m \u001b[0mKeyboardInterrupt\u001b[0m\u001b[0;34m\u001b[0m\u001b[0m\n\u001b[0m\u001b[1;32m    725\u001b[0m             \u001b[0;32melse\u001b[0m\u001b[0;34m:\u001b[0m\u001b[0;34m\u001b[0m\u001b[0m\n\u001b[1;32m    726\u001b[0m                 \u001b[0;32mbreak\u001b[0m\u001b[0;34m\u001b[0m\u001b[0m\n",
      "\u001b[0;31mKeyboardInterrupt\u001b[0m: "
     ]
    }
   ],
   "source": [
    "from stack import Stack\n",
    "\n",
    "class Calculator:\n",
    "    def __init__(self):\n",
    "        self.org_exp = None #중위 표기법\n",
    "        self.postfix_exp = None #후위 표기법\n",
    "        self.result = None\n",
    "\n",
    "    def set_org_exp(self, org_exp):\n",
    "        self.org_exp = str(org_exp).replace(' ', '')\n",
    "        self.postfix_exp = None\n",
    "        self.result = None\n",
    "\n",
    "    def get_org_exp(self):\n",
    "        return self.org_exp\n",
    "\n",
    "    def get_weight(self, oprt):\n",
    "        if oprt == '*' or oprt == '/':\n",
    "            return 9\n",
    "        elif oprt == '+' or oprt == '-':\n",
    "            return 7\n",
    "        elif oprt == '(':\n",
    "            return 5\n",
    "\n",
    "    def convert_to_postfix(self):\n",
    "        exp_list = []\n",
    "        oprt_stack = Stack()\n",
    "\n",
    "        for ch in self.get_org_exp():\n",
    "            if ch.isdigit():\n",
    "                exp_list.append(ch)\n",
    "            #연산자\n",
    "            else:\n",
    "                if oprt_stack.empty() or ch == '(':\n",
    "                    oprt_stack.push(ch)\n",
    "                elif ch == ')':\n",
    "                    op = oprt_stack.pop()\n",
    "                    while op != '(':\n",
    "                        exp_list.append(op)\n",
    "                        op = oprt_stack.pop()\n",
    "                #+, -, *, /\n",
    "                elif self.get_weight(ch) > \\\n",
    "                     self.get_weight(oprt_stack.peek()):\n",
    "                    oprt_stack.push(ch)\n",
    "                else:\n",
    "                    while oprt_stack and self.get_weight(ch) <= \\\n",
    "                          self.get_weight(oprt_stack.peek()):\n",
    "                        exp_list.append(oprt_stack.pop())\n",
    "                    oprt_stack.push(ch)\n",
    "        while oprt_stack:\n",
    "            exp_list.append(oprt_stack.pop())\n",
    "\n",
    "        self.postfix_exp = ''.join(exp_list)\n",
    "\n",
    "    def get_postfix_exp(self):\n",
    "        if not self.org_exp:\n",
    "            return None\n",
    "        \n",
    "        if not self.postfix_exp:\n",
    "            self.convert_to_postfix()\n",
    "\n",
    "        return self.postfix_exp\n",
    "\n",
    "    def calc_two_oprd(self, oprd1, oprd2, oprt):\n",
    "        if oprt == '+':\n",
    "            return oprd1 + oprd2\n",
    "        elif oprt == '-':\n",
    "            return oprd1 - oprd2\n",
    "        elif oprt == '*':\n",
    "            return oprd1 * oprd2\n",
    "        elif oprt == '/':\n",
    "            return oprd1 // oprd2\n",
    "\n",
    "    def calculate(self):\n",
    "        oprd_stack = Stack()\n",
    "\n",
    "        for ch in self.get_postfix_exp():\n",
    "            if ch.isdigit():\n",
    "                oprd_stack.push(int(ch))\n",
    "            else:\n",
    "                oprd2 = oprd_stack.pop()\n",
    "                oprd1 = oprd_stack.pop()\n",
    "                oprd_stack.push(\n",
    "                    self.calc_two_oprd(oprd1, oprd2, ch))\n",
    "\n",
    "        self.result = oprd_stack.pop()\n",
    "\n",
    "    def get_result(self):\n",
    "        if not self.org_exp:\n",
    "            return\n",
    "        \n",
    "        if not self.result:\n",
    "            self.calculate()\n",
    "\n",
    "        return self.result\n",
    "\n",
    "if __name__ == \"__main__\":\n",
    "    calc = Calculator()\n",
    "\n",
    "    while 1:\n",
    "        exp = input(\"수식을 입력하세요(종료 : 0) :\")\n",
    "        if exp == '0':\n",
    "            break\n",
    "\n",
    "        calc.set_org_exp(exp)\n",
    "        print(calc.get_postfix_exp())\n",
    "        \n",
    "        print(\"{exp} = {result}\".format(\n",
    "        exp = calc.get_org_exp(),\n",
    "        result = calc.get_result()))"
   ]
  },
  {
   "cell_type": "code",
   "execution_count": null,
   "metadata": {
    "collapsed": true
   },
   "outputs": [],
   "source": []
  }
 ],
 "metadata": {
  "kernelspec": {
   "display_name": "Python 2",
   "language": "python",
   "name": "python2"
  },
  "language_info": {
   "codemirror_mode": {
    "name": "ipython",
    "version": 2
   },
   "file_extension": ".py",
   "mimetype": "text/x-python",
   "name": "python",
   "nbconvert_exporter": "python",
   "pygments_lexer": "ipython2",
   "version": "2.7.13"
  }
 },
 "nbformat": 4,
 "nbformat_minor": 2
}
