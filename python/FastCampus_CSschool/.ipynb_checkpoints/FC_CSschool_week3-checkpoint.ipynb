{
 "cells": [
  {
   "cell_type": "code",
   "execution_count": 73,
   "metadata": {
    "collapsed": false
   },
   "outputs": [],
   "source": [
    "# OOP\n",
    "\n",
    "# openpyxl install\n",
    "# : openpyxl 설치 를 통해 excel을 연다\n",
    "# [openpyxl](https://openpyxl.readthedocs.io/en/default/)\n",
    "\n",
    "# file_path = ~/python/FastCampus_CSschool/CSS_3rd/procedure/\n",
    "\n",
    "from openpyxl import *"
   ]
  },
  {
   "cell_type": "markdown",
   "metadata": {},
   "source": [
    "[예제](https://github.com/ythwork/CSS_3rd/tree/master/procedure)"
   ]
  },
  {
   "cell_type": "code",
   "execution_count": 74,
   "metadata": {
    "collapsed": false
   },
   "outputs": [],
   "source": [
    "wb = load_workbook('exam.xlsx')"
   ]
  },
  {
   "cell_type": "code",
   "execution_count": 75,
   "metadata": {
    "collapsed": false
   },
   "outputs": [
    {
     "data": {
      "text/plain": [
       "[u'Sheet1']"
      ]
     },
     "execution_count": 75,
     "metadata": {},
     "output_type": "execute_result"
    }
   ],
   "source": [
    "wb.sheetnames"
   ]
  },
  {
   "cell_type": "code",
   "execution_count": 76,
   "metadata": {
    "collapsed": false
   },
   "outputs": [],
   "source": [
    "ws = wb.active"
   ]
  },
  {
   "cell_type": "code",
   "execution_count": 77,
   "metadata": {
    "collapsed": false
   },
   "outputs": [],
   "source": [
    "g = ws.rows"
   ]
  },
  {
   "cell_type": "code",
   "execution_count": 78,
   "metadata": {
    "collapsed": false
   },
   "outputs": [
    {
     "data": {
      "text/plain": [
       "<generator object _cells_by_row at 0x11692f910>"
      ]
     },
     "execution_count": 78,
     "metadata": {},
     "output_type": "execute_result"
    }
   ],
   "source": [
    "g"
   ]
  },
  {
   "cell_type": "code",
   "execution_count": 79,
   "metadata": {
    "collapsed": false
   },
   "outputs": [
    {
     "data": {
      "text/plain": [
       "(<Cell u'Sheet1'.A1>,\n",
       " <Cell u'Sheet1'.B1>,\n",
       " <Cell u'Sheet1'.C1>,\n",
       " <Cell u'Sheet1'.D1>)"
      ]
     },
     "execution_count": 79,
     "metadata": {},
     "output_type": "execute_result"
    }
   ],
   "source": [
    "cells = next(g)\n",
    "cells"
   ]
  },
  {
   "cell_type": "code",
   "execution_count": 80,
   "metadata": {
    "collapsed": false
   },
   "outputs": [],
   "source": [
    "keys = []"
   ]
  },
  {
   "cell_type": "code",
   "execution_count": 81,
   "metadata": {
    "collapsed": false
   },
   "outputs": [],
   "source": [
    "for cell in cells:\n",
    "    keys.append(cell.value)"
   ]
  },
  {
   "cell_type": "code",
   "execution_count": 82,
   "metadata": {
    "collapsed": false
   },
   "outputs": [
    {
     "data": {
      "text/plain": [
       "[u'name', u'math', u'literature', u'science']"
      ]
     },
     "execution_count": 82,
     "metadata": {},
     "output_type": "execute_result"
    }
   ],
   "source": [
    "keys"
   ]
  },
  {
   "cell_type": "code",
   "execution_count": 83,
   "metadata": {
    "collapsed": false
   },
   "outputs": [],
   "source": [
    "student_data = []\n",
    "for row in g:\n",
    "    dic = {k : v.value for k,v in zip(keys, row) }\n",
    "    student_data.append(dic)"
   ]
  },
  {
   "cell_type": "code",
   "execution_count": 84,
   "metadata": {
    "collapsed": false
   },
   "outputs": [
    {
     "data": {
      "text/plain": [
       "[{u'literature': 65L, u'math': 95L, u'name': u'greg', u'science': 75L},\n",
       " {u'literature': 30L, u'math': 25L, u'name': u'john', u'science': 55L},\n",
       " {u'literature': 45L, u'math': 50L, u'name': u'yang', u'science': 40L},\n",
       " {u'literature': 65L, u'math': 15L, u'name': u'timothy', u'science': 90L},\n",
       " {u'literature': 100L, u'math': 100L, u'name': u'melisa', u'science': 100L},\n",
       " {u'literature': 15L, u'math': 10L, u'name': u'thor', u'science': 20L},\n",
       " {u'literature': 50L, u'math': 25L, u'name': u'elen', u'science': 100L},\n",
       " {u'literature': 75L, u'math': 80L, u'name': u'mark', u'science': 80L},\n",
       " {u'literature': 100L, u'math': 95L, u'name': u'steve', u'science': 95L},\n",
       " {u'literature': 20L, u'math': 20L, u'name': u'anna', u'science': 20L}]"
      ]
     },
     "execution_count": 84,
     "metadata": {},
     "output_type": "execute_result"
    }
   ],
   "source": [
    "student_data"
   ]
  },
  {
   "cell_type": "code",
   "execution_count": 89,
   "metadata": {
    "collapsed": false
   },
   "outputs": [
    {
     "name": "stdout",
     "output_type": "stream",
     "text": [
      "science : 75        \n",
      "literature : 65     \n",
      "name : greg         \n",
      "math : 95           \n",
      "\n",
      "science : 55        \n",
      "literature : 30     \n",
      "name : john         \n",
      "math : 25           \n",
      "\n",
      "science : 40        \n",
      "literature : 45     \n",
      "name : yang         \n",
      "math : 50           \n",
      "\n",
      "science : 90        \n",
      "literature : 65     \n",
      "name : timothy      \n",
      "math : 15           \n",
      "\n",
      "science : 100       \n",
      "literature : 100    \n",
      "name : melisa       \n",
      "math : 100          \n",
      "\n",
      "science : 20        \n",
      "literature : 15     \n",
      "name : thor         \n",
      "math : 10           \n",
      "\n",
      "science : 100       \n",
      "literature : 50     \n",
      "name : elen         \n",
      "math : 25           \n",
      "\n",
      "science : 80        \n",
      "literature : 75     \n",
      "name : mark         \n",
      "math : 80           \n",
      "\n",
      "science : 95        \n",
      "literature : 100    \n",
      "name : steve        \n",
      "math : 95           \n",
      "\n",
      "science : 20        \n",
      "literature : 20     \n",
      "name : anna         \n",
      "math : 20           \n",
      "\n"
     ]
    }
   ],
   "source": [
    "for student in student_data:\n",
    "    for k, v in student.items():\n",
    "        print('{} : {}'.format(k,v).ljust(20))\n",
    "    print('')"
   ]
  },
  {
   "cell_type": "code",
   "execution_count": null,
   "metadata": {
    "collapsed": false
   },
   "outputs": [],
   "source": []
  },
  {
   "cell_type": "markdown",
   "metadata": {},
   "source": [
    "## procedural programming\n",
    "---\n",
    "\n",
    "## procedure\n",
    " - routine, subroutine, function\n",
    "\n",
    "---\n",
    "## hardware support\n",
    "  - stack pointer in CPU\n",
    "    - ESP(Extended Stack Pointer) in intel architecture\n",
    "\n",
    "---\n",
    "## modularity\n",
    " - argument, return value\n",
    " - scoping\n",
    "   - indentation in python\n",
    "\n",
    "---\n",
    "## why procedural?\n",
    "  - 코드 이해, 유지 보수\n",
    "  - '이 프로그램은 무엇을 하는가?'\n",
    "---"
   ]
  },
  {
   "cell_type": "code",
   "execution_count": 106,
   "metadata": {
    "collapsed": true
   },
   "outputs": [],
   "source": [
    "# 비구조적 Programming Program Exam"
   ]
  },
  {
   "cell_type": "code",
   "execution_count": 107,
   "metadata": {
    "collapsed": true
   },
   "outputs": [],
   "source": [
    "import math\n",
    "from openpyxl import *\n",
    "from functools import reduce\n",
    "\n",
    "# 파일에서 데이터 읽어와서 자료구조 생성"
   ]
  },
  {
   "cell_type": "code",
   "execution_count": null,
   "metadata": {
    "collapsed": true
   },
   "outputs": [],
   "source": []
  },
  {
   "cell_type": "code",
   "execution_count": null,
   "metadata": {
    "collapsed": true
   },
   "outputs": [],
   "source": []
  },
  {
   "cell_type": "markdown",
   "metadata": {},
   "source": [
    "# Class"
   ]
  },
  {
   "cell_type": "markdown",
   "metadata": {},
   "source": [
    "- 연관있는 변수 : member (멤버 변수), property라고도 부름\n",
    "- 연관있는 함수 : method - 멤버 함수, behavior라고도 부름\n",
    "    - function != method\n"
   ]
  },
  {
   "cell_type": "markdown",
   "metadata": {},
   "source": [
    "[Account 예제](https://github.com/ythwork/CSS_3rd/blob/master/OOP/class_account.md)"
   ]
  },
  {
   "cell_type": "code",
   "execution_count": 17,
   "metadata": {
    "collapsed": false
   },
   "outputs": [],
   "source": [
    "# class : account\n",
    "# 첫문자는 대문자\n",
    "class Account:\n",
    "    # class member, class method : 전역 변수를 대체\n",
    "    \n",
    "    # class member\n",
    "    # : 모든 객체가 공유\n",
    "    interest_rate = 7.0\n",
    "    name = \"Good Life\" # 계좌 이름\n",
    "    kind = \"demanding deposit\" #후불 계좌\n",
    "    \n",
    "    # class method\n",
    "    # : 객체가 생성되기 전에도 호출 가능\n",
    "    @classmethod\n",
    "    def get_account_info(cls):\n",
    "        return cls.interest_rate, cls.name, cls.kind\n",
    "    \n",
    "    \n",
    "    \n",
    "    # 생성자\n",
    "    # : 멤버의 초기화\n",
    "    def __init__(self, name, money):\n",
    "        #instance member\n",
    "        # : 연관있는 변수\n",
    "        self.user = name\n",
    "        self.balance = money\n",
    "\n",
    "    # 소멸자\n",
    "    # : 주 목적은 메모리의 해제\n",
    "    # : 거의 쓰이지 않아요\n",
    "    def __del__(self):\n",
    "        print(\"Account object deleted!\")\n",
    "        \n",
    "        \n",
    "    #instance method\n",
    "    # : 연관있는 함수\n",
    "    def deposit(self, money):\n",
    "        if money < 0:\n",
    "            return None\n",
    "        else:\n",
    "            self.balance += money\n",
    "            return self.balance\n",
    "        \n",
    "    def withdraw(self, money):\n",
    "        '''\n",
    "        obj.withdraw(self, money) -> bool\n",
    "        '''\n",
    "        if money <= self.balance:\n",
    "            self.balance -= money\n",
    "            return True\n",
    "        else:\n",
    "            return False\n",
    "\n",
    "    # data/message passing\n",
    "    '''\n",
    "    객체와 객체간에 통신을 할 때는 반드시 함수 호출을 통해서 \n",
    "    data/message 호출을 하고\n",
    "    \n",
    "    내부 정보를 바꿀 때 바로 멤버로 접근하면안되고\n",
    "    상대방이 가지고 있는 객체의 함수 호출을 통해서 수정해야한다.\n",
    "    '''\n",
    "    def transfer(self, other, money):\n",
    "        res = self.withdraw(money)\n",
    "        if res:\n",
    "            # 다른 객체의 함수를 호출 -> 내부 정보를 바꾼다.\n",
    "            other.deposit(money)\n",
    "            return True\n",
    "        else:\n",
    "            return False\n",
    "        \n",
    "    \n",
    "    def __str__(self):\n",
    "        return '{}, {}'.format(self.user, self.balance)"
   ]
  },
  {
   "cell_type": "code",
   "execution_count": 18,
   "metadata": {
    "collapsed": false
   },
   "outputs": [],
   "source": [
    "#class : 찍어내는 틀\n",
    "#object : 실제로 존재하는 객체\n",
    "\n",
    "# 초기화 함수 실행하기 위한 코드 작성 (밑에 두줄)\n",
    "my_account = Account(\"greg\", 5000)\n",
    "your_account = Account(\"john\", 1000)"
   ]
  },
  {
   "cell_type": "code",
   "execution_count": 19,
   "metadata": {
    "collapsed": false
   },
   "outputs": [],
   "source": [
    "# print(my_account) #def __str__ 없을 때\n",
    "# >>> <__main__.Account instance at 0x1169bd248>"
   ]
  },
  {
   "cell_type": "code",
   "execution_count": 20,
   "metadata": {
    "collapsed": false
   },
   "outputs": [
    {
     "name": "stdout",
     "output_type": "stream",
     "text": [
      "greg, 5000\n",
      "john, 1000\n"
     ]
    }
   ],
   "source": [
    "print(my_account) # def __str__ 있을 때\n",
    "print(your_account)"
   ]
  },
  {
   "cell_type": "code",
   "execution_count": 21,
   "metadata": {
    "collapsed": false
   },
   "outputs": [
    {
     "data": {
      "text/plain": [
       "7000"
      ]
     },
     "execution_count": 21,
     "metadata": {},
     "output_type": "execute_result"
    }
   ],
   "source": [
    "#함수 호출\n",
    "# 1. object로 method 호출\n",
    "# my_account.이 self.의 역할을 한다. 그래서 그 내부 정보는 name, money\n",
    "# deposit을 하면 moeny\n",
    "my_account.deposit(2000)"
   ]
  },
  {
   "cell_type": "code",
   "execution_count": 22,
   "metadata": {
    "collapsed": false
   },
   "outputs": [
    {
     "name": "stdout",
     "output_type": "stream",
     "text": [
      "greg, 7000\n"
     ]
    }
   ],
   "source": [
    "print(my_account)"
   ]
  },
  {
   "cell_type": "code",
   "execution_count": 23,
   "metadata": {
    "collapsed": false
   },
   "outputs": [
    {
     "data": {
      "text/plain": [
       "4000"
      ]
     },
     "execution_count": 23,
     "metadata": {},
     "output_type": "execute_result"
    }
   ],
   "source": [
    "your_account.deposit(3000)"
   ]
  },
  {
   "cell_type": "code",
   "execution_count": 24,
   "metadata": {
    "collapsed": false
   },
   "outputs": [
    {
     "name": "stdout",
     "output_type": "stream",
     "text": [
      "john, 4000\n"
     ]
    }
   ],
   "source": [
    "print(your_account)"
   ]
  },
  {
   "cell_type": "code",
   "execution_count": 25,
   "metadata": {
    "collapsed": true
   },
   "outputs": [],
   "source": [
    "# 객체 지우기"
   ]
  },
  {
   "cell_type": "code",
   "execution_count": 26,
   "metadata": {
    "collapsed": false
   },
   "outputs": [],
   "source": [
    "# del(my_account)\n",
    "# #Account object deleted!"
   ]
  },
  {
   "cell_type": "code",
   "execution_count": 27,
   "metadata": {
    "collapsed": false
   },
   "outputs": [
    {
     "data": {
      "text/plain": [
       "\"\\n---------------------------------------------------------------------------\\nNameError                                 Traceback (most recent call last)\\n<ipython-input-202-b00dd0a53bfa> in <module>()\\n      1 # \\xed\\x99\\x95\\xec\\x9d\\xb8\\n----> 2 print(my_account)\\n\\nNameError: name 'my_account' is not defined\\n\""
      ]
     },
     "execution_count": 27,
     "metadata": {},
     "output_type": "execute_result"
    }
   ],
   "source": [
    "# 확인\n",
    "# print(my_account)\n",
    "'''\n",
    "---------------------------------------------------------------------------\n",
    "NameError                                 Traceback (most recent call last)\n",
    "<ipython-input-202-b00dd0a53bfa> in <module>()\n",
    "      1 # 확인\n",
    "----> 2 print(my_account)\n",
    "\n",
    "NameError: name 'my_account' is not defined\n",
    "'''"
   ]
  },
  {
   "cell_type": "code",
   "execution_count": 28,
   "metadata": {
    "collapsed": false
   },
   "outputs": [
    {
     "name": "stdout",
     "output_type": "stream",
     "text": [
      "greg, 7000\n",
      "john, 4000\n"
     ]
    }
   ],
   "source": [
    "print(my_account)\n",
    "print(your_account)"
   ]
  },
  {
   "cell_type": "code",
   "execution_count": 29,
   "metadata": {
    "collapsed": false
   },
   "outputs": [
    {
     "data": {
      "text/plain": [
       "True"
      ]
     },
     "execution_count": 29,
     "metadata": {},
     "output_type": "execute_result"
    }
   ],
   "source": [
    "my_account.transfer(your_account, 3000)"
   ]
  },
  {
   "cell_type": "code",
   "execution_count": 30,
   "metadata": {
    "collapsed": false
   },
   "outputs": [
    {
     "name": "stdout",
     "output_type": "stream",
     "text": [
      "greg, 4000\n",
      "john, 7000\n"
     ]
    }
   ],
   "source": [
    "print(my_account)\n",
    "print(your_account)"
   ]
  },
  {
   "cell_type": "markdown",
   "metadata": {},
   "source": [
    "### 객체의 메서드 호출"
   ]
  },
  {
   "cell_type": "code",
   "execution_count": 31,
   "metadata": {
    "collapsed": false
   },
   "outputs": [
    {
     "data": {
      "text/plain": [
       "6000"
      ]
     },
     "execution_count": 31,
     "metadata": {},
     "output_type": "execute_result"
    }
   ],
   "source": [
    "# 객체를 통해서 메서드 호출\n",
    "# 패러다임 : 객체.함수이름()\n",
    "my_account.deposit(2000)"
   ]
  },
  {
   "cell_type": "code",
   "execution_count": 32,
   "metadata": {
    "collapsed": false
   },
   "outputs": [
    {
     "data": {
      "text/plain": [
       "8000"
      ]
     },
     "execution_count": 32,
     "metadata": {},
     "output_type": "execute_result"
    }
   ],
   "source": [
    "# 클래스를 통해서 호출 \n",
    "# 쓰이즈는 않음\n",
    "Account.deposit(my_account, 2000)"
   ]
  },
  {
   "cell_type": "code",
   "execution_count": 33,
   "metadata": {
    "collapsed": false
   },
   "outputs": [
    {
     "name": "stdout",
     "output_type": "stream",
     "text": [
      "greg, 8000\n"
     ]
    }
   ],
   "source": [
    "print(my_account)"
   ]
  },
  {
   "cell_type": "code",
   "execution_count": 259,
   "metadata": {
    "collapsed": false
   },
   "outputs": [
    {
     "name": "stdout",
     "output_type": "stream",
     "text": [
      "<type 'instancemethod'>\n",
      "<type 'instancemethod'>\n"
     ]
    }
   ],
   "source": [
    "# 자세히 살펴보기\n",
    "print(type(my_account.deposit))\n",
    "print(type(Account.deposit))"
   ]
  },
  {
   "cell_type": "code",
   "execution_count": 263,
   "metadata": {
    "collapsed": false
   },
   "outputs": [
    {
     "data": {
      "text/plain": [
       "['__call__',\n",
       " '__class__',\n",
       " '__cmp__',\n",
       " '__delattr__',\n",
       " '__doc__',\n",
       " '__format__',\n",
       " '__func__',\n",
       " '__get__',\n",
       " '__getattribute__',\n",
       " '__hash__',\n",
       " '__init__',\n",
       " '__new__',\n",
       " '__reduce__',\n",
       " '__reduce_ex__',\n",
       " '__repr__',\n",
       " '__self__',\n",
       " '__setattr__',\n",
       " '__sizeof__',\n",
       " '__str__',\n",
       " '__subclasshook__',\n",
       " 'im_class',\n",
       " 'im_func',\n",
       " 'im_self']"
      ]
     },
     "execution_count": 263,
     "metadata": {},
     "output_type": "execute_result"
    }
   ],
   "source": [
    "dir (my_account.deposit)\n",
    "# _func_, _self_"
   ]
  },
  {
   "cell_type": "code",
   "execution_count": 270,
   "metadata": {
    "collapsed": true
   },
   "outputs": [],
   "source": [
    "#메서드 : __func__, __self__"
   ]
  },
  {
   "cell_type": "code",
   "execution_count": 271,
   "metadata": {
    "collapsed": false
   },
   "outputs": [
    {
     "data": {
      "text/plain": [
       "False"
      ]
     },
     "execution_count": 271,
     "metadata": {},
     "output_type": "execute_result"
    }
   ],
   "source": [
    "my_account.deposit.__func__ is Account.deposit"
   ]
  },
  {
   "cell_type": "code",
   "execution_count": 272,
   "metadata": {
    "collapsed": false
   },
   "outputs": [
    {
     "data": {
      "text/plain": [
       "True"
      ]
     },
     "execution_count": 272,
     "metadata": {},
     "output_type": "execute_result"
    }
   ],
   "source": [
    "my_account.deposit.__self__ is my_account"
   ]
  },
  {
   "cell_type": "code",
   "execution_count": 273,
   "metadata": {
    "collapsed": false
   },
   "outputs": [
    {
     "data": {
      "text/plain": [
       "12000"
      ]
     },
     "execution_count": 273,
     "metadata": {},
     "output_type": "execute_result"
    }
   ],
   "source": [
    "my_account.deposit(2000)"
   ]
  },
  {
   "cell_type": "code",
   "execution_count": null,
   "metadata": {
    "collapsed": true
   },
   "outputs": [],
   "source": []
  },
  {
   "cell_type": "markdown",
   "metadata": {},
   "source": [
    "### 클래스 멤버, 클래스 메소드"
   ]
  },
  {
   "cell_type": "code",
   "execution_count": 274,
   "metadata": {
    "collapsed": true
   },
   "outputs": [],
   "source": [
    "# method -> 함수 정보, 객체 정보를 동시에 가져있다. (그래서 self를 func에 알아서 넣어줌)"
   ]
  },
  {
   "cell_type": "code",
   "execution_count": 2,
   "metadata": {
    "collapsed": false
   },
   "outputs": [
    {
     "data": {
      "text/plain": [
       "<class __main__.Account at 0x104dc1870>"
      ]
     },
     "execution_count": 2,
     "metadata": {},
     "output_type": "execute_result"
    }
   ],
   "source": [
    "Account"
   ]
  },
  {
   "cell_type": "code",
   "execution_count": 4,
   "metadata": {
    "collapsed": false
   },
   "outputs": [],
   "source": [
    "#globals()"
   ]
  },
  {
   "cell_type": "code",
   "execution_count": 6,
   "metadata": {
    "collapsed": false
   },
   "outputs": [
    {
     "data": {
      "text/plain": [
       "7.0"
      ]
     },
     "execution_count": 6,
     "metadata": {},
     "output_type": "execute_result"
    }
   ],
   "source": [
    "# 아직 Account라는 클래스에서 객체가 하나도 안 생긴 상태\n",
    "# 그럼에도 class member와 class method는 가능하다.\n",
    "Account.interest_rate # 클래스 멤버"
   ]
  },
  {
   "cell_type": "code",
   "execution_count": 10,
   "metadata": {
    "collapsed": false
   },
   "outputs": [
    {
     "data": {
      "text/plain": [
       "(7.0, 'Good Life', 'demanding deposit')"
      ]
     },
     "execution_count": 10,
     "metadata": {},
     "output_type": "execute_result"
    }
   ],
   "source": [
    "Account.get_account_info() #클래스 메소드"
   ]
  },
  {
   "cell_type": "code",
   "execution_count": 11,
   "metadata": {
    "collapsed": true
   },
   "outputs": [],
   "source": [
    "# 다시 객체만들기\n",
    "my_acnt = Account('gregg', 5000)"
   ]
  },
  {
   "cell_type": "code",
   "execution_count": 12,
   "metadata": {
    "collapsed": false
   },
   "outputs": [
    {
     "data": {
      "text/plain": [
       "7.0"
      ]
     },
     "execution_count": 12,
     "metadata": {},
     "output_type": "execute_result"
    }
   ],
   "source": [
    "my_acnt.interest_rate"
   ]
  },
  {
   "cell_type": "code",
   "execution_count": 13,
   "metadata": {
    "collapsed": false
   },
   "outputs": [
    {
     "data": {
      "text/plain": [
       "(7.0, 'Good Life', 'demanding deposit')"
      ]
     },
     "execution_count": 13,
     "metadata": {},
     "output_type": "execute_result"
    }
   ],
   "source": [
    "my_acnt.get_account_info()"
   ]
  },
  {
   "cell_type": "code",
   "execution_count": 15,
   "metadata": {
    "collapsed": true
   },
   "outputs": [],
   "source": [
    "#즉 Account라는 원래 클래스 이름으로도 그리고 새로만든 객체를 통해서도 호출 할 수 있다. "
   ]
  },
  {
   "cell_type": "markdown",
   "metadata": {},
   "source": [
    "### 이로써 문법은 끝"
   ]
  },
  {
   "cell_type": "markdown",
   "metadata": {},
   "source": [
    "# 예제"
   ]
  },
  {
   "cell_type": "code",
   "execution_count": 39,
   "metadata": {
    "collapsed": true
   },
   "outputs": [],
   "source": [
    "class Person:\n",
    "    #class member (모든 객체가 공유하는 것)\n",
    "    planet = 'Earth'\n",
    "    \n",
    "    #멤버 초기화\n",
    "    #생성자\n",
    "    def __init__(self, name, age):\n",
    "        #instance member \n",
    "        self.name = name\n",
    "        self.age = age\n",
    "        self.nationality = None #지금 당장은 필요없더라도 만들어놓아라\n",
    "        \n",
    "    \n",
    "    def __del__(self):\n",
    "        pass\n",
    "    \n",
    "    # instance method : 객체가 가지는 기능, 행동 behaivor을 의미한다.\n",
    "    def eat(self, food):\n",
    "        print('{} eats {}'.format(self.name, food))\n",
    "        \n",
    "    def sleep(self, hour):\n",
    "        pass\n",
    "        "
   ]
  },
  {
   "cell_type": "markdown",
   "metadata": {},
   "source": [
    "## 예제2 :  computer에 대한 클래스 설계\n",
    "3개의 멤버 : data, cpu, ram\n",
    "3개의 메서드 : browse, data_receiver, data_sender\n",
    "메시지 파싱  : 다른 컴퓨터한테 내 정보를 전송  \n",
    "self.data  \n",
    "__str__  \n",
    "self.data 를 받을 수 있게"
   ]
  },
  {
   "cell_type": "code",
   "execution_count": 87,
   "metadata": {
    "collapsed": false
   },
   "outputs": [],
   "source": [
    "class Computer:\n",
    "    # class member\n",
    "    madeby = \"human\"\n",
    "    \n",
    "    # constructor\n",
    "    # instance member\n",
    "    def __init__(self, cpu, ram):\n",
    "        '''\n",
    "        data : string\n",
    "        cpu : string\n",
    "        ram : int\n",
    "        '''\n",
    "        self.cpu = cpu\n",
    "        self.ram = ram\n",
    "        self.send_data = None\n",
    "        self.receive_data = None\n",
    "        \n",
    "    def __del__(self):\n",
    "        pass\n",
    "    \n",
    "    #instance method\n",
    "    def browse(self, browertype):\n",
    "        print(\"websurfing using {}\".format(browertype))\n",
    " \n",
    "    def get_data_from_user(self):\n",
    "        s = raw_input(\"stirng : \")\n",
    "        self.send_data = s\n",
    "        \n",
    "    #send_data에 접근하는 함수 선언\n",
    "    def get_send_data(self):\n",
    "        return self.send_data\n",
    "    \n",
    "    ##**중요한 함수: message_sender, message_receiver***## \n",
    "    # 접근할 때는 함수를 사용해서 한다. \n",
    "    def message_sender(self, other):\n",
    "        if not self.send_data: #만약 send_data(보내는 데이터)가 없다면\n",
    "            return False\n",
    "        else:\n",
    "            res = other.message_receiver(self) #반드시 함수 호출을 통해서 받아야함 #res는 잘 보내졌는지 true/false로 출력\n",
    "            self.send_data = None\n",
    "            return res\n",
    "        \n",
    "    def message_receiver(self, other):\n",
    "        if self.receive_data: #만약에 receive_data가 있으면 (버퍼가 꽉 찼다)\n",
    "            return False\n",
    "        else:\n",
    "            self.receive_data = other.get_send_data()\n",
    "            if self.receive_data:\n",
    "                return True\n",
    "            else:\n",
    "                return False\n",
    "        \n",
    "    def get_receive_data(self):\n",
    "        return self.receive_data\n",
    "    \n",
    "    def __str__(self):\n",
    "        if not self.receive_data:\n",
    "            return \"No data\"\n",
    "        else:\n",
    "            return self.receive_data"
   ]
  },
  {
   "cell_type": "code",
   "execution_count": 76,
   "metadata": {
    "collapsed": true
   },
   "outputs": [],
   "source": [
    "c1 = Computer('intel', 16)"
   ]
  },
  {
   "cell_type": "code",
   "execution_count": 77,
   "metadata": {
    "collapsed": true
   },
   "outputs": [],
   "source": [
    "c2 = Computer('AMD', 4)"
   ]
  },
  {
   "cell_type": "code",
   "execution_count": 85,
   "metadata": {
    "collapsed": false
   },
   "outputs": [
    {
     "name": "stdout",
     "output_type": "stream",
     "text": [
      "websurfing using chrome\n"
     ]
    }
   ],
   "source": [
    "c1.browse(\"chrome\")"
   ]
  },
  {
   "cell_type": "code",
   "execution_count": 78,
   "metadata": {
    "collapsed": false
   },
   "outputs": [
    {
     "name": "stdout",
     "output_type": "stream",
     "text": [
      "stirng : nhihi\n"
     ]
    }
   ],
   "source": [
    "c1.get_data_from_user()"
   ]
  },
  {
   "cell_type": "code",
   "execution_count": 79,
   "metadata": {
    "collapsed": false
   },
   "outputs": [
    {
     "name": "stdout",
     "output_type": "stream",
     "text": [
      "nhihi\n"
     ]
    }
   ],
   "source": [
    "#잘 들어갔는지 확인\n",
    "print(c1.get_send_data())"
   ]
  },
  {
   "cell_type": "code",
   "execution_count": 80,
   "metadata": {
    "collapsed": false
   },
   "outputs": [
    {
     "data": {
      "text/plain": [
       "True"
      ]
     },
     "execution_count": 80,
     "metadata": {},
     "output_type": "execute_result"
    }
   ],
   "source": [
    "# 메시지 보내기\n",
    "c1.message_sender(c2)"
   ]
  },
  {
   "cell_type": "code",
   "execution_count": 83,
   "metadata": {
    "collapsed": false
   },
   "outputs": [
    {
     "name": "stdout",
     "output_type": "stream",
     "text": [
      "No data\n",
      "nhihi\n"
     ]
    }
   ],
   "source": [
    "print(c1)\n",
    "print(c2)"
   ]
  },
  {
   "cell_type": "code",
   "execution_count": null,
   "metadata": {
    "collapsed": true
   },
   "outputs": [],
   "source": []
  },
  {
   "cell_type": "code",
   "execution_count": 34,
   "metadata": {
    "collapsed": false
   },
   "outputs": [
    {
     "name": "stdout",
     "output_type": "stream",
     "text": [
      "{'kr_name': 'jaeyeon', 'name': 'eric'}\n"
     ]
    }
   ],
   "source": [
    "dic = {'name' : 'eric', 'kr_name' : 'jaeyeon'}\n",
    "\n",
    "print(dic)"
   ]
  },
  {
   "cell_type": "code",
   "execution_count": null,
   "metadata": {
    "collapsed": false
   },
   "outputs": [],
   "source": []
  },
  {
   "cell_type": "code",
   "execution_count": 1,
   "metadata": {
    "collapsed": false
   },
   "outputs": [
    {
     "ename": "NameError",
     "evalue": "name 'dic' is not defined",
     "output_type": "error",
     "traceback": [
      "\u001b[0;31m---------------------------------------------------------------------------\u001b[0m",
      "\u001b[0;31mNameError\u001b[0m                                 Traceback (most recent call last)",
      "\u001b[0;32m<ipython-input-1-302c6032cd44>\u001b[0m in \u001b[0;36m<module>\u001b[0;34m()\u001b[0m\n\u001b[0;32m----> 1\u001b[0;31m \u001b[0mdict\u001b[0m\u001b[0;34m(\u001b[0m\u001b[0mzip\u001b[0m\u001b[0;34m(\u001b[0m\u001b[0mdic\u001b[0m\u001b[0;34m)\u001b[0m\u001b[0;34m)\u001b[0m\u001b[0;34m\u001b[0m\u001b[0m\n\u001b[0m",
      "\u001b[0;31mNameError\u001b[0m: name 'dic' is not defined"
     ]
    }
   ],
   "source": [
    "dict(zip(dic))"
   ]
  },
  {
   "cell_type": "markdown",
   "metadata": {},
   "source": [
    "[lambda practice](http://caisbalderas.com/blog/iterating-with-python-lambdas/)"
   ]
  },
  {
   "cell_type": "code",
   "execution_count": null,
   "metadata": {
    "collapsed": true
   },
   "outputs": [],
   "source": []
  }
 ],
 "metadata": {
  "kernelspec": {
   "display_name": "Python 2",
   "language": "python",
   "name": "python2"
  },
  "language_info": {
   "codemirror_mode": {
    "name": "ipython",
    "version": 2
   },
   "file_extension": ".py",
   "mimetype": "text/x-python",
   "name": "python",
   "nbconvert_exporter": "python",
   "pygments_lexer": "ipython2",
   "version": "2.7.13"
  }
 },
 "nbformat": 4,
 "nbformat_minor": 2
}
