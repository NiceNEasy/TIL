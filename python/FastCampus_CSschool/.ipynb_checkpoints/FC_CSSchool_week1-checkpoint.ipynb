{
 "cells": [
  {
   "cell_type": "markdown",
   "metadata": {},
   "source": [
    "# FastCampus Computer Sciecne School\n",
    "\n"
   ]
  },
  {
   "cell_type": "markdown",
   "metadata": {},
   "source": [
    "# Day1 (2017-07-24)\n",
    "\n",
    "1. git  \n",
    "2. math  \n",
    "    1. variable\n",
    "    2. boolean"
   ]
  },
  {
   "cell_type": "code",
   "execution_count": 136,
   "metadata": {
    "collapsed": true
   },
   "outputs": [],
   "source": [
    "# -*- coding: utf-8 -*-"
   ]
  },
  {
   "cell_type": "code",
   "execution_count": 2,
   "metadata": {
    "collapsed": false
   },
   "outputs": [],
   "source": [
    "# git 설치\n",
    "#1. www.git-scm.com 접속 후 다운로드"
   ]
  },
  {
   "cell_type": "code",
   "execution_count": null,
   "metadata": {
    "collapsed": true
   },
   "outputs": [],
   "source": [
    "# shell 명령어\n",
    "\n",
    "'''\n",
    "ls : list\n",
    "'''"
   ]
  },
  {
   "cell_type": "code",
   "execution_count": null,
   "metadata": {
    "collapsed": true
   },
   "outputs": [],
   "source": []
  },
  {
   "cell_type": "code",
   "execution_count": null,
   "metadata": {
    "collapsed": true
   },
   "outputs": [],
   "source": []
  },
  {
   "cell_type": "code",
   "execution_count": 3,
   "metadata": {
    "collapsed": true
   },
   "outputs": [],
   "source": [
    "#python practice"
   ]
  },
  {
   "cell_type": "code",
   "execution_count": 4,
   "metadata": {
    "collapsed": false
   },
   "outputs": [
    {
     "name": "stdout",
     "output_type": "stream",
     "text": [
      "True\n"
     ]
    }
   ],
   "source": [
    "print(3<7)"
   ]
  },
  {
   "cell_type": "code",
   "execution_count": 5,
   "metadata": {
    "collapsed": false
   },
   "outputs": [
    {
     "name": "stdout",
     "output_type": "stream",
     "text": [
      "False\n"
     ]
    }
   ],
   "source": [
    "print(10<3)"
   ]
  },
  {
   "cell_type": "code",
   "execution_count": 6,
   "metadata": {
    "collapsed": false
   },
   "outputs": [
    {
     "name": "stdout",
     "output_type": "stream",
     "text": [
      "True\n"
     ]
    }
   ],
   "source": [
    "print(15>7)"
   ]
  },
  {
   "cell_type": "code",
   "execution_count": 7,
   "metadata": {
    "collapsed": false
   },
   "outputs": [
    {
     "name": "stdout",
     "output_type": "stream",
     "text": [
      "False\n"
     ]
    }
   ],
   "source": [
    "print(34==100)"
   ]
  },
  {
   "cell_type": "code",
   "execution_count": 8,
   "metadata": {
    "collapsed": false
   },
   "outputs": [
    {
     "name": "stdout",
     "output_type": "stream",
     "text": [
      "hello python!\n",
      "('hello', 'python!')\n"
     ]
    }
   ],
   "source": [
    "print(\"hello python!\")\n",
    "hello = \"hello\"\n",
    "python = \"python!\"\n",
    "print(hello, python)"
   ]
  },
  {
   "cell_type": "code",
   "execution_count": 9,
   "metadata": {
    "collapsed": false
   },
   "outputs": [
    {
     "name": "stdout",
     "output_type": "stream",
     "text": [
      "19\n",
      "9\n",
      "70\n",
      "2\n"
     ]
    }
   ],
   "source": [
    "num1 = 14\n",
    "num2 = 5\n",
    "\n",
    "print(num1+num2)\n",
    "print(num1-num2)\n",
    "print(num1*num2)\n",
    "print(num1/num2)"
   ]
  },
  {
   "cell_type": "code",
   "execution_count": 24,
   "metadata": {
    "collapsed": false
   },
   "outputs": [
    {
     "name": "stdout",
     "output_type": "stream",
     "text": [
      "radious = 10\n",
      "diameter = 20\n",
      "circumference = 62.830\n",
      "area = 314.15\n",
      "volume = 3141.5000\n"
     ]
    }
   ],
   "source": [
    "#오늘의 숙제\n",
    "#반지름\n",
    "r = 10\n",
    "pi = 3.1415\n",
    "\n",
    "radious = r\n",
    "diameter = 2*r\n",
    "circumference = 2*pi*r \n",
    "area = pi*r**2\n",
    "volume = (float(4/3))*pi*(r**3)\n",
    "\n",
    "print(\"radious = %d\" %radious)\n",
    "print(\"diameter = %d\" %diameter)\n",
    "print(\"circumference = %0.3f\" %circumference)\n",
    "print(\"area = %0.2f\" %area)\n",
    "print(\"volume = %0.4f\" %volume)"
   ]
  },
  {
   "cell_type": "code",
   "execution_count": null,
   "metadata": {
    "collapsed": true
   },
   "outputs": [],
   "source": []
  },
  {
   "cell_type": "markdown",
   "metadata": {},
   "source": [
    "# Day 2 : Python Basic (2017/07/25)\n",
    "## [Slide](https://github.com/ulgoon/fccss/blob/master/3rd/handouts/css_python_day2.pdf)\n",
    "### Using Jupyter Notebook to practice Python"
   ]
  },
  {
   "cell_type": "markdown",
   "metadata": {},
   "source": [
    "## Coding in PYTHONIC\n",
    "\n",
    "### Important Python Enhance Proposal\n",
    "\n",
    "#### Layout\n",
    "    * 들여쓰기(Indent) : 4 spaces or tab\n",
    "    * 한줄은 79자\n",
    "    * 클래스정의와 최상위 함수는 두 줄 띄움\n",
    "    * 클래스 내 메소드는 한 줄 띄움\n",
    "\n",
    "#### Naming Convention\n",
    "    * 클래스 이름은 CamelCase\n",
    "    * 함수, 변수, 메소드 이름은 snake_case\n",
    "\n",
    "#### Syntax\n",
    "    * 문법을 공부합시다\n",
    "\n",
    "#### type casting\n",
    "    float(3) --> int to float  \n",
    "    int(3.6) --> float to int  \n",
    "    str(1) --> int to string  \n",
    "    int(\"12\") --> string to int"
   ]
  },
  {
   "cell_type": "code",
   "execution_count": 9,
   "metadata": {
    "collapsed": false
   },
   "outputs": [
    {
     "data": {
      "text/plain": [
       "3.0"
      ]
     },
     "execution_count": 9,
     "metadata": {},
     "output_type": "execute_result"
    }
   ],
   "source": [
    "#type casting practice\n",
    "# int -> float\n",
    "float(3)"
   ]
  },
  {
   "cell_type": "code",
   "execution_count": 13,
   "metadata": {
    "collapsed": false
   },
   "outputs": [
    {
     "name": "stdout",
     "output_type": "stream",
     "text": [
      "3\n",
      "3\n"
     ]
    }
   ],
   "source": [
    "#float -> int : 소수점을 떨어내고 정수형만 쓴다. \n",
    "print(int(3.4))\n",
    "print(int(3.7))"
   ]
  },
  {
   "cell_type": "code",
   "execution_count": 14,
   "metadata": {
    "collapsed": false
   },
   "outputs": [
    {
     "data": {
      "text/plain": [
       "'100'"
      ]
     },
     "execution_count": 14,
     "metadata": {},
     "output_type": "execute_result"
    }
   ],
   "source": [
    "# int -> str\n",
    "str(100)"
   ]
  },
  {
   "cell_type": "code",
   "execution_count": null,
   "metadata": {
    "collapsed": false
   },
   "outputs": [],
   "source": [
    "# input\n",
    "name = raw_input(\"What is your name? \")\n",
    "print(\"Hi, \"+ str(name) + \", Nice to meet you.\")\n",
    "\n",
    "# input(\"How old are you?\")\n",
    "# eval(input(\"How old are you?\"))\n",
    "age = raw_input(\"How old are you? \")\n",
    "type(age)"
   ]
  },
  {
   "cell_type": "code",
   "execution_count": 42,
   "metadata": {
    "collapsed": false
   },
   "outputs": [
    {
     "name": "stdout",
     "output_type": "stream",
     "text": [
      "How old are you? 27\n",
      "<type 'str'>\n",
      "How old are you? 27\n",
      "<type 'int'>\n"
     ]
    }
   ],
   "source": [
    "# eval는 사용자가 입력한 자료형을 평가한다 -> default는 int로 변환해줌 \n",
    "# 주로 자료형을 파악 후 다른 자료형이 들어오면 다시 입력을 요청하거나 해야함\n",
    "\n",
    "age = raw_input(\"How old are you? \")\n",
    "print(type(age))\n",
    "\n",
    "age1 = eval(raw_input(\"How old are you? \"))\n",
    "print(type(age1))"
   ]
  },
  {
   "cell_type": "markdown",
   "metadata": {
    "collapsed": true
   },
   "source": [
    "### String Formating\n",
    "\n",
    "%s - string  \n",
    "%c - character  \n",
    "%d - Integer(decimal)  \n",
    "%f - floating-point  \n",
    "%o - 8진수(octal)  \n",
    "%x - 16진수(hexadecimal)  \n",
    "%% - %  \n",
    "\n",
    "`python sample code\n",
    "print(\"I have a %s, I have an %s.\" % (\"pen\", \"apple\")\n",
    "`"
   ]
  },
  {
   "cell_type": "code",
   "execution_count": 3,
   "metadata": {
    "collapsed": false
   },
   "outputs": [
    {
     "name": "stdout",
     "output_type": "stream",
     "text": [
      "I have a pen, I have an     apple, I have 55 pineapples.\n"
     ]
    }
   ],
   "source": [
    "#String formatting\n",
    "\n",
    "pen = \"pen\"\n",
    "apple = \"apple\"\n",
    "pineapple = \"pineapple\"\n",
    "num = 55\n",
    "\n",
    "print(\"I have a %s, I have an %9s, I have %d %ss.\" % (pen, apple, num, pineapple))"
   ]
  },
  {
   "cell_type": "markdown",
   "metadata": {
    "collapsed": true
   },
   "source": [
    "### Strings"
   ]
  },
  {
   "cell_type": "code",
   "execution_count": 4,
   "metadata": {
    "collapsed": false
   },
   "outputs": [
    {
     "data": {
      "text/plain": [
       "6"
      ]
     },
     "execution_count": 4,
     "metadata": {},
     "output_type": "execute_result"
    }
   ],
   "source": [
    "some_string = \"python\"\n",
    "len(some_string)"
   ]
  },
  {
   "cell_type": "code",
   "execution_count": 31,
   "metadata": {
    "collapsed": false
   },
   "outputs": [
    {
     "name": "stdout",
     "output_type": "stream",
     "text": [
      "ho\n",
      "hon\n",
      "yhn\n"
     ]
    }
   ],
   "source": [
    "# python\n",
    "# 012345\n",
    "print(some_string[3:5])\n",
    "print(some_string[3:]) #3부터 끝까지\n",
    "print(some_string[1:5+1:2]) # 1부터 5까지 2깐씩 뛰면서 출력 -> yhn"
   ]
  },
  {
   "cell_type": "code",
   "execution_count": 20,
   "metadata": {
    "collapsed": false
   },
   "outputs": [
    {
     "name": "stdout",
     "output_type": "stream",
     "text": [
      "ytho\n",
      "yh\n"
     ]
    }
   ],
   "source": [
    "print(some_string[1:5])\n",
    "print(some_string[1:5:2]) #ytho를 2칸씩 뛰어넘어서 출력 -> yh"
   ]
  },
  {
   "cell_type": "code",
   "execution_count": 32,
   "metadata": {
    "collapsed": false
   },
   "outputs": [
    {
     "name": "stdout",
     "output_type": "stream",
     "text": [
      "python\n",
      "6\n",
      "python\n"
     ]
    },
    {
     "data": {
      "text/plain": [
       "True"
      ]
     },
     "execution_count": 32,
     "metadata": {},
     "output_type": "execute_result"
    }
   ],
   "source": [
    "print(some_string[::])\n",
    "print(len(some_string))\n",
    "print(some_string[0:len(some_string):1])\n",
    "some_string[::] == some_string[0:len(some_string):1]"
   ]
  },
  {
   "cell_type": "code",
   "execution_count": 33,
   "metadata": {
    "collapsed": false
   },
   "outputs": [
    {
     "name": "stdout",
     "output_type": "stream",
     "text": [
      "nohtyp\n",
      "nohtyp\n"
     ]
    }
   ],
   "source": [
    "print(some_string[::-1])\n",
    "print(some_string[-1:-len(some_string)-1:-1])"
   ]
  },
  {
   "cell_type": "markdown",
   "metadata": {},
   "source": [
    "#### python is immutable (string은 변환이 안된다)"
   ]
  },
  {
   "cell_type": "code",
   "execution_count": 35,
   "metadata": {
    "collapsed": false
   },
   "outputs": [
    {
     "ename": "TypeError",
     "evalue": "'str' object does not support item assignment",
     "output_type": "error",
     "traceback": [
      "\u001b[0;31m---------------------------------------------------------------------------\u001b[0m",
      "\u001b[0;31mTypeError\u001b[0m                                 Traceback (most recent call last)",
      "\u001b[0;32m<ipython-input-35-2bc1106d7e4d>\u001b[0m in \u001b[0;36m<module>\u001b[0;34m()\u001b[0m\n\u001b[1;32m      1\u001b[0m \u001b[0msome_string\u001b[0m \u001b[0;34m=\u001b[0m \u001b[0;34m\"python\"\u001b[0m\u001b[0;34m\u001b[0m\u001b[0m\n\u001b[0;32m----> 2\u001b[0;31m \u001b[0msome_string\u001b[0m\u001b[0;34m[\u001b[0m\u001b[0;36m0\u001b[0m\u001b[0;34m]\u001b[0m \u001b[0;34m=\u001b[0m \u001b[0;34m\"c\"\u001b[0m\u001b[0;34m\u001b[0m\u001b[0m\n\u001b[0m",
      "\u001b[0;31mTypeError\u001b[0m: 'str' object does not support item assignment"
     ]
    }
   ],
   "source": [
    "some_string = \"python\"\n",
    "some_string[0] = \"c\""
   ]
  },
  {
   "cell_type": "code",
   "execution_count": 38,
   "metadata": {
    "collapsed": false
   },
   "outputs": [
    {
     "name": "stdout",
     "output_type": "stream",
     "text": [
      "ython\n",
      "cython\n"
     ]
    }
   ],
   "source": [
    "print(some_string[1:])\n",
    "some_string = \"c\" + some_string[1:]\n",
    "print(some_string)"
   ]
  },
  {
   "cell_type": "markdown",
   "metadata": {},
   "source": [
    "### String Functions\n",
    "\n",
    "* count\n",
    "* find\n",
    "* join"
   ]
  },
  {
   "cell_type": "code",
   "execution_count": 51,
   "metadata": {
    "collapsed": false
   },
   "outputs": [
    {
     "data": {
      "text/plain": [
       "2"
      ]
     },
     "execution_count": 51,
     "metadata": {},
     "output_type": "execute_result"
    }
   ],
   "source": [
    "# count function\n",
    "another_string = \"python is easy programming language\"\n",
    "another_string.count('p')"
   ]
  },
  {
   "cell_type": "code",
   "execution_count": 46,
   "metadata": {
    "collapsed": false
   },
   "outputs": [
    {
     "name": "stdout",
     "output_type": "stream",
     "text": [
      "16\n",
      "0\n"
     ]
    }
   ],
   "source": [
    "# find function\n",
    "# r이라는 문자의 위치를 출력해준다.\n",
    "# 첫 번째것을 찾으면 바로 끝내버림\n",
    "print(another_string.find('r'))\n",
    "print(another_string.find('p'))"
   ]
  },
  {
   "cell_type": "code",
   "execution_count": 434,
   "metadata": {
    "collapsed": false
   },
   "outputs": [
    {
     "name": "stdout",
     "output_type": "stream",
     "text": [
      "p,y,t,h,o,n\n"
     ]
    }
   ],
   "source": [
    "# join function\n",
    "comma = \",\"\n",
    "commaed = comma.join('python')\n",
    "print(commaed)"
   ]
  },
  {
   "cell_type": "code",
   "execution_count": 57,
   "metadata": {
    "collapsed": false
   },
   "outputs": [
    {
     "data": {
      "text/plain": [
       "['p', 'y', 't', 'h', 'o', 'n']"
      ]
     },
     "execution_count": 57,
     "metadata": {},
     "output_type": "execute_result"
    }
   ],
   "source": [
    "# split function\n",
    "# ,를 기준으로 짜른 후 list에 넣는다\n",
    "commaed.split(',')"
   ]
  },
  {
   "cell_type": "code",
   "execution_count": 61,
   "metadata": {
    "collapsed": false
   },
   "outputs": [
    {
     "data": {
      "text/plain": [
       "['python', 'is', 'easy']"
      ]
     },
     "execution_count": 61,
     "metadata": {},
     "output_type": "execute_result"
    }
   ],
   "source": [
    "# split의 default는 space이다.\n",
    "python_is_easy = \"python is easy\"\n",
    "python_is_easy.split()"
   ]
  },
  {
   "cell_type": "code",
   "execution_count": 82,
   "metadata": {
    "collapsed": false
   },
   "outputs": [
    {
     "name": "stdout",
     "output_type": "stream",
     "text": [
      "['honggildong', '010-1234-5678', 'seoul']\n",
      "name: honggildong\n",
      "phone: 010-1234-5678\n",
      "['010', '1234', '5678']\n",
      "local code: 010\n",
      "middle num: 1234\n",
      "last num: 5678\n",
      "address: seoul\n"
     ]
    }
   ],
   "source": [
    "personal_info = \"honggildong 010-1234-5678 seoul \"\n",
    "personal_info_splited = personal_info.split()\n",
    "print(personal_info_splited)\n",
    "\n",
    "print(\"name: \" + personal_info_splited[0])\n",
    "print(\"phone: \" + personal_info_splited[1])\n",
    "detailed_phone_num = personal_info_splited[1].split('-')\n",
    "print(detailed_phone_num)\n",
    "print(\"local code: \" + detailed_phone_num[0])\n",
    "print(\"middle num: \" + detailed_phone_num[1])\n",
    "print(\"last num: \"+ detailed_phone_num[2])\n",
    "print(\"address: \" + personal_info_splited[2])"
   ]
  },
  {
   "cell_type": "code",
   "execution_count": 85,
   "metadata": {
    "collapsed": false
   },
   "outputs": [
    {
     "name": "stdout",
     "output_type": "stream",
     "text": [
      "python is easy\n",
      "golang is easy\n"
     ]
    }
   ],
   "source": [
    "# replace function\n",
    "print(python_is_easy)\n",
    "print(python_is_easy.replace(\"python\", \"golang\"))"
   ]
  },
  {
   "cell_type": "markdown",
   "metadata": {},
   "source": [
    "## List 와 Tuple"
   ]
  },
  {
   "cell_type": "markdown",
   "metadata": {},
   "source": [
    "#### List  \n",
    "`animal = ['','','']`\n",
    "\n",
    "#### Tuple  \n",
    "`animals = ('','','')`\n",
    "\n",
    "* 공통점 : 둘 다 indexing 이 가능하다.   \n",
    "* 차이점   \n",
    "    * Tuple은 요소를 추가하거나 수정할 수 없다. 한번 추가하면 끝...\n",
    "    * 바뀌지 않는 변수를 선언할 때는 tuple을 사용해라\n",
    "\n"
   ]
  },
  {
   "cell_type": "code",
   "execution_count": 142,
   "metadata": {
    "collapsed": false
   },
   "outputs": [
    {
     "name": "stdout",
     "output_type": "stream",
     "text": [
      "['python']\n",
      "['python', 'java']\n",
      "['python', 'java', 'golang']\n"
     ]
    }
   ],
   "source": [
    "# List Practice\n",
    "# list 요소 추가 : append function\n",
    "'lang = [\"python\", \"c\", \"java\", \"golang\"]'\n",
    "lang= []\n",
    "\n",
    "lang.append(\"python\")\n",
    "print(lang)\n",
    "lang.append(\"java\")\n",
    "print(lang)\n",
    "lang.append(\"golang\")\n",
    "print(lang)"
   ]
  },
  {
   "cell_type": "code",
   "execution_count": 122,
   "metadata": {
    "collapsed": false
   },
   "outputs": [
    {
     "name": "stdout",
     "output_type": "stream",
     "text": [
      "['python', 'c', 'java', 'golang']\n"
     ]
    }
   ],
   "source": [
    "# insert function\n",
    "# 혹은 특정한 위치에 원하는 값을 추가할 수 있습니다.\n",
    "lang.insert(1,\"c\") #1번 인덱스에 \"c\"를 넣어라\n",
    "print(lang)"
   ]
  },
  {
   "cell_type": "code",
   "execution_count": 123,
   "metadata": {
    "collapsed": false
   },
   "outputs": [
    {
     "name": "stdout",
     "output_type": "stream",
     "text": [
      "['python', 'c', 'java']\n"
     ]
    }
   ],
   "source": [
    "# remove function\n",
    "# 특정 요소를 삭제 \n",
    "lang.remove(\"golang\")\n",
    "print(lang)"
   ]
  },
  {
   "cell_type": "code",
   "execution_count": 124,
   "metadata": {
    "collapsed": false
   },
   "outputs": [
    {
     "name": "stdout",
     "output_type": "stream",
     "text": [
      "['python', 'c']\n",
      "java\n"
     ]
    }
   ],
   "source": [
    "# pop function\n",
    "# 값을 뺴내기 \n",
    "# index를 알고 그 index의 값을 제거하고 싶을 때도 pop을 쓴다. \n",
    "\n",
    "java = lang.pop(2) #2번에 있는 것을 빼내라 (lang에서 빠진다.)\n",
    "# pop() 만 있으면 제일 마지막 index에 있는 값을 뺀다.\n",
    "print(lang)\n",
    "print(java)"
   ]
  },
  {
   "cell_type": "code",
   "execution_count": 157,
   "metadata": {
    "collapsed": false
   },
   "outputs": [
    {
     "name": "stdout",
     "output_type": "stream",
     "text": [
      "[2, 1, 4, 3]\n",
      "[3, 4, 1, 2]\n",
      "[1, 2, 3, 4]\n",
      "[4, 3, 2, 1]\n"
     ]
    }
   ],
   "source": [
    "# sort function \n",
    "# 리스트 정렬\n",
    "\n",
    "numbers = [2,1,4,3]\n",
    "print(numbers) #2,1,4,3\n",
    "print(numbers[::-1]) #3,4,1,2\n",
    "\n",
    "# 일반 정렬\n",
    "numbers.sort()\n",
    "print(numbers) #1,2,3,4\n",
    "\n",
    "# 역순 정렬\n",
    "numbers.reverse()\n",
    "print(numbers) #4,3,2,1"
   ]
  },
  {
   "cell_type": "code",
   "execution_count": 158,
   "metadata": {
    "collapsed": false
   },
   "outputs": [
    {
     "name": "stdout",
     "output_type": "stream",
     "text": [
      "['a', 'b', 'c']\n"
     ]
    }
   ],
   "source": [
    "alphabet = [\"a\", \"b\", \"c\"]\n",
    "alphabet.sort()\n",
    "print(alphabet)"
   ]
  },
  {
   "cell_type": "code",
   "execution_count": 159,
   "metadata": {
    "collapsed": false
   },
   "outputs": [
    {
     "name": "stdout",
     "output_type": "stream",
     "text": [
      "[4, 3, 2, 1]\n",
      "0\n",
      "1\n",
      "2\n",
      "3\n"
     ]
    }
   ],
   "source": [
    "# index function\n",
    "# 특정 위치 값의 위치 출력\n",
    "print(numbers)\n",
    "\n",
    "index_of_one = numbers.index(1)\n",
    "index_of_two = numbers.index(2)\n",
    "index_of_three = numbers.index(3)\n",
    "index_of_four = numbers.index(4)\n",
    "\n",
    "print(index_of_four)\n",
    "print(index_of_three)\n",
    "print(index_of_two)\n",
    "print(index_of_one)"
   ]
  },
  {
   "cell_type": "code",
   "execution_count": 160,
   "metadata": {
    "collapsed": false
   },
   "outputs": [
    {
     "name": "stdout",
     "output_type": "stream",
     "text": [
      "[4, 3, 2, 1]\n",
      "[4, 3, 2, 1, 5, 6]\n"
     ]
    }
   ],
   "source": [
    "# += 및 extend function\n",
    "# 리스트끼리 더할 때 \n",
    "\n",
    "print(numbers)\n",
    "numbers += [5,6]\n",
    "print(numbers)"
   ]
  },
  {
   "cell_type": "code",
   "execution_count": 161,
   "metadata": {
    "collapsed": false
   },
   "outputs": [
    {
     "name": "stdout",
     "output_type": "stream",
     "text": [
      "[4, 3, 2, 1, 5, 6, 7, 8]\n"
     ]
    }
   ],
   "source": [
    "numbers.extend([7,8])\n",
    "print(numbers)"
   ]
  },
  {
   "cell_type": "code",
   "execution_count": 164,
   "metadata": {
    "collapsed": false
   },
   "outputs": [
    {
     "name": "stdout",
     "output_type": "stream",
     "text": [
      "[[1, 2, 3, 4], 2, 3, 4, 5, 6]\n"
     ]
    }
   ],
   "source": [
    "# List 안에 list\n",
    "list_ = [[1,2,3,4], 2, 3, 4]\n",
    "list_ = list_ + [5,6]\n",
    "print(list_)"
   ]
  },
  {
   "cell_type": "markdown",
   "metadata": {},
   "source": [
    "## Tuple\n"
   ]
  },
  {
   "cell_type": "code",
   "execution_count": 166,
   "metadata": {
    "collapsed": true
   },
   "outputs": [],
   "source": [
    "#tuple은 괄호를 이용해 선언할 수 있습니다.   \n",
    "tuple1 = (1,2,3,4)"
   ]
  },
  {
   "cell_type": "code",
   "execution_count": 170,
   "metadata": {
    "collapsed": false
   },
   "outputs": [
    {
     "ename": "TypeError",
     "evalue": "'type' object does not support item deletion",
     "output_type": "error",
     "traceback": [
      "\u001b[0;31m---------------------------------------------------------------------------\u001b[0m",
      "\u001b[0;31mTypeError\u001b[0m                                 Traceback (most recent call last)",
      "\u001b[0;32m<ipython-input-170-a71eb0f35784>\u001b[0m in \u001b[0;36m<module>\u001b[0;34m()\u001b[0m\n\u001b[1;32m      1\u001b[0m \u001b[0;31m#tuple은 삭제가 불가능합니다.\u001b[0m\u001b[0;34m\u001b[0m\u001b[0;34m\u001b[0m\u001b[0m\n\u001b[0;32m----> 2\u001b[0;31m \u001b[0;32mdel\u001b[0m \u001b[0mtuple\u001b[0m\u001b[0;34m[\u001b[0m\u001b[0;36m1\u001b[0m\u001b[0;34m]\u001b[0m\u001b[0;34m\u001b[0m\u001b[0m\n\u001b[0m",
      "\u001b[0;31mTypeError\u001b[0m: 'type' object does not support item deletion"
     ]
    }
   ],
   "source": [
    "#tuple은 삭제가 불가능합니다.   \n",
    "del tuple[1]"
   ]
  },
  {
   "cell_type": "code",
   "execution_count": 171,
   "metadata": {
    "collapsed": false
   },
   "outputs": [
    {
     "ename": "TypeError",
     "evalue": "'tuple' object does not support item assignment",
     "output_type": "error",
     "traceback": [
      "\u001b[0;31m---------------------------------------------------------------------------\u001b[0m",
      "\u001b[0;31mTypeError\u001b[0m                                 Traceback (most recent call last)",
      "\u001b[0;32m<ipython-input-171-f26b0309bb14>\u001b[0m in \u001b[0;36m<module>\u001b[0;34m()\u001b[0m\n\u001b[1;32m      1\u001b[0m \u001b[0;31m#tuple은 추가가 불가능합니다.\u001b[0m\u001b[0;34m\u001b[0m\u001b[0;34m\u001b[0m\u001b[0m\n\u001b[0;32m----> 2\u001b[0;31m \u001b[0mtuple1\u001b[0m\u001b[0;34m[\u001b[0m\u001b[0;36m1\u001b[0m\u001b[0;34m]\u001b[0m \u001b[0;34m=\u001b[0m \u001b[0;34m'c'\u001b[0m\u001b[0;34m\u001b[0m\u001b[0m\n\u001b[0m",
      "\u001b[0;31mTypeError\u001b[0m: 'tuple' object does not support item assignment"
     ]
    }
   ],
   "source": [
    "#tuple은 추가가 불가능합니다.   \n",
    "tuple1[1] = 'c'"
   ]
  },
  {
   "cell_type": "code",
   "execution_count": 177,
   "metadata": {
    "collapsed": false
   },
   "outputs": [
    {
     "name": "stdout",
     "output_type": "stream",
     "text": [
      "(1, 2, 3, 4)\n",
      "(5, 6)\n",
      "(1, 2, 3, 4, 5, 6)\n",
      "(1, 2, 3, 4, 1, 2, 3, 4, 1, 2, 3, 4)\n"
     ]
    }
   ],
   "source": [
    "# tuple끼리 더하거나 반복하는 것은 가능합니다.  \n",
    "tuple2 = (5,6)\n",
    "print(tuple1)\n",
    "print(tuple2)\n",
    "print(tuple1 + tuple2)\n",
    "print(tuple1 * 3)"
   ]
  },
  {
   "cell_type": "code",
   "execution_count": 193,
   "metadata": {
    "collapsed": false
   },
   "outputs": [
    {
     "name": "stdout",
     "output_type": "stream",
     "text": [
      "(2, 1, 1)\n",
      "x: 2\n",
      "y: 1\n"
     ]
    }
   ],
   "source": [
    "# tuple은 값을 편하게 바꿀 수 있습니다.  \n",
    "x = 1\n",
    "y = 2\n",
    "\n",
    "temp = x\n",
    "x = y\n",
    "y = temp\n",
    "print(x, temp, y)\n",
    "\n",
    "print(\"x: %d\" %x)\n",
    "print(\"y: %d\" %y)"
   ]
  },
  {
   "cell_type": "code",
   "execution_count": 194,
   "metadata": {
    "collapsed": false
   },
   "outputs": [
    {
     "name": "stdout",
     "output_type": "stream",
     "text": [
      "(2, 1)\n",
      "(1, 2)\n"
     ]
    }
   ],
   "source": [
    "print(x,y)\n",
    "(x,y) = (y,x)\n",
    "print(x,y)"
   ]
  },
  {
   "cell_type": "code",
   "execution_count": 205,
   "metadata": {
    "collapsed": false
   },
   "outputs": [
    {
     "name": "stdout",
     "output_type": "stream",
     "text": [
      "((5, 6, 7, 8), (8, 7, 6, 5))\n"
     ]
    }
   ],
   "source": [
    "tuple_56 = (5,6,7,8)\n",
    "tuple_65 = tuple(reversed(tuple_56))\n",
    "print(tuple_56, tuple_65)"
   ]
  },
  {
   "cell_type": "code",
   "execution_count": 197,
   "metadata": {
    "collapsed": false
   },
   "outputs": [
    {
     "name": "stdout",
     "output_type": "stream",
     "text": [
      "(0, 1)\n"
     ]
    }
   ],
   "source": [
    "# 함수에서 하나 이상의 값을 반환할 때 사용\n",
    "def quot_and_rem(a,b):\n",
    "    quot = x // y \n",
    "    rem = x % y\n",
    "    return (quot, rem)\n",
    "\n",
    "(quot, rem) = quot_and_rem(3,10)\n",
    "print(quot, rem)"
   ]
  },
  {
   "cell_type": "markdown",
   "metadata": {},
   "source": []
  },
  {
   "cell_type": "markdown",
   "metadata": {},
   "source": [
    "# 조건문"
   ]
  },
  {
   "cell_type": "markdown",
   "metadata": {},
   "source": [
    "## if & else & elif\n",
    "\n",
    "### 빈도가 가장 높은 것을 상위에 올려놓는게 효율적인 경우가 많다. "
   ]
  },
  {
   "cell_type": "code",
   "execution_count": null,
   "metadata": {
    "collapsed": false
   },
   "outputs": [],
   "source": [
    "# conditions\n",
    "age = 19\n",
    "location = \"busan\"\n",
    "if age < 19 or location == \"seoul\":\n",
    "    print(\"you are tennager. or you live in seoul\")\n",
    "else: \n",
    "    print(\"you are not teenager or you live in another place\")"
   ]
  },
  {
   "cell_type": "code",
   "execution_count": 223,
   "metadata": {
    "collapsed": false
   },
   "outputs": [
    {
     "name": "stdout",
     "output_type": "stream",
     "text": [
      "under 19\n"
     ]
    }
   ],
   "source": [
    "age1 = 15\n",
    "if age1 < 19:\n",
    "    print(\"under 19\")\n",
    "elif age1 <50:\n",
    "    print(\"under 50\")\n",
    "else:\n",
    "    print(\"over 50\")"
   ]
  },
  {
   "cell_type": "code",
   "execution_count": 239,
   "metadata": {
    "collapsed": false
   },
   "outputs": [
    {
     "name": "stdout",
     "output_type": "stream",
     "text": [
      "18\n"
     ]
    }
   ],
   "source": [
    "import random\n",
    "\n",
    "answer1 = random.randint(1,100)\n",
    "print(answer1)"
   ]
  },
  {
   "cell_type": "code",
   "execution_count": 271,
   "metadata": {
    "collapsed": false
   },
   "outputs": [
    {
     "name": "stdout",
     "output_type": "stream",
     "text": [
      "24\n",
      "Hi there, What's your name??eric\n",
      "Hi, eric! guess the integer number: 21\n",
      "(\"That's not what I wanted!! The answer was \", '21')\n"
     ]
    }
   ],
   "source": [
    "#numguess\n",
    "import random\n",
    "\n",
    "answer = random.randint(1,100)\n",
    "# 1~99사이의 랜덤 int 변수 생성\n",
    "print(answer)\n",
    "\n",
    "username = raw_input(\"Hi there, What's your name??\")\n",
    "guess = eval(raw_input(\"Hi, \" + username + \"! guess the integer number: \"))\n",
    "\n",
    "if answer == guess:\n",
    "    print(\"Correct! The answer was \", str(answer))\n",
    "else:\n",
    "    print(\"That's not what I wanted!! The answer was \", str(guess))"
   ]
  },
  {
   "cell_type": "code",
   "execution_count": null,
   "metadata": {
    "collapsed": true
   },
   "outputs": [],
   "source": []
  },
  {
   "cell_type": "markdown",
   "metadata": {},
   "source": [
    "## For, while"
   ]
  },
  {
   "cell_type": "markdown",
   "metadata": {},
   "source": [
    "## For"
   ]
  },
  {
   "cell_type": "code",
   "execution_count": 277,
   "metadata": {
    "collapsed": false
   },
   "outputs": [
    {
     "name": "stdout",
     "output_type": "stream",
     "text": [
      "python\n",
      "java\n",
      "golang\n"
     ]
    }
   ],
   "source": [
    "'''\n",
    "for 변수 in (리스트 or 문자열):\n",
    "    실행문1\n",
    "'''\n",
    "for lang in [\"python\", \"java\", \"golang\"]:\n",
    "    print(lang)"
   ]
  },
  {
   "cell_type": "code",
   "execution_count": 296,
   "metadata": {
    "collapsed": false
   },
   "outputs": [
    {
     "name": "stdout",
     "output_type": "stream",
     "text": [
      "[1, 2, 3, 4, 5, 6, 7, 8, 9, 10]\n",
      "1\n",
      "3\n",
      "6\n",
      "10\n",
      "15\n",
      "21\n",
      "28\n",
      "36\n",
      "45\n",
      "55\n"
     ]
    }
   ],
   "source": [
    "# sum 구하는 코드\n",
    "print(range(1,11))\n",
    "\n",
    "summation = 0\n",
    "for i in range(1,11):\n",
    "#    summation += i\n",
    "    summation = summation + i\n",
    "    print(summation)"
   ]
  },
  {
   "cell_type": "code",
   "execution_count": 318,
   "metadata": {
    "collapsed": false
   },
   "outputs": [
    {
     "name": "stdout",
     "output_type": "stream",
     "text": [
      "[1, 2, 3, 4, 5, 6, 7, 8, 9, 10]\n",
      "[10, 9, 8, 7, 6, 5, 4, 3, 2, 1]\n",
      "10\n",
      "19\n",
      "27\n",
      "34\n",
      "40\n",
      "45\n",
      "49\n",
      "52\n",
      "54\n",
      "55\n"
     ]
    }
   ],
   "source": [
    "range_asc = range(1,11)\n",
    "print(range_asc)\n",
    "range_rev = list(reversed(range_asc))\n",
    "print(range_rev)\n",
    "\n",
    "sum1 = 0\n",
    "for j in (range_rev):\n",
    "    sum1 = sum1 + j\n",
    "    print(sum1)"
   ]
  },
  {
   "cell_type": "code",
   "execution_count": 289,
   "metadata": {
    "collapsed": false
   },
   "outputs": [
    {
     "name": "stdout",
     "output_type": "stream",
     "text": [
      "[1, 2, 3, 4, 5, 6, 7, 8, 9, 10]\n",
      "55\n"
     ]
    }
   ],
   "source": [
    "#기본 sum function을 이용한 sum\n",
    "range1 = range(1,10+1)\n",
    "print(range1)\n",
    "\n",
    "numsum = sum(range1)\n",
    "print(numsum)"
   ]
  },
  {
   "cell_type": "markdown",
   "metadata": {},
   "source": [
    "### while"
   ]
  },
  {
   "cell_type": "code",
   "execution_count": 323,
   "metadata": {
    "collapsed": false
   },
   "outputs": [
    {
     "name": "stdout",
     "output_type": "stream",
     "text": [
      "What is your name?eric\n",
      "Hi, eric.\n",
      "What is your name?eric\n",
      "Hi, eric.\n",
      "What is your name?break\n",
      "Hi, break.\n"
     ]
    }
   ],
   "source": [
    "name = \"\"\n",
    "while name != \"break\":\n",
    "    name = raw_input(\"What is your name?\")\n",
    "    print(\"Hi, \" + name + \".\")"
   ]
  },
  {
   "cell_type": "code",
   "execution_count": 275,
   "metadata": {
    "collapsed": false
   },
   "outputs": [
    {
     "name": "stdout",
     "output_type": "stream",
     "text": [
      "(0, 'Hello world')\n",
      "(1, 'Hello world')\n",
      "(2, 'Hello world')\n",
      "(3, 'Hello world')\n",
      "(4, 'Hello world')\n",
      "(5, 'Hello world')\n",
      "(6, 'Hello world')\n",
      "(7, 'Hello world')\n",
      "(8, 'Hello world')\n",
      "(9, 'Hello world')\n"
     ]
    }
   ],
   "source": [
    "i1 = 0\n",
    "while i1 !=10:\n",
    "    print(i1, \"Hello world\")\n",
    "    \n",
    "    i1 += 1"
   ]
  },
  {
   "cell_type": "code",
   "execution_count": 288,
   "metadata": {
    "collapsed": false
   },
   "outputs": [
    {
     "name": "stdout",
     "output_type": "stream",
     "text": [
      "type the number: 15\n",
      "[1, 2, 3, 4, 5, 6, 7, 8, 9, 10, 11, 12, 13, 14, 15]\n",
      "(1, ' ')\n",
      "(2, ' ')\n",
      "(3, 'fizz')\n",
      "(4, ' ')\n",
      "(5, 'buzz')\n",
      "(6, 'fizz')\n",
      "(7, ' ')\n",
      "(8, ' ')\n",
      "(9, 'fizz')\n",
      "(10, 'buzz')\n",
      "(11, ' ')\n",
      "(12, 'fizz')\n",
      "(13, ' ')\n",
      "(14, ' ')\n",
      "(15, 'fizzbuzz')\n"
     ]
    }
   ],
   "source": [
    "# Fizzbuzz\n",
    "num = eval(raw_input(\"type the number: \"))\n",
    "\n",
    "print(range(1, num+1))\n",
    "for i in range(1, num+1):\n",
    "    if i % 15 == 0:\n",
    "        print(i, \"fizzbuzz\")\n",
    "    elif i % 3 == 0:\n",
    "        print(i, \"fizz\")\n",
    "    elif i % 5 == 0:\n",
    "        print(i, \"buzz\")\n",
    "    else:\n",
    "        print(i, \" \")"
   ]
  },
  {
   "cell_type": "code",
   "execution_count": 324,
   "metadata": {
    "collapsed": false
   },
   "outputs": [
    {
     "name": "stdout",
     "output_type": "stream",
     "text": [
      "1\n",
      "2\n",
      "Fizz\n",
      "4\n",
      "Buzz\n",
      "Fizz\n",
      "7\n",
      "8\n",
      "Fizz\n",
      "Buzz\n",
      "11\n",
      "Fizz\n",
      "13\n",
      "14\n",
      "FizzBuzz\n",
      "16\n",
      "17\n",
      "Fizz\n",
      "19\n",
      "Buzz\n",
      "Fizz\n",
      "22\n",
      "23\n",
      "Fizz\n",
      "Buzz\n",
      "26\n",
      "Fizz\n",
      "28\n",
      "29\n",
      "FizzBuzz\n",
      "31\n",
      "32\n",
      "Fizz\n",
      "34\n",
      "Buzz\n",
      "Fizz\n",
      "37\n",
      "38\n",
      "Fizz\n",
      "Buzz\n",
      "41\n",
      "Fizz\n",
      "43\n",
      "44\n",
      "FizzBuzz\n",
      "46\n",
      "47\n",
      "Fizz\n",
      "49\n",
      "Buzz\n",
      "Fizz\n",
      "52\n",
      "53\n",
      "Fizz\n",
      "Buzz\n",
      "56\n",
      "Fizz\n",
      "58\n",
      "59\n",
      "FizzBuzz\n",
      "61\n",
      "62\n",
      "Fizz\n",
      "64\n",
      "Buzz\n",
      "Fizz\n",
      "67\n",
      "68\n",
      "Fizz\n",
      "Buzz\n",
      "71\n",
      "Fizz\n",
      "73\n",
      "74\n",
      "FizzBuzz\n",
      "76\n",
      "77\n",
      "Fizz\n",
      "79\n",
      "Buzz\n",
      "Fizz\n",
      "82\n",
      "83\n",
      "Fizz\n",
      "Buzz\n",
      "86\n",
      "Fizz\n",
      "88\n",
      "89\n",
      "FizzBuzz\n",
      "91\n",
      "92\n",
      "Fizz\n",
      "94\n",
      "Buzz\n",
      "Fizz\n",
      "97\n",
      "98\n",
      "Fizz\n",
      "Buzz\n"
     ]
    }
   ],
   "source": [
    "# one line solution\n",
    "print '\\n'.join(\"Fizz\"*(i%3==0)+\"Buzz\"*(i%5==0) or str(i) for i in range(1,101)) "
   ]
  },
  {
   "cell_type": "code",
   "execution_count": 293,
   "metadata": {
    "collapsed": true
   },
   "outputs": [],
   "source": [
    "# 숙제 : Monty Hall Problem"
   ]
  },
  {
   "cell_type": "code",
   "execution_count": 409,
   "metadata": {
    "collapsed": false
   },
   "outputs": [
    {
     "name": "stdout",
     "output_type": "stream",
     "text": [
      "['car']\n",
      "['car', 'goat']\n",
      "['car', 'goat', 'goat']\n",
      "Which door do you want (1-3)? 2\n",
      "You select the door : 2\n",
      "Before we show you your prize, let's show you another door\n",
      "Take a look at prize in door 3 : goat\n",
      "This is your last chance! Which door? (1-3)1\n",
      "('You get a', 'car')\n"
     ]
    }
   ],
   "source": [
    "import random\n",
    "\n",
    "# hiding prizes behind the doors\n",
    "prizes = ['goat', 'goat', 'car']\n",
    "doors = []\n",
    "\n",
    "# pick one random prize at a time from prizes and pop\n",
    "# into the doors list\n",
    "while(len(prizes) > 0): #prize가 다 떨어질 때까지\n",
    "    prizeNumber = random.randrange(len(prizes))\n",
    "    doors.append(prizes.pop(prizeNumber)) # picking the prize\n",
    "    print(doors)\n",
    "\n",
    "# find out which door they want first\n",
    "choice1 = eval(raw_input(\"Which door do you want (1-3)? \"))\n",
    "print(\"You select the door : %d\" % choice1)\n",
    "# show them a goat door that isn't one they picked\n",
    "print(\"Before we show you your prize, let's show you another door\")\n",
    "\n",
    "while(True):\n",
    "    # select a random door, 0-2\n",
    "    randDoor = random.randrange(len(doors))\n",
    "    if doors[randDoor] != \"car\" and choice1 - 1 != randDoor:\n",
    "        #show it to them\n",
    "        break\n",
    "#number of door I want to show them \n",
    "#not the car, not the one they chose        \n",
    "print(\"Take a look at prize in door %d : %s\" %((randDoor +1), doors[randDoor])) \n",
    "\n",
    "#found out which door they finally want and show it to them\n",
    "choice2 = eval(raw_input(\"This is your last chance! Which door? (1-3)\"))\n",
    "print(\"You get a\", doors[choice2-1])\n"
   ]
  },
  {
   "cell_type": "code",
   "execution_count": 432,
   "metadata": {
    "collapsed": false
   },
   "outputs": [
    {
     "name": "stdout",
     "output_type": "stream",
     "text": [
      "How many simulations do you want??15\n",
      "############### Simulation Number 1 ################\n",
      "['goat', 'goat', 'car']\n",
      "Your choice : Car -> switch -> final prize : Goat\n",
      "\n",
      "############### Simulation Number 2 ################\n",
      "['goat', 'goat', 'car']\n",
      "Your choice : Car -> switch -> final prize : Goat\n",
      "\n",
      "############### Simulation Number 3 ################\n",
      "['goat', 'car', 'goat']\n",
      "You choice : goat -> switch -> final prize : Car\n",
      "\n",
      "############### Simulation Number 4 ################\n",
      "['goat', 'car', 'goat']\n",
      "You choice : goat -> switch -> final prize : Car\n",
      "\n",
      "############### Simulation Number 5 ################\n",
      "['goat', 'goat', 'car']\n",
      "You choice : goat -> switch -> final prize : Car\n",
      "\n",
      "############### Simulation Number 6 ################\n",
      "['car', 'goat', 'goat']\n",
      "Your choice : Car -> switch -> final prize : Goat\n",
      "\n",
      "############### Simulation Number 7 ################\n",
      "['goat', 'goat', 'car']\n",
      "You choice : goat -> switch -> final prize : Car\n",
      "\n",
      "############### Simulation Number 8 ################\n",
      "['goat', 'goat', 'car']\n",
      "You choice : goat -> switch -> final prize : Car\n",
      "\n",
      "############### Simulation Number 9 ################\n",
      "['car', 'goat', 'goat']\n",
      "You choice : goat -> switch -> final prize : Car\n",
      "\n",
      "############### Simulation Number 10 ################\n",
      "['goat', 'car', 'goat']\n",
      "You choice : goat -> switch -> final prize : Car\n",
      "\n",
      "############### Simulation Number 11 ################\n",
      "['goat', 'goat', 'car']\n",
      "Your choice : Car -> switch -> final prize : Goat\n",
      "\n",
      "############### Simulation Number 12 ################\n",
      "['car', 'goat', 'goat']\n",
      "You choice : goat -> switch -> final prize : Car\n",
      "\n",
      "############### Simulation Number 13 ################\n",
      "['goat', 'goat', 'car']\n",
      "Your choice : Car -> switch -> final prize : Goat\n",
      "\n",
      "############### Simulation Number 14 ################\n",
      "['goat', 'car', 'goat']\n",
      "You choice : goat -> switch -> final prize : Car\n",
      "\n",
      "############### Simulation Number 15 ################\n",
      "['goat', 'goat', 'car']\n",
      "You choice : goat -> switch -> final prize : Car\n",
      "\n",
      "########## Result ##########\n",
      "Win: 10, Lose: 5\n",
      "percent of success: 66.00\n",
      "percent of fail: 33.00\n",
      "total time: 0.01\n",
      "############################\n"
     ]
    }
   ],
   "source": [
    "import random\n",
    "import time\n",
    "\n",
    "'''\n",
    "goat1 = 0\n",
    "goat2 = 0 \n",
    "car = 1\n",
    "'''\n",
    "\n",
    "win = 0 #swi\n",
    "lose = 0\n",
    "complete = 0\n",
    "\n",
    "number = input(\"How many simulations do you want??\")\n",
    "begin_time = time.time()\n",
    "\n",
    "for k in range(0, number):\n",
    "    doors = [\"car\", \"goat\", \"goat\"]\n",
    "    complete = complete + 1\n",
    "    print(\"############### Simulation Number \" + str(complete) + \" ################\")\n",
    "\n",
    "    # changing doors behind the door (1 car, 2 goats)\n",
    "    random.shuffle(doors)\n",
    "    print(doors)\n",
    "    \n",
    "    # selecting one door out of 3\n",
    "    choice = random.randrange(3) # 0,1,2 \n",
    "    if doors[choice] == \"car\": #first choice was car then you switch \n",
    "        lose = lose + 1 #so you get goat -> lost +1\n",
    "        print(\"Your choice : Car -> switch -> final prize : Goat\")\n",
    "    if doors[choice] == \"goat\": #first choise was goat, now you have a car and a goat\n",
    "        win = win + 1 #then modertaor shows goat then you switch so you win a car\n",
    "        print(\"You choice : goat -> switch -> final prize : Car\")\n",
    "    print(\"\")\n",
    "    \n",
    "end_time = time.time()\n",
    "\n",
    "w_rate = 100*win/number\n",
    "l_rate = 100*lose/number\n",
    "total_time = end_time-begin_time\n",
    "\n",
    "print(\"########## Result ##########\")\n",
    "print(\"Win: %d, Lose: %d\" %(win, lose))    \n",
    "print(\"percent of success: %0.2f\" %w_rate)\n",
    "print(\"percent of fail: %0.2f\" %l_rate)\n",
    "print(\"total time: %0.2f\" %total_time)\n",
    "print(\"############################\")"
   ]
  },
  {
   "cell_type": "code",
   "execution_count": 1,
   "metadata": {
    "collapsed": true
   },
   "outputs": [],
   "source": [
    "## TODO : ask friday after class (6:00~7:00) pizza time -> report\n",
    "## 목요일 셀프스터디"
   ]
  },
  {
   "cell_type": "markdown",
   "metadata": {
    "collapsed": true
   },
   "source": [
    "# Day 3 (2017/07/26)\n",
    "\n",
    "* examples  \n",
    "* dictionary -> 개발\n",
    "* set -> 분석\n",
    "* list comprehension -> 전부 다 "
   ]
  },
  {
   "cell_type": "code",
   "execution_count": 60,
   "metadata": {
    "collapsed": false
   },
   "outputs": [],
   "source": [
    "# More example "
   ]
  },
  {
   "cell_type": "code",
   "execution_count": 61,
   "metadata": {
    "collapsed": false
   },
   "outputs": [
    {
     "name": "stdout",
     "output_type": "stream",
     "text": [
      "two nums with space: 15 17\n",
      "  15      17   keep    result: 17\n",
      "   7      34   keep    result: 51\n",
      "   3      68   keep    result: 119\n",
      "   1     136   keep    result: 255\n"
     ]
    }
   ],
   "source": [
    "# Ethiopian Multiplication\n",
    "# 2로 나누고 곱하는 과정으로 두 수의 곱을 구현하는 방법\n",
    "numbers = str(raw_input(\"two nums with space: \")).split()\n",
    "\n",
    "result = 0 \n",
    "num1 = int(numbers[0])\n",
    "num2 = int(numbers[1])\n",
    "\n",
    "while num1 >= 1:\n",
    "    if num1 %2 == 0: # 2로 나눴을 때 나머지가 0 -> 짝수\n",
    "        print(\"%4d %7d   struck    result: %d\" % (num1, num2, result))\n",
    "    else: #홀수 일 때\n",
    "        result = result + num2 # 홀수이면 result에 그 값들을 합한다.\n",
    "        print(\"%4d %7d   keep    result: %d\" % (num1, num2, result))\n",
    "        \n",
    "        \n",
    "    num1 = num1 //2\n",
    "    num2 = num2 * 2"
   ]
  },
  {
   "cell_type": "code",
   "execution_count": 62,
   "metadata": {
    "collapsed": false
   },
   "outputs": [
    {
     "name": "stdout",
     "output_type": "stream",
     "text": [
      "(2, 2.0)\n"
     ]
    }
   ],
   "source": [
    "# / 와 //의 차이점\n",
    "n1 = 5//2 # 소수점을 내림함 (실수)\n",
    "n2 = float(5/2) # 소수점으로 표현\n",
    "print(n1, n2)"
   ]
  },
  {
   "cell_type": "code",
   "execution_count": 27,
   "metadata": {
    "collapsed": false
   },
   "outputs": [
    {
     "data": {
      "text/plain": [
       "'fastcampus'"
      ]
     },
     "execution_count": 27,
     "metadata": {},
     "output_type": "execute_result"
    }
   ],
   "source": [
    "# tuple practice\n",
    "facamp = \"fastcampus\"\n",
    "facamp"
   ]
  },
  {
   "cell_type": "code",
   "execution_count": 58,
   "metadata": {
    "collapsed": false
   },
   "outputs": [
    {
     "data": {
      "text/plain": [
       "('f',\n",
       " ',',\n",
       " 'a',\n",
       " ',',\n",
       " 's',\n",
       " ',',\n",
       " 't',\n",
       " ',',\n",
       " 'c',\n",
       " ',',\n",
       " 'a',\n",
       " ',',\n",
       " 'm',\n",
       " ',',\n",
       " 'p',\n",
       " ',',\n",
       " 'u',\n",
       " ',',\n",
       " 's')"
      ]
     },
     "execution_count": 58,
     "metadata": {},
     "output_type": "execute_result"
    }
   ],
   "source": [
    "t_facamp = tuple(\",\".join(facamp))\n",
    "t_facamp\n",
    "# type(t_facamp)"
   ]
  },
  {
   "cell_type": "code",
   "execution_count": 31,
   "metadata": {
    "collapsed": false
   },
   "outputs": [
    {
     "data": {
      "text/plain": [
       "('f', 'a', 's', 't', 'c', 'a', 'm', 'p', 'u', 's')"
      ]
     },
     "execution_count": 31,
     "metadata": {},
     "output_type": "execute_result"
    }
   ],
   "source": [
    "tuple_facamp = tuple(\",\".join(facamp).split(\",\"))\n",
    "tuple_facamp"
   ]
  },
  {
   "cell_type": "code",
   "execution_count": 45,
   "metadata": {
    "collapsed": false
   },
   "outputs": [
    {
     "data": {
      "text/plain": [
       "('fast', 'campus')"
      ]
     },
     "execution_count": 45,
     "metadata": {},
     "output_type": "execute_result"
    }
   ],
   "source": [
    "tuple_facamp1 = ('fast', 'campus')\n",
    "tuple_facamp1"
   ]
  },
  {
   "cell_type": "code",
   "execution_count": 106,
   "metadata": {
    "collapsed": false
   },
   "outputs": [
    {
     "data": {
      "text/plain": [
       "('physics', 'chemistry', 1997, 2000)"
      ]
     },
     "execution_count": 106,
     "metadata": {},
     "output_type": "execute_result"
    }
   ],
   "source": [
    "tup = ('physics', 'chemistry', 1997, 2000)\n",
    "tup\n"
   ]
  },
  {
   "cell_type": "code",
   "execution_count": 64,
   "metadata": {
    "collapsed": false
   },
   "outputs": [
    {
     "name": "stdout",
     "output_type": "stream",
     "text": [
      "['abba', 'boa', 'hot', 'ses']\n"
     ]
    },
    {
     "data": {
      "text/plain": [
       "list"
      ]
     },
     "execution_count": 64,
     "metadata": {},
     "output_type": "execute_result"
    }
   ],
   "source": [
    "#join practice\n",
    "music = [\"abba\", \"boa\", \"hot\", \"ses\"]\n",
    "print(music)\n",
    "type(music)"
   ]
  },
  {
   "cell_type": "code",
   "execution_count": 89,
   "metadata": {
    "collapsed": false
   },
   "outputs": [
    {
     "name": "stdout",
     "output_type": "stream",
     "text": [
      "abba boa hot ses\n",
      "<type 'str'>\n",
      "abba-boa-hot-ses\n",
      "abba\n",
      "boa\n",
      "hot\n",
      "ses\n",
      "abba    boa    hot    ses\n"
     ]
    }
   ],
   "source": [
    "print(\" \".join(music)) #join with space\n",
    "print(type(\" \".join(music)))\n",
    "print(\"-\".join(music)) #join with -\n",
    "print(\"\\n\".join(music)) #join with a new line\n",
    "print(\"    \".join(music)) #join with a tab"
   ]
  },
  {
   "cell_type": "markdown",
   "metadata": {},
   "source": [
    "### Dictionary & Set"
   ]
  },
  {
   "cell_type": "code",
   "execution_count": 93,
   "metadata": {
    "collapsed": false
   },
   "outputs": [
    {
     "name": "stdout",
     "output_type": "stream",
     "text": [
      "{}\n",
      "{'a': 10}\n"
     ]
    }
   ],
   "source": [
    "dict1 = {}\n",
    "print(dict1)\n",
    "\n",
    "#요소 추가\n",
    "dict1['a'] = 10\n",
    "print(dict1)"
   ]
  },
  {
   "cell_type": "code",
   "execution_count": 94,
   "metadata": {
    "collapsed": false
   },
   "outputs": [
    {
     "name": "stdout",
     "output_type": "stream",
     "text": [
      "{'name': 'foo bar'}\n"
     ]
    }
   ],
   "source": [
    "dict1 = {'name':'foo bar'}\n",
    "print(dict1)"
   ]
  },
  {
   "cell_type": "code",
   "execution_count": 75,
   "metadata": {
    "collapsed": false
   },
   "outputs": [
    {
     "name": "stdout",
     "output_type": "stream",
     "text": [
      "{'name': 'foo bar', 'english': 'pass'}\n"
     ]
    }
   ],
   "source": [
    "dict1['english'] = \"pass\"\n",
    "print(dict1)"
   ]
  },
  {
   "cell_type": "code",
   "execution_count": 114,
   "metadata": {
    "collapsed": false
   },
   "outputs": [
    {
     "name": "stdout",
     "output_type": "stream",
     "text": [
      "{'science': [80, 70, 90, 60], 'korean': 95, 'math': 100, 'history': 70}\n"
     ]
    }
   ],
   "source": [
    "dict2 = {\n",
    "    'korean' : 95, \n",
    "    'math': 100, \n",
    "    'science': [80,70,90,60],\n",
    "}\n",
    "dict2['history'] = 70\n",
    "print(dict2)"
   ]
  },
  {
   "cell_type": "code",
   "execution_count": 115,
   "metadata": {
    "collapsed": false
   },
   "outputs": [
    {
     "name": "stdout",
     "output_type": "stream",
     "text": [
      "95\n",
      "70\n"
     ]
    }
   ],
   "source": [
    "# key 값을 이용하여 value를 출력하는 법 -> dictionary[\"key\"]\n",
    "print(dict2['korean'])\n",
    "print(dict2['history'])"
   ]
  },
  {
   "cell_type": "code",
   "execution_count": 116,
   "metadata": {
    "collapsed": false
   },
   "outputs": [
    {
     "name": "stdout",
     "output_type": "stream",
     "text": [
      "{'science': [80, 70, 90, 60], 'korean': 95, 'math': 100}\n"
     ]
    }
   ],
   "source": [
    "# key값을 이용하여 value를 삭제하는 법\n",
    "del dict2['history']\n",
    "print(dict2)"
   ]
  },
  {
   "cell_type": "code",
   "execution_count": 79,
   "metadata": {
    "collapsed": false
   },
   "outputs": [
    {
     "name": "stdout",
     "output_type": "stream",
     "text": [
      "['science', 'korean', 'math']\n"
     ]
    },
    {
     "data": {
      "text/plain": [
       "list"
      ]
     },
     "execution_count": 79,
     "metadata": {},
     "output_type": "execute_result"
    }
   ],
   "source": [
    "#key 만 출력하는 법 -> keys()\n",
    "print(dict2.keys())\n",
    "type(dict2.keys())"
   ]
  },
  {
   "cell_type": "code",
   "execution_count": 129,
   "metadata": {
    "collapsed": false
   },
   "outputs": [
    {
     "name": "stdout",
     "output_type": "stream",
     "text": [
      "[[80, 70, 90, 60], 95, 100]\n",
      "<type 'list'>\n"
     ]
    }
   ],
   "source": [
    "#value만 출력하는 법 -> values()\n",
    "print(dict2.values())\n",
    "print(type(dict2.values()))"
   ]
  },
  {
   "cell_type": "code",
   "execution_count": 124,
   "metadata": {
    "collapsed": false
   },
   "outputs": [
    {
     "name": "stdout",
     "output_type": "stream",
     "text": [
      "[('science', [80, 70, 90, 60]), ('korean', 95), ('math', 100)]\n",
      "<type 'list'>\n"
     ]
    }
   ],
   "source": [
    "#key와 value를 함께 출력 -> items()\n",
    "print(dict2.items())\n",
    "print(type(dict2.items()))\n",
    "# tuple(dict2.items())"
   ]
  },
  {
   "cell_type": "code",
   "execution_count": 130,
   "metadata": {
    "collapsed": true
   },
   "outputs": [],
   "source": [
    "#Samll Quiz\n",
    "A = 'fastcampus'\n",
    "B = 'python'"
   ]
  },
  {
   "cell_type": "markdown",
   "metadata": {},
   "source": [
    "### set\n",
    "* 수학 집합 연산을 쉽게 하기 위해 만든 자료형\n",
    "* 순서 없음\n",
    "* 중복 없음"
   ]
  },
  {
   "cell_type": "code",
   "execution_count": 135,
   "metadata": {
    "collapsed": false
   },
   "outputs": [
    {
     "name": "stdout",
     "output_type": "stream",
     "text": [
      "set(['pen', 'apple', 'pineapple'])\n"
     ]
    }
   ],
   "source": [
    "# set 선언\n",
    "ppap = {'pen', 'pineapple', 'apple', 'pen'}\n",
    "print(ppap)"
   ]
  },
  {
   "cell_type": "code",
   "execution_count": 136,
   "metadata": {
    "collapsed": false
   },
   "outputs": [
    {
     "data": {
      "text/plain": [
       "True"
      ]
     },
     "execution_count": 136,
     "metadata": {},
     "output_type": "execute_result"
    }
   ],
   "source": [
    "'apple' in ppap"
   ]
  },
  {
   "cell_type": "code",
   "execution_count": 137,
   "metadata": {
    "collapsed": false
   },
   "outputs": [
    {
     "data": {
      "text/plain": [
       "False"
      ]
     },
     "execution_count": 137,
     "metadata": {},
     "output_type": "execute_result"
    }
   ],
   "source": [
    "'applepen' in ppap"
   ]
  },
  {
   "cell_type": "code",
   "execution_count": 144,
   "metadata": {
    "collapsed": false
   },
   "outputs": [
    {
     "name": "stdout",
     "output_type": "stream",
     "text": [
      "set(['a', 'e', 'i', 'l', 'n', 'p'])\n",
      "<type 'set'>\n"
     ]
    }
   ],
   "source": [
    "pineapple = set('pineapple')\n",
    "print(pineapple)\n",
    "print(type(pineapple))"
   ]
  },
  {
   "cell_type": "code",
   "execution_count": 157,
   "metadata": {
    "collapsed": false
   },
   "outputs": [
    {
     "name": "stdout",
     "output_type": "stream",
     "text": [
      "<type 'list'>\n",
      "['a', 'e', 'i', 'l', 'n', 'p']\n",
      "a\n",
      "e\n",
      "i\n",
      "l\n",
      "n\n",
      "p\n"
     ]
    }
   ],
   "source": [
    "list_pineapple = list(pineapple)\n",
    "print(type(list_pineapple))\n",
    "print(list_pineapple)\n",
    "for i in list_pineapple:\n",
    "    print(i)"
   ]
  },
  {
   "cell_type": "markdown",
   "metadata": {},
   "source": [
    "공식  \n",
    "A ∪ B\t== A | B   \n",
    "A ∩ B\t== A & B   \n",
    "A - B\t== A - B   \n",
    "A Δ B == A ^ B  "
   ]
  },
  {
   "cell_type": "code",
   "execution_count": 161,
   "metadata": {
    "collapsed": false
   },
   "outputs": [
    {
     "name": "stdout",
     "output_type": "stream",
     "text": [
      "set(['a', 'c', 'f', 'h', 'm', 'o', 'n', 'p', 's', 'u', 't', 'y'])\n",
      "set(['p', 't'])\n",
      "set(['a', 'c', 'f', 'm', 's', 'u'])\n",
      "set(['a', 'c', 'f', 'h', 'm', 'o', 'n', 's', 'u', 'y'])\n"
     ]
    }
   ],
   "source": [
    "A = set('fastcampus')\n",
    "B = set('python')\n",
    "\n",
    "print(A|B)\n",
    "print(A&B)\n",
    "print(A-B)\n",
    "print(A^B)"
   ]
  },
  {
   "cell_type": "code",
   "execution_count": 165,
   "metadata": {
    "collapsed": false
   },
   "outputs": [
    {
     "name": "stdout",
     "output_type": "stream",
     "text": [
      "14\n",
      "Hi there, What's your name??eric\n",
      "Hi, eric! guess the integer number: 24\n",
      "your guess is too high!! Try again!\n",
      "Hi, eric! guess the integer number: 17\n",
      "your guess is too high!! Try again!\n",
      "Hi, eric! guess the integer number: 11\n",
      "your guess is too low!! Try again!\n"
     ]
    },
    {
     "ename": "KeyboardInterrupt",
     "evalue": "",
     "output_type": "error",
     "traceback": [
      "\u001b[0;31m---------------------------------------------------------------------------\u001b[0m",
      "\u001b[0;31mKeyboardInterrupt\u001b[0m                         Traceback (most recent call last)",
      "\u001b[0;32m<ipython-input-165-0baf24d57e23>\u001b[0m in \u001b[0;36m<module>\u001b[0;34m()\u001b[0m\n\u001b[1;32m     11\u001b[0m \u001b[0;31m# 추측\u001b[0m\u001b[0;34m\u001b[0m\u001b[0;34m\u001b[0m\u001b[0m\n\u001b[1;32m     12\u001b[0m \u001b[0;32mwhile\u001b[0m \u001b[0mTrue\u001b[0m\u001b[0;34m:\u001b[0m\u001b[0;34m\u001b[0m\u001b[0m\n\u001b[0;32m---> 13\u001b[0;31m     \u001b[0mguess\u001b[0m \u001b[0;34m=\u001b[0m \u001b[0meval\u001b[0m\u001b[0;34m(\u001b[0m\u001b[0mraw_input\u001b[0m\u001b[0;34m(\u001b[0m\u001b[0;34m\"Hi, \"\u001b[0m \u001b[0;34m+\u001b[0m \u001b[0musername\u001b[0m \u001b[0;34m+\u001b[0m \u001b[0;34m\"! guess the integer number: \"\u001b[0m\u001b[0;34m)\u001b[0m\u001b[0;34m)\u001b[0m\u001b[0;34m\u001b[0m\u001b[0m\n\u001b[0m\u001b[1;32m     14\u001b[0m \u001b[0;34m\u001b[0m\u001b[0m\n\u001b[1;32m     15\u001b[0m     \u001b[0;32mif\u001b[0m \u001b[0manswer\u001b[0m \u001b[0;34m==\u001b[0m \u001b[0mguess\u001b[0m\u001b[0;34m:\u001b[0m\u001b[0;34m\u001b[0m\u001b[0m\n",
      "\u001b[0;32m/Users/kimeric/anaconda2/lib/python2.7/site-packages/ipykernel/kernelbase.pyc\u001b[0m in \u001b[0;36mraw_input\u001b[0;34m(self, prompt)\u001b[0m\n\u001b[1;32m    692\u001b[0m             \u001b[0mself\u001b[0m\u001b[0;34m.\u001b[0m\u001b[0m_parent_ident\u001b[0m\u001b[0;34m,\u001b[0m\u001b[0;34m\u001b[0m\u001b[0m\n\u001b[1;32m    693\u001b[0m             \u001b[0mself\u001b[0m\u001b[0;34m.\u001b[0m\u001b[0m_parent_header\u001b[0m\u001b[0;34m,\u001b[0m\u001b[0;34m\u001b[0m\u001b[0m\n\u001b[0;32m--> 694\u001b[0;31m             \u001b[0mpassword\u001b[0m\u001b[0;34m=\u001b[0m\u001b[0mFalse\u001b[0m\u001b[0;34m,\u001b[0m\u001b[0;34m\u001b[0m\u001b[0m\n\u001b[0m\u001b[1;32m    695\u001b[0m         )\n\u001b[1;32m    696\u001b[0m \u001b[0;34m\u001b[0m\u001b[0m\n",
      "\u001b[0;32m/Users/kimeric/anaconda2/lib/python2.7/site-packages/ipykernel/kernelbase.pyc\u001b[0m in \u001b[0;36m_input_request\u001b[0;34m(self, prompt, ident, parent, password)\u001b[0m\n\u001b[1;32m    722\u001b[0m             \u001b[0;32mexcept\u001b[0m \u001b[0mKeyboardInterrupt\u001b[0m\u001b[0;34m:\u001b[0m\u001b[0;34m\u001b[0m\u001b[0m\n\u001b[1;32m    723\u001b[0m                 \u001b[0;31m# re-raise KeyboardInterrupt, to truncate traceback\u001b[0m\u001b[0;34m\u001b[0m\u001b[0;34m\u001b[0m\u001b[0m\n\u001b[0;32m--> 724\u001b[0;31m                 \u001b[0;32mraise\u001b[0m \u001b[0mKeyboardInterrupt\u001b[0m\u001b[0;34m\u001b[0m\u001b[0m\n\u001b[0m\u001b[1;32m    725\u001b[0m             \u001b[0;32melse\u001b[0m\u001b[0;34m:\u001b[0m\u001b[0;34m\u001b[0m\u001b[0m\n\u001b[1;32m    726\u001b[0m                 \u001b[0;32mbreak\u001b[0m\u001b[0;34m\u001b[0m\u001b[0m\n",
      "\u001b[0;31mKeyboardInterrupt\u001b[0m: "
     ]
    }
   ],
   "source": [
    "#numguess upgrade version (1.1)\n",
    "import random\n",
    "\n",
    "# 1~99사이의 랜덤 int 변수 생성\n",
    "answer = random.randint(1,100)\n",
    "print(answer)\n",
    "\n",
    "# 이름 물어보기\n",
    "username = raw_input(\"Hi there, What's your name??\")\n",
    "\n",
    "# 추측\n",
    "while True:\n",
    "    guess = eval(raw_input(\"Hi, \" + username + \"! guess the integer number: \"))\n",
    "\n",
    "    if answer == guess:\n",
    "        print(\"Correct! The answer was \", str(answer))\n",
    "        break\n",
    "#     else:\n",
    "#         print(\"That's not what I wanted!! Try again!!\")\n",
    "    elif answer > guess:\n",
    "        print(\"your guess is too low!! Try again!\")\n",
    "    elif answer < guess:\n",
    "        print(\"your guess is too high!! Try again!\")"
   ]
  },
  {
   "cell_type": "markdown",
   "metadata": {},
   "source": [
    "#### randint 와 randrange의 차이점\n",
    "There is one slight difference when used with just two parameters. randint(x,y) will return a value >= x and <= y, while randrange(x,y) will return a value >=x and < y (n.b. not less than or equal to y)\n",
    "\n",
    "There is a bigger difference if you use the additional parameter that randrange can take ... randrange(start, stop, step)\n",
    "\n",
    "Leaving off the random part, range(start, stop, step) will create a range of integers, starting at \"start\", and less than \"stop\", and incremented in between by \"step\". e.g. range(2,11,2) = [2,4,6,8,10], or range(0, 30, 5) = [0, 5, 10, 15, 20, 25].\n",
    "\n",
    "randrange will return a random number that is contained in the list. So randrange(0,30,5) would return ONE of the numbers in [0, 5, 10, 15, 20, 25]."
   ]
  },
  {
   "cell_type": "markdown",
   "metadata": {},
   "source": [
    "## List Comprehension\n",
    "\n",
    "존재하는 리스트를 활용하여 새로운 리스트를 생성하는 방법\n",
    "\n",
    "비슷한 표현들 \n",
    "* set comprehension\n",
    "* dictionary comprehension\n",
    "* parallel list comprehension"
   ]
  },
  {
   "cell_type": "code",
   "execution_count": 182,
   "metadata": {
    "collapsed": false
   },
   "outputs": [
    {
     "name": "stdout",
     "output_type": "stream",
     "text": [
      "[2, 4, 6, 8, 10]\n"
     ]
    }
   ],
   "source": [
    "# for loop을 이용한 두배만들기\n",
    "old_list = [1,2,3,4,5,]\n",
    "\n",
    "doubled_list = []\n",
    "for i in old_list:\n",
    "    doubled_list.append(i*2)\n",
    "print(doubled_list)"
   ]
  },
  {
   "cell_type": "code",
   "execution_count": 183,
   "metadata": {
    "collapsed": false
   },
   "outputs": [
    {
     "name": "stdout",
     "output_type": "stream",
     "text": [
      "[2, 4, 6, 8, 10]\n"
     ]
    }
   ],
   "source": [
    "# list comprehension을 이용한 두배 만들기\n",
    "old_list1 = [1,2,3,4,5,]\n",
    "\n",
    "doubled_list1 = [i * 2 for i in old_list1]\n",
    "print(doubled_list1)"
   ]
  },
  {
   "cell_type": "code",
   "execution_count": null,
   "metadata": {
    "collapsed": true
   },
   "outputs": [],
   "source": []
  },
  {
   "cell_type": "code",
   "execution_count": 184,
   "metadata": {
    "collapsed": false
   },
   "outputs": [
    {
     "name": "stdout",
     "output_type": "stream",
     "text": [
      "[4, 8]\n"
     ]
    }
   ],
   "source": [
    "# for loop 이용하여 짝수만 선별하여 2배로 한다.\n",
    "old_list2 = [1,2,3,4,5,]\n",
    "\n",
    "doubled_list2 = []\n",
    "for i in old_list2:\n",
    "    if i%2 == 0:\n",
    "        doubled_list2.append(i*2)\n",
    "\n",
    "print(doubled_list2)"
   ]
  },
  {
   "cell_type": "code",
   "execution_count": 187,
   "metadata": {
    "collapsed": false
   },
   "outputs": [
    {
     "name": "stdout",
     "output_type": "stream",
     "text": [
      "[4, 8]\n"
     ]
    }
   ],
   "source": [
    "# list comprehension을 이용 -> 짝수 만 선별 2배 \n",
    "doubled_list2 = [i * 2 for i in old_list2 if i % 2 == 0]\n",
    "print(doubled_list2)"
   ]
  },
  {
   "cell_type": "code",
   "execution_count": 203,
   "metadata": {
    "collapsed": false
   },
   "outputs": [
    {
     "name": "stdout",
     "output_type": "stream",
     "text": [
      "<type 'list'>\n",
      "1\n",
      "2\n",
      "(3, 'fizz')\n",
      "4\n",
      "(5, 'buzz')\n",
      "(6, 'fizz')\n",
      "7\n",
      "8\n",
      "(9, 'fizz')\n",
      "(10, 'buzz')\n",
      "11\n",
      "(12, 'fizz')\n",
      "13\n",
      "14\n",
      "(15, 'fizzbuzz')\n"
     ]
    }
   ],
   "source": [
    "# list comprehension을 이용한 FizzBuzz\n",
    "nums = range(1, 15+1)\n",
    "print(type(nums))\n",
    "\n",
    "for i in nums:\n",
    "    if i % 15 == 0:\n",
    "        print(i,\"fizzbuzz\")\n",
    "    elif i % 3 == 0:\n",
    "        print(i, \"fizz\")\n",
    "    elif i % 5 == 0:\n",
    "        print(i, \"buzz\")\n",
    "    else:\n",
    "        print(i)"
   ]
  },
  {
   "cell_type": "code",
   "execution_count": 279,
   "metadata": {
    "collapsed": false
   },
   "outputs": [
    {
     "name": "stdout",
     "output_type": "stream",
     "text": [
      "1\n",
      "2\n",
      "fizz\n",
      "4\n",
      "buzz\n",
      "fizz\n",
      "7\n",
      "8\n",
      "fizz\n",
      "buzz\n",
      "11\n",
      "fizz\n",
      "13\n",
      "14\n",
      "fizzbuzz\n"
     ]
    }
   ],
   "source": [
    "# 강사님 답\n",
    "# step 1\n",
    "for i in range(1, 15+1):\n",
    "    print(\"fizz\"*(i%3==0) + \"buzz\"*(i%5==0) or i)"
   ]
  },
  {
   "cell_type": "code",
   "execution_count": 280,
   "metadata": {
    "collapsed": false
   },
   "outputs": [
    {
     "name": "stdout",
     "output_type": "stream",
     "text": [
      "1\n",
      "2\n",
      "fizz\n",
      "4\n",
      "buzz\n",
      "fizz\n",
      "7\n",
      "8\n",
      "fizz\n",
      "buzz\n",
      "11\n",
      "fizz\n",
      "13\n",
      "14\n",
      "fizzbuzz\n"
     ]
    }
   ],
   "source": [
    "#step 2\n",
    "for i in range(1, 15+1):\n",
    "    if i % 3 == 0 or i % 5 == 0:\n",
    "        print(\"fizz\"*(i%3==0) + \"buzz\"*(i%5==0))\n",
    "    else:\n",
    "        print(i)"
   ]
  },
  {
   "cell_type": "code",
   "execution_count": 281,
   "metadata": {
    "collapsed": false
   },
   "outputs": [
    {
     "data": {
      "text/plain": [
       "[1,\n",
       " 2,\n",
       " 'fizz',\n",
       " 4,\n",
       " 'buzz',\n",
       " 'fizz',\n",
       " 7,\n",
       " 8,\n",
       " 'fizz',\n",
       " 'buzz',\n",
       " 11,\n",
       " 'fizz',\n",
       " 13,\n",
       " 14,\n",
       " 'fizzbuzz']"
      ]
     },
     "execution_count": 281,
     "metadata": {},
     "output_type": "execute_result"
    }
   ],
   "source": [
    "#step 3\n",
    "one_line_fizzbuzz = [\"fizz\"*(i%3==0) + \"buzz\"*(i%5==0) or i for i in range(1, 15+1) ]\n",
    "one_line_fizzbuzz"
   ]
  },
  {
   "cell_type": "code",
   "execution_count": 276,
   "metadata": {
    "collapsed": false
   },
   "outputs": [
    {
     "name": "stdout",
     "output_type": "stream",
     "text": [
      "1\n",
      "2\n",
      "fizz\n",
      "4\n",
      "buzz\n",
      "fizz\n",
      "7\n",
      "8\n",
      "fizz\n",
      "buzz\n",
      "11\n",
      "fizz\n",
      "13\n",
      "14\n",
      "fizzbuzz\n"
     ]
    }
   ],
   "source": [
    "# 내 답\n",
    "answer_fizzbuzz = [\"fizz\"*(i%3==0) + \"buzz\"*(i%5==0) or str(i) for i in range(1, 15+1) ]\n",
    "print('\\n'.join(answer_fizzbuzz))"
   ]
  },
  {
   "cell_type": "code",
   "execution_count": 217,
   "metadata": {
    "collapsed": false
   },
   "outputs": [
    {
     "name": "stdout",
     "output_type": "stream",
     "text": [
      "1\n",
      "2\n",
      "Fizz\n",
      "4\n",
      "Buzz\n",
      "Fizz\n",
      "7\n",
      "8\n",
      "Fizz\n",
      "Buzz\n",
      "11\n",
      "Fizz\n",
      "13\n",
      "14\n",
      "FizzBuzz\n"
     ]
    }
   ],
   "source": [
    "print '\\n'.join(\"Fizz\"*(i%3==0)+\"Buzz\"*(i%5==0) or str(i) for i in range(1,15+1)) "
   ]
  },
  {
   "cell_type": "markdown",
   "metadata": {
    "collapsed": true
   },
   "source": [
    "# Day 4 (2017/07/28 Fri)\n",
    "\n",
    "* 책 소개\n",
    "    * 소프트스킬\n",
    "    * [코드](http://www.aladin.co.kr/shop/wproduct.aspx?ItemId=53051178)  \n",
    "    \n",
    "    \n",
    "* 수업 개요\n",
    "    * 함수\n",
    "    * 파일 입출력\n",
    "    "
   ]
  },
  {
   "cell_type": "markdown",
   "metadata": {},
   "source": [
    "# function"
   ]
  },
  {
   "cell_type": "code",
   "execution_count": 1,
   "metadata": {
    "collapsed": false
   },
   "outputs": [
    {
     "data": {
      "text/plain": [
       "'\\ndef function(parameter):\\n    \\xec\\x8b\\xa4\\xed\\x96\\x89\\xeb\\xac\\xb81\\n    \\xec\\x8b\\xa4\\xed\\x96\\x89\\xeb\\xac\\xb82\\n'"
      ]
     },
     "execution_count": 1,
     "metadata": {},
     "output_type": "execute_result"
    }
   ],
   "source": [
    "'''\n",
    "def function(parameter):\n",
    "    실행문1\n",
    "    실행문2\n",
    "'''"
   ]
  },
  {
   "cell_type": "code",
   "execution_count": 3,
   "metadata": {
    "collapsed": false
   },
   "outputs": [],
   "source": [
    "def awe_sum(a,b):\n",
    "    result = a + b\n",
    "    return result"
   ]
  },
  {
   "cell_type": "code",
   "execution_count": 4,
   "metadata": {
    "collapsed": false
   },
   "outputs": [
    {
     "name": "stdout",
     "output_type": "stream",
     "text": [
      "5\n"
     ]
    }
   ],
   "source": [
    "a = 2\n",
    "b = 3\n",
    "print(awe_sum(a,b))"
   ]
  },
  {
   "cell_type": "markdown",
   "metadata": {},
   "source": [
    "## function without input"
   ]
  },
  {
   "cell_type": "code",
   "execution_count": 5,
   "metadata": {
    "collapsed": true
   },
   "outputs": [],
   "source": [
    "def print_hello():\n",
    "    return \"hello\""
   ]
  },
  {
   "cell_type": "code",
   "execution_count": 8,
   "metadata": {
    "collapsed": false
   },
   "outputs": [
    {
     "name": "stdout",
     "output_type": "stream",
     "text": [
      "hello\n"
     ]
    }
   ],
   "source": [
    "result_hello = print_hello()\n",
    "print(result_hello)"
   ]
  },
  {
   "cell_type": "markdown",
   "metadata": {},
   "source": [
    "## fucntion without return"
   ]
  },
  {
   "cell_type": "code",
   "execution_count": 10,
   "metadata": {
    "collapsed": false
   },
   "outputs": [],
   "source": [
    "def func_wo_return(a):\n",
    "    print(\"This is \" + str(a) + \" without return.\")"
   ]
  },
  {
   "cell_type": "code",
   "execution_count": 11,
   "metadata": {
    "collapsed": false
   },
   "outputs": [
    {
     "name": "stdout",
     "output_type": "stream",
     "text": [
      "This is fastcampus without return.\n"
     ]
    }
   ],
   "source": [
    "func_wo_return(\"fastcampus\")"
   ]
  },
  {
   "cell_type": "markdown",
   "metadata": {},
   "source": [
    "## fucntion with multiple return"
   ]
  },
  {
   "cell_type": "code",
   "execution_count": 14,
   "metadata": {
    "collapsed": true
   },
   "outputs": [],
   "source": [
    "def mul_return(a):\n",
    "    a = a\n",
    "    b = a + 100\n",
    "    return a,b"
   ]
  },
  {
   "cell_type": "code",
   "execution_count": 15,
   "metadata": {
    "collapsed": false
   },
   "outputs": [
    {
     "data": {
      "text/plain": [
       "(10, 110)"
      ]
     },
     "execution_count": 15,
     "metadata": {},
     "output_type": "execute_result"
    }
   ],
   "source": [
    "mul_return(10)"
   ]
  },
  {
   "cell_type": "markdown",
   "metadata": {},
   "source": [
    "## return skill  \n",
    ": 실제로 프로그래밍을 할 때 어떻게 사용하는지를 보여줌"
   ]
  },
  {
   "cell_type": "code",
   "execution_count": 37,
   "metadata": {
    "collapsed": true
   },
   "outputs": [],
   "source": [
    "# 사용자의 id를 체크하는 함수\n",
    "def id_check(id):\n",
    "    if id == \"admin\":\n",
    "        print(\"invalid id: admin\")\n",
    "        return\n",
    "    print(\"valid id: \", id)"
   ]
  },
  {
   "cell_type": "code",
   "execution_count": 38,
   "metadata": {
    "collapsed": false
   },
   "outputs": [
    {
     "name": "stdout",
     "output_type": "stream",
     "text": [
      "invalid id: admin\n"
     ]
    }
   ],
   "source": [
    "id_check(\"admin\")"
   ]
  },
  {
   "cell_type": "code",
   "execution_count": 44,
   "metadata": {
    "collapsed": true
   },
   "outputs": [],
   "source": [
    "# 사용자의 id를 체크하는 함수 * return없이\n",
    "def id_check(id):\n",
    "    if id == \"admin\":\n",
    "        print(\"invalid id: admin\")\n",
    "#         return\n",
    "    print(\"valid id: \", id)"
   ]
  },
  {
   "cell_type": "code",
   "execution_count": 45,
   "metadata": {
    "collapsed": false
   },
   "outputs": [
    {
     "name": "stdout",
     "output_type": "stream",
     "text": [
      "invalid id: admin\n",
      "('valid id: ', 'admin')\n"
     ]
    }
   ],
   "source": [
    "# return이 없으니 밑에 것도 출력한다.\n",
    "id_check(\"admin\")"
   ]
  },
  {
   "cell_type": "code",
   "execution_count": 43,
   "metadata": {
    "collapsed": false
   },
   "outputs": [],
   "source": [
    "id_check(\"fastcampus\")"
   ]
  },
  {
   "cell_type": "markdown",
   "metadata": {},
   "source": [
    "## parameter with initialize"
   ]
  },
  {
   "cell_type": "code",
   "execution_count": 52,
   "metadata": {
    "collapsed": true
   },
   "outputs": [],
   "source": [
    "# name과 nick은 함수의 기본 입력값이 배정되어있다. \n",
    "# 사용자가 입력을 하지않으면 그 값으로 실행한다. \n",
    "def say_hello(name = \"Fool\", nick = True):\n",
    "    print(\"Hi, \", name)\n",
    "    if nick == True:\n",
    "        print(\"But, you are Fool\")\n",
    "    else: \n",
    "        print(\"oh, you are not Fool\")"
   ]
  },
  {
   "cell_type": "code",
   "execution_count": 50,
   "metadata": {
    "collapsed": false
   },
   "outputs": [
    {
     "name": "stdout",
     "output_type": "stream",
     "text": [
      "('Hi, ', 'Fool')\n",
      "But, you are Fool\n"
     ]
    }
   ],
   "source": [
    "say_hello()"
   ]
  },
  {
   "cell_type": "code",
   "execution_count": 57,
   "metadata": {
    "collapsed": false
   },
   "outputs": [
    {
     "name": "stdout",
     "output_type": "stream",
     "text": [
      "('Hi, ', 'eric')\n",
      "But, you are Fool\n"
     ]
    }
   ],
   "source": [
    "say_hello(\"eric\")"
   ]
  },
  {
   "cell_type": "code",
   "execution_count": 58,
   "metadata": {
    "collapsed": false
   },
   "outputs": [
    {
     "name": "stdout",
     "output_type": "stream",
     "text": [
      "('Hi, ', 'eric')\n",
      "oh, you are not Fool\n"
     ]
    }
   ],
   "source": [
    "say_hello(\"eric\", False)"
   ]
  },
  {
   "cell_type": "code",
   "execution_count": 62,
   "metadata": {
    "collapsed": false
   },
   "outputs": [
    {
     "name": "stdout",
     "output_type": "stream",
     "text": [
      "('Hi, ', 'eric')\n",
      "oh, you are not Fool\n"
     ]
    }
   ],
   "source": [
    "say_hello(\"eric\", 3) \n",
    "#2번째 parameter에 1(True)가 아닌 다른 값들이 오면 else를 실행"
   ]
  },
  {
   "cell_type": "markdown",
   "metadata": {},
   "source": [
    "## arguments\n",
    "asterisk(*)를 입력하면 여러가지의 parameter가 들어올 수 있다.   \n",
    "여러가지를 입력받을 수 있다.  \n",
    ": list의 형태로 들어온다"
   ]
  },
  {
   "cell_type": "code",
   "execution_count": 76,
   "metadata": {
    "collapsed": true
   },
   "outputs": [],
   "source": [
    "# *args : args가 몇 개일지 모르겠다.\n",
    "# *nums이라고 사용해도된다.(즉, 바꿀 수 있다.)\n",
    "def mul_sum(*args):\n",
    "    sum = 0\n",
    "    for i in args:\n",
    "        print(type(args))\n",
    "        print(i)\n",
    "        sum += i # sum = sum + i\n",
    "    return sum"
   ]
  },
  {
   "cell_type": "code",
   "execution_count": 146,
   "metadata": {
    "collapsed": false
   },
   "outputs": [
    {
     "name": "stdout",
     "output_type": "stream",
     "text": [
      "<type 'tuple'>\n",
      "1\n",
      "<type 'tuple'>\n",
      "2\n",
      "<type 'tuple'>\n",
      "3\n",
      "<type 'tuple'>\n",
      "4\n",
      "<type 'tuple'>\n",
      "11\n"
     ]
    },
    {
     "data": {
      "text/plain": [
       "21"
      ]
     },
     "execution_count": 146,
     "metadata": {},
     "output_type": "execute_result"
    }
   ],
   "source": [
    "mul_sum(1,2,3,4,11)"
   ]
  },
  {
   "cell_type": "markdown",
   "metadata": {},
   "source": [
    "## keyword arguments\n",
    "\n",
    "*가 무조건 있으면 keyword arguments인데 \n",
    "일반적으로 *가 1개 있을 때는 arguments로 부르고\n",
    "        **가 2개 있을 때는 keyword arguments라 부른다. \n",
    "\n",
    "* dictionary로 저장된다.\n",
    "* key에는 무조건 문자열이 들어간다."
   ]
  },
  {
   "cell_type": "code",
   "execution_count": 80,
   "metadata": {
    "collapsed": true
   },
   "outputs": [],
   "source": [
    "def show_kwargs(**kwargs):\n",
    "    print(str(kwargs))"
   ]
  },
  {
   "cell_type": "code",
   "execution_count": 82,
   "metadata": {
    "collapsed": false
   },
   "outputs": [
    {
     "name": "stdout",
     "output_type": "stream",
     "text": [
      "{'a': 10, 'b': 'google'}\n"
     ]
    }
   ],
   "source": [
    "show_kwargs(a=10, b=\"google\")"
   ]
  },
  {
   "cell_type": "code",
   "execution_count": 89,
   "metadata": {
    "collapsed": false
   },
   "outputs": [
    {
     "name": "stdout",
     "output_type": "stream",
     "text": [
      "{'i': 10, 'k': 'fastcampus', 'j': 'google'}\n"
     ]
    }
   ],
   "source": [
    "show_kwargs1 = show_kwargs(i = 10, j = \"google\", k = \"fastcampus\")"
   ]
  },
  {
   "cell_type": "code",
   "execution_count": 139,
   "metadata": {
    "collapsed": false
   },
   "outputs": [
    {
     "data": {
      "text/plain": [
       "'https://www.naver.com:8080?query=dunkirk'"
      ]
     },
     "execution_count": 139,
     "metadata": {},
     "output_type": "execute_result"
    }
   ],
   "source": [
    "# -*- coding: utf-8 -*-\n",
    "# -*- coding: utf-8 -*-\n",
    "def wokwargs(server, port, query):\n",
    "    url = \"https://\" + server + \":\" + port + \"?\" + query\n",
    "    return url\n",
    "\n",
    "wokwargs(\"www.naver.com\", \"8080\", \"query=dunkirk\")"
   ]
  },
  {
   "cell_type": "code",
   "execution_count": 124,
   "metadata": {
    "collapsed": true
   },
   "outputs": [],
   "source": [
    "# crawler에서 자주 사용되는 keyword arguments\n",
    "def kwargs_url(server, port, **query):\n",
    "    url = \"https://\" + server + \":\" + port + \"?\"\n",
    "    for key in query.keys():\n",
    "        print(key)\n",
    "        url += key + \"=\" + query[key] + \"&\"\n",
    "    return url"
   ]
  },
  {
   "cell_type": "code",
   "execution_count": 125,
   "metadata": {
    "collapsed": false
   },
   "outputs": [
    {
     "name": "stdout",
     "output_type": "stream",
     "text": [
      "keyword\n",
      "utm_source\n"
     ]
    },
    {
     "data": {
      "text/plain": [
       "'https://localhost:8080?keyword=naver&utm_source=google,&'"
      ]
     },
     "execution_count": 125,
     "metadata": {},
     "output_type": "execute_result"
    }
   ],
   "source": [
    "kwargs_url(\"localhost\", \"8080\", utm_source = \"google,\", keyword = \"naver\")"
   ]
  },
  {
   "cell_type": "code",
   "execution_count": 158,
   "metadata": {
    "collapsed": false
   },
   "outputs": [
    {
     "name": "stdout",
     "output_type": "stream",
     "text": [
      "a\n",
      "b\n"
     ]
    },
    {
     "data": {
      "text/plain": [
       "u'https://www.naver.com:8080?a=utf-8&b=\\ub369\\ucf00\\ub974\\ud06c&'"
      ]
     },
     "execution_count": 158,
     "metadata": {},
     "output_type": "execute_result"
    }
   ],
   "source": [
    "# -*- coding: utf-8 -*-\n",
    "kwargs_url(\"www.naver.com\", \"8080\", a = \"utf-8\", b = u\"덩케르크\")"
   ]
  },
  {
   "cell_type": "code",
   "execution_count": 155,
   "metadata": {
    "collapsed": false
   },
   "outputs": [
    {
     "name": "stdout",
     "output_type": "stream",
     "text": [
      "query\n",
      "ie\n"
     ]
    },
    {
     "data": {
      "text/plain": [
       "'https://www.naver.com:8080?query=dunkrik&ie=utf-8&'"
      ]
     },
     "execution_count": 155,
     "metadata": {},
     "output_type": "execute_result"
    }
   ],
   "source": [
    "#*TODO*\n",
    "kwargs_url(\"www.naver.com\", \"8080\", ie=\"utf-8\", query = \"dunkrik\")"
   ]
  },
  {
   "cell_type": "code",
   "execution_count": null,
   "metadata": {
    "collapsed": false
   },
   "outputs": [],
   "source": []
  },
  {
   "cell_type": "markdown",
   "metadata": {},
   "source": [
    "## variable outside function"
   ]
  },
  {
   "cell_type": "code",
   "execution_count": 170,
   "metadata": {
    "collapsed": false
   },
   "outputs": [
    {
     "data": {
      "text/plain": [
       "'helloworld'"
      ]
     },
     "execution_count": 170,
     "metadata": {},
     "output_type": "execute_result"
    }
   ],
   "source": [
    "a = \"hello\"\n",
    "def glob_test(a):\n",
    "    a += \"world\"\n",
    "    return a\n",
    "\n",
    "glob_test(a)"
   ]
  },
  {
   "cell_type": "code",
   "execution_count": 171,
   "metadata": {
    "collapsed": false,
    "scrolled": true
   },
   "outputs": [
    {
     "data": {
      "text/plain": [
       "'helloworld'"
      ]
     },
     "execution_count": 171,
     "metadata": {},
     "output_type": "execute_result"
    }
   ],
   "source": [
    "a = \"hello\"\n",
    "def glob_test(x):\n",
    "    x += \"world\"\n",
    "    return x\n",
    "\n",
    "glob_test(a)"
   ]
  },
  {
   "cell_type": "markdown",
   "metadata": {},
   "source": [
    "so, how to globalize"
   ]
  },
  {
   "cell_type": "code",
   "execution_count": 172,
   "metadata": {
    "collapsed": false
   },
   "outputs": [
    {
     "name": "stdout",
     "output_type": "stream",
     "text": [
      "helloworld\n"
     ]
    }
   ],
   "source": [
    "# (1) using return\n",
    "a = \"hello\"\n",
    "def glob_test(a):\n",
    "    a += \"world\"\n",
    "    return a\n",
    "\n",
    "a = glob_test(a)\n",
    "print(a)"
   ]
  },
  {
   "cell_type": "code",
   "execution_count": 179,
   "metadata": {
    "collapsed": false
   },
   "outputs": [
    {
     "name": "stdout",
     "output_type": "stream",
     "text": [
      "helloworld\n"
     ]
    }
   ],
   "source": [
    "# (2) use global\n",
    "global ag\n",
    "def glob_test(ag):\n",
    "    ag += \"world\"\n",
    "    return ag\n",
    "\n",
    "ag = glob_test(a)\n",
    "print(ag)"
   ]
  },
  {
   "cell_type": "code",
   "execution_count": null,
   "metadata": {
    "collapsed": true
   },
   "outputs": [],
   "source": []
  },
  {
   "cell_type": "markdown",
   "metadata": {},
   "source": [
    "## Leap Year 예제\n",
    "4로 나뉘어 떨어지면 윤년,  \n",
    "100으로 나뉘어 떨어지면 평년,  \n",
    "400으로 나뉘어 떨어질땐 윤년  \n"
   ]
  },
  {
   "cell_type": "code",
   "execution_count": 189,
   "metadata": {
    "collapsed": false
   },
   "outputs": [],
   "source": [
    "def is_leap_year():\n",
    "    year = int(raw_input(\"is leap?\"))\n",
    "    leapYear = \"it's leap year\"\n",
    "    notLeapYear = \"it's not leap year\"\n",
    "    if year % 400 == 0 or year % 4 == 0:\n",
    "        return leapYear\n",
    "    elif year % 100 == 0:\n",
    "        return notLeapYear\n",
    "    else: \n",
    "        return notLeapYear"
   ]
  },
  {
   "cell_type": "code",
   "execution_count": 190,
   "metadata": {
    "collapsed": false
   },
   "outputs": [
    {
     "name": "stdout",
     "output_type": "stream",
     "text": [
      "is leap?200\n"
     ]
    },
    {
     "data": {
      "text/plain": [
       "\"it's leap year\""
      ]
     },
     "execution_count": 190,
     "metadata": {},
     "output_type": "execute_result"
    }
   ],
   "source": [
    "is_leap_year()"
   ]
  },
  {
   "cell_type": "code",
   "execution_count": 206,
   "metadata": {
    "collapsed": false
   },
   "outputs": [
    {
     "name": "stdout",
     "output_type": "stream",
     "text": [
      "is it leap?2000\n",
      "True\n"
     ]
    }
   ],
   "source": [
    "# teacher's answer\n",
    "\n",
    "def is_leap(y):\n",
    "    leap = False\n",
    "    if y % 4 == 0 and (y % 100 != 0 or y % 400 == 0):\n",
    "        leap = True\n",
    "    return leap\n",
    "\n",
    "y = int(input(\"is it leap?\"))\n",
    "print(is_leap(y))"
   ]
  },
  {
   "cell_type": "code",
   "execution_count": 205,
   "metadata": {
    "collapsed": false
   },
   "outputs": [
    {
     "name": "stdout",
     "output_type": "stream",
     "text": [
      "is it leap?2000\n",
      "윤년입니다\n"
     ]
    }
   ],
   "source": [
    "# teacher's answer \n",
    "\n",
    "def is_leap(y):\n",
    "    isleap = \"윤년입니다\"\n",
    "    notleap = \"평년입니다.\"\n",
    "    if y % 4 == 0 and (y % 100 != 0 or y % 400 == 0):\n",
    "        return isleap\n",
    "    return notleap\n",
    "\n",
    "y = int(input(\"is it leap?\"))\n",
    "print(is_leap(y))"
   ]
  },
  {
   "cell_type": "markdown",
   "metadata": {
    "collapsed": true
   },
   "source": [
    "## numguess with function"
   ]
  },
  {
   "cell_type": "code",
   "execution_count": 211,
   "metadata": {
    "collapsed": false
   },
   "outputs": [
    {
     "ename": "SyntaxError",
     "evalue": "'break' outside loop (<ipython-input-211-355995f2e37f>, line 4)",
     "output_type": "error",
     "traceback": [
      "\u001b[0;36m  File \u001b[0;32m\"<ipython-input-211-355995f2e37f>\"\u001b[0;36m, line \u001b[0;32m4\u001b[0m\n\u001b[0;31m    break\u001b[0m\n\u001b[0;31mSyntaxError\u001b[0m\u001b[0;31m:\u001b[0m 'break' outside loop\n"
     ]
    }
   ],
   "source": [
    "def guesser(guess):\n",
    "    if guess == answer:\n",
    "        print(\"correct! The answer was \", str(answer))\n",
    "        break\n",
    "    else:\n",
    "        print(\"This's not what I wanted!! Try again!!\")"
   ]
  },
  {
   "cell_type": "markdown",
   "metadata": {},
   "source": [
    "## Recursive"
   ]
  },
  {
   "cell_type": "code",
   "execution_count": 218,
   "metadata": {
    "collapsed": false
   },
   "outputs": [
    {
     "name": "stdout",
     "output_type": "stream",
     "text": [
      "How many times want to curse the beast??: 3\n",
      "Fusion!!!!(2 times left)\n",
      "Fusion!!!!(1 times left)\n",
      "Fusion!!!!(0 times left)\n",
      "curse complete\n"
     ]
    }
   ],
   "source": [
    "def recurse_beast(a):\n",
    "    if a == 0:\n",
    "        print(\"curse complete\")\n",
    "    else:\n",
    "        print(\"Fusion!!!!(%d times left)\" % (a -1))\n",
    "        recurse_beast( (a-1) )\n",
    "\n",
    "times = int(raw_input(\"How many times want to curse the beast??: \"))\n",
    "# type(times) #int\n",
    "recurse_beast(times)"
   ]
  },
  {
   "cell_type": "code",
   "execution_count": null,
   "metadata": {
    "collapsed": true
   },
   "outputs": [],
   "source": []
  },
  {
   "cell_type": "markdown",
   "metadata": {
    "collapsed": true
   },
   "source": [
    "# File I/O"
   ]
  },
  {
   "cell_type": "code",
   "execution_count": 220,
   "metadata": {
    "collapsed": false
   },
   "outputs": [
    {
     "ename": "SyntaxError",
     "evalue": "invalid syntax (<ipython-input-220-106c0cecfe03>, line 5)",
     "output_type": "error",
     "traceback": [
      "\u001b[0;36m  File \u001b[0;32m\"<ipython-input-220-106c0cecfe03>\"\u001b[0;36m, line \u001b[0;32m5\u001b[0m\n\u001b[0;31m    mode의 종류\u001b[0m\n\u001b[0m        ^\u001b[0m\n\u001b[0;31mSyntaxError\u001b[0m\u001b[0;31m:\u001b[0m invalid syntax\n"
     ]
    }
   ],
   "source": [
    "'''\n",
    "f = open(filename, mode)\n",
    "f.close()\n",
    "'''\n",
    "\n",
    "# ---mode의 종류---\n",
    "# r - 읽기모드\n",
    "# w - 쓰기모드\n",
    "# a - 추가모드(파일의 마지막에 새로운 내용을 추가)"
   ]
  },
  {
   "cell_type": "markdown",
   "metadata": {},
   "source": [
    "## Create New File"
   ]
  },
  {
   "cell_type": "code",
   "execution_count": 236,
   "metadata": {
    "collapsed": true
   },
   "outputs": [],
   "source": [
    "f = open(\"Newfile.txt\", 'w')\n",
    "f.close()"
   ]
  },
  {
   "cell_type": "markdown",
   "metadata": {},
   "source": [
    "## Write text"
   ]
  },
  {
   "cell_type": "code",
   "execution_count": 237,
   "metadata": {
    "collapsed": true
   },
   "outputs": [],
   "source": [
    "f = open(\"Newfile.txt\", 'a') #newfile.txt를 a모드로 연다\n",
    "# 반복문을 돌면서 1~10까지 증가하면서 \n",
    "for i in range(1,11):\n",
    "    text = \"line %d. \\n\" % i #txt파일에 집어넣게될 내용 정의\n",
    "    f.write(text)\n",
    "f.close()"
   ]
  },
  {
   "cell_type": "markdown",
   "metadata": {},
   "source": [
    "## Read text"
   ]
  },
  {
   "cell_type": "code",
   "execution_count": 229,
   "metadata": {
    "collapsed": false
   },
   "outputs": [
    {
     "name": "stdout",
     "output_type": "stream",
     "text": [
      "hihiline 1. \n",
      "\n"
     ]
    }
   ],
   "source": [
    "f = open(\"Newfile.txt\", 'r')\n",
    "text = f.readline()\n",
    "print(text)\n",
    "f.close()"
   ]
  },
  {
   "cell_type": "markdown",
   "metadata": {},
   "source": [
    "## Read All text"
   ]
  },
  {
   "cell_type": "code",
   "execution_count": 244,
   "metadata": {
    "collapsed": false,
    "scrolled": true
   },
   "outputs": [
    {
     "name": "stdout",
     "output_type": "stream",
     "text": [
      "line 1. \n",
      "\n",
      "line 2. \n",
      "\n",
      "line 3. \n",
      "\n",
      "line 4. \n",
      "\n",
      "line 5. \n",
      "\n",
      "line 6. \n",
      "\n",
      "line 7. \n",
      "\n",
      "line 8. \n",
      "\n",
      "line 9. \n",
      "\n",
      "line 10. \n",
      "\n"
     ]
    }
   ],
   "source": [
    "f = open(\"./Newfile.txt\", 'r')\n",
    "while True:\n",
    "    text = f.readline()\n",
    "#     if text == False:\n",
    "    if not text:\n",
    "        break\n",
    "    print(text)\n",
    "f.close()"
   ]
  },
  {
   "cell_type": "code",
   "execution_count": 231,
   "metadata": {
    "collapsed": false
   },
   "outputs": [
    {
     "name": "stdout",
     "output_type": "stream",
     "text": [
      "hihiline 1. \n",
      "\n",
      "line 2. \n",
      "\n",
      "line 3. \n",
      "\n",
      "line 4. \n",
      "\n",
      "line 5. \n",
      "\n",
      "line 6. \n",
      "\n",
      "line 7. \n",
      "\n",
      "line 8. \n",
      "\n",
      "line 9. \n",
      "\n",
      "line 10. \n",
      "\n",
      "line 1. \n",
      "\n",
      "line 2. \n",
      "\n",
      "line 3. \n",
      "\n",
      "line 4. \n",
      "\n",
      "line 5. \n",
      "\n",
      "line 6. \n",
      "\n",
      "line 7. \n",
      "\n",
      "line 8. \n",
      "\n",
      "line 9. \n",
      "\n",
      "line 10. \n",
      "\n"
     ]
    }
   ],
   "source": [
    "f = open(\"Newfile.txt\", 'r')\n",
    "while True:\n",
    "    text = f.readline()\n",
    "    if not text: #\n",
    "        break\n",
    "    print(text)\n",
    "f.close()"
   ]
  },
  {
   "cell_type": "markdown",
   "metadata": {},
   "source": [
    "## Read all text using readlines"
   ]
  },
  {
   "cell_type": "code",
   "execution_count": 248,
   "metadata": {
    "collapsed": false
   },
   "outputs": [
    {
     "name": "stdout",
     "output_type": "stream",
     "text": [
      "<type 'list'>\n",
      "['line 1. \\n', 'line 2. \\n', 'line 3. \\n', 'line 4. \\n', 'line 5. \\n', 'line 6. \\n', 'line 7. \\n', 'line 8. \\n', 'line 9. \\n', 'line 10. \\n']\n"
     ]
    }
   ],
   "source": [
    "f = open(\"Newfile.txt\", 'r')\n",
    "texts = f.readlines()\n",
    "print(type(texts))\n",
    "print(texts)\n",
    "# for text in texts:\n",
    "#     print(text)\n",
    "f.close()"
   ]
  },
  {
   "cell_type": "code",
   "execution_count": 260,
   "metadata": {
    "collapsed": false
   },
   "outputs": [
    {
     "name": "stdout",
     "output_type": "stream",
     "text": [
      "line 1. \n",
      "\n",
      "line 2. \n",
      "\n",
      "line 3. \n",
      "\n",
      "line 4. \n",
      "\n",
      "line 5. \n",
      "\n",
      "line 6. \n",
      "\n",
      "line 7. \n",
      "\n",
      "line 8. \n",
      "\n",
      "line 9. \n",
      "\n",
      "line 10. \n",
      "\n"
     ]
    }
   ],
   "source": [
    "f = open(\"Newfile.txt\", 'r')\n",
    "texts = f.readlines()\n",
    "# print(text[0])\n",
    "for text in texts:\n",
    "    print(text)\n",
    "f.close()"
   ]
  },
  {
   "cell_type": "markdown",
   "metadata": {},
   "source": [
    "## Add text"
   ]
  },
  {
   "cell_type": "code",
   "execution_count": 261,
   "metadata": {
    "collapsed": true
   },
   "outputs": [],
   "source": [
    "f = open(\"Newfile.txt\", 'a')\n",
    "for i in range(11, 21):\n",
    "    new_text = \"new line %d added \\n\" % i\n",
    "    f.write(new_text)\n",
    "f.close()"
   ]
  },
  {
   "cell_type": "code",
   "execution_count": 262,
   "metadata": {
    "collapsed": false
   },
   "outputs": [
    {
     "name": "stdout",
     "output_type": "stream",
     "text": [
      "line 1. \n",
      "\n",
      "line 2. \n",
      "\n",
      "line 3. \n",
      "\n",
      "line 4. \n",
      "\n",
      "line 5. \n",
      "\n",
      "line 6. \n",
      "\n",
      "line 7. \n",
      "\n",
      "line 8. \n",
      "\n",
      "line 9. \n",
      "\n",
      "line 10. \n",
      "\n",
      "new line 11 added \n",
      "\n",
      "new line 12 added \n",
      "\n",
      "new line 13 added \n",
      "\n",
      "new line 14 added \n",
      "\n",
      "new line 15 added \n",
      "\n",
      "new line 16 added \n",
      "\n",
      "new line 17 added \n",
      "\n",
      "new line 18 added \n",
      "\n",
      "new line 19 added \n",
      "\n",
      "new line 20 added \n",
      "\n"
     ]
    }
   ],
   "source": [
    "f = open(\"Newfile.txt\", 'r')\n",
    "texts = f.readlines()\n",
    "for text in texts:\n",
    "    print(text)\n",
    "f.close()"
   ]
  },
  {
   "cell_type": "markdown",
   "metadata": {},
   "source": [
    "## Get rid of f.close()"
   ]
  },
  {
   "cell_type": "code",
   "execution_count": 263,
   "metadata": {
    "collapsed": true
   },
   "outputs": [],
   "source": [
    "with open(\"./foo.txt\", 'w') as f:\n",
    "    f.write(\"foo is text dummy\")"
   ]
  },
  {
   "cell_type": "code",
   "execution_count": 267,
   "metadata": {
    "collapsed": false
   },
   "outputs": [
    {
     "name": "stdout",
     "output_type": "stream",
     "text": [
      "line 1. \n",
      "\n"
     ]
    }
   ],
   "source": [
    "with open(\"Newfile.txt\", 'r') as f:\n",
    "    print(f.readline())"
   ]
  },
  {
   "cell_type": "code",
   "execution_count": null,
   "metadata": {
    "collapsed": true
   },
   "outputs": [],
   "source": []
  },
  {
   "cell_type": "markdown",
   "metadata": {},
   "source": [
    "# Error Handle\n",
    "\n",
    "by using `try, except`"
   ]
  },
  {
   "cell_type": "markdown",
   "metadata": {},
   "source": [
    "## Error Handle - Syntax"
   ]
  },
  {
   "cell_type": "code",
   "execution_count": 270,
   "metadata": {
    "collapsed": false
   },
   "outputs": [
    {
     "data": {
      "text/plain": [
       "'\\ntry:\\n    \\xec\\x8b\\xa4\\xed\\x96\\x89\\xeb\\xac\\xb8\\nexcept:\\n    \\xec\\x8b\\xa4\\xed\\x96\\x89\\xeb\\xac\\xb8\\n'"
      ]
     },
     "execution_count": 270,
     "metadata": {},
     "output_type": "execute_result"
    }
   ],
   "source": [
    "'''\n",
    "try:\n",
    "    실행문\n",
    "except:\n",
    "    실행문\n",
    "'''"
   ]
  },
  {
   "cell_type": "code",
   "execution_count": 274,
   "metadata": {
    "collapsed": true
   },
   "outputs": [],
   "source": [
    "try:\n",
    "    pass\n",
    "except:\n",
    "    pass"
   ]
  },
  {
   "cell_type": "markdown",
   "metadata": {},
   "source": [
    "## Error Handle - ValueError"
   ]
  },
  {
   "cell_type": "code",
   "execution_count": 272,
   "metadata": {
    "collapsed": false
   },
   "outputs": [
    {
     "name": "stdout",
     "output_type": "stream",
     "text": [
      "type some number:DF\n",
      "I said type some NUMBER!!\n"
     ]
    }
   ],
   "source": [
    "try:\n",
    "    some_input = int(raw_input(\"type some number:\"))\n",
    "except ValueError:\n",
    "    print(\"I said type some NUMBER!!\")"
   ]
  },
  {
   "cell_type": "markdown",
   "metadata": {},
   "source": [
    "## Error Handle - ValueError"
   ]
  },
  {
   "cell_type": "code",
   "execution_count": 273,
   "metadata": {
    "collapsed": false
   },
   "outputs": [
    {
     "name": "stdout",
     "output_type": "stream",
     "text": [
      "type some number:dd\n",
      "I said type some NUMBER!!\n",
      "invalid literal for int() with base 10: 'dd'\n"
     ]
    }
   ],
   "source": [
    "try:\n",
    "    some_input = int(raw_input(\"type some number:\"))\n",
    "except ValueError as e:\n",
    "    print(\"I said type some NUMBER!!\")\n",
    "    print(e)"
   ]
  },
  {
   "cell_type": "markdown",
   "metadata": {},
   "source": [
    "## Error Handle - FileNotFoundError"
   ]
  },
  {
   "cell_type": "code",
   "execution_count": 277,
   "metadata": {
    "collapsed": false
   },
   "outputs": [
    {
     "ename": "IOError",
     "evalue": "[Errno 2] No such file or directory: 'error.txt'",
     "output_type": "error",
     "traceback": [
      "\u001b[0;31m---------------------------------------------------------------------------\u001b[0m",
      "\u001b[0;31mIOError\u001b[0m                                   Traceback (most recent call last)",
      "\u001b[0;32m<ipython-input-277-5cbf30f48942>\u001b[0m in \u001b[0;36m<module>\u001b[0;34m()\u001b[0m\n\u001b[0;32m----> 1\u001b[0;31m \u001b[0mf\u001b[0m\u001b[0;34m=\u001b[0m \u001b[0mopen\u001b[0m\u001b[0;34m(\u001b[0m\u001b[0;34m'error.txt'\u001b[0m\u001b[0;34m,\u001b[0m \u001b[0;34m'r'\u001b[0m\u001b[0;34m)\u001b[0m\u001b[0;34m\u001b[0m\u001b[0m\n\u001b[0m\u001b[1;32m      2\u001b[0m \u001b[0mf\u001b[0m\u001b[0;34m.\u001b[0m\u001b[0mclose\u001b[0m\u001b[0;34m(\u001b[0m\u001b[0;34m)\u001b[0m\u001b[0;34m\u001b[0m\u001b[0m\n",
      "\u001b[0;31mIOError\u001b[0m: [Errno 2] No such file or directory: 'error.txt'"
     ]
    }
   ],
   "source": [
    "f= open('error.txt', 'r')\n",
    "f.close()"
   ]
  },
  {
   "cell_type": "code",
   "execution_count": 285,
   "metadata": {
    "collapsed": false
   },
   "outputs": [
    {
     "name": "stdout",
     "output_type": "stream",
     "text": [
      "Hey user!!!, I can't find the file name you input\n",
      "[Errno 2] No such file or directory: 'error.txt'\n"
     ]
    }
   ],
   "source": [
    "try:\n",
    "    f = open('error.txt', 'r')\n",
    "#     f = open('Newfile.txt', 'r')\n",
    "except IOError as e:\n",
    "    print(\"Hey user!!!, I can't find the file name you input\")\n",
    "    print(e)\n",
    "else: #파일이 있다면 읽고 끝내라\n",
    "    text = f.read()\n",
    "    print(text)\n",
    "    f.close()"
   ]
  },
  {
   "cell_type": "markdown",
   "metadata": {},
   "source": [
    "## Error Handle - Multiple Error"
   ]
  },
  {
   "cell_type": "code",
   "execution_count": 293,
   "metadata": {
    "collapsed": false,
    "scrolled": true
   },
   "outputs": [
    {
     "data": {
      "text/plain": [
       "'\\ntry:\\n    ...\\nexcept:\\n    ...\\nexcept:\\n    ...\\n'"
      ]
     },
     "execution_count": 293,
     "metadata": {},
     "output_type": "execute_result"
    }
   ],
   "source": [
    "'''\n",
    "try:\n",
    "    ...\n",
    "except:\n",
    "    ...\n",
    "except:\n",
    "    ...\n",
    "'''"
   ]
  },
  {
   "cell_type": "markdown",
   "metadata": {},
   "source": [
    "## Error Handle - Pass Error"
   ]
  },
  {
   "cell_type": "code",
   "execution_count": 295,
   "metadata": {
    "collapsed": false
   },
   "outputs": [
    {
     "ename": "NameError",
     "evalue": "name 'FileNotFoundError' is not defined",
     "output_type": "error",
     "traceback": [
      "\u001b[0;31m---------------------------------------------------------------------------\u001b[0m",
      "\u001b[0;31mNameError\u001b[0m                                 Traceback (most recent call last)",
      "\u001b[0;32m<ipython-input-295-e53a62b832d2>\u001b[0m in \u001b[0;36m<module>\u001b[0;34m()\u001b[0m\n\u001b[1;32m      2\u001b[0m \u001b[0;32mtry\u001b[0m\u001b[0;34m:\u001b[0m\u001b[0;34m\u001b[0m\u001b[0m\n\u001b[1;32m      3\u001b[0m     \u001b[0mf\u001b[0m \u001b[0;34m=\u001b[0m \u001b[0mopen\u001b[0m\u001b[0;34m(\u001b[0m\u001b[0;34m'error.txt'\u001b[0m\u001b[0;34m,\u001b[0m \u001b[0;34m'r'\u001b[0m\u001b[0;34m)\u001b[0m\u001b[0;34m\u001b[0m\u001b[0m\n\u001b[0;32m----> 4\u001b[0;31m \u001b[0;32mexcept\u001b[0m \u001b[0mFileNotFoundError\u001b[0m \u001b[0;32mas\u001b[0m \u001b[0me\u001b[0m\u001b[0;34m:\u001b[0m\u001b[0;34m\u001b[0m\u001b[0m\n\u001b[0m\u001b[1;32m      5\u001b[0m     \u001b[0;32mpass\u001b[0m\u001b[0;34m\u001b[0m\u001b[0m\n\u001b[1;32m      6\u001b[0m \u001b[0;32melse\u001b[0m\u001b[0;34m:\u001b[0m\u001b[0;34m\u001b[0m\u001b[0m\n",
      "\u001b[0;31mNameError\u001b[0m: name 'FileNotFoundError' is not defined"
     ]
    }
   ],
   "source": [
    "# 억지로 pass를 이용해서 error를 무시하고 넘어가는 방법\n",
    "try:\n",
    "    f = open('error.txt', 'r')\n",
    "except FileNotFoundError as e:\n",
    "    pass\n",
    "else:\n",
    "    text = f.read()\n",
    "    f.close()"
   ]
  },
  {
   "cell_type": "code",
   "execution_count": null,
   "metadata": {
    "collapsed": true
   },
   "outputs": [],
   "source": [
    "# if __name__ == '__main__'"
   ]
  },
  {
   "cell_type": "code",
   "execution_count": 292,
   "metadata": {
    "collapsed": false
   },
   "outputs": [],
   "source": [
    "#에라토스테레스의 채"
   ]
  },
  {
   "cell_type": "code",
   "execution_count": null,
   "metadata": {
    "collapsed": true
   },
   "outputs": [],
   "source": []
  },
  {
   "cell_type": "code",
   "execution_count": null,
   "metadata": {
    "collapsed": true
   },
   "outputs": [],
   "source": []
  },
  {
   "cell_type": "code",
   "execution_count": 299,
   "metadata": {
    "collapsed": false
   },
   "outputs": [
    {
     "data": {
      "text/plain": [
       "False"
      ]
     },
     "execution_count": 299,
     "metadata": {},
     "output_type": "execute_result"
    }
   ],
   "source": [
    "True & False"
   ]
  },
  {
   "cell_type": "code",
   "execution_count": null,
   "metadata": {
    "collapsed": false
   },
   "outputs": [],
   "source": []
  },
  {
   "cell_type": "code",
   "execution_count": null,
   "metadata": {
    "collapsed": false
   },
   "outputs": [],
   "source": []
  },
  {
   "cell_type": "code",
   "execution_count": null,
   "metadata": {
    "collapsed": false
   },
   "outputs": [],
   "source": [
    "username = raw_input(\"what is your name?\\n1\\n2\\n3\\n4\")\n",
    "print(username)"
   ]
  },
  {
   "cell_type": "code",
   "execution_count": null,
   "metadata": {
    "collapsed": true
   },
   "outputs": [],
   "source": []
  }
 ],
 "metadata": {
  "kernelspec": {
   "display_name": "Python 2",
   "language": "python",
   "name": "python2"
  },
  "language_info": {
   "codemirror_mode": {
    "name": "ipython",
    "version": 2
   },
   "file_extension": ".py",
   "mimetype": "text/x-python",
   "name": "python",
   "nbconvert_exporter": "python",
   "pygments_lexer": "ipython2",
   "version": "2.7.13"
  }
 },
 "nbformat": 4,
 "nbformat_minor": 2
}
