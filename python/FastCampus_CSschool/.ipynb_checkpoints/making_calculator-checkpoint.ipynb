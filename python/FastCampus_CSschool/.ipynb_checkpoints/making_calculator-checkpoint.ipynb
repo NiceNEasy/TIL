{
 "cells": [
  {
   "cell_type": "markdown",
   "metadata": {},
   "source": [
    "# [calculator](https://github.com/ythwork/CSS_3rd/blob/master/data_structure/stack/calculator.pdf)\n"
   ]
  },
  {
   "cell_type": "code",
   "execution_count": 1,
   "metadata": {
    "collapsed": false
   },
   "outputs": [
    {
     "name": "stdout",
     "output_type": "stream",
     "text": [
      "63\n"
     ]
    }
   ],
   "source": [
    "# 중위 표기법 : 사람(우리)가 아는 수식\n",
    "# 연산자가 중간에 옴\n",
    "print((2 + 5) * 3 * (2+1))\n"
   ]
  },
  {
   "cell_type": "code",
   "execution_count": 2,
   "metadata": {
    "collapsed": false
   },
   "outputs": [
    {
     "ename": "SyntaxError",
     "evalue": "invalid syntax (<ipython-input-2-d22048f66e30>, line 2)",
     "output_type": "error",
     "traceback": [
      "\u001b[0;36m  File \u001b[0;32m\"<ipython-input-2-d22048f66e30>\"\u001b[0;36m, line \u001b[0;32m2\u001b[0m\n\u001b[0;31m    print(25+3*21+*)\u001b[0m\n\u001b[0m                  ^\u001b[0m\n\u001b[0;31mSyntaxError\u001b[0m\u001b[0;31m:\u001b[0m invalid syntax\n"
     ]
    }
   ],
   "source": [
    "# 후위 표기법 : 컴퓨터가 아는 수식 \n",
    "# 연산자가 맨 뒤로 온다. \n",
    "# 괄호가 없다.\n",
    "print(25+3*21+*)"
   ]
  },
  {
   "cell_type": "code",
   "execution_count": 3,
   "metadata": {
    "collapsed": false
   },
   "outputs": [
    {
     "ename": "SyntaxError",
     "evalue": "invalid syntax (<ipython-input-3-04822ecac73c>, line 2)",
     "output_type": "error",
     "traceback": [
      "\u001b[0;36m  File \u001b[0;32m\"<ipython-input-3-04822ecac73c>\"\u001b[0;36m, line \u001b[0;32m2\u001b[0m\n\u001b[0;31m    25+3*21+*\u001b[0m\n\u001b[0m            ^\u001b[0m\n\u001b[0;31mSyntaxError\u001b[0m\u001b[0;31m:\u001b[0m invalid syntax\n"
     ]
    }
   ],
   "source": [
    "# 후위 표기법 계산\n",
    "25+3*21+*\n",
    "2 + 5 = 7\n",
    "73*21+*\n",
    "7*3 = 21\n",
    "2121+*\n",
    "2+1 = 3\n",
    "213*\n",
    "21*3 = 63"
   ]
  },
  {
   "cell_type": "code",
   "execution_count": 4,
   "metadata": {
    "collapsed": false
   },
   "outputs": [
    {
     "ename": "SyntaxError",
     "evalue": "invalid syntax (<ipython-input-4-9d56a7647fd5>, line 3)",
     "output_type": "error",
     "traceback": [
      "\u001b[0;36m  File \u001b[0;32m\"<ipython-input-4-9d56a7647fd5>\"\u001b[0;36m, line \u001b[0;32m3\u001b[0m\n\u001b[0;31m    *,/    >>   +, -    >>    ()\u001b[0m\n\u001b[0m    ^\u001b[0m\n\u001b[0;31mSyntaxError\u001b[0m\u001b[0;31m:\u001b[0m invalid syntax\n"
     ]
    }
   ],
   "source": [
    "# 후위 표기법 만드는 법\n",
    "# 가중치\n",
    "*,/    >>   +, -    >>    ()"
   ]
  },
  {
   "cell_type": "code",
   "execution_count": 8,
   "metadata": {
    "collapsed": false
   },
   "outputs": [
    {
     "name": "stdout",
     "output_type": "stream",
     "text": [
      "38\n"
     ]
    }
   ],
   "source": [
    "# 중위표기법 -> 후위표기법 전환 연습문제\n",
    "# 5*7-3+2*3\n",
    "print((5*7)-3+(2*3))"
   ]
  },
  {
   "cell_type": "code",
   "execution_count": 9,
   "metadata": {
    "collapsed": true
   },
   "outputs": [],
   "source": [
    "#5*7+3-2+5/2\n"
   ]
  },
  {
   "cell_type": "code",
   "execution_count": 10,
   "metadata": {
    "collapsed": false
   },
   "outputs": [
    {
     "name": "stdout",
     "output_type": "stream",
     "text": [
      "-13\n"
     ]
    }
   ],
   "source": [
    "# 3 -7 -2 * 5 / 2 + 3 - 7 \n",
    "print(3-7-2*5/2+3-7)"
   ]
  },
  {
   "cell_type": "code",
   "execution_count": 11,
   "metadata": {
    "collapsed": false
   },
   "outputs": [
    {
     "name": "stdout",
     "output_type": "stream",
     "text": [
      "10\n"
     ]
    }
   ],
   "source": [
    "# ( 2 + 5 * 2 ) + 3 - (7 - 5 + 3 )\n",
    "print(( 2 + 5 * 2 ) + 3 - (7 -5 + 3 ))"
   ]
  },
  {
   "cell_type": "code",
   "execution_count": 13,
   "metadata": {
    "collapsed": false
   },
   "outputs": [],
   "source": [
    "from stack import *"
   ]
  },
  {
   "cell_type": "code",
   "execution_count": 22,
   "metadata": {
    "collapsed": false
   },
   "outputs": [],
   "source": [
    "class Calculator:\n",
    "    def __init__(self):\n",
    "        self.org_exp = None\n",
    "        self.postfix_exp = None\n",
    "        self.result = None\n",
    "        \n",
    "    def set_org_exp(self):\n",
    "        self.org_exp = exp.replace(' ', '')\n",
    "        self.postfix_exp = None\n",
    "        self.result = None\n",
    "        \n",
    "    def get_org_exp(self):\n",
    "        return self.org_exp\n",
    "    \n",
    "    # 편의함수\n",
    "    # 가중치 반환 return -> 가중치\n",
    "    def get_weight(self, oprt):\n",
    "        if oprt == '*' or oprt == '/':\n",
    "            return 9\n",
    "        elif oprt == '+' or oprt == '-':\n",
    "            return 7\n",
    "        elif oprt == '(':\n",
    "            return 5\n",
    "    \n",
    "    #self.org_exp -> self.postfix_exp\n",
    "    #exp_list and oprt_stack\n",
    "    def convert_to_postfix(self):\n",
    "        pass\n",
    "    \n",
    "    def get_postfix_exp(self):\n",
    "        if not self.org_exp:\n",
    "            return None\n",
    "        \n",
    "        if not self.postfix_exp:\n",
    "            self.convert_to_postfix()\n",
    "        \n",
    "        return self.postfix_exp\n",
    "    \n",
    "    \n",
    "    #편의함수\n",
    "    # 3 + 2 : 3 -> oprd1, 2 -> oprd2, + -> oprt\n",
    "    def calc_two_oprd(self, oprd1, oprd2, oprt):\n",
    "        if oprt == '+':\n",
    "            return oprd1 + oprd2\n",
    "        elif oprt == '-':\n",
    "            return oprd1 - oprd2\n",
    "        elif oprt == '*':\n",
    "            return oprd1 * oprd2\n",
    "        elif oprt == '/':\n",
    "            return oprd1 // oprd2\n",
    "    \n",
    "    #알고리즘 part2\n",
    "    # 후위 표기법 수식 -> 계산\n",
    "    # return -> None\n",
    "    # self.result = 결과값\n",
    "    def calculate(self):\n",
    "        \n",
    "        calc_two_oprd()\n",
    "    \n",
    "    # client에게 공개된 인터페이스\n",
    "    def get_result(self):\n",
    "        if not self.org_exp:\n",
    "            return None\n",
    "        \n",
    "        if not self.result:\n",
    "            self.calculate()\n",
    "            \n",
    "        return self.result\n",
    "    \n",
    "    \n",
    "if __name__ == 'main':\n",
    "    listExp = [2, 5, '+', 3, '*', 2, 1, '+', '*']\n",
    "    c = Calculator(\"+\")\n",
    "#     c.get_weight(\"+\")"
   ]
  },
  {
   "cell_type": "code",
   "execution_count": null,
   "metadata": {
    "collapsed": true
   },
   "outputs": [],
   "source": []
  },
  {
   "cell_type": "code",
   "execution_count": null,
   "metadata": {
    "collapsed": true
   },
   "outputs": [],
   "source": []
  }
 ],
 "metadata": {
  "kernelspec": {
   "display_name": "Python 2",
   "language": "python",
   "name": "python2"
  },
  "language_info": {
   "codemirror_mode": {
    "name": "ipython",
    "version": 2
   },
   "file_extension": ".py",
   "mimetype": "text/x-python",
   "name": "python",
   "nbconvert_exporter": "python",
   "pygments_lexer": "ipython2",
   "version": "2.7.13"
  }
 },
 "nbformat": 4,
 "nbformat_minor": 2
}
