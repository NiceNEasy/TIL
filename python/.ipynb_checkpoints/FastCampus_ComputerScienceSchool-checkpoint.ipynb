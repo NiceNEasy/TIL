{
 "cells": [
  {
   "cell_type": "markdown",
   "metadata": {},
   "source": [
    "# FastCampus Computer Sciecne School\n",
    "\n"
   ]
  },
  {
   "cell_type": "markdown",
   "metadata": {},
   "source": [
    "# Day1 (2017-07-24)\n",
    "\n",
    "1. git  \n",
    "2. math  \n",
    "    1. variable\n",
    "    2. boolean"
   ]
  },
  {
   "cell_type": "code",
   "execution_count": 2,
   "metadata": {
    "collapsed": false
   },
   "outputs": [],
   "source": [
    "# git 설치\n",
    "#1. www.git-scm.com 접속 후 다운로드"
   ]
  },
  {
   "cell_type": "code",
   "execution_count": null,
   "metadata": {
    "collapsed": true
   },
   "outputs": [],
   "source": [
    "# shell 명령어\n",
    "\n",
    "'''\n",
    "ls : list\n",
    "'''"
   ]
  },
  {
   "cell_type": "code",
   "execution_count": null,
   "metadata": {
    "collapsed": true
   },
   "outputs": [],
   "source": []
  },
  {
   "cell_type": "code",
   "execution_count": null,
   "metadata": {
    "collapsed": true
   },
   "outputs": [],
   "source": []
  },
  {
   "cell_type": "code",
   "execution_count": 3,
   "metadata": {
    "collapsed": true
   },
   "outputs": [],
   "source": [
    "#python practice"
   ]
  },
  {
   "cell_type": "code",
   "execution_count": 4,
   "metadata": {
    "collapsed": false
   },
   "outputs": [
    {
     "name": "stdout",
     "output_type": "stream",
     "text": [
      "True\n"
     ]
    }
   ],
   "source": [
    "print(3<7)"
   ]
  },
  {
   "cell_type": "code",
   "execution_count": 5,
   "metadata": {
    "collapsed": false
   },
   "outputs": [
    {
     "name": "stdout",
     "output_type": "stream",
     "text": [
      "False\n"
     ]
    }
   ],
   "source": [
    "print(10<3)"
   ]
  },
  {
   "cell_type": "code",
   "execution_count": 6,
   "metadata": {
    "collapsed": false
   },
   "outputs": [
    {
     "name": "stdout",
     "output_type": "stream",
     "text": [
      "True\n"
     ]
    }
   ],
   "source": [
    "print(15>7)"
   ]
  },
  {
   "cell_type": "code",
   "execution_count": 7,
   "metadata": {
    "collapsed": false
   },
   "outputs": [
    {
     "name": "stdout",
     "output_type": "stream",
     "text": [
      "False\n"
     ]
    }
   ],
   "source": [
    "print(34==100)"
   ]
  },
  {
   "cell_type": "code",
   "execution_count": 8,
   "metadata": {
    "collapsed": false
   },
   "outputs": [
    {
     "name": "stdout",
     "output_type": "stream",
     "text": [
      "hello python!\n",
      "('hello', 'python!')\n"
     ]
    }
   ],
   "source": [
    "print(\"hello python!\")\n",
    "hello = \"hello\"\n",
    "python = \"python!\"\n",
    "print(hello, python)"
   ]
  },
  {
   "cell_type": "code",
   "execution_count": 9,
   "metadata": {
    "collapsed": false
   },
   "outputs": [
    {
     "name": "stdout",
     "output_type": "stream",
     "text": [
      "19\n",
      "9\n",
      "70\n",
      "2\n"
     ]
    }
   ],
   "source": [
    "num1 = 14\n",
    "num2 = 5\n",
    "\n",
    "print(num1+num2)\n",
    "print(num1-num2)\n",
    "print(num1*num2)\n",
    "print(num1/num2)"
   ]
  },
  {
   "cell_type": "code",
   "execution_count": 24,
   "metadata": {
    "collapsed": false
   },
   "outputs": [
    {
     "name": "stdout",
     "output_type": "stream",
     "text": [
      "radious = 10\n",
      "diameter = 20\n",
      "circumference = 62.830\n",
      "area = 314.15\n",
      "volume = 3141.5000\n"
     ]
    }
   ],
   "source": [
    "#오늘의 숙제\n",
    "#반지름\n",
    "r = 10\n",
    "pi = 3.1415\n",
    "\n",
    "radious = r\n",
    "diameter = 2*r\n",
    "circumference = 2*pi*r \n",
    "area = pi*r**2\n",
    "volume = (float(4/3))*pi*(r**3)\n",
    "\n",
    "print(\"radious = %d\" %radious)\n",
    "print(\"diameter = %d\" %diameter)\n",
    "print(\"circumference = %0.3f\" %circumference)\n",
    "print(\"area = %0.2f\" %area)\n",
    "print(\"volume = %0.4f\" %volume)"
   ]
  },
  {
   "cell_type": "code",
   "execution_count": null,
   "metadata": {
    "collapsed": true
   },
   "outputs": [],
   "source": []
  },
  {
   "cell_type": "markdown",
   "metadata": {},
   "source": [
    "# Day 2 : Python Basic\n",
    "## [Slide](https://github.com/ulgoon/fccss/blob/master/3rd/handouts/css_python_day2.pdf)\n",
    "### Using Jupyter Notebook to practice Python"
   ]
  },
  {
   "cell_type": "markdown",
   "metadata": {},
   "source": [
    "## Coding in PYTHONIC\n",
    "\n",
    "### Important Python Enhance Proposal\n",
    "\n",
    "#### Layout\n",
    "    * 들여쓰기(Indent) : 4 spaces or tab\n",
    "    * 한줄은 79자\n",
    "    * 클래스정의와 최상위 함수는 두 줄 띄움\n",
    "    * 클래스 내 메소드는 한 줄 띄움\n",
    "\n",
    "#### Naming Convention\n",
    "    * 클래스 이름은 CamelCase\n",
    "    * 함수, 변수, 메소드 이름은 snake_case\n",
    "\n",
    "#### Syntax\n",
    "    * 문법을 공부합시다\n",
    "\n",
    "#### type casting\n",
    "    float(3) --> int to float  \n",
    "    int(3.6) --> float to int  \n",
    "    str(1) --> int to string  \n",
    "    int(\"12\") --> string to int"
   ]
  },
  {
   "cell_type": "code",
   "execution_count": 9,
   "metadata": {
    "collapsed": false
   },
   "outputs": [
    {
     "data": {
      "text/plain": [
       "3.0"
      ]
     },
     "execution_count": 9,
     "metadata": {},
     "output_type": "execute_result"
    }
   ],
   "source": [
    "#type casting practice\n",
    "# int -> float\n",
    "float(3)"
   ]
  },
  {
   "cell_type": "code",
   "execution_count": 13,
   "metadata": {
    "collapsed": false
   },
   "outputs": [
    {
     "name": "stdout",
     "output_type": "stream",
     "text": [
      "3\n",
      "3\n"
     ]
    }
   ],
   "source": [
    "#float -> int : 소수점을 떨어내고 정수형만 쓴다. \n",
    "print(int(3.4))\n",
    "print(int(3.7))"
   ]
  },
  {
   "cell_type": "code",
   "execution_count": 14,
   "metadata": {
    "collapsed": false
   },
   "outputs": [
    {
     "data": {
      "text/plain": [
       "'100'"
      ]
     },
     "execution_count": 14,
     "metadata": {},
     "output_type": "execute_result"
    }
   ],
   "source": [
    "# int -> str\n",
    "str(100)"
   ]
  },
  {
   "cell_type": "code",
   "execution_count": null,
   "metadata": {
    "collapsed": false
   },
   "outputs": [],
   "source": [
    "# input\n",
    "name = raw_input(\"What is your name? \")\n",
    "print(\"Hi, \"+ str(name) + \", Nice to meet you.\")\n",
    "\n",
    "# input(\"How old are you?\")\n",
    "# eval(input(\"How old are you?\"))\n",
    "age = raw_input(\"How old are you? \")\n",
    "type(age)"
   ]
  },
  {
   "cell_type": "code",
   "execution_count": 42,
   "metadata": {
    "collapsed": false
   },
   "outputs": [
    {
     "name": "stdout",
     "output_type": "stream",
     "text": [
      "How old are you? 27\n",
      "<type 'str'>\n",
      "How old are you? 27\n",
      "<type 'int'>\n"
     ]
    }
   ],
   "source": [
    "# eval는 사용자가 입력한 자료형을 평가한다 -> default는 int로 변환해줌 \n",
    "# 주로 자료형을 파악 후 다른 자료형이 들어오면 다시 입력을 요청하거나 해야함\n",
    "\n",
    "age = raw_input(\"How old are you? \")\n",
    "print(type(age))\n",
    "\n",
    "age1 = eval(raw_input(\"How old are you? \"))\n",
    "print(type(age1))"
   ]
  },
  {
   "cell_type": "markdown",
   "metadata": {
    "collapsed": true
   },
   "source": [
    "### String Formating\n",
    "\n",
    "%s - string  \n",
    "%c - character  \n",
    "%d - Integer(decimal)  \n",
    "%f - floating-point  \n",
    "%o - 8진수(octal)  \n",
    "%x - 16진수(hexadecimal)  \n",
    "%% - %  \n",
    "\n",
    "`python sample code\n",
    "print(\"I have a %s, I have an %s.\" % (\"pen\", \"apple\")\n",
    "`"
   ]
  },
  {
   "cell_type": "code",
   "execution_count": 3,
   "metadata": {
    "collapsed": false
   },
   "outputs": [
    {
     "name": "stdout",
     "output_type": "stream",
     "text": [
      "I have a pen, I have an     apple, I have 55 pineapples.\n"
     ]
    }
   ],
   "source": [
    "#String formatting\n",
    "\n",
    "pen = \"pen\"\n",
    "apple = \"apple\"\n",
    "pineapple = \"pineapple\"\n",
    "num = 55\n",
    "\n",
    "print(\"I have a %s, I have an %9s, I have %d %ss.\" % (pen, apple, num, pineapple))"
   ]
  },
  {
   "cell_type": "markdown",
   "metadata": {
    "collapsed": true
   },
   "source": [
    "### Strings"
   ]
  },
  {
   "cell_type": "code",
   "execution_count": 4,
   "metadata": {
    "collapsed": false
   },
   "outputs": [
    {
     "data": {
      "text/plain": [
       "6"
      ]
     },
     "execution_count": 4,
     "metadata": {},
     "output_type": "execute_result"
    }
   ],
   "source": [
    "some_string = \"python\"\n",
    "len(some_string)"
   ]
  },
  {
   "cell_type": "code",
   "execution_count": 31,
   "metadata": {
    "collapsed": false
   },
   "outputs": [
    {
     "name": "stdout",
     "output_type": "stream",
     "text": [
      "ho\n",
      "hon\n",
      "yhn\n"
     ]
    }
   ],
   "source": [
    "# python\n",
    "# 012345\n",
    "print(some_string[3:5])\n",
    "print(some_string[3:]) #3부터 끝까지\n",
    "print(some_string[1:5+1:2]) # 1부터 5까지 2깐씩 뛰면서 출력 -> yhn"
   ]
  },
  {
   "cell_type": "code",
   "execution_count": 20,
   "metadata": {
    "collapsed": false
   },
   "outputs": [
    {
     "name": "stdout",
     "output_type": "stream",
     "text": [
      "ytho\n",
      "yh\n"
     ]
    }
   ],
   "source": [
    "print(some_string[1:5])\n",
    "print(some_string[1:5:2]) #ytho를 2칸씩 뛰어넘어서 출력 -> yh"
   ]
  },
  {
   "cell_type": "code",
   "execution_count": 32,
   "metadata": {
    "collapsed": false
   },
   "outputs": [
    {
     "name": "stdout",
     "output_type": "stream",
     "text": [
      "python\n",
      "6\n",
      "python\n"
     ]
    },
    {
     "data": {
      "text/plain": [
       "True"
      ]
     },
     "execution_count": 32,
     "metadata": {},
     "output_type": "execute_result"
    }
   ],
   "source": [
    "print(some_string[::])\n",
    "print(len(some_string))\n",
    "print(some_string[0:len(some_string):1])\n",
    "some_string[::] == some_string[0:len(some_string):1]"
   ]
  },
  {
   "cell_type": "code",
   "execution_count": 33,
   "metadata": {
    "collapsed": false
   },
   "outputs": [
    {
     "name": "stdout",
     "output_type": "stream",
     "text": [
      "nohtyp\n",
      "nohtyp\n"
     ]
    }
   ],
   "source": [
    "print(some_string[::-1])\n",
    "print(some_string[-1:-len(some_string)-1:-1])"
   ]
  },
  {
   "cell_type": "markdown",
   "metadata": {},
   "source": [
    "#### python is immutable (string은 변환이 안된다)"
   ]
  },
  {
   "cell_type": "code",
   "execution_count": 35,
   "metadata": {
    "collapsed": false
   },
   "outputs": [
    {
     "ename": "TypeError",
     "evalue": "'str' object does not support item assignment",
     "output_type": "error",
     "traceback": [
      "\u001b[0;31m---------------------------------------------------------------------------\u001b[0m",
      "\u001b[0;31mTypeError\u001b[0m                                 Traceback (most recent call last)",
      "\u001b[0;32m<ipython-input-35-2bc1106d7e4d>\u001b[0m in \u001b[0;36m<module>\u001b[0;34m()\u001b[0m\n\u001b[1;32m      1\u001b[0m \u001b[0msome_string\u001b[0m \u001b[0;34m=\u001b[0m \u001b[0;34m\"python\"\u001b[0m\u001b[0;34m\u001b[0m\u001b[0m\n\u001b[0;32m----> 2\u001b[0;31m \u001b[0msome_string\u001b[0m\u001b[0;34m[\u001b[0m\u001b[0;36m0\u001b[0m\u001b[0;34m]\u001b[0m \u001b[0;34m=\u001b[0m \u001b[0;34m\"c\"\u001b[0m\u001b[0;34m\u001b[0m\u001b[0m\n\u001b[0m",
      "\u001b[0;31mTypeError\u001b[0m: 'str' object does not support item assignment"
     ]
    }
   ],
   "source": [
    "some_string = \"python\"\n",
    "some_string[0] = \"c\""
   ]
  },
  {
   "cell_type": "code",
   "execution_count": 38,
   "metadata": {
    "collapsed": false
   },
   "outputs": [
    {
     "name": "stdout",
     "output_type": "stream",
     "text": [
      "ython\n",
      "cython\n"
     ]
    }
   ],
   "source": [
    "print(some_string[1:])\n",
    "some_string = \"c\" + some_string[1:]\n",
    "print(some_string)"
   ]
  },
  {
   "cell_type": "markdown",
   "metadata": {},
   "source": [
    "### String Functions\n",
    "\n",
    "* count\n",
    "* find\n",
    "* join"
   ]
  },
  {
   "cell_type": "code",
   "execution_count": 51,
   "metadata": {
    "collapsed": false
   },
   "outputs": [
    {
     "data": {
      "text/plain": [
       "2"
      ]
     },
     "execution_count": 51,
     "metadata": {},
     "output_type": "execute_result"
    }
   ],
   "source": [
    "# count function\n",
    "another_string = \"python is easy programming language\"\n",
    "another_string.count('p')"
   ]
  },
  {
   "cell_type": "code",
   "execution_count": 46,
   "metadata": {
    "collapsed": false
   },
   "outputs": [
    {
     "name": "stdout",
     "output_type": "stream",
     "text": [
      "16\n",
      "0\n"
     ]
    }
   ],
   "source": [
    "# find function\n",
    "# r이라는 문자의 위치를 출력해준다.\n",
    "# 첫 번째것을 찾으면 바로 끝내버림\n",
    "print(another_string.find('r'))\n",
    "print(another_string.find('p'))"
   ]
  },
  {
   "cell_type": "code",
   "execution_count": 55,
   "metadata": {
    "collapsed": false
   },
   "outputs": [
    {
     "name": "stdout",
     "output_type": "stream",
     "text": [
      "p,y,t,h,o,n\n"
     ]
    }
   ],
   "source": [
    "# join function\n",
    "comma = \",\"\n",
    "commaed = comma.join('python')\n",
    "print(commaed)"
   ]
  },
  {
   "cell_type": "code",
   "execution_count": 57,
   "metadata": {
    "collapsed": false
   },
   "outputs": [
    {
     "data": {
      "text/plain": [
       "['p', 'y', 't', 'h', 'o', 'n']"
      ]
     },
     "execution_count": 57,
     "metadata": {},
     "output_type": "execute_result"
    }
   ],
   "source": [
    "# split function\n",
    "# ,를 기준으로 짜른 후 list에 넣는다\n",
    "commaed.split(',')"
   ]
  },
  {
   "cell_type": "code",
   "execution_count": 61,
   "metadata": {
    "collapsed": false
   },
   "outputs": [
    {
     "data": {
      "text/plain": [
       "['python', 'is', 'easy']"
      ]
     },
     "execution_count": 61,
     "metadata": {},
     "output_type": "execute_result"
    }
   ],
   "source": [
    "# split의 default는 space이다.\n",
    "python_is_easy = \"python is easy\"\n",
    "python_is_easy.split()"
   ]
  },
  {
   "cell_type": "code",
   "execution_count": 82,
   "metadata": {
    "collapsed": false
   },
   "outputs": [
    {
     "name": "stdout",
     "output_type": "stream",
     "text": [
      "['honggildong', '010-1234-5678', 'seoul']\n",
      "name: honggildong\n",
      "phone: 010-1234-5678\n",
      "['010', '1234', '5678']\n",
      "local code: 010\n",
      "middle num: 1234\n",
      "last num: 5678\n",
      "address: seoul\n"
     ]
    }
   ],
   "source": [
    "personal_info = \"honggildong 010-1234-5678 seoul \"\n",
    "personal_info_splited = personal_info.split()\n",
    "print(personal_info_splited)\n",
    "\n",
    "print(\"name: \" + personal_info_splited[0])\n",
    "print(\"phone: \" + personal_info_splited[1])\n",
    "detailed_phone_num = personal_info_splited[1].split('-')\n",
    "print(detailed_phone_num)\n",
    "print(\"local code: \" + detailed_phone_num[0])\n",
    "print(\"middle num: \" + detailed_phone_num[1])\n",
    "print(\"last num: \"+ detailed_phone_num[2])\n",
    "print(\"address: \" + personal_info_splited[2])"
   ]
  },
  {
   "cell_type": "code",
   "execution_count": 85,
   "metadata": {
    "collapsed": false
   },
   "outputs": [
    {
     "name": "stdout",
     "output_type": "stream",
     "text": [
      "python is easy\n",
      "golang is easy\n"
     ]
    }
   ],
   "source": [
    "# replace function\n",
    "print(python_is_easy)\n",
    "print(python_is_easy.replace(\"python\", \"golang\"))"
   ]
  },
  {
   "cell_type": "markdown",
   "metadata": {},
   "source": [
    "## List 와 Tuple"
   ]
  },
  {
   "cell_type": "markdown",
   "metadata": {},
   "source": [
    "#### List  \n",
    "`animal = ['','','']`\n",
    "\n",
    "#### Tuple  \n",
    "`animals = ('','','')`\n",
    "\n",
    "* 공통점 : 둘 다 indexing 이 가능하다.   \n",
    "* 차이점   \n",
    "    * Tuple은 요소를 추가하거나 수정할 수 없다. 한번 추가하면 끝...\n",
    "    * 바뀌지 않는 변수를 선언할 때는 tuple을 사용해라\n",
    "\n"
   ]
  },
  {
   "cell_type": "code",
   "execution_count": 142,
   "metadata": {
    "collapsed": false
   },
   "outputs": [
    {
     "name": "stdout",
     "output_type": "stream",
     "text": [
      "['python']\n",
      "['python', 'java']\n",
      "['python', 'java', 'golang']\n"
     ]
    }
   ],
   "source": [
    "# List Practice\n",
    "# list 요소 추가 : append function\n",
    "'lang = [\"python\", \"c\", \"java\", \"golang\"]'\n",
    "lang= []\n",
    "\n",
    "lang.append(\"python\")\n",
    "print(lang)\n",
    "lang.append(\"java\")\n",
    "print(lang)\n",
    "lang.append(\"golang\")\n",
    "print(lang)"
   ]
  },
  {
   "cell_type": "code",
   "execution_count": 122,
   "metadata": {
    "collapsed": false
   },
   "outputs": [
    {
     "name": "stdout",
     "output_type": "stream",
     "text": [
      "['python', 'c', 'java', 'golang']\n"
     ]
    }
   ],
   "source": [
    "# insert function\n",
    "# 혹은 특정한 위치에 원하는 값을 추가할 수 있습니다.\n",
    "lang.insert(1,\"c\") #1번 인덱스에 \"c\"를 넣어라\n",
    "print(lang)"
   ]
  },
  {
   "cell_type": "code",
   "execution_count": 123,
   "metadata": {
    "collapsed": false
   },
   "outputs": [
    {
     "name": "stdout",
     "output_type": "stream",
     "text": [
      "['python', 'c', 'java']\n"
     ]
    }
   ],
   "source": [
    "# remove function\n",
    "# 특정 요소를 삭제 \n",
    "lang.remove(\"golang\")\n",
    "print(lang)"
   ]
  },
  {
   "cell_type": "code",
   "execution_count": 124,
   "metadata": {
    "collapsed": false
   },
   "outputs": [
    {
     "name": "stdout",
     "output_type": "stream",
     "text": [
      "['python', 'c']\n",
      "java\n"
     ]
    }
   ],
   "source": [
    "# pop function\n",
    "# 값을 뺴내기 \n",
    "# index를 알고 그 index의 값을 제거하고 싶을 때도 pop을 쓴다. \n",
    "\n",
    "java = lang.pop(2) #2번에 있는 것을 빼내라 (lang에서 빠진다.)\n",
    "# pop() 만 있으면 제일 마지막 index에 있는 값을 뺀다.\n",
    "print(lang)\n",
    "print(java)"
   ]
  },
  {
   "cell_type": "code",
   "execution_count": 157,
   "metadata": {
    "collapsed": false
   },
   "outputs": [
    {
     "name": "stdout",
     "output_type": "stream",
     "text": [
      "[2, 1, 4, 3]\n",
      "[3, 4, 1, 2]\n",
      "[1, 2, 3, 4]\n",
      "[4, 3, 2, 1]\n"
     ]
    }
   ],
   "source": [
    "# sort function \n",
    "# 리스트 정렬\n",
    "\n",
    "numbers = [2,1,4,3]\n",
    "print(numbers) #2,1,4,3\n",
    "print(numbers[::-1]) #3,4,1,2\n",
    "\n",
    "# 일반 정렬\n",
    "numbers.sort()\n",
    "print(numbers) #1,2,3,4\n",
    "\n",
    "# 역순 정렬\n",
    "numbers.reverse()\n",
    "print(numbers) #4,3,2,1"
   ]
  },
  {
   "cell_type": "code",
   "execution_count": 158,
   "metadata": {
    "collapsed": false
   },
   "outputs": [
    {
     "name": "stdout",
     "output_type": "stream",
     "text": [
      "['a', 'b', 'c']\n"
     ]
    }
   ],
   "source": [
    "alphabet = [\"a\", \"b\", \"c\"]\n",
    "alphabet.sort()\n",
    "print(alphabet)"
   ]
  },
  {
   "cell_type": "code",
   "execution_count": 159,
   "metadata": {
    "collapsed": false
   },
   "outputs": [
    {
     "name": "stdout",
     "output_type": "stream",
     "text": [
      "[4, 3, 2, 1]\n",
      "0\n",
      "1\n",
      "2\n",
      "3\n"
     ]
    }
   ],
   "source": [
    "# index function\n",
    "# 특정 위치 값의 위치 출력\n",
    "print(numbers)\n",
    "\n",
    "index_of_one = numbers.index(1)\n",
    "index_of_two = numbers.index(2)\n",
    "index_of_three = numbers.index(3)\n",
    "index_of_four = numbers.index(4)\n",
    "\n",
    "print(index_of_four)\n",
    "print(index_of_three)\n",
    "print(index_of_two)\n",
    "print(index_of_one)"
   ]
  },
  {
   "cell_type": "code",
   "execution_count": 160,
   "metadata": {
    "collapsed": false
   },
   "outputs": [
    {
     "name": "stdout",
     "output_type": "stream",
     "text": [
      "[4, 3, 2, 1]\n",
      "[4, 3, 2, 1, 5, 6]\n"
     ]
    }
   ],
   "source": [
    "# += 및 extend function\n",
    "# 리스트끼리 더할 때 \n",
    "\n",
    "print(numbers)\n",
    "numbers += [5,6]\n",
    "print(numbers)"
   ]
  },
  {
   "cell_type": "code",
   "execution_count": 161,
   "metadata": {
    "collapsed": false
   },
   "outputs": [
    {
     "name": "stdout",
     "output_type": "stream",
     "text": [
      "[4, 3, 2, 1, 5, 6, 7, 8]\n"
     ]
    }
   ],
   "source": [
    "numbers.extend([7,8])\n",
    "print(numbers)"
   ]
  },
  {
   "cell_type": "code",
   "execution_count": 164,
   "metadata": {
    "collapsed": false
   },
   "outputs": [
    {
     "name": "stdout",
     "output_type": "stream",
     "text": [
      "[[1, 2, 3, 4], 2, 3, 4, 5, 6]\n"
     ]
    }
   ],
   "source": [
    "# List 안에 list\n",
    "list_ = [[1,2,3,4], 2, 3, 4]\n",
    "list_ = list_ + [5,6]\n",
    "print(list_)"
   ]
  },
  {
   "cell_type": "markdown",
   "metadata": {},
   "source": [
    "## Tuple\n"
   ]
  },
  {
   "cell_type": "code",
   "execution_count": 166,
   "metadata": {
    "collapsed": true
   },
   "outputs": [],
   "source": [
    "#tuple은 괄호를 이용해 선언할 수 있습니다.   \n",
    "tuple1 = (1,2,3,4)"
   ]
  },
  {
   "cell_type": "code",
   "execution_count": 170,
   "metadata": {
    "collapsed": false
   },
   "outputs": [
    {
     "ename": "TypeError",
     "evalue": "'type' object does not support item deletion",
     "output_type": "error",
     "traceback": [
      "\u001b[0;31m---------------------------------------------------------------------------\u001b[0m",
      "\u001b[0;31mTypeError\u001b[0m                                 Traceback (most recent call last)",
      "\u001b[0;32m<ipython-input-170-a71eb0f35784>\u001b[0m in \u001b[0;36m<module>\u001b[0;34m()\u001b[0m\n\u001b[1;32m      1\u001b[0m \u001b[0;31m#tuple은 삭제가 불가능합니다.\u001b[0m\u001b[0;34m\u001b[0m\u001b[0;34m\u001b[0m\u001b[0m\n\u001b[0;32m----> 2\u001b[0;31m \u001b[0;32mdel\u001b[0m \u001b[0mtuple\u001b[0m\u001b[0;34m[\u001b[0m\u001b[0;36m1\u001b[0m\u001b[0;34m]\u001b[0m\u001b[0;34m\u001b[0m\u001b[0m\n\u001b[0m",
      "\u001b[0;31mTypeError\u001b[0m: 'type' object does not support item deletion"
     ]
    }
   ],
   "source": [
    "#tuple은 삭제가 불가능합니다.   \n",
    "del tuple[1]"
   ]
  },
  {
   "cell_type": "code",
   "execution_count": 171,
   "metadata": {
    "collapsed": false
   },
   "outputs": [
    {
     "ename": "TypeError",
     "evalue": "'tuple' object does not support item assignment",
     "output_type": "error",
     "traceback": [
      "\u001b[0;31m---------------------------------------------------------------------------\u001b[0m",
      "\u001b[0;31mTypeError\u001b[0m                                 Traceback (most recent call last)",
      "\u001b[0;32m<ipython-input-171-f26b0309bb14>\u001b[0m in \u001b[0;36m<module>\u001b[0;34m()\u001b[0m\n\u001b[1;32m      1\u001b[0m \u001b[0;31m#tuple은 추가가 불가능합니다.\u001b[0m\u001b[0;34m\u001b[0m\u001b[0;34m\u001b[0m\u001b[0m\n\u001b[0;32m----> 2\u001b[0;31m \u001b[0mtuple1\u001b[0m\u001b[0;34m[\u001b[0m\u001b[0;36m1\u001b[0m\u001b[0;34m]\u001b[0m \u001b[0;34m=\u001b[0m \u001b[0;34m'c'\u001b[0m\u001b[0;34m\u001b[0m\u001b[0m\n\u001b[0m",
      "\u001b[0;31mTypeError\u001b[0m: 'tuple' object does not support item assignment"
     ]
    }
   ],
   "source": [
    "#tuple은 추가가 불가능합니다.   \n",
    "tuple1[1] = 'c'"
   ]
  },
  {
   "cell_type": "code",
   "execution_count": 177,
   "metadata": {
    "collapsed": false
   },
   "outputs": [
    {
     "name": "stdout",
     "output_type": "stream",
     "text": [
      "(1, 2, 3, 4)\n",
      "(5, 6)\n",
      "(1, 2, 3, 4, 5, 6)\n",
      "(1, 2, 3, 4, 1, 2, 3, 4, 1, 2, 3, 4)\n"
     ]
    }
   ],
   "source": [
    "# tuple끼리 더하거나 반복하는 것은 가능합니다.  \n",
    "tuple2 = (5,6)\n",
    "print(tuple1)\n",
    "print(tuple2)\n",
    "print(tuple1 + tuple2)\n",
    "print(tuple1 * 3)"
   ]
  },
  {
   "cell_type": "code",
   "execution_count": 193,
   "metadata": {
    "collapsed": false
   },
   "outputs": [
    {
     "name": "stdout",
     "output_type": "stream",
     "text": [
      "(2, 1, 1)\n",
      "x: 2\n",
      "y: 1\n"
     ]
    }
   ],
   "source": [
    "# tuple은 값을 편하게 바꿀 수 있습니다.  \n",
    "x = 1\n",
    "y = 2\n",
    "\n",
    "temp = x\n",
    "x = y\n",
    "y = temp\n",
    "print(x, temp, y)\n",
    "\n",
    "print(\"x: %d\" %x)\n",
    "print(\"y: %d\" %y)"
   ]
  },
  {
   "cell_type": "code",
   "execution_count": 194,
   "metadata": {
    "collapsed": false
   },
   "outputs": [
    {
     "name": "stdout",
     "output_type": "stream",
     "text": [
      "(2, 1)\n",
      "(1, 2)\n"
     ]
    }
   ],
   "source": [
    "print(x,y)\n",
    "(x,y) = (y,x)\n",
    "print(x,y)"
   ]
  },
  {
   "cell_type": "code",
   "execution_count": 205,
   "metadata": {
    "collapsed": false
   },
   "outputs": [
    {
     "name": "stdout",
     "output_type": "stream",
     "text": [
      "((5, 6, 7, 8), (8, 7, 6, 5))\n"
     ]
    }
   ],
   "source": [
    "tuple_56 = (5,6,7,8)\n",
    "tuple_65 = tuple(reversed(tuple_56))\n",
    "print(tuple_56, tuple_65)"
   ]
  },
  {
   "cell_type": "code",
   "execution_count": 197,
   "metadata": {
    "collapsed": false
   },
   "outputs": [
    {
     "name": "stdout",
     "output_type": "stream",
     "text": [
      "(0, 1)\n"
     ]
    }
   ],
   "source": [
    "# 함수에서 하나 이상의 값을 반환할 때 사용\n",
    "def quot_and_rem(a,b):\n",
    "    quot = x // y \n",
    "    rem = x % y\n",
    "    return (quot, rem)\n",
    "\n",
    "(quot, rem) = quot_and_rem(3,10)\n",
    "print(quot, rem)"
   ]
  },
  {
   "cell_type": "markdown",
   "metadata": {},
   "source": []
  },
  {
   "cell_type": "markdown",
   "metadata": {},
   "source": [
    "# 조건문"
   ]
  },
  {
   "cell_type": "markdown",
   "metadata": {},
   "source": [
    "## if & else & elif\n",
    "\n",
    "### 빈도가 가장 높은 것을 상위에 올려놓는게 효율적인 경우가 많다. "
   ]
  },
  {
   "cell_type": "code",
   "execution_count": null,
   "metadata": {
    "collapsed": false
   },
   "outputs": [],
   "source": [
    "# conditions\n",
    "age = 19\n",
    "location = \"busan\"\n",
    "if age < 19 or location == \"seoul\":\n",
    "    print(\"you are tennager. or you live in seoul\")\n",
    "else: \n",
    "    print(\"you are not teenager or you live in another place\")"
   ]
  },
  {
   "cell_type": "code",
   "execution_count": 223,
   "metadata": {
    "collapsed": false
   },
   "outputs": [
    {
     "name": "stdout",
     "output_type": "stream",
     "text": [
      "under 19\n"
     ]
    }
   ],
   "source": [
    "age1 = 15\n",
    "if age1 < 19:\n",
    "    print(\"under 19\")\n",
    "elif age1 <50:\n",
    "    print(\"under 50\")\n",
    "else:\n",
    "    print(\"over 50\")"
   ]
  },
  {
   "cell_type": "code",
   "execution_count": 239,
   "metadata": {
    "collapsed": false
   },
   "outputs": [
    {
     "name": "stdout",
     "output_type": "stream",
     "text": [
      "18\n"
     ]
    }
   ],
   "source": [
    "import random\n",
    "\n",
    "answer1 = random.randint(1,100)\n",
    "print(answer1)"
   ]
  },
  {
   "cell_type": "code",
   "execution_count": 271,
   "metadata": {
    "collapsed": false
   },
   "outputs": [
    {
     "name": "stdout",
     "output_type": "stream",
     "text": [
      "24\n",
      "Hi there, What's your name??eric\n",
      "Hi, eric! guess the integer number: 21\n",
      "(\"That's not what I wanted!! The answer was \", '21')\n"
     ]
    }
   ],
   "source": [
    "#numguess\n",
    "import random\n",
    "\n",
    "answer = random.randint(1,100)\n",
    "# 1~99사이의 랜덤 int 변수 생성\n",
    "print(answer)\n",
    "\n",
    "username = raw_input(\"Hi there, What's your name??\")\n",
    "guess = eval(raw_input(\"Hi, \" + username + \"! guess the integer number: \"))\n",
    "\n",
    "if answer == guess:\n",
    "    print(\"Correct! The answer was \", str(answer))\n",
    "else:\n",
    "    print(\"That's not what I wanted!! The answer was \", str(guess))"
   ]
  },
  {
   "cell_type": "code",
   "execution_count": null,
   "metadata": {
    "collapsed": true
   },
   "outputs": [],
   "source": []
  },
  {
   "cell_type": "markdown",
   "metadata": {},
   "source": [
    "## For, while"
   ]
  },
  {
   "cell_type": "markdown",
   "metadata": {},
   "source": [
    "## For"
   ]
  },
  {
   "cell_type": "code",
   "execution_count": 277,
   "metadata": {
    "collapsed": false
   },
   "outputs": [
    {
     "name": "stdout",
     "output_type": "stream",
     "text": [
      "python\n",
      "java\n",
      "golang\n"
     ]
    }
   ],
   "source": [
    "'''\n",
    "for 변수 in (리스트 or 문자열):\n",
    "    실행문1\n",
    "'''\n",
    "for lang in [\"python\", \"java\", \"golang\"]:\n",
    "    print(lang)"
   ]
  },
  {
   "cell_type": "code",
   "execution_count": 296,
   "metadata": {
    "collapsed": false
   },
   "outputs": [
    {
     "name": "stdout",
     "output_type": "stream",
     "text": [
      "[1, 2, 3, 4, 5, 6, 7, 8, 9, 10]\n",
      "1\n",
      "3\n",
      "6\n",
      "10\n",
      "15\n",
      "21\n",
      "28\n",
      "36\n",
      "45\n",
      "55\n"
     ]
    }
   ],
   "source": [
    "# sum 구하는 코드\n",
    "print(range(1,11))\n",
    "\n",
    "summation = 0\n",
    "for i in range(1,11):\n",
    "#    summation += i\n",
    "    summation = summation + i\n",
    "    print(summation)"
   ]
  },
  {
   "cell_type": "code",
   "execution_count": 318,
   "metadata": {
    "collapsed": false
   },
   "outputs": [
    {
     "name": "stdout",
     "output_type": "stream",
     "text": [
      "[1, 2, 3, 4, 5, 6, 7, 8, 9, 10]\n",
      "[10, 9, 8, 7, 6, 5, 4, 3, 2, 1]\n",
      "10\n",
      "19\n",
      "27\n",
      "34\n",
      "40\n",
      "45\n",
      "49\n",
      "52\n",
      "54\n",
      "55\n"
     ]
    }
   ],
   "source": [
    "range_asc = range(1,11)\n",
    "print(range_asc)\n",
    "range_rev = list(reversed(range_asc))\n",
    "print(range_rev)\n",
    "\n",
    "sum1 = 0\n",
    "for j in (range_rev):\n",
    "    sum1 = sum1 + j\n",
    "    print(sum1)"
   ]
  },
  {
   "cell_type": "code",
   "execution_count": 289,
   "metadata": {
    "collapsed": false
   },
   "outputs": [
    {
     "name": "stdout",
     "output_type": "stream",
     "text": [
      "[1, 2, 3, 4, 5, 6, 7, 8, 9, 10]\n",
      "55\n"
     ]
    }
   ],
   "source": [
    "#기본 sum function을 이용한 sum\n",
    "range1 = range(1,10+1)\n",
    "print(range1)\n",
    "\n",
    "numsum = sum(range1)\n",
    "print(numsum)"
   ]
  },
  {
   "cell_type": "markdown",
   "metadata": {},
   "source": [
    "### while"
   ]
  },
  {
   "cell_type": "code",
   "execution_count": 323,
   "metadata": {
    "collapsed": false
   },
   "outputs": [
    {
     "name": "stdout",
     "output_type": "stream",
     "text": [
      "What is your name?eric\n",
      "Hi, eric.\n",
      "What is your name?eric\n",
      "Hi, eric.\n",
      "What is your name?break\n",
      "Hi, break.\n"
     ]
    }
   ],
   "source": [
    "name = \"\"\n",
    "while name != \"break\":\n",
    "    name = raw_input(\"What is your name?\")\n",
    "    print(\"Hi, \" + name + \".\")"
   ]
  },
  {
   "cell_type": "code",
   "execution_count": 275,
   "metadata": {
    "collapsed": false
   },
   "outputs": [
    {
     "name": "stdout",
     "output_type": "stream",
     "text": [
      "(0, 'Hello world')\n",
      "(1, 'Hello world')\n",
      "(2, 'Hello world')\n",
      "(3, 'Hello world')\n",
      "(4, 'Hello world')\n",
      "(5, 'Hello world')\n",
      "(6, 'Hello world')\n",
      "(7, 'Hello world')\n",
      "(8, 'Hello world')\n",
      "(9, 'Hello world')\n"
     ]
    }
   ],
   "source": [
    "i1 = 0\n",
    "while i1 !=10:\n",
    "    print(i1, \"Hello world\")\n",
    "    \n",
    "    i1 += 1"
   ]
  },
  {
   "cell_type": "code",
   "execution_count": 288,
   "metadata": {
    "collapsed": false
   },
   "outputs": [
    {
     "name": "stdout",
     "output_type": "stream",
     "text": [
      "type the number: 15\n",
      "[1, 2, 3, 4, 5, 6, 7, 8, 9, 10, 11, 12, 13, 14, 15]\n",
      "(1, ' ')\n",
      "(2, ' ')\n",
      "(3, 'fizz')\n",
      "(4, ' ')\n",
      "(5, 'buzz')\n",
      "(6, 'fizz')\n",
      "(7, ' ')\n",
      "(8, ' ')\n",
      "(9, 'fizz')\n",
      "(10, 'buzz')\n",
      "(11, ' ')\n",
      "(12, 'fizz')\n",
      "(13, ' ')\n",
      "(14, ' ')\n",
      "(15, 'fizzbuzz')\n"
     ]
    }
   ],
   "source": [
    "# Fizzbuzz\n",
    "num = eval(raw_input(\"type the number: \"))\n",
    "\n",
    "print(range(1, num+1))\n",
    "for i in range(1, num+1):\n",
    "    if i % 15 == 0:\n",
    "        print(i, \"fizzbuzz\")\n",
    "    elif i % 3 == 0:\n",
    "        print(i, \"fizz\")\n",
    "    elif i % 5 == 0:\n",
    "        print(i, \"buzz\")\n",
    "    else:\n",
    "        print(i, \" \")"
   ]
  },
  {
   "cell_type": "code",
   "execution_count": 324,
   "metadata": {
    "collapsed": false
   },
   "outputs": [
    {
     "name": "stdout",
     "output_type": "stream",
     "text": [
      "1\n",
      "2\n",
      "Fizz\n",
      "4\n",
      "Buzz\n",
      "Fizz\n",
      "7\n",
      "8\n",
      "Fizz\n",
      "Buzz\n",
      "11\n",
      "Fizz\n",
      "13\n",
      "14\n",
      "FizzBuzz\n",
      "16\n",
      "17\n",
      "Fizz\n",
      "19\n",
      "Buzz\n",
      "Fizz\n",
      "22\n",
      "23\n",
      "Fizz\n",
      "Buzz\n",
      "26\n",
      "Fizz\n",
      "28\n",
      "29\n",
      "FizzBuzz\n",
      "31\n",
      "32\n",
      "Fizz\n",
      "34\n",
      "Buzz\n",
      "Fizz\n",
      "37\n",
      "38\n",
      "Fizz\n",
      "Buzz\n",
      "41\n",
      "Fizz\n",
      "43\n",
      "44\n",
      "FizzBuzz\n",
      "46\n",
      "47\n",
      "Fizz\n",
      "49\n",
      "Buzz\n",
      "Fizz\n",
      "52\n",
      "53\n",
      "Fizz\n",
      "Buzz\n",
      "56\n",
      "Fizz\n",
      "58\n",
      "59\n",
      "FizzBuzz\n",
      "61\n",
      "62\n",
      "Fizz\n",
      "64\n",
      "Buzz\n",
      "Fizz\n",
      "67\n",
      "68\n",
      "Fizz\n",
      "Buzz\n",
      "71\n",
      "Fizz\n",
      "73\n",
      "74\n",
      "FizzBuzz\n",
      "76\n",
      "77\n",
      "Fizz\n",
      "79\n",
      "Buzz\n",
      "Fizz\n",
      "82\n",
      "83\n",
      "Fizz\n",
      "Buzz\n",
      "86\n",
      "Fizz\n",
      "88\n",
      "89\n",
      "FizzBuzz\n",
      "91\n",
      "92\n",
      "Fizz\n",
      "94\n",
      "Buzz\n",
      "Fizz\n",
      "97\n",
      "98\n",
      "Fizz\n",
      "Buzz\n"
     ]
    }
   ],
   "source": [
    "# one line solution\n",
    "print '\\n'.join(\"Fizz\"*(i%3==0)+\"Buzz\"*(i%5==0) or str(i) for i in range(1,101)) "
   ]
  },
  {
   "cell_type": "code",
   "execution_count": 293,
   "metadata": {
    "collapsed": true
   },
   "outputs": [],
   "source": [
    "# 숙제 : Monty Hall Problem"
   ]
  },
  {
   "cell_type": "code",
   "execution_count": 409,
   "metadata": {
    "collapsed": false
   },
   "outputs": [
    {
     "name": "stdout",
     "output_type": "stream",
     "text": [
      "['car']\n",
      "['car', 'goat']\n",
      "['car', 'goat', 'goat']\n",
      "Which door do you want (1-3)? 2\n",
      "You select the door : 2\n",
      "Before we show you your prize, let's show you another door\n",
      "Take a look at prize in door 3 : goat\n",
      "This is your last chance! Which door? (1-3)1\n",
      "('You get a', 'car')\n"
     ]
    }
   ],
   "source": [
    "import random\n",
    "\n",
    "# hiding prizes behind the doors\n",
    "prizes = ['goat', 'goat', 'car']\n",
    "doors = []\n",
    "\n",
    "# pick one random prize at a time from prizes and pop\n",
    "# into the doors list\n",
    "while(len(prizes) > 0): #prize가 다 떨어질 때까지\n",
    "    prizeNumber = random.randrange(len(prizes))\n",
    "    doors.append(prizes.pop(prizeNumber)) # picking the prize\n",
    "    print(doors)\n",
    "\n",
    "# find out which door they want first\n",
    "choice1 = eval(raw_input(\"Which door do you want (1-3)? \"))\n",
    "print(\"You select the door : %d\" % choice1)\n",
    "# show them a goat door that isn't one they picked\n",
    "print(\"Before we show you your prize, let's show you another door\")\n",
    "\n",
    "while(True):\n",
    "    # select a random door, 0-2\n",
    "    randDoor = random.randrange(len(doors))\n",
    "    if doors[randDoor] != \"car\" and choice1 - 1 != randDoor:\n",
    "        #show it to them\n",
    "        break\n",
    "#number of door I want to show them \n",
    "#not the car, not the one they chose        \n",
    "print(\"Take a look at prize in door %d : %s\" %((randDoor +1), doors[randDoor])) \n",
    "\n",
    "#found out which door they finally want and show it to them\n",
    "choice2 = eval(raw_input(\"This is your last chance! Which door? (1-3)\"))\n",
    "print(\"You get a\", doors[choice2-1])\n"
   ]
  },
  {
   "cell_type": "code",
   "execution_count": 432,
   "metadata": {
    "collapsed": false
   },
   "outputs": [
    {
     "name": "stdout",
     "output_type": "stream",
     "text": [
      "How many simulations do you want??15\n",
      "############### Simulation Number 1 ################\n",
      "['goat', 'goat', 'car']\n",
      "Your choice : Car -> switch -> final prize : Goat\n",
      "\n",
      "############### Simulation Number 2 ################\n",
      "['goat', 'goat', 'car']\n",
      "Your choice : Car -> switch -> final prize : Goat\n",
      "\n",
      "############### Simulation Number 3 ################\n",
      "['goat', 'car', 'goat']\n",
      "You choice : goat -> switch -> final prize : Car\n",
      "\n",
      "############### Simulation Number 4 ################\n",
      "['goat', 'car', 'goat']\n",
      "You choice : goat -> switch -> final prize : Car\n",
      "\n",
      "############### Simulation Number 5 ################\n",
      "['goat', 'goat', 'car']\n",
      "You choice : goat -> switch -> final prize : Car\n",
      "\n",
      "############### Simulation Number 6 ################\n",
      "['car', 'goat', 'goat']\n",
      "Your choice : Car -> switch -> final prize : Goat\n",
      "\n",
      "############### Simulation Number 7 ################\n",
      "['goat', 'goat', 'car']\n",
      "You choice : goat -> switch -> final prize : Car\n",
      "\n",
      "############### Simulation Number 8 ################\n",
      "['goat', 'goat', 'car']\n",
      "You choice : goat -> switch -> final prize : Car\n",
      "\n",
      "############### Simulation Number 9 ################\n",
      "['car', 'goat', 'goat']\n",
      "You choice : goat -> switch -> final prize : Car\n",
      "\n",
      "############### Simulation Number 10 ################\n",
      "['goat', 'car', 'goat']\n",
      "You choice : goat -> switch -> final prize : Car\n",
      "\n",
      "############### Simulation Number 11 ################\n",
      "['goat', 'goat', 'car']\n",
      "Your choice : Car -> switch -> final prize : Goat\n",
      "\n",
      "############### Simulation Number 12 ################\n",
      "['car', 'goat', 'goat']\n",
      "You choice : goat -> switch -> final prize : Car\n",
      "\n",
      "############### Simulation Number 13 ################\n",
      "['goat', 'goat', 'car']\n",
      "Your choice : Car -> switch -> final prize : Goat\n",
      "\n",
      "############### Simulation Number 14 ################\n",
      "['goat', 'car', 'goat']\n",
      "You choice : goat -> switch -> final prize : Car\n",
      "\n",
      "############### Simulation Number 15 ################\n",
      "['goat', 'goat', 'car']\n",
      "You choice : goat -> switch -> final prize : Car\n",
      "\n",
      "########## Result ##########\n",
      "Win: 10, Lose: 5\n",
      "percent of success: 66.00\n",
      "percent of fail: 33.00\n",
      "total time: 0.01\n",
      "############################\n"
     ]
    }
   ],
   "source": [
    "import random\n",
    "import time\n",
    "\n",
    "'''\n",
    "goat1 = 0\n",
    "goat2 = 0 \n",
    "car = 1\n",
    "'''\n",
    "\n",
    "win = 0 #swi\n",
    "lose = 0\n",
    "complete = 0\n",
    "\n",
    "number = input(\"How many simulations do you want??\")\n",
    "begin_time = time.time()\n",
    "\n",
    "for k in range(0, number):\n",
    "    doors = [\"car\", \"goat\", \"goat\"]\n",
    "    complete = complete + 1\n",
    "    print(\"############### Simulation Number \" + str(complete) + \" ################\")\n",
    "\n",
    "    random.shuffle(doors)\n",
    "    print(doors)\n",
    "    \n",
    "    choice = random.randrange(3) # 0,1,2\n",
    "    if doors[choice] == \"car\": #first choice was car then you switch \n",
    "        lose = lose + 1 #so you get goat -> lost +1\n",
    "        print(\"Your choice : Car -> switch -> final prize : Goat\")\n",
    "    if doors[choice] == \"goat\": #first choise was goat, now you have a car and a goat\n",
    "        win = win + 1 #then modertaor shows goat then you switch so you win a car\n",
    "        print(\"You choice : goat -> switch -> final prize : Car\")\n",
    "    print(\"\")\n",
    "    \n",
    "end_time = time.time()\n",
    "\n",
    "w_rate = 100*win/number\n",
    "l_rate = 100*lose/number\n",
    "total_time = end_time-begin_time\n",
    "\n",
    "print(\"########## Result ##########\")\n",
    "print(\"Win: %d, Lose: %d\" %(win, lose))    \n",
    "print(\"percent of success: %0.2f\" %w_rate)\n",
    "print(\"percent of fail: %0.2f\" %l_rate)\n",
    "print(\"total time: %0.2f\" %total_time)\n",
    "print(\"############################\")"
   ]
  },
  {
   "cell_type": "code",
   "execution_count": 429,
   "metadata": {
    "collapsed": true
   },
   "outputs": [],
   "source": [
    "## TODO : ask friday after class (6:00~7:00) pizza time -> report"
   ]
  },
  {
   "cell_type": "code",
   "execution_count": null,
   "metadata": {
    "collapsed": true
   },
   "outputs": [],
   "source": []
  }
 ],
 "metadata": {
  "kernelspec": {
   "display_name": "Python 2",
   "language": "python",
   "name": "python2"
  },
  "language_info": {
   "codemirror_mode": {
    "name": "ipython",
    "version": 2
   },
   "file_extension": ".py",
   "mimetype": "text/x-python",
   "name": "python",
   "nbconvert_exporter": "python",
   "pygments_lexer": "ipython2",
   "version": "2.7.13"
  }
 },
 "nbformat": 4,
 "nbformat_minor": 2
}
