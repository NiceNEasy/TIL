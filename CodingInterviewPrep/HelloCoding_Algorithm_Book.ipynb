{
 "cells": [
  {
   "cell_type": "code",
   "execution_count": 3,
   "metadata": {
    "collapsed": true
   },
   "outputs": [],
   "source": [
    "# Big(O) notation\n",
    "# Way to calculate/measure time/space complexcity"
   ]
  },
  {
   "cell_type": "code",
   "execution_count": 6,
   "metadata": {
    "collapsed": true
   },
   "outputs": [],
   "source": [
    "# Array & List (Linked List)\n",
    "#        Array | List\n",
    "# Read    O(1) | O(n)\n",
    "# Write   O(n) | O(1)\n",
    "# Delete  O(n) | O(1)"
   ]
  },
  {
   "cell_type": "code",
   "execution_count": 9,
   "metadata": {
    "collapsed": true
   },
   "outputs": [],
   "source": [
    "# Selection Sort\n",
    "# iterate all element in array to re-list in order\n",
    "# Music played time\n",
    "# Song Name | Played Times\n",
    "#   A       | 154\n",
    "#   B       | 143 \n",
    "#   C       | 99\n",
    "#   D       | 62\n",
    "#   E       | 132\n",
    "#   F       | 75\n",
    "\n",
    "# The descend order for this table is 154 -> 143 -> 132 -> 99 -> 75 -> 62 \n",
    "# Using selection sort to sort it, \n",
    "# 1st) you compare all elements in array and find the biggest one\n",
    "# 2nd) store the biggest element in new array\n",
    "# 3rd) loop 1) & 2) steps\n",
    "\n",
    "# Big(O)time -> O(n^2)  it is because you have to iterate n number of element for n times"
   ]
  },
  {
   "cell_type": "code",
   "execution_count": 41,
   "metadata": {
    "collapsed": false
   },
   "outputs": [],
   "source": [
    "# selection sort example\n",
    "def findSmallest(arr):\n",
    "    smallest = arr[0]\n",
    "    smallest_index = 0\n",
    "    for i in range(0, len(arr)):\n",
    "        print(\"\")\n",
    "        print(i, arr[i])\n",
    "        print(\"current smallest: \", smallest )                    \n",
    "        print(\"current smallest_index: \", smallest_index )                                    \n",
    "        print(\"checking arr[\" + str(i) + \"]: \" + str(arr[i]) + \" <\" + \" current smallest: \" + str(smallest) )                    \n",
    "        if arr[i] < smallest : #154 < 0\n",
    "            smallest = arr[i]\n",
    "            smallest_index = i\n",
    "            print(\"smallest: \", smallest )                    \n",
    "            print(\"smallest_index: \", smallest_index )                            \n",
    "    return smallest_index"
   ]
  },
  {
   "cell_type": "code",
   "execution_count": 42,
   "metadata": {
    "collapsed": false
   },
   "outputs": [
    {
     "name": "stdout",
     "output_type": "stream",
     "text": [
      "\n",
      "(0, 154)\n",
      "('current smallest: ', 154)\n",
      "('current smallest_index: ', 0)\n",
      "checking arr[0]: 154 < current smallest: 154\n",
      "\n",
      "(1, 143)\n",
      "('current smallest: ', 154)\n",
      "('current smallest_index: ', 0)\n",
      "checking arr[1]: 143 < current smallest: 154\n",
      "('smallest: ', 143)\n",
      "('smallest_index: ', 1)\n",
      "\n",
      "(2, 99)\n",
      "('current smallest: ', 143)\n",
      "('current smallest_index: ', 1)\n",
      "checking arr[2]: 99 < current smallest: 143\n",
      "('smallest: ', 99)\n",
      "('smallest_index: ', 2)\n",
      "\n",
      "(3, 62)\n",
      "('current smallest: ', 99)\n",
      "('current smallest_index: ', 2)\n",
      "checking arr[3]: 62 < current smallest: 99\n",
      "('smallest: ', 62)\n",
      "('smallest_index: ', 3)\n",
      "\n",
      "(4, 132)\n",
      "('current smallest: ', 62)\n",
      "('current smallest_index: ', 3)\n",
      "checking arr[4]: 132 < current smallest: 62\n",
      "\n",
      "(5, 75)\n",
      "('current smallest: ', 62)\n",
      "('current smallest_index: ', 3)\n",
      "checking arr[5]: 75 < current smallest: 62\n"
     ]
    },
    {
     "data": {
      "text/plain": [
       "3"
      ]
     },
     "execution_count": 42,
     "metadata": {},
     "output_type": "execute_result"
    }
   ],
   "source": [
    "array = [154, 143, 99, 62, 132, 75]\n",
    "findSmallest(array)"
   ]
  },
  {
   "cell_type": "code",
   "execution_count": 101,
   "metadata": {
    "collapsed": true
   },
   "outputs": [],
   "source": [
    "def selectionSort(arr):\n",
    "    newArr = []\n",
    "    for i in range(len(arr)):\n",
    "        smallest = findSmallest(arr) # find the smallest\n",
    "        newArr.append(arr.pop(smallest))\n",
    "    return newArr"
   ]
  },
  {
   "cell_type": "code",
   "execution_count": 102,
   "metadata": {
    "collapsed": false
   },
   "outputs": [
    {
     "name": "stdout",
     "output_type": "stream",
     "text": [
      "\n",
      "(0, 154)\n",
      "('current smallest: ', 154)\n",
      "('current smallest_index: ', 0)\n",
      "checking arr[0]: 154 < current smallest: 154\n",
      "\n",
      "(1, 143)\n",
      "('current smallest: ', 154)\n",
      "('current smallest_index: ', 0)\n",
      "checking arr[1]: 143 < current smallest: 154\n",
      "('smallest: ', 143)\n",
      "('smallest_index: ', 1)\n",
      "\n",
      "(2, 99)\n",
      "('current smallest: ', 143)\n",
      "('current smallest_index: ', 1)\n",
      "checking arr[2]: 99 < current smallest: 143\n",
      "('smallest: ', 99)\n",
      "('smallest_index: ', 2)\n",
      "\n",
      "(3, 62)\n",
      "('current smallest: ', 99)\n",
      "('current smallest_index: ', 2)\n",
      "checking arr[3]: 62 < current smallest: 99\n",
      "('smallest: ', 62)\n",
      "('smallest_index: ', 3)\n",
      "\n",
      "(4, 132)\n",
      "('current smallest: ', 62)\n",
      "('current smallest_index: ', 3)\n",
      "checking arr[4]: 132 < current smallest: 62\n",
      "\n",
      "(5, 75)\n",
      "('current smallest: ', 62)\n",
      "('current smallest_index: ', 3)\n",
      "checking arr[5]: 75 < current smallest: 62\n",
      "\n",
      "(0, 154)\n",
      "('current smallest: ', 154)\n",
      "('current smallest_index: ', 0)\n",
      "checking arr[0]: 154 < current smallest: 154\n",
      "\n",
      "(1, 143)\n",
      "('current smallest: ', 154)\n",
      "('current smallest_index: ', 0)\n",
      "checking arr[1]: 143 < current smallest: 154\n",
      "('smallest: ', 143)\n",
      "('smallest_index: ', 1)\n",
      "\n",
      "(2, 99)\n",
      "('current smallest: ', 143)\n",
      "('current smallest_index: ', 1)\n",
      "checking arr[2]: 99 < current smallest: 143\n",
      "('smallest: ', 99)\n",
      "('smallest_index: ', 2)\n",
      "\n",
      "(3, 132)\n",
      "('current smallest: ', 99)\n",
      "('current smallest_index: ', 2)\n",
      "checking arr[3]: 132 < current smallest: 99\n",
      "\n",
      "(4, 75)\n",
      "('current smallest: ', 99)\n",
      "('current smallest_index: ', 2)\n",
      "checking arr[4]: 75 < current smallest: 99\n",
      "('smallest: ', 75)\n",
      "('smallest_index: ', 4)\n",
      "\n",
      "(0, 154)\n",
      "('current smallest: ', 154)\n",
      "('current smallest_index: ', 0)\n",
      "checking arr[0]: 154 < current smallest: 154\n",
      "\n",
      "(1, 143)\n",
      "('current smallest: ', 154)\n",
      "('current smallest_index: ', 0)\n",
      "checking arr[1]: 143 < current smallest: 154\n",
      "('smallest: ', 143)\n",
      "('smallest_index: ', 1)\n",
      "\n",
      "(2, 99)\n",
      "('current smallest: ', 143)\n",
      "('current smallest_index: ', 1)\n",
      "checking arr[2]: 99 < current smallest: 143\n",
      "('smallest: ', 99)\n",
      "('smallest_index: ', 2)\n",
      "\n",
      "(3, 132)\n",
      "('current smallest: ', 99)\n",
      "('current smallest_index: ', 2)\n",
      "checking arr[3]: 132 < current smallest: 99\n",
      "\n",
      "(0, 154)\n",
      "('current smallest: ', 154)\n",
      "('current smallest_index: ', 0)\n",
      "checking arr[0]: 154 < current smallest: 154\n",
      "\n",
      "(1, 143)\n",
      "('current smallest: ', 154)\n",
      "('current smallest_index: ', 0)\n",
      "checking arr[1]: 143 < current smallest: 154\n",
      "('smallest: ', 143)\n",
      "('smallest_index: ', 1)\n",
      "\n",
      "(2, 132)\n",
      "('current smallest: ', 143)\n",
      "('current smallest_index: ', 1)\n",
      "checking arr[2]: 132 < current smallest: 143\n",
      "('smallest: ', 132)\n",
      "('smallest_index: ', 2)\n",
      "\n",
      "(0, 154)\n",
      "('current smallest: ', 154)\n",
      "('current smallest_index: ', 0)\n",
      "checking arr[0]: 154 < current smallest: 154\n",
      "\n",
      "(1, 143)\n",
      "('current smallest: ', 154)\n",
      "('current smallest_index: ', 0)\n",
      "checking arr[1]: 143 < current smallest: 154\n",
      "('smallest: ', 143)\n",
      "('smallest_index: ', 1)\n",
      "\n",
      "(0, 154)\n",
      "('current smallest: ', 154)\n",
      "('current smallest_index: ', 0)\n",
      "checking arr[0]: 154 < current smallest: 154\n",
      "[62, 75, 99, 132, 143, 154]\n"
     ]
    }
   ],
   "source": [
    "print(selectionSort(array))"
   ]
  },
  {
   "cell_type": "code",
   "execution_count": null,
   "metadata": {
    "collapsed": true
   },
   "outputs": [],
   "source": []
  },
  {
   "cell_type": "code",
   "execution_count": 40,
   "metadata": {
    "collapsed": true
   },
   "outputs": [],
   "source": [
    "# Recursion\n",
    "# base case : where it doesn't \n",
    "# recursive case : call itself"
   ]
  },
  {
   "cell_type": "code",
   "execution_count": 8,
   "metadata": {
    "collapsed": false
   },
   "outputs": [],
   "source": [
    "def countdown(i):\n",
    "    print i\n",
    "    if i <= 1:\n",
    "        return\n",
    "    else:\n",
    "        countdown(i-1)"
   ]
  },
  {
   "cell_type": "code",
   "execution_count": 9,
   "metadata": {
    "collapsed": false
   },
   "outputs": [
    {
     "name": "stdout",
     "output_type": "stream",
     "text": [
      "5\n",
      "4\n",
      "3\n",
      "2\n",
      "1\n"
     ]
    }
   ],
   "source": [
    "countdown(5)"
   ]
  },
  {
   "cell_type": "code",
   "execution_count": 10,
   "metadata": {
    "collapsed": true
   },
   "outputs": [],
   "source": [
    "# stack\n",
    "# LIFO : Last In First Out\n",
    "# 1) push : 가장 위에 새 항목을 추가한다. \n",
    "\n",
    "# 2) pop : 가장 위의 항목을 뗴어내고 읽는다."
   ]
  },
  {
   "cell_type": "code",
   "execution_count": 11,
   "metadata": {
    "collapsed": true
   },
   "outputs": [],
   "source": [
    "def greet(name):\n",
    "    print(\"hello, \" + name + \"!\")\n",
    "    greet2(name)\n",
    "    print (\"getting ready to say bye...\")\n",
    "    bye()\n",
    "    \n",
    "def greet2(name):\n",
    "    print(\"how are you, \" + name + \"?\")\n",
    "    \n",
    "def bye():\n",
    "    print(\"ok bye!\")"
   ]
  },
  {
   "cell_type": "code",
   "execution_count": 13,
   "metadata": {
    "collapsed": false
   },
   "outputs": [
    {
     "name": "stdout",
     "output_type": "stream",
     "text": [
      "hello, eric!\n",
      "how are you, eric?\n",
      "getting ready to say bye...\n",
      "ok bye!\n"
     ]
    }
   ],
   "source": [
    "greet(\"eric\")"
   ]
  },
  {
   "cell_type": "code",
   "execution_count": 14,
   "metadata": {
    "collapsed": true
   },
   "outputs": [],
   "source": [
    "# recursive function and call stack"
   ]
  },
  {
   "cell_type": "code",
   "execution_count": 15,
   "metadata": {
    "collapsed": true
   },
   "outputs": [],
   "source": [
    "def fact(x):\n",
    "    if x == 1:\n",
    "        return 1\n",
    "    else:\n",
    "        return x * fact(x-1)"
   ]
  },
  {
   "cell_type": "code",
   "execution_count": 16,
   "metadata": {
    "collapsed": false
   },
   "outputs": [
    {
     "data": {
      "text/plain": [
       "6"
      ]
     },
     "execution_count": 16,
     "metadata": {},
     "output_type": "execute_result"
    }
   ],
   "source": [
    "fact(3)"
   ]
  },
  {
   "cell_type": "code",
   "execution_count": 17,
   "metadata": {
    "collapsed": true
   },
   "outputs": [],
   "source": [
    "# Chapter 4"
   ]
  },
  {
   "cell_type": "code",
   "execution_count": 45,
   "metadata": {
    "collapsed": true
   },
   "outputs": [],
   "source": [
    "# 분할 정복 (Divide - and - conquer)\n",
    "# functional programming(함수형 프로그래밍)으로서 함수를 계속 호출하면서 문제를 풀어가는 방식\n",
    "# 큰 문제를 작게 쪼개서 가장 작은 문제를 해결하는 함수를 만들고 그 위로 하나씩 복합한 문제를 풀어간다. \n",
    "# 예로는 sum([2,4,6])은 아래와 같이 짜여질 수 있지만 2+4+6 이렇게 합칠수도 있지만\n",
    "# 함수형 프로그래밍을 사용하면 먼저 두 수의 합을 구하는 sum(a,b)라는 함수에 2와 4를 대입하여 2+4를 구하고 그 결과값인 6을 다시 sum(a,b)의\n",
    "# 파라미터로 입력하는 것이다. 그렇게되면 6+6이 호출되어 그 결과값은 12를 지니게 된다. \n",
    "\n",
    "\n",
    "# 퀵 소트 (Quicksort)"
   ]
  },
  {
   "cell_type": "code",
   "execution_count": 46,
   "metadata": {
    "collapsed": true
   },
   "outputs": [],
   "source": [
    "array1 = [1,4,6,8]\n",
    "\n",
    "def sum(arr):\n",
    "    total = 0\n",
    "#     for i in range(len(arr)):\n",
    "#         total += arr[i]\n",
    "    for i in arr:\n",
    "        total += i\n",
    "    return total"
   ]
  },
  {
   "cell_type": "code",
   "execution_count": 47,
   "metadata": {
    "collapsed": false
   },
   "outputs": [
    {
     "name": "stdout",
     "output_type": "stream",
     "text": [
      "19\n"
     ]
    }
   ],
   "source": [
    "print(sum(array1))"
   ]
  },
  {
   "cell_type": "code",
   "execution_count": 121,
   "metadata": {
    "collapsed": false
   },
   "outputs": [],
   "source": [
    "# quicksort\n",
    "# 비어있는 배열 or 원소가 1개인 배열이 기본단계가 된다. \n",
    "\n",
    "# 분할 정복 전략을 사용하면 이 배열을 기본 단계가 될 때가지 나눠야한다. \n",
    "# 평균적으로 O(nlogn)의 시간을 가진다. \n",
    "\n",
    "# 퀵 정렬의 동작\n",
    "# 1) 원소 1개 고르기 (기준원소 : pivot)\n",
    "# 2) 분할(partitioning) 기준 원소보다 작은 원소와 큰 원소로 분류\n",
    "# 3) 작은 원소 배열 및 큰 원소 배열을 다시 퀵정렬 호출을 통해 정렬\n",
    "# 배열의 원소의 숫자에 상관없이 퀵정렬을 통해서 잘게 잘게 쪼개서 정렬할 수 있다. \n",
    "\n",
    "# 예\n",
    "#[33, 15, 10] \n",
    "# 1) 첫번째 원소인 33을 일단 기준원소로 잡는다. \n",
    "# 2) 작은 원소와 큰원소로 분류한다. 15,10 | 33 | 큰 수의 배열 \n",
    "# 3) 작은 원소 배열을 다시 퀵정렬을 호출 quicksort([10,15]) + [33] + quicksort([])\n",
    "#\n",
    "def quicksort_short(array):\n",
    "    if len(array) < 2: # 배열이 비어있거나(0) 원소가 1개인 배열이면 그냥 리턴해라\n",
    "        return array\n",
    "    else:\n",
    "        pivot = array[0] # 재귀 단계\n",
    "        print(\"pivot: \" + str(pivot))\n",
    "        less = [i for i in array[1:] if i <= pivot] # pivot (기준 원소) 보다 작은 원소들 모음\n",
    "        greater = [i for i in array[1:] if i >= pivot] # 기준 원소보다 큰 원소들 모음\n",
    "        print(\"less: \" + str(less) )                \n",
    "        print(\"greater: \" + str(greater) )    \n",
    "        return quicksort_short(less) + [pivot] + quicksort_short(greater)        \n",
    "\n",
    "\n",
    "def quicksort_long(array):\n",
    "    if len(array) < 2:\n",
    "        return array\n",
    "    else:\n",
    "        pivot = array[0]\n",
    "        less_f = []\n",
    "        greater_f = []\n",
    "        \n",
    "        for i in array[1:]:\n",
    "            if i < pivot:\n",
    "                less_f.append(i)\n",
    "            elif i > pivot:\n",
    "                greater_f.append(i)\n",
    "            \n",
    "        return quicksort_long(less_f) + [pivot] + quicksort_long(greater_f)"
   ]
  },
  {
   "cell_type": "code",
   "execution_count": 125,
   "metadata": {
    "collapsed": false
   },
   "outputs": [
    {
     "name": "stdout",
     "output_type": "stream",
     "text": [
      "pivot: 1\n",
      "less: []\n",
      "greater: [4, 6, 8]\n",
      "pivot: 4\n",
      "less: []\n",
      "greater: [6, 8]\n",
      "pivot: 6\n",
      "less: []\n",
      "greater: [8]\n",
      "[1, 4, 6, 8]\n",
      "[1, 4, 6, 8]\n"
     ]
    }
   ],
   "source": [
    "array_qsort = [1,4,6,8]\n",
    "print(quicksort_short(array_qsort))\n",
    "print(quicksort_long(array_qsort))"
   ]
  },
  {
   "cell_type": "code",
   "execution_count": 126,
   "metadata": {
    "collapsed": false
   },
   "outputs": [
    {
     "name": "stdout",
     "output_type": "stream",
     "text": [
      "[3]\n"
     ]
    }
   ],
   "source": [
    "array_qsort1 = [3]\n",
    "print(quicksort_short(array_qsort1))"
   ]
  },
  {
   "cell_type": "code",
   "execution_count": 127,
   "metadata": {
    "collapsed": false
   },
   "outputs": [
    {
     "name": "stdout",
     "output_type": "stream",
     "text": [
      "pivot: 3\n",
      "less: [2, 1]\n",
      "greater: [5, 4]\n",
      "pivot: 2\n",
      "less: [1]\n",
      "greater: []\n",
      "pivot: 5\n",
      "less: [4]\n",
      "greater: []\n",
      "[1, 2, 3, 4, 5]\n",
      "[1, 2, 3, 4, 5]\n"
     ]
    }
   ],
   "source": [
    "array_qsort2 = [3,5,2,4,1]\n",
    "print(quicksort_short(array_qsort2))\n",
    "print(quicksort_long(array_qsort2))"
   ]
  },
  {
   "cell_type": "code",
   "execution_count": null,
   "metadata": {
    "collapsed": true
   },
   "outputs": [],
   "source": []
  }
 ],
 "metadata": {
  "kernelspec": {
   "display_name": "Python 2",
   "language": "python",
   "name": "python2"
  },
  "language_info": {
   "codemirror_mode": {
    "name": "ipython",
    "version": 2
   },
   "file_extension": ".py",
   "mimetype": "text/x-python",
   "name": "python",
   "nbconvert_exporter": "python",
   "pygments_lexer": "ipython2",
   "version": "2.7.13"
  }
 },
 "nbformat": 4,
 "nbformat_minor": 2
}
