{
 "cells": [
  {
   "cell_type": "markdown",
   "metadata": {},
   "source": [
    "# Leetcode\n",
    "\n",
    "## Leetcode Algorithms\n",
    "Solving \"Top Interview Questions\" Algorithms problems in Python\n",
    "\n",
    "## Link\n",
    "\n",
    "[Leetcode](https://leetcode.com/problemset/top-interview-questions/)"
   ]
  },
  {
   "cell_type": "code",
   "execution_count": 2,
   "metadata": {
    "collapsed": false
   },
   "outputs": [
    {
     "data": {
      "text/plain": [
       "'\\ndef two_sum(nums:\"List[int]\", target:\"int\") -> \"List[int]\":\\n    dic = {}\\n    for i, num in enumerate(nums):\\n        if num in dic:\\n            return [dic[num], i]\\n        else:\\n            dic[target - num] = i\\n'"
      ]
     },
     "execution_count": 2,
     "metadata": {},
     "output_type": "execute_result"
    }
   ],
   "source": [
    "# 1. TwoSum\n",
    "\n",
    "'''\n",
    "Given an array of integers, \n",
    "return indices of the two numbers such that they add up to a specific target.\n",
    "\n",
    "You may assume that each input would have exactly one solution, and you may not use the same element twice.\n",
    "\n",
    "Example:\n",
    "Given nums = [2, 7, 11, 15], target = 9,\n",
    "\n",
    "Because nums[0] + nums[1] = 2 + 7 = 9,\n",
    "return [0, 1].\n",
    "\n",
    "'''\n",
    "\n",
    "'''\n",
    "total_count = 0\n",
    "\n",
    "def twoSum(nums, target):\n",
    "    # teacher\n",
    "    # checkNums = {num:True for num in nums}\n",
    "    # [2,8,19, 37, 4, 5]\n",
    "    # {2:1, 8:1, 19:1, 37:1, 4:1, 5:1}\n",
    "\n",
    "    checkNums = {}\n",
    "    \n",
    "    global total_count\n",
    "    for i in range(len(nums)):\n",
    "        firstNumber = nums[i]\n",
    "        numberToFind = target - firstNumber\n",
    "        # if numberToFind in nums:\n",
    "        if numberToFind in checkNums:\n",
    "            return numberToFind, firstNumber\n",
    "        else:\n",
    "            checkNums[firstNumber] = 1\n",
    "            \n",
    "        \"\"\"\n",
    "        for j in range(i+1, len(nums)):\n",
    "            secondNumber = nums[j]\n",
    "            print(total_count)\n",
    "            print(\"테스트\")\n",
    "            total_count += 1\n",
    "            if firstNumber + secondNumber == target:\n",
    "                return firstNumber, secondNumber\n",
    "        \"\"\"\n",
    "    \n",
    "    # dic = {}\n",
    "    # for i, num in enumerate(nums):\n",
    "    #     print(\"i, num:\", i, num)\n",
    "    #     if num in dic:\n",
    "    #         return dic[num], i\n",
    "    #     else:\n",
    "    #         dic[target - num] = i\n",
    "    return 0,0\n",
    "\n",
    "\n",
    "def main():\n",
    "    print(twoSum([2, 8, 19, 37, 4, 5], 12))\n",
    "\n",
    "if __name__ == \"__main__\":\n",
    "    main()\n",
    "'''"
   ]
  },
  {
   "cell_type": "code",
   "execution_count": null,
   "metadata": {
    "collapsed": true
   },
   "outputs": [],
   "source": [
    "#two_sum([1,2,3])"
   ]
  },
  {
   "cell_type": "code",
   "execution_count": null,
   "metadata": {
    "collapsed": true
   },
   "outputs": [],
   "source": []
  },
  {
   "cell_type": "code",
   "execution_count": null,
   "metadata": {
    "collapsed": true
   },
   "outputs": [],
   "source": [
    "#2. Add Two Numbers\n",
    "'''\n",
    "You are given two non-empty linked lists \n",
    "representing two non-negative integers. \n",
    "The digits are stored in reverse order \n",
    "and each of their nodes contain a single digit. \n",
    "Add the two numbers and return it as a linked list.\n",
    "\n",
    "You may assume the two numbers do not contain any leading zero, \n",
    "except the number 0 itself.\n",
    "\n",
    "Input: (2 -> 4 -> 3) + (5 -> 6 -> 4)\n",
    "Output: 7 -> 0 -> 8\n",
    "'''\n",
    "\n",
    "def addTwoNumbers(l1, l2):\n",
    "    \"\"\"\n",
    "    l1 : listnode\n",
    "    l2 : listnode\n",
    "    rtype : listnode\n",
    "    \"\"\""
   ]
  },
  {
   "cell_type": "code",
   "execution_count": null,
   "metadata": {
    "collapsed": true
   },
   "outputs": [],
   "source": []
  },
  {
   "cell_type": "code",
   "execution_count": 218,
   "metadata": {
    "collapsed": false
   },
   "outputs": [],
   "source": [
    "#344. Reverse String\n",
    "'''\n",
    "Write a function that takes a string as input and \n",
    "returns the string reversed.\n",
    "\n",
    "Example:\n",
    "Given s = \"hello\", return \"olleh\".\n",
    "\n",
    "'''\n",
    "\n",
    "class Solution(object):\n",
    "#     def __init__(self):\n",
    "#         self.result = \"\"\n",
    "        \n",
    "    def reverseString(self, s):\n",
    "        \"\"\"\n",
    "        :type s: str\n",
    "        :rtype: str\n",
    "        \"\"\"\n",
    "\n",
    "        '''1st try\n",
    "        emptyStr = ''\n",
    "        for i in range(len(s)):\n",
    "            emptyStr += s[(len(s)-1)-i]\n",
    "        return emptyStr\n",
    "        '''\n",
    "        \n",
    "        '''2nd try'''\n",
    "        # Example for understanding\n",
    "        # ex = \"hellop\" # -6 -5 -4 -3 -2 -1\n",
    "        # print( ex[-1:-7:-1]) #-1에서부터 -6까지 -1씩 감소하면서 출력한다.\n",
    "        return(s[::-1]) #str의 마지막부터 끝까지 -1씩 감소하면서 출력한다."
   ]
  },
  {
   "cell_type": "code",
   "execution_count": 216,
   "metadata": {
    "collapsed": false
   },
   "outputs": [
    {
     "data": {
      "text/plain": [
       "'polleh'"
      ]
     },
     "execution_count": 216,
     "metadata": {},
     "output_type": "execute_result"
    }
   ],
   "source": [
    "Solution().reverseString(\"hellop\")"
   ]
  },
  {
   "cell_type": "code",
   "execution_count": 96,
   "metadata": {
    "collapsed": false
   },
   "outputs": [],
   "source": [
    "#345. Reverse Vowels of a String\n",
    "'''\n",
    "Write a function that takes a string as input and \n",
    "reverse only the vowels of a string.\n",
    "\n",
    "Example 1:\n",
    "Given s = \"hello\", return \"holle\".\n",
    "\n",
    "Example 2:\n",
    "Given s = \"leetcode\", return \"leotcede\".\n",
    "\n",
    "Note:\n",
    "The vowels does not include the letter \"y\".\n",
    "\n",
    "'''\n",
    "\n",
    "class Solution(object):  \n",
    "    def reverseVowels(self, s):\n",
    "        \"\"\"\n",
    "        :type s: str\n",
    "        :rtype: str\n",
    "        \"\"\"\n",
    "        vowels = \"AEIOUaeiou\" #type : str\n",
    "        i, j = 0, len(s)-1\n",
    "#         print(i, j) #hello 01234 -> 0, 4\n",
    "        s = list(s)\n",
    "#         print(s) # type : list\n",
    "#         print(\"\")\n",
    "        \n",
    "        while i < j:\n",
    "            while i < j and s[i] not in vowels:\n",
    "                i += 1\n",
    "            while i < j and s[j] not in vowels:\n",
    "                j -= 1\n",
    "            s[i], s[j] = s[j], s[i]\n",
    "            i, j = i + 1, j - 1\n",
    "        return \"\".join(s)"
   ]
  },
  {
   "cell_type": "code",
   "execution_count": 97,
   "metadata": {
    "collapsed": false
   },
   "outputs": [
    {
     "data": {
      "text/plain": [
       "'holle'"
      ]
     },
     "execution_count": 97,
     "metadata": {},
     "output_type": "execute_result"
    }
   ],
   "source": [
    "Solution().reverseVowels(\"hello\")"
   ]
  },
  {
   "cell_type": "code",
   "execution_count": null,
   "metadata": {
    "collapsed": true
   },
   "outputs": [],
   "source": []
  }
 ],
 "metadata": {
  "kernelspec": {
   "display_name": "Python 2",
   "language": "python",
   "name": "python2"
  },
  "language_info": {
   "codemirror_mode": {
    "name": "ipython",
    "version": 2
   },
   "file_extension": ".py",
   "mimetype": "text/x-python",
   "name": "python",
   "nbconvert_exporter": "python",
   "pygments_lexer": "ipython2",
   "version": "2.7.13"
  }
 },
 "nbformat": 4,
 "nbformat_minor": 2
}
