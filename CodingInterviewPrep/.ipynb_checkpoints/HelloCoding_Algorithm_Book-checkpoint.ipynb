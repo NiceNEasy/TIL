{
 "cells": [
  {
   "cell_type": "code",
   "execution_count": 3,
   "metadata": {
    "collapsed": true
   },
   "outputs": [],
   "source": [
    "# Big(O) notation\n",
    "# Way to calculate/measure time/space complexcity"
   ]
  },
  {
   "cell_type": "code",
   "execution_count": 6,
   "metadata": {
    "collapsed": true
   },
   "outputs": [],
   "source": [
    "# Array & List (Linked List)\n",
    "#        Array | List\n",
    "# Read    O(1) | O(n)\n",
    "# Write   O(n) | O(1)\n",
    "# Delete  O(n) | O(1)"
   ]
  },
  {
   "cell_type": "code",
   "execution_count": 9,
   "metadata": {
    "collapsed": true
   },
   "outputs": [],
   "source": [
    "# Selection Sort\n",
    "# iterate all element in array to re-list in order\n",
    "# Music played time\n",
    "# Song Name | Played Times\n",
    "#   A       | 154\n",
    "#   B       | 143 \n",
    "#   C       | 99\n",
    "#   D       | 62\n",
    "#   E       | 132\n",
    "#   F       | 75\n",
    "\n",
    "# The descend order for this table is 154 -> 143 -> 132 -> 99 -> 75 -> 62 \n",
    "# Using selection sort to sort it, \n",
    "# 1st) you compare all elements in array and find the biggest one\n",
    "# 2nd) store the biggest element in new array\n",
    "# 3rd) loop 1) & 2) steps\n",
    "\n",
    "# Big(O)time -> O(n^2)  it is because you have to iterate n number of element for n times"
   ]
  },
  {
   "cell_type": "code",
   "execution_count": 81,
   "metadata": {
    "collapsed": false
   },
   "outputs": [],
   "source": [
    "# selection sort example\n",
    "def findSmallest(arr):\n",
    "    smallest = arr[0]\n",
    "    smallest_index = 0\n",
    "    SortedArray = []\n",
    "    for i in range(0, len(arr)):\n",
    "        print(i, arr[i])\n",
    "        print(\"current arr[\" + str(i) + \"]: \" + str(arr[i]) + \" <\" + \" smallest: \" + str(smallest) )            \n",
    "        print(\"current smallest: \", smallest )                    \n",
    "        print(\"smallest_index: \", smallest_index )                                    \n",
    "        if arr[i] < smallest : #154 < 0\n",
    "            smallest = arr[i]\n",
    "            smallest_index = i\n",
    "            print(\"smallest: \", smallest )                    \n",
    "            print(\"smallest_index: \", smallest_index )                            \n",
    "    return smallest_index"
   ]
  },
  {
   "cell_type": "code",
   "execution_count": 82,
   "metadata": {
    "collapsed": false
   },
   "outputs": [
    {
     "name": "stdout",
     "output_type": "stream",
     "text": [
      "(0, 154)\n",
      "arr[0]: 154 < smallest: 154\n",
      "('smallest: ', 154)\n",
      "('smallest_index: ', 0)\n",
      "(1, 143)\n",
      "arr[1]: 143 < smallest: 154\n",
      "('smallest: ', 154)\n",
      "('smallest_index: ', 0)\n",
      "('smallest: ', 143)\n",
      "('smallest_index: ', 1)\n",
      "(2, 99)\n",
      "arr[2]: 99 < smallest: 143\n",
      "('smallest: ', 143)\n",
      "('smallest_index: ', 1)\n",
      "('smallest: ', 99)\n",
      "('smallest_index: ', 2)\n",
      "(3, 62)\n",
      "arr[3]: 62 < smallest: 99\n",
      "('smallest: ', 99)\n",
      "('smallest_index: ', 2)\n",
      "('smallest: ', 62)\n",
      "('smallest_index: ', 3)\n",
      "(4, 132)\n",
      "arr[4]: 132 < smallest: 62\n",
      "('smallest: ', 62)\n",
      "('smallest_index: ', 3)\n",
      "(5, 75)\n",
      "arr[5]: 75 < smallest: 62\n",
      "('smallest: ', 62)\n",
      "('smallest_index: ', 3)\n"
     ]
    },
    {
     "data": {
      "text/plain": [
       "3"
      ]
     },
     "execution_count": 82,
     "metadata": {},
     "output_type": "execute_result"
    }
   ],
   "source": [
    "array = [154, 143, 99, 62, 132, 75]\n",
    "findSmallest(array)"
   ]
  },
  {
   "cell_type": "code",
   "execution_count": 73,
   "metadata": {
    "collapsed": true
   },
   "outputs": [],
   "source": [
    "def selectionSort(arr):\n",
    "    newArr = []\n",
    "    for i in range(len(arr)):\n",
    "        smallest = findSmallest(arr) # find the smallest\n",
    "        newArr.append(arr.pop(smallest))\n",
    "    return newArr"
   ]
  },
  {
   "cell_type": "code",
   "execution_count": 74,
   "metadata": {
    "collapsed": false
   },
   "outputs": [
    {
     "name": "stdout",
     "output_type": "stream",
     "text": [
      "(0, 154)\n",
      "(1, 143)\n",
      "arr[1]: 143 < smallest: 154\n",
      "('smallest: ', 143)\n",
      "(2, 99)\n",
      "arr[2]: 99 < smallest: 143\n",
      "('smallest: ', 99)\n",
      "(3, 62)\n",
      "arr[3]: 62 < smallest: 99\n",
      "('smallest: ', 62)\n",
      "(4, 132)\n",
      "(5, 75)\n",
      "(0, 154)\n",
      "(1, 143)\n",
      "arr[1]: 143 < smallest: 154\n",
      "('smallest: ', 143)\n",
      "(2, 99)\n",
      "arr[2]: 99 < smallest: 143\n",
      "('smallest: ', 99)\n",
      "(3, 132)\n",
      "(4, 75)\n",
      "arr[4]: 75 < smallest: 99\n",
      "('smallest: ', 75)\n",
      "(0, 154)\n",
      "(1, 143)\n",
      "arr[1]: 143 < smallest: 154\n",
      "('smallest: ', 143)\n",
      "(2, 99)\n",
      "arr[2]: 99 < smallest: 143\n",
      "('smallest: ', 99)\n",
      "(3, 132)\n",
      "(0, 154)\n",
      "(1, 143)\n",
      "arr[1]: 143 < smallest: 154\n",
      "('smallest: ', 143)\n",
      "(2, 132)\n",
      "arr[2]: 132 < smallest: 143\n",
      "('smallest: ', 132)\n",
      "(0, 154)\n",
      "(1, 143)\n",
      "arr[1]: 143 < smallest: 154\n",
      "('smallest: ', 143)\n",
      "(0, 154)\n",
      "[62, 75, 99, 132, 143, 154]\n"
     ]
    }
   ],
   "source": [
    "print(selectionSort(array))"
   ]
  },
  {
   "cell_type": "code",
   "execution_count": null,
   "metadata": {
    "collapsed": true
   },
   "outputs": [],
   "source": []
  }
 ],
 "metadata": {
  "kernelspec": {
   "display_name": "Python 2",
   "language": "python",
   "name": "python2"
  },
  "language_info": {
   "codemirror_mode": {
    "name": "ipython",
    "version": 2
   },
   "file_extension": ".py",
   "mimetype": "text/x-python",
   "name": "python",
   "nbconvert_exporter": "python",
   "pygments_lexer": "ipython2",
   "version": "2.7.13"
  }
 },
 "nbformat": 4,
 "nbformat_minor": 2
}
