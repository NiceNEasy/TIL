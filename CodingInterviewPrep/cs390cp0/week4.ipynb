{
 "cells": [
  {
   "cell_type": "markdown",
   "metadata": {},
   "source": [
    "# Alternating Subarrays"
   ]
  },
  {
   "cell_type": "code",
   "execution_count": 4,
   "metadata": {
    "collapsed": false
   },
   "outputs": [
    {
     "name": "stdout",
     "output_type": "stream",
     "text": [
      "6\n",
      "-5 -1 -1 2 -2 -3\n",
      "1 1 3 2 1 1\n"
     ]
    }
   ],
   "source": [
    "#Alternating Subarrays\n",
    "'''\n",
    "There's an array A consisting of N non-zero integers A1..N. A subarray of A is called alternating if any two adjacent elements in it have different signs (i.e. one of them should be negative and the other should be positive).\n",
    "\n",
    "For each x from 1 to N, compute the length of the longest alternating subarray that starts at x - that is, a subarray Ax..y for the maximum possible y ≥ x. The length of such a subarray is y-x+1.\n",
    "\n",
    "Input Format\n",
    "\n",
    "The first line contains N(number of elements).\n",
    "The following line contains N space-separated integers A1..N.\n",
    "Constraints\n",
    "\n",
    "1 ≤ N ≤ 4*105\n",
    "-109 ≤ Ai ≤ 109\n",
    "Output Format\n",
    "\n",
    "Output one line with N space-separated integers - the lengths of the longest alternating subarray starting at x, for each x from 1 to N.\n",
    "\n",
    "Sample Input 0\n",
    "\n",
    "4\n",
    "1 -5 1 -5\n",
    "Sample Output 0\n",
    "\n",
    "4 3 2 1\n",
    "Sample Input 1\n",
    "\n",
    "6\n",
    "-5 -1 -1 2 -2 -3\n",
    "Sample Output 1\n",
    "\n",
    "1 1 3 2 1 1\n",
    "'''\n",
    "def isOppSign(array):\n",
    "    # cnt = 1\n",
    "    cnt_list = []\n",
    "    for a in range(0, len(array)):\n",
    "        cnt = 1\n",
    "\n",
    "        # print(\"\")\n",
    "        # print(\"new start\")\n",
    "        # print(\"checking array[\" + str(a) + \"]\")\n",
    "        # print(\"starting count: \", cnt)\n",
    "        for i,j in zip(array[a:], array[a+1:]):\n",
    "            # print(i,j)\n",
    "            if (int(i) * int(j) < 0 ):\n",
    "                # print(str(i) + \" \" + str(j) + \" are opposite signs\" )\n",
    "                cnt += 1\n",
    "                # print(\"cnt: \", cnt)\n",
    "            else:\n",
    "                break\n",
    "        cnt_list.append(cnt)\n",
    "    # print(cnt_list)\n",
    "    # print(\"cnt_list: \" + str(cnt_list))\n",
    "\n",
    "    # printing in format\n",
    "    return ' '.join(map(str, cnt_list))\n",
    "    # for e in cnt_list:\n",
    "    #     print(e, end=\" \")\n",
    "\n",
    "\n",
    "    # for loop method\n",
    "    # for i in range(0, len(array)):\n",
    "    #     for j in range(0, len(array)):\n",
    "    #         if ( (int(array[i])<0) == (int(array[i-j+1])<0)):\n",
    "    #             print(str(array[i]) + \",\" + str(array[j]) +\" are opposite sign\")\n",
    "\n",
    "\n",
    "def main():\n",
    "    n = raw_input().strip() #str\n",
    "    array = raw_input().strip() #str\n",
    "    newArray = array.split()\n",
    "    # print(n)\n",
    "    # print(newArray)\n",
    "    print(isOppSign(newArray))\n",
    "\n",
    "\n",
    "\n",
    "main()\n"
   ]
  },
  {
   "cell_type": "code",
   "execution_count": null,
   "metadata": {
    "collapsed": true
   },
   "outputs": [],
   "source": []
  }
 ],
 "metadata": {
  "kernelspec": {
   "display_name": "Python 2",
   "language": "python",
   "name": "python2"
  },
  "language_info": {
   "codemirror_mode": {
    "name": "ipython",
    "version": 2
   },
   "file_extension": ".py",
   "mimetype": "text/x-python",
   "name": "python",
   "nbconvert_exporter": "python",
   "pygments_lexer": "ipython2",
   "version": "2.7.13"
  }
 },
 "nbformat": 4,
 "nbformat_minor": 2
}
