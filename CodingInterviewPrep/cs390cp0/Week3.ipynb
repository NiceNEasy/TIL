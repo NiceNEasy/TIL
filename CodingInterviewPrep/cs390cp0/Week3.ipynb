{
 "cells": [
  {
   "cell_type": "code",
   "execution_count": 6,
   "metadata": {
    "collapsed": false
   },
   "outputs": [
    {
     "data": {
      "text/plain": [
       "'\\nA palindrome is a word that reads the same backward as forward.\\nFor e.g. \"madam\" or \"noon\". For a given string, you need to find the number of substrings that are palindromes.\\n\\nInput Format\\nThe given input will have one line containing the input string.\\n\\nConstraints\\nLength of the string is less than 100.\\n\\nOutput Format\\nOutput the number of distinct palindromic substrings of the input string.\\n\\nSample Input 0\\nabaaa\\n\\nSample Output 0\\n5\\n\\nExplanation 0\\nBelow are 5 palindrome sub-strings: a, aa, aaa, aba, b\\n'"
      ]
     },
     "execution_count": 6,
     "metadata": {},
     "output_type": "execute_result"
    }
   ],
   "source": [
    "'''\n",
    "A palindrome is a word that reads the same backward as forward.\n",
    "For e.g. \"madam\" or \"noon\". For a given string, you need to find the number of substrings that are palindromes.\n",
    "\n",
    "Input Format\n",
    "The given input will have one line containing the input string.\n",
    "\n",
    "Constraints\n",
    "Length of the string is less than 100.\n",
    "\n",
    "Output Format\n",
    "Output the number of distinct palindromic substrings of the input string.\n",
    "\n",
    "Sample Input 0\n",
    "abaaa\n",
    "\n",
    "Sample Output 0\n",
    "5\n",
    "\n",
    "Explanation 0\n",
    "Below are 5 palindrome sub-strings: a, aa, aaa, aba, b\n",
    "'''"
   ]
  },
  {
   "cell_type": "code",
   "execution_count": null,
   "metadata": {
    "collapsed": false
   },
   "outputs": [],
   "source": [
    "#!/usr/bin/py\n",
    "# Head ends here\n",
    "\n",
    "def isPalindrom(a):\n",
    "#     print(\"a: \" + a + \", a[::-1]: \" + a[::-1] )\n",
    "    return a == a[::-1]\n",
    "\n",
    "def seperator(a):\n",
    "#     print(a)\n",
    "    count = 0\n",
    "    passedStr = []\n",
    "#     print(\"count: \" + str(count))\n",
    "    for i in range(len(a)):\n",
    "        for j in range(i,len(a)):\n",
    "#             print(\"\")\n",
    "#             print(\"j-i+1=number of letter checking: \"+ str(j-i+1))\n",
    "#             print(\"i: \" + str(i) + \", j: \" + str(j))\n",
    "            testStr = a[i:j+1]\n",
    "#             print(\"test str: \" + a[i:j+1])\n",
    "\n",
    "            if (isPalindrom(testStr) and testStr not in passedStr):\n",
    "                passedStr.append(testStr)\n",
    "#                 print(\"True\")\n",
    "                count += 1\n",
    "#             else:\n",
    "#                 print(\"False\")\n",
    "                \n",
    "\n",
    "            print(\"count: \" + str(count))\n",
    "    print(\"\")\n",
    "    print(\"final count:\" + str(count))\n",
    "    print(\"passedStr: \", passedStr)\n",
    "    return count\n",
    "    \n",
    "# main function    \n",
    "if __name__ == '__main__':\n",
    "    s = raw_input()\n",
    "    examples = \"abaaa\"\n",
    "    print(seperator(s))"
   ]
  },
  {
   "cell_type": "code",
   "execution_count": null,
   "metadata": {
    "collapsed": true
   },
   "outputs": [],
   "source": [
    "\n",
    "def main():\n",
    "    count=0\n",
    "    s=input()\n",
    "    n=len(s)\n",
    "\n",
    "    for i in range(1,n+1):\n",
    "        count+=pnum(s,i)\n",
    "    if n==1:\n",
    "        count=1\n",
    "    if n==0:\n",
    "        count=0\n",
    "    print(count)\n",
    "def pnum(s,size):\n",
    "    stored = []\n",
    "    n=len(s)\n",
    "    c=0\n",
    "    for j in range(0,n-size+1):\n",
    "        temp=s[j:j+size]\n",
    "        if isPalin(temp) and temp not in stored:\n",
    "            stored.append(temp)\n",
    "            c+=1\n",
    "    return c\n",
    "\n",
    "def isPalin(s):\n",
    "    n=len(s)\n",
    "    if n is 1:\n",
    "        return True\n",
    "    for i in range(int(n/2)):\n",
    "        if s[i]!=s[n-i-1]:\n",
    "            return False\n",
    "    return True\n",
    "\n",
    "main()"
   ]
  },
  {
   "cell_type": "markdown",
   "metadata": {},
   "source": [
    "## Pairs"
   ]
  },
  {
   "cell_type": "code",
   "execution_count": null,
   "metadata": {
    "collapsed": true
   },
   "outputs": [],
   "source": [
    "import itertools\n",
    "def pairs(a,k):\n",
    "    # a is the list of numbers and k is the difference value\n",
    "    a.sort()\n",
    "    print(\"a:\", a)\n",
    "    answer = 0\n",
    "    # for a, b in itertools.combinations(a, 2):\n",
    "    #     if abs(a - b) == k:\n",
    "    #         answer += 1\n",
    "\n",
    "    for i in a:\n",
    "        target = i + k\n",
    "        print(\"target: \", target)\n",
    "\n",
    "        if target in a:\n",
    "            answer += 1\n",
    "    return answer\n",
    "\n",
    "# Tail starts here\n",
    "if __name__ == '__main__':\n",
    "    a = input().strip()\n",
    "    print(\"a:\", a)\n",
    "    a = list(map(int, a.split(' ')))\n",
    "    print(\"a in list:\", a)\n",
    "    _a_size=a[0]\n",
    "    _k=a[1]\n",
    "    print(\"_k:\", _k)\n",
    "    b = input().strip()\n",
    "    print(\"b:\", b)\n",
    "    b = list(map(int, b.split(' ')))\n",
    "    print(\"b in list:\", b)\n",
    "    print(pairs(b,_k))\n",
    "\n",
    "# 5 2\n",
    "# 1 5 3 4 2"
   ]
  },
  {
   "cell_type": "code",
   "execution_count": null,
   "metadata": {
    "collapsed": true
   },
   "outputs": [],
   "source": [
    "def main():\n",
    "    n = [int(x) for x in input().split()]\n",
    "    arr = [int(x) for x in input().split()]\n",
    "    diff=n[1]\n",
    "    pair=0\n",
    "    sarr=set(arr)\n",
    "    for e in sarr:\n",
    "        if e-diff in sarr:\n",
    "           pair+=1\n",
    "\n",
    "    print(pair)\n",
    "\n",
    "main()"
   ]
  },
  {
   "cell_type": "code",
   "execution_count": null,
   "metadata": {
    "collapsed": false
   },
   "outputs": [],
   "source": []
  },
  {
   "cell_type": "markdown",
   "metadata": {},
   "source": [
    "## "
   ]
  },
  {
   "cell_type": "code",
   "execution_count": null,
   "metadata": {
    "collapsed": true
   },
   "outputs": [],
   "source": [
    "#!/usr/bin/env python3\n",
    "final=[]\n",
    "def search(arr,orig_s,x,y,pos,copy,temp):\n",
    "    n=len(arr)\n",
    "    if pos == n:\n",
    "        #print(temp)\n",
    "        final_call(temp)\n",
    "        return True\n",
    "    c=orig_s[pos]\n",
    "    #print(pos)\n",
    "    if(x+1<n):\n",
    "        if arr[x+1][y]==c:\n",
    "            copy+=c\n",
    "            temp.append(From2dto1d(x+1,y,n))\n",
    "            if search(arr,orig_s,x+1,y,pos+1,copy,temp):\n",
    "                return True\n",
    "\n",
    "    if (x - 1 >=0):\n",
    "        if arr[x - 1][y] == c:\n",
    "            copy += c\n",
    "            temp.append(From2dto1d(x-1 , y, n))\n",
    "            if search(arr, orig_s, x - 1, y, pos + 1, copy,temp):\n",
    "                return True\n",
    "\n",
    "    if (y + 1 < n):\n",
    "        if arr[x][y+1] == c:\n",
    "            copy += c\n",
    "            temp.append(From2dto1d(x, y+1, n))\n",
    "            if search(arr, orig_s, x , y+1, pos + 1, copy,temp):\n",
    "                return True\n",
    "    if (y - 1 >= 0):\n",
    "        if arr[x][y-1] == c:\n",
    "            copy += c\n",
    "            temp.append(From2dto1d(x, y-1, n))\n",
    "            if search(arr, orig_s, x , y-1, pos + 1, copy,temp):\n",
    "                return True\n",
    "    if len(temp)==0:\n",
    "        return False\n",
    "    temp.pop()\n",
    "    return False\n",
    "\n",
    "\n",
    "def From2dto1d(x,y,l):\n",
    "    return x*l+y\n",
    "\n",
    "\n",
    "def final_call(temp):\n",
    "    global final\n",
    "    final=[]\n",
    "    for i in temp:\n",
    "        final.append(i)\n",
    "    #print(final)\n",
    "\n",
    "def dim_check(i,j,k,n,temp):\n",
    "    for z in temp:\n",
    "        y = z % n\n",
    "        x = (z - y) / n\n",
    "        if i==x and j==y:\n",
    "            return True\n",
    "    return False\n",
    "def print_func(n,k,arr,temp,str):\n",
    "    #print(temp)\n",
    "    for i in range(n):\n",
    "        for j in range(n):\n",
    "            if k == n:\n",
    "                '''if j==n-1:\n",
    "                    print()\n",
    "                for z in range(n - i):\n",
    "                    for m in range(n - j):\n",
    "                        print('.', end='')\n",
    "                print()\n",
    "                return'''\n",
    "                k=k-1\n",
    "            if dim_check(i, j, k, n, temp):\n",
    "                #print(k)\n",
    "                print(arr[i][j], end='')\n",
    "                k += 1\n",
    "            else:\n",
    "                print('.', end='')\n",
    "\n",
    "\n",
    "        print()\n",
    "\n",
    "\n",
    "\n",
    "\n",
    "\n",
    "def main():\n",
    "    str=input()\n",
    "    n=len(str)\n",
    "    arr=[]\n",
    "    val=[ 0 for j in range(n*n)]\n",
    "    temp=[]\n",
    "    k=0\n",
    "    run=True\n",
    "    for i in range(n):\n",
    "          arr.append([j for j in input()])\n",
    "    for i in range(n):\n",
    "        if run == False:\n",
    "            break\n",
    "        for j in range(n):\n",
    "            if arr[i][j]==str[0]:\n",
    "                temp.append(From2dto1d(i,j,n))\n",
    "                if search(arr, str, i, j, 1, str[0],temp):\n",
    "                    print_func(n,k,arr,temp,str)\n",
    "                    run=False\n",
    "                else:\n",
    "                    temp = []\n",
    "            if run ==False:\n",
    "                break\n",
    "\n",
    "\n",
    "\n",
    "    if run is True:\n",
    "        print(\"NO PATH EXISTS\")\n",
    "\n",
    "\n",
    "\n",
    "main()\n",
    "'''if len(final)==n:\n",
    "                 for i in range(n):\n",
    "                     for j in range(n):\n",
    "                         if dim_check(i,j,k,n):\n",
    "                             print(arr[i][j],end='')\n",
    "                             k+=1\n",
    "                         else:\n",
    "                             print('.',end='')\n",
    "                         if k==n:\n",
    "                             k=k-1\n",
    "                 break\n",
    "             else:\n",
    "                 temp=[]'''"
   ]
  },
  {
   "cell_type": "code",
   "execution_count": null,
   "metadata": {
    "collapsed": true
   },
   "outputs": [],
   "source": [
    "a = [1,2,3,4,5]"
   ]
  },
  {
   "cell_type": "code",
   "execution_count": null,
   "metadata": {
    "collapsed": true
   },
   "outputs": [],
   "source": [
    "for i in a:\n",
    "    print(i)"
   ]
  },
  {
   "cell_type": "code",
   "execution_count": null,
   "metadata": {
    "collapsed": true
   },
   "outputs": [],
   "source": []
  }
 ],
 "metadata": {
  "kernelspec": {
   "display_name": "Python 2",
   "language": "python",
   "name": "python2"
  },
  "language_info": {
   "codemirror_mode": {
    "name": "ipython",
    "version": 2
   },
   "file_extension": ".py",
   "mimetype": "text/x-python",
   "name": "python",
   "nbconvert_exporter": "python",
   "pygments_lexer": "ipython2",
   "version": "2.7.13"
  }
 },
 "nbformat": 4,
 "nbformat_minor": 2
}
